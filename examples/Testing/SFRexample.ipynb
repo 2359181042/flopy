{
 "cells": [
  {
   "cell_type": "code",
   "execution_count": 1,
   "metadata": {
    "collapsed": true
   },
   "outputs": [],
   "source": [
    "import os\n",
    "import numpy as np\n",
    "import pandas as pd\n",
    "import flopy"
   ]
  },
  {
   "cell_type": "code",
   "execution_count": 2,
   "metadata": {
    "collapsed": true
   },
   "outputs": [],
   "source": [
    "path = '../data/'\n",
    "mfnam = 'test1ss.nam'\n",
    "mfsfr = 'test1ss.sfr'\n",
    "model_ws = path + 'test-run'\n",
    "outpath = 'written_sfr/'"
   ]
  },
  {
   "cell_type": "code",
   "execution_count": 3,
   "metadata": {
    "collapsed": false
   },
   "outputs": [
    {
     "name": "stdout",
     "output_type": "stream",
     "text": [
      "\n",
      "Creating new model with name: test1ss\n",
      "--------------------------------------------------\n",
      "\n",
      "Parsing the namefile --> ../data/test-run/test1ss.nam\n",
      "Setting filehandles:\n",
      "could not set filehandle for test1ss.lst\n",
      "could not set filehandle for test1ss.hds\n",
      "could not set filehandle for test1ss.et\n",
      "could not set filehandle for test1ss.flw\n",
      "could not set filehandle for test1ss.sg1\n",
      "could not set filehandle for test1ss.sg2\n",
      "could not set filehandle for test1ss.sg3\n",
      "could not set filehandle for test1ss.sg4\n",
      "could not set filehandle for test1ss.sg5\n",
      "could not set filehandle for test1ss.sg6\n",
      "could not set filehandle for test1ss.sg7\n",
      "could not set filehandle for test1ss.sg8\n",
      "could not set filehandle for test1ss.dvsg9\n",
      "\n",
      "--------------------------------------------------\n",
      "External unit dictionary:\n",
      "{7: <flopy.utils.mfreadnam.NamData object at 0x1088bbbe0>, 8: <flopy.utils.mfreadnam.NamData object at 0x1088bbd30>, 9: <flopy.utils.mfreadnam.NamData object at 0x1088bbac8>, 75: <flopy.utils.mfreadnam.NamData object at 0x1088bba58>, 13: <flopy.utils.mfreadnam.NamData object at 0x1088bbeb8>, 14: <flopy.utils.mfreadnam.NamData object at 0x10893d048>, 15: <flopy.utils.mfreadnam.NamData object at 0x10893d198>, 81: <flopy.utils.mfreadnam.NamData object at 0x10893d780>, 18: <flopy.utils.mfreadnam.NamData object at 0x10893d438>, 83: <flopy.utils.mfreadnam.NamData object at 0x10893d7f0>, 84: <flopy.utils.mfreadnam.NamData object at 0x10893d860>, 85: <flopy.utils.mfreadnam.NamData object at 0x10893d8d0>, 86: <flopy.utils.mfreadnam.NamData object at 0x10893d940>, 87: <flopy.utils.mfreadnam.NamData object at 0x10893d9b0>, 88: <flopy.utils.mfreadnam.NamData object at 0x10893da20>, 89: <flopy.utils.mfreadnam.NamData object at 0x10893da90>, 90: <flopy.utils.mfreadnam.NamData object at 0x10893db00>, 91: <flopy.utils.mfreadnam.NamData object at 0x10893db70>, 32: <flopy.utils.mfreadnam.NamData object at 0x10893d6d8>, 17: <flopy.utils.mfreadnam.NamData object at 0x10893d2e8>, 19: <flopy.utils.mfreadnam.NamData object at 0x10893d588>, 58: <flopy.utils.mfreadnam.NamData object at 0x10893d5f8>, 59: <flopy.utils.mfreadnam.NamData object at 0x10893d748>}\n",
      "--------------------------------------------------\n",
      "\n",
      "loading dis package file...\n",
      "   Loading dis package with:\n",
      "      1 layers, 15 rows, 10 columns, and 1 stress periods\n",
      "   loading laycbd...\n",
      "   loading delr...\n",
      "   loading delc...\n",
      "   loading top...\n",
      "   loading botm...\n",
      "   loading stress period data...\n",
      "adding Package:  DIS\n",
      "   DIS  package load...success\n",
      "loading lpf package file...\n",
      "   loading IBCFCB, HDRY, NPLPF...\n",
      "   loading LAYTYP...\n",
      "   loading LAYAVG...\n",
      "   loading CHANI...\n",
      "   loading LAYVKA...\n",
      "   loading LAYWET...\n",
      "   loading hk layer   1...\n",
      "   loading vka layer   1...\n",
      "adding Package:  LPF\n",
      "   LPF  package load...success\n",
      "   LIST package load...skipped\n",
      "loading bas6 package file...\n",
      "adding Package:  BAS6\n",
      "   BAS6 package load...success\n",
      "loading sip package file...\n",
      "   Warning: load method not completed. default sip object created.\n",
      "adding Package:  SIP\n",
      "   SIP  package load...success\n",
      "loading oc package file...\n",
      "adding Package:  OC\n",
      "   OC   package load...success\n",
      "adding Package:  SFR2\n",
      "   SFR2 package load...success\n",
      "   DATA file load...skipped\n",
      "      test1ss.flw\n",
      "loading evt package file...\n",
      "   loading surf stress period   1...\n",
      "   loading evtr stress period   1...\n",
      "   loading exdp stress period   1...\n",
      "adding Package:  EVT\n",
      "   EVT  package load...success\n",
      "   DATA file load...skipped\n",
      "      test1ss.sg1\n",
      "   DATA file load...skipped\n",
      "      test1ss.sg2\n",
      "   DATA file load...skipped\n",
      "      test1ss.sg3\n",
      "   DATA file load...skipped\n",
      "      test1ss.sg4\n",
      "   DATA file load...skipped\n",
      "      test1ss.sg5\n",
      "   DATA file load...skipped\n",
      "      test1ss.sg6\n",
      "   DATA file load...skipped\n",
      "      test1ss.sg7\n",
      "   DATA file load...skipped\n",
      "      test1ss.sg8\n",
      "   DATA file load...skipped\n",
      "      test1ss.dvsg9\n",
      "   GAGE package load...skipped\n",
      "loading ghb package file...\n",
      "   loading <class 'flopy.modflow.mfghb.ModflowGhb'> for kper     1\n",
      "adding Package:  GHB\n",
      "   GHB  package load...success\n",
      "loading rch package file...\n",
      "   loading rech stress period   1...\n",
      "adding Package:  RCH\n",
      "   RCH  package load...success\n",
      "   DATA file load...skipped\n",
      "      test1ss.hds\n",
      "   DATA(binary) file load...skipped\n",
      "      test1ss.et\n",
      "\n",
      "\n",
      "   The following 9 packages were successfully loaded.\n",
      "      test1ss.dis\n",
      "      test1ss.lpf\n",
      "      test1ss.ba6\n",
      "      test1ss.sip\n",
      "      test1ss.oc\n",
      "      test1ss.sfr\n",
      "      test1ss.evt\n",
      "      test1ss.ghb\n",
      "      test1ss.rch\n",
      "   The following 2 packages were not loaded.\n",
      "      test1ss.lst\n",
      "      test1ss.gag\n",
      "\n",
      "\n"
     ]
    }
   ],
   "source": [
    "m = flopy.modflow.Modflow.load(mfnam, model_ws=model_ws, verbose=True)"
   ]
  },
  {
   "cell_type": "code",
   "execution_count": 4,
   "metadata": {
    "collapsed": true
   },
   "outputs": [],
   "source": [
    "sfr = m.get_package('SFR2')"
   ]
  },
  {
   "cell_type": "code",
   "execution_count": 5,
   "metadata": {
    "collapsed": false
   },
   "outputs": [
    {
     "data": {
      "text/plain": [
       "(36, 8, 1.486, 0.0001, -1, 81)"
      ]
     },
     "execution_count": 5,
     "metadata": {},
     "output_type": "execute_result"
    }
   ],
   "source": [
    "sfr.nstrm, sfr.nss, sfr.const, sfr.dleak, sfr.istcb1, sfr.istcb2"
   ]
  },
  {
   "cell_type": "code",
   "execution_count": 6,
   "metadata": {
    "collapsed": false
   },
   "outputs": [
    {
     "data": {
      "text/plain": [
       "rec.array([(0, 0, 0, 1, 1, 4500.0), (0, 1, 1, 1, 2, 7000.0),\n",
       "       (0, 2, 2, 1, 3, 6000.0), (0, 2, 3, 1, 4, 5550.0),\n",
       "       (0, 3, 4, 2, 1, 6500.0), (0, 4, 5, 2, 2, 5000.0),\n",
       "       (0, 5, 5, 2, 3, 5000.0), (0, 6, 5, 2, 4, 5000.0),\n",
       "       (0, 7, 5, 2, 5, 5000.0), (0, 2, 4, 3, 1, 5000.0),\n",
       "       (0, 2, 5, 3, 2, 5000.0), (0, 2, 6, 3, 3, 4500.0),\n",
       "       (0, 3, 7, 3, 4, 6000.0), (0, 4, 7, 3, 5, 5000.0),\n",
       "       (0, 5, 7, 3, 6, 2000.0), (0, 4, 9, 4, 1, 2500.0),\n",
       "       (0, 4, 8, 4, 2, 5000.0), (0, 5, 7, 4, 3, 3500.0),\n",
       "       (0, 5, 7, 5, 1, 4000.0), (0, 6, 6, 5, 2, 5000.0),\n",
       "       (0, 7, 6, 5, 3, 3500.0), (0, 7, 5, 5, 4, 2500.0),\n",
       "       (0, 8, 5, 6, 1, 5000.0), (0, 9, 6, 6, 2, 5000.0),\n",
       "       (0, 10, 6, 6, 3, 5000.0), (0, 11, 6, 6, 4, 5000.0),\n",
       "       (0, 12, 6, 6, 5, 2000.0), (0, 13, 8, 7, 1, 5000.0),\n",
       "       (0, 12, 7, 7, 2, 5500.0), (0, 12, 6, 7, 3, 5000.0),\n",
       "       (0, 12, 5, 8, 1, 5000.0), (0, 12, 4, 8, 2, 5000.0),\n",
       "       (0, 12, 3, 8, 3, 5000.0), (0, 12, 2, 8, 4, 5000.0),\n",
       "       (0, 12, 1, 8, 5, 5000.0), (0, 12, 0, 8, 6, 3000.0)], \n",
       "      dtype=[('krch', '<i8'), ('irch', '<i8'), ('jrch', '<i8'), ('iseg', '<i8'), ('ireach', '<i8'), ('rchlen', '<f4')])"
      ]
     },
     "execution_count": 6,
     "metadata": {},
     "output_type": "execute_result"
    }
   ],
   "source": [
    "reach_data = sfr.reach_data\n",
    "reach_data"
   ]
  },
  {
   "cell_type": "code",
   "execution_count": 7,
   "metadata": {
    "collapsed": false
   },
   "outputs": [
    {
     "data": {
      "text/plain": [
       "{0: [8, 0, 0, 0]}"
      ]
     },
     "execution_count": 7,
     "metadata": {},
     "output_type": "execute_result"
    }
   ],
   "source": [
    "sfr.dataset_5"
   ]
  },
  {
   "cell_type": "code",
   "execution_count": 8,
   "metadata": {
    "collapsed": false
   },
   "outputs": [
    {
     "data": {
      "text/plain": [
       "{0: rec.array([ (1, 4, 2, 0, 0, 11, 25.0, 0.0, 0.0, 0.0, 0.0, 0.0, 0.0, 0.0, 0.0, 0.0, 2.9999999242136255e-05, 3.0, 1095.0, 0.0, 0.0, 0.0, 0.0, 0.0, 0.0, 2.9999999242136255e-05, 3.0, 1075.0, 0.0, 0.0, 0.0, 0.0, 0.0, 0.0),\n",
       "        (2, 1, 6, 0, 0, 0, 0.0, 0.0, 0.0, 0.0, 0.029999999329447746, 0.0, 0.0, 0.0, 0.0, 0.0, 2.9999999242136255e-05, 3.0, 1075.0, 12.0, 0.0, 0.0, 0.0, 0.0, 0.0, 2.9999999242136255e-05, 3.0, 1050.0, 12.0, 0.0, 0.0, 0.0, 0.0, 0.0),\n",
       "        (3, 0, 5, 1, 0, 0, 10.0, 0.0, 0.0, 0.0, 0.0, 0.0, 0.0, 0.0, 0.0, 0.0, 2.9999999242136255e-05, 2.0, 1075.0, 10.0, 2.0, 0.0, 0.0, 0.0, 0.0, 2.9999999242136255e-05, 2.0, 1060.0, 6.0, 1.0, 0.0, 0.0, 0.0, 0.0),\n",
       "        (4, 1, 5, 0, 0, 0, 10.0, 0.0, 0.0, 0.0, 0.029999999329447746, 0.0, 0.0, 0.0, 0.0, 0.0, 2.9999999242136255e-05, 3.0, 1080.0, 10.0, 0.0, 0.0, 0.0, 0.0, 0.0, 2.9999999242136255e-05, 3.0, 1060.0, 10.0, 0.0, 0.0, 0.0, 0.0, 0.0),\n",
       "        (5, 3, 6, 0, 0, 0, 0.0, 0.0, 0.0, 0.0, 0.0, 0.0, 0.30000001192092896, 0.3499999940395355, 3.799999952316284, 0.6000000238418579, 2.9999999242136255e-05, 3.0, 1060.0, 0.0, 0.0, 0.0, 0.0, 0.0, 0.0, 2.9999999242136255e-05, 3.0, 1045.0, 0.0, 0.0, 0.0, 0.0, 0.0, 0.0),\n",
       "        (6, 1, 8, 0, 0, 0, 0.0, 0.0, 0.0, 0.0, 0.029999999329447746, 0.0, 0.0, 0.0, 0.0, 0.0, 2.9999999242136255e-05, 3.0, 1045.0, 12.0, 0.0, 0.0, 0.0, 0.0, 0.0, 2.9999999242136255e-05, 3.0, 1025.0, 12.0, 0.0, 0.0, 0.0, 0.0, 0.0),\n",
       "        (7, 2, 8, 0, 0, 0, 150.0, 0.0, 0.0, 0.0, 0.02500000037252903, 0.04500000178813934, 0.0, 0.0, 0.0, 0.0, 5.999999848427251e-05, 3.0, 1040.0, 0.0, 0.0, 0.0, 0.0, 0.0, 0.0, 5.999999848427251e-05, 3.0, 1025.0, 0.0, 0.0, 0.0, 0.0, 0.0, 0.0),\n",
       "        (8, 2, 0, 0, 0, 0, 0.0, 0.0, 0.0, 0.0, 0.02500000037252903, 0.04500000178813934, 0.0, 0.0, 0.0, 0.0, 5.999999848427251e-05, 3.0, 1025.0, 0.0, 0.0, 0.0, 0.0, 0.0, 0.0, 5.999999848427251e-05, 3.0, 990.0, 0.0, 0.0, 0.0, 0.0, 0.0, 0.0)], \n",
       "       dtype=[('nseg', '<i8'), ('icalc', '<i8'), ('outseg', '<i8'), ('iupseg', '<i8'), ('iprior', '<i8'), ('nstrpts', '<i8'), ('flow', '<f4'), ('runoff', '<f4'), ('etsw', '<f4'), ('pptsw', '<f4'), ('roughch', '<f4'), ('roughbk', '<f4'), ('cdpth', '<f4'), ('fdpth', '<f4'), ('awdth', '<f4'), ('bwdth', '<f4'), ('hcond1', '<f4'), ('thickm1', '<f4'), ('elevup1', '<f4'), ('width1', '<f4'), ('depth1', '<f4'), ('thts1', '<f4'), ('thti1', '<f4'), ('eps1', '<f4'), ('uhc1', '<f4'), ('hcond2', '<f4'), ('thickm2', '<f4'), ('elevup2', '<f4'), ('width2', '<f4'), ('depth2', '<f4'), ('thts2', '<f4'), ('thti2', '<f4'), ('eps2', '<f4'), ('uhc2', '<f4')])}"
      ]
     },
     "execution_count": 8,
     "metadata": {},
     "output_type": "execute_result"
    }
   ],
   "source": [
    "sfr.segment_data"
   ]
  },
  {
   "cell_type": "code",
   "execution_count": 9,
   "metadata": {
    "collapsed": false
   },
   "outputs": [
    {
     "data": {
      "text/html": [
       "<div>\n",
       "<table border=\"1\" class=\"dataframe\">\n",
       "  <thead>\n",
       "    <tr style=\"text-align: right;\">\n",
       "      <th></th>\n",
       "      <th>nseg</th>\n",
       "      <th>icalc</th>\n",
       "      <th>outseg</th>\n",
       "      <th>iupseg</th>\n",
       "      <th>iprior</th>\n",
       "      <th>nstrpts</th>\n",
       "      <th>flow</th>\n",
       "      <th>runoff</th>\n",
       "      <th>etsw</th>\n",
       "      <th>pptsw</th>\n",
       "      <th>...</th>\n",
       "      <th>uhc1</th>\n",
       "      <th>hcond2</th>\n",
       "      <th>thickm2</th>\n",
       "      <th>elevup2</th>\n",
       "      <th>width2</th>\n",
       "      <th>depth2</th>\n",
       "      <th>thts2</th>\n",
       "      <th>thti2</th>\n",
       "      <th>eps2</th>\n",
       "      <th>uhc2</th>\n",
       "    </tr>\n",
       "  </thead>\n",
       "  <tbody>\n",
       "    <tr>\n",
       "      <th>0</th>\n",
       "      <td>1</td>\n",
       "      <td>4</td>\n",
       "      <td>2</td>\n",
       "      <td>0</td>\n",
       "      <td>0</td>\n",
       "      <td>11</td>\n",
       "      <td>25</td>\n",
       "      <td>0</td>\n",
       "      <td>0</td>\n",
       "      <td>0</td>\n",
       "      <td>...</td>\n",
       "      <td>0</td>\n",
       "      <td>0.00003</td>\n",
       "      <td>3</td>\n",
       "      <td>1075</td>\n",
       "      <td>0</td>\n",
       "      <td>0</td>\n",
       "      <td>0</td>\n",
       "      <td>0</td>\n",
       "      <td>0</td>\n",
       "      <td>0</td>\n",
       "    </tr>\n",
       "    <tr>\n",
       "      <th>1</th>\n",
       "      <td>2</td>\n",
       "      <td>1</td>\n",
       "      <td>6</td>\n",
       "      <td>0</td>\n",
       "      <td>0</td>\n",
       "      <td>0</td>\n",
       "      <td>0</td>\n",
       "      <td>0</td>\n",
       "      <td>0</td>\n",
       "      <td>0</td>\n",
       "      <td>...</td>\n",
       "      <td>0</td>\n",
       "      <td>0.00003</td>\n",
       "      <td>3</td>\n",
       "      <td>1050</td>\n",
       "      <td>12</td>\n",
       "      <td>0</td>\n",
       "      <td>0</td>\n",
       "      <td>0</td>\n",
       "      <td>0</td>\n",
       "      <td>0</td>\n",
       "    </tr>\n",
       "    <tr>\n",
       "      <th>2</th>\n",
       "      <td>3</td>\n",
       "      <td>0</td>\n",
       "      <td>5</td>\n",
       "      <td>1</td>\n",
       "      <td>0</td>\n",
       "      <td>0</td>\n",
       "      <td>10</td>\n",
       "      <td>0</td>\n",
       "      <td>0</td>\n",
       "      <td>0</td>\n",
       "      <td>...</td>\n",
       "      <td>0</td>\n",
       "      <td>0.00003</td>\n",
       "      <td>2</td>\n",
       "      <td>1060</td>\n",
       "      <td>6</td>\n",
       "      <td>1</td>\n",
       "      <td>0</td>\n",
       "      <td>0</td>\n",
       "      <td>0</td>\n",
       "      <td>0</td>\n",
       "    </tr>\n",
       "    <tr>\n",
       "      <th>3</th>\n",
       "      <td>4</td>\n",
       "      <td>1</td>\n",
       "      <td>5</td>\n",
       "      <td>0</td>\n",
       "      <td>0</td>\n",
       "      <td>0</td>\n",
       "      <td>10</td>\n",
       "      <td>0</td>\n",
       "      <td>0</td>\n",
       "      <td>0</td>\n",
       "      <td>...</td>\n",
       "      <td>0</td>\n",
       "      <td>0.00003</td>\n",
       "      <td>3</td>\n",
       "      <td>1060</td>\n",
       "      <td>10</td>\n",
       "      <td>0</td>\n",
       "      <td>0</td>\n",
       "      <td>0</td>\n",
       "      <td>0</td>\n",
       "      <td>0</td>\n",
       "    </tr>\n",
       "    <tr>\n",
       "      <th>4</th>\n",
       "      <td>5</td>\n",
       "      <td>3</td>\n",
       "      <td>6</td>\n",
       "      <td>0</td>\n",
       "      <td>0</td>\n",
       "      <td>0</td>\n",
       "      <td>0</td>\n",
       "      <td>0</td>\n",
       "      <td>0</td>\n",
       "      <td>0</td>\n",
       "      <td>...</td>\n",
       "      <td>0</td>\n",
       "      <td>0.00003</td>\n",
       "      <td>3</td>\n",
       "      <td>1045</td>\n",
       "      <td>0</td>\n",
       "      <td>0</td>\n",
       "      <td>0</td>\n",
       "      <td>0</td>\n",
       "      <td>0</td>\n",
       "      <td>0</td>\n",
       "    </tr>\n",
       "    <tr>\n",
       "      <th>5</th>\n",
       "      <td>6</td>\n",
       "      <td>1</td>\n",
       "      <td>8</td>\n",
       "      <td>0</td>\n",
       "      <td>0</td>\n",
       "      <td>0</td>\n",
       "      <td>0</td>\n",
       "      <td>0</td>\n",
       "      <td>0</td>\n",
       "      <td>0</td>\n",
       "      <td>...</td>\n",
       "      <td>0</td>\n",
       "      <td>0.00003</td>\n",
       "      <td>3</td>\n",
       "      <td>1025</td>\n",
       "      <td>12</td>\n",
       "      <td>0</td>\n",
       "      <td>0</td>\n",
       "      <td>0</td>\n",
       "      <td>0</td>\n",
       "      <td>0</td>\n",
       "    </tr>\n",
       "    <tr>\n",
       "      <th>6</th>\n",
       "      <td>7</td>\n",
       "      <td>2</td>\n",
       "      <td>8</td>\n",
       "      <td>0</td>\n",
       "      <td>0</td>\n",
       "      <td>0</td>\n",
       "      <td>150</td>\n",
       "      <td>0</td>\n",
       "      <td>0</td>\n",
       "      <td>0</td>\n",
       "      <td>...</td>\n",
       "      <td>0</td>\n",
       "      <td>0.00006</td>\n",
       "      <td>3</td>\n",
       "      <td>1025</td>\n",
       "      <td>0</td>\n",
       "      <td>0</td>\n",
       "      <td>0</td>\n",
       "      <td>0</td>\n",
       "      <td>0</td>\n",
       "      <td>0</td>\n",
       "    </tr>\n",
       "    <tr>\n",
       "      <th>7</th>\n",
       "      <td>8</td>\n",
       "      <td>2</td>\n",
       "      <td>0</td>\n",
       "      <td>0</td>\n",
       "      <td>0</td>\n",
       "      <td>0</td>\n",
       "      <td>0</td>\n",
       "      <td>0</td>\n",
       "      <td>0</td>\n",
       "      <td>0</td>\n",
       "      <td>...</td>\n",
       "      <td>0</td>\n",
       "      <td>0.00006</td>\n",
       "      <td>3</td>\n",
       "      <td>990</td>\n",
       "      <td>0</td>\n",
       "      <td>0</td>\n",
       "      <td>0</td>\n",
       "      <td>0</td>\n",
       "      <td>0</td>\n",
       "      <td>0</td>\n",
       "    </tr>\n",
       "  </tbody>\n",
       "</table>\n",
       "<p>8 rows × 34 columns</p>\n",
       "</div>"
      ],
      "text/plain": [
       "   nseg  icalc  outseg  iupseg  iprior  nstrpts  flow  runoff  etsw  pptsw  \\\n",
       "0     1      4       2       0       0       11    25       0     0      0   \n",
       "1     2      1       6       0       0        0     0       0     0      0   \n",
       "2     3      0       5       1       0        0    10       0     0      0   \n",
       "3     4      1       5       0       0        0    10       0     0      0   \n",
       "4     5      3       6       0       0        0     0       0     0      0   \n",
       "5     6      1       8       0       0        0     0       0     0      0   \n",
       "6     7      2       8       0       0        0   150       0     0      0   \n",
       "7     8      2       0       0       0        0     0       0     0      0   \n",
       "\n",
       "   ...   uhc1   hcond2  thickm2  elevup2  width2  depth2  thts2  thti2  eps2  \\\n",
       "0  ...      0  0.00003        3     1075       0       0      0      0     0   \n",
       "1  ...      0  0.00003        3     1050      12       0      0      0     0   \n",
       "2  ...      0  0.00003        2     1060       6       1      0      0     0   \n",
       "3  ...      0  0.00003        3     1060      10       0      0      0     0   \n",
       "4  ...      0  0.00003        3     1045       0       0      0      0     0   \n",
       "5  ...      0  0.00003        3     1025      12       0      0      0     0   \n",
       "6  ...      0  0.00006        3     1025       0       0      0      0     0   \n",
       "7  ...      0  0.00006        3      990       0       0      0      0     0   \n",
       "\n",
       "   uhc2  \n",
       "0     0  \n",
       "1     0  \n",
       "2     0  \n",
       "3     0  \n",
       "4     0  \n",
       "5     0  \n",
       "6     0  \n",
       "7     0  \n",
       "\n",
       "[8 rows x 34 columns]"
      ]
     },
     "execution_count": 9,
     "metadata": {},
     "output_type": "execute_result"
    }
   ],
   "source": [
    "pd.DataFrame(sfr.segment_data[0])"
   ]
  },
  {
   "cell_type": "code",
   "execution_count": 10,
   "metadata": {
    "collapsed": false
   },
   "outputs": [
    {
     "data": {
      "text/plain": [
       "rec.array([], \n",
       "      dtype=[('krch', '<i8'), ('irch', '<i8'), ('jrch', '<i8'), ('iseg', '<i8'), ('ireach', '<i8'), ('rchlen', '<f4'), ('strtop', '<f4'), ('slope', '<f4'), ('strthick', '<f4'), ('strhc1', '<f4'), ('thts', '<i8'), ('thti', '<f4'), ('eps', '<f4'), ('uhc', '<f4')])"
      ]
     },
     "execution_count": 10,
     "metadata": {},
     "output_type": "execute_result"
    }
   ],
   "source": [
    "sfr.get_empty_reach_data()"
   ]
  },
  {
   "cell_type": "code",
   "execution_count": 11,
   "metadata": {
    "collapsed": false
   },
   "outputs": [
    {
     "data": {
      "text/plain": [
       "rec.array([], \n",
       "      dtype=[('nseg', '<i8'), ('icalc', '<i8'), ('outseg', '<i8'), ('iupseg', '<i8'), ('iprior', '<i8'), ('nstrpts', '<i8'), ('flow', '<f4'), ('runoff', '<f4'), ('etsw', '<f4'), ('pptsw', '<f4'), ('roughch', '<f4'), ('roughbk', '<f4'), ('cdpth', '<f4'), ('fdpth', '<f4'), ('awdth', '<f4'), ('bwdth', '<f4'), ('hcond1', '<f4'), ('thickm1', '<f4'), ('elevup1', '<f4'), ('width1', '<f4'), ('depth1', '<f4'), ('thts1', '<f4'), ('thti1', '<f4'), ('eps1', '<f4'), ('uhc1', '<f4'), ('hcond2', '<f4'), ('thickm2', '<f4'), ('elevup2', '<f4'), ('width2', '<f4'), ('depth2', '<f4'), ('thts2', '<f4'), ('thti2', '<f4'), ('eps2', '<f4'), ('uhc2', '<f4')])"
      ]
     },
     "execution_count": 11,
     "metadata": {},
     "output_type": "execute_result"
    }
   ],
   "source": [
    "sfr.get_empty_segment_data()"
   ]
  },
  {
   "cell_type": "code",
   "execution_count": 12,
   "metadata": {
    "collapsed": true
   },
   "outputs": [],
   "source": [
    "sfr.write(outpath + mfsfr)"
   ]
  },
  {
   "cell_type": "code",
   "execution_count": 13,
   "metadata": {
    "collapsed": false
   },
   "outputs": [
    {
     "name": "stdout",
     "output_type": "stream",
     "text": [
      "****Warning -- two packages of the same type:  <class 'flopy.modflow.mfsfr2.ModflowSfr2'> <class 'flopy.modflow.mfsfr2.ModflowSfr2'>\n",
      "replacing existing Package...\n"
     ]
    }
   ],
   "source": [
    "sfr = flopy.modflow.ModflowSfr2.load(outpath + mfsfr, m)"
   ]
  },
  {
   "cell_type": "code",
   "execution_count": 14,
   "metadata": {
    "collapsed": false
   },
   "outputs": [
    {
     "data": {
      "text/plain": [
       "True"
      ]
     },
     "execution_count": 14,
     "metadata": {},
     "output_type": "execute_result"
    }
   ],
   "source": [
    "np.array_equal(reach_data, sfr.reach_data)"
   ]
  },
  {
   "cell_type": "code",
   "execution_count": null,
   "metadata": {
    "collapsed": true
   },
   "outputs": [],
   "source": []
  }
 ],
 "metadata": {
  "kernelspec": {
   "display_name": "Python 3",
   "language": "python",
   "name": "python3"
  },
  "language_info": {
   "codemirror_mode": {
    "name": "ipython",
    "version": 3
   },
   "file_extension": ".py",
   "mimetype": "text/x-python",
   "name": "python",
   "nbconvert_exporter": "python",
   "pygments_lexer": "ipython3",
   "version": "3.4.3"
  }
 },
 "nbformat": 4,
 "nbformat_minor": 0
}
