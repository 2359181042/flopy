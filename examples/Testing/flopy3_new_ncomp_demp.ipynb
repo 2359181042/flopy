{
 "cells": [
  {
   "cell_type": "markdown",
   "metadata": {},
   "source": [
    "#Demo for new kwargs-based ncomp"
   ]
  },
  {
   "cell_type": "code",
   "execution_count": 1,
   "metadata": {
    "collapsed": false
   },
   "outputs": [],
   "source": [
    "import numpy as np\n",
    "import flopy\n",
    "reload(flopy)\n",
    "from flopy.modflow import *\n",
    "from flopy.mt3d import *"
   ]
  },
  {
   "cell_type": "code",
   "execution_count": 2,
   "metadata": {
    "collapsed": false
   },
   "outputs": [],
   "source": [
    "nlay, nrow, ncol = 3, 10, 10\n",
    "ml = Modflow(\"test\")\n",
    "dis = ModflowDis(ml,nlay=nlay, nrow=nrow, ncol=ncol)\n"
   ]
  },
  {
   "cell_type": "markdown",
   "metadata": {},
   "source": [
    "for btn, `sconc` is passed as a normal `util_3d`-compatible argument, no need for the list anymore"
   ]
  },
  {
   "cell_type": "code",
   "execution_count": 3,
   "metadata": {
    "collapsed": false
   },
   "outputs": [
    {
     "name": "stdout",
     "output_type": "stream",
     "text": [
      "BTN: setting sconc for component 2 to zero, kwarg name sconc2\n"
     ]
    },
    {
     "name": "stderr",
     "output_type": "stream",
     "text": [
      "/Users/langevin/langevin/dev/flopy3.git/flopy/mt3d/mtbtn.py:372: UserWarning: BTN warning. Laycon has not been set.  A modflow model with a  BCF or LPF package does not exist and laycon was not passed  to the BTN constructor.  Setting laycon to 1 (convertible).\n",
      "  warnings.warn(s)\n"
     ]
    }
   ],
   "source": [
    "mt = Mt3dms(modflowmodel=ml)\n",
    "btn = Mt3dBtn(mt, sconc=1.0,ncomp=2)"
   ]
  },
  {
   "cell_type": "markdown",
   "metadata": {},
   "source": [
    "or we pass in the `sconc2` kwarg explicitly"
   ]
  },
  {
   "cell_type": "code",
   "execution_count": 4,
   "metadata": {
    "collapsed": false
   },
   "outputs": [
    {
     "name": "stdout",
     "output_type": "stream",
     "text": [
      "['sconc2 Layer ', 'sconc2 Layer ', 'sconc2 Layer ']\n"
     ]
    }
   ],
   "source": [
    "mt = Mt3dms(modflowmodel=ml)\n",
    "btn = Mt3dBtn(mt,sconc=1.0,ncomp=2,sconc2=1.5)\n",
    "print btn.sconc[1].name_base"
   ]
  },
  {
   "cell_type": "markdown",
   "metadata": {},
   "source": [
    "error raised for unrecognized kwargs"
   ]
  },
  {
   "cell_type": "code",
   "execution_count": 5,
   "metadata": {
    "collapsed": false
   },
   "outputs": [
    {
     "name": "stdout",
     "output_type": "stream",
     "text": [
      "BTN: setting sconc for component 2 to zero, kwarg name sconc2\n"
     ]
    },
    {
     "ename": "Exception",
     "evalue": "BTN error: unrecognized kwargs: sconc3",
     "output_type": "error",
     "traceback": [
      "\u001b[0;31m---------------------------------------------------------------------------\u001b[0m",
      "\u001b[0;31mException\u001b[0m                                 Traceback (most recent call last)",
      "\u001b[0;32m<ipython-input-5-3f8a6a5d9f52>\u001b[0m in \u001b[0;36m<module>\u001b[0;34m()\u001b[0m\n\u001b[1;32m      1\u001b[0m \u001b[0mmt\u001b[0m \u001b[0;34m=\u001b[0m \u001b[0mMt3dms\u001b[0m\u001b[0;34m(\u001b[0m\u001b[0mmodflowmodel\u001b[0m\u001b[0;34m=\u001b[0m\u001b[0mml\u001b[0m\u001b[0;34m)\u001b[0m\u001b[0;34m\u001b[0m\u001b[0m\n\u001b[0;32m----> 2\u001b[0;31m \u001b[0mbtn\u001b[0m \u001b[0;34m=\u001b[0m \u001b[0mMt3dBtn\u001b[0m\u001b[0;34m(\u001b[0m\u001b[0mmt\u001b[0m\u001b[0;34m,\u001b[0m\u001b[0msconc\u001b[0m\u001b[0;34m=\u001b[0m\u001b[0;36m1.0\u001b[0m\u001b[0;34m,\u001b[0m\u001b[0mncomp\u001b[0m\u001b[0;34m=\u001b[0m\u001b[0;36m2\u001b[0m\u001b[0;34m,\u001b[0m\u001b[0msconc3\u001b[0m\u001b[0;34m=\u001b[0m\u001b[0;36m1.5\u001b[0m\u001b[0;34m)\u001b[0m\u001b[0;34m\u001b[0m\u001b[0m\n\u001b[0m",
      "\u001b[0;32m/Users/langevin/langevin/dev/flopy3.git/flopy/mt3d/mtbtn.pyc\u001b[0m in \u001b[0;36m__init__\u001b[0;34m(self, model, nlay, nrow, ncol, nper, ncomp, mcomp, tunit, lunit, munit, laycon, delr, delc, htop, dz, prsity, icbund, sconc, cinact, thkmin, ifmtcn, ifmtnp, ifmtrf, ifmtdp, savucn, nprs, timprs, obs, nprobs, chkmas, nprmas, perlen, nstp, tsmult, ssflag, dt0, mxstrn, ttsmult, ttsmax, species_names, extension, **kwargs)\u001b[0m\n\u001b[1;32m    222\u001b[0m         \u001b[0;32mif\u001b[0m \u001b[0mlen\u001b[0m\u001b[0;34m(\u001b[0m\u001b[0mlist\u001b[0m\u001b[0;34m(\u001b[0m\u001b[0mkwargs\u001b[0m\u001b[0;34m.\u001b[0m\u001b[0mkeys\u001b[0m\u001b[0;34m(\u001b[0m\u001b[0;34m)\u001b[0m\u001b[0;34m)\u001b[0m\u001b[0;34m)\u001b[0m \u001b[0;34m>\u001b[0m \u001b[0;36m0\u001b[0m\u001b[0;34m:\u001b[0m\u001b[0;34m\u001b[0m\u001b[0m\n\u001b[1;32m    223\u001b[0m             raise Exception(\"BTN error: unrecognized kwargs: \" +\n\u001b[0;32m--> 224\u001b[0;31m                             ' '.join(list(kwargs.keys())))\n\u001b[0m\u001b[1;32m    225\u001b[0m \u001b[0;34m\u001b[0m\u001b[0m\n\u001b[1;32m    226\u001b[0m         \u001b[0;31m# Finally add self to parent's package list and return\u001b[0m\u001b[0;34m\u001b[0m\u001b[0;34m\u001b[0m\u001b[0m\n",
      "\u001b[0;31mException\u001b[0m: BTN error: unrecognized kwargs: sconc3"
     ]
    }
   ],
   "source": [
    "mt = Mt3dms(modflowmodel=ml)\n",
    "btn = Mt3dBtn(mt,sconc=1.0,ncomp=2,sconc3=1.5)"
   ]
  },
  {
   "cell_type": "markdown",
   "metadata": {},
   "source": [
    "same behavior for `SSM`"
   ]
  },
  {
   "cell_type": "code",
   "execution_count": 6,
   "metadata": {
    "collapsed": false
   },
   "outputs": [
    {
     "name": "stdout",
     "output_type": "stream",
     "text": [
      "[<flopy.utils.util_array.transient_2d object at 0x107c61810>, <flopy.utils.util_array.transient_2d object at 0x107d60c10>] [<flopy.utils.util_array.transient_2d object at 0x107d60bd0>, <flopy.utils.util_array.transient_2d object at 0x107d60d10>]\n"
     ]
    }
   ],
   "source": [
    "mt = Mt3dms(modflowmodel=ml)\n",
    "btn = Mt3dBtn(mt,sconc=1.0,ncomp=2, mcomp=2, sconc2=1.5)\n",
    "ssm = Mt3dSsm(mt,crch=1.0,crch2=1.0,cevt=0.5,cevt2=1.5)\n",
    "print ssm.crch,ssm.cevt"
   ]
  },
  {
   "cell_type": "markdown",
   "metadata": {},
   "source": [
    "`DSP` does not need `multDiff` flag for multi species.  But in this case, arrays are by layer, not by layer, row, column."
   ]
  },
  {
   "cell_type": "code",
   "execution_count": 7,
   "metadata": {
    "collapsed": false
   },
   "outputs": [],
   "source": [
    "dsp = Mt3dDsp(mt,dmcoef2=1.0)"
   ]
  },
  {
   "cell_type": "markdown",
   "metadata": {},
   "source": [
    "If we set multiDiff to True, then there will be mcomp (not ncomp, according to mt3d supplemental guide) number of 3d dmcoef arrays."
   ]
  },
  {
   "cell_type": "code",
   "execution_count": 8,
   "metadata": {
    "collapsed": false
   },
   "outputs": [
    {
     "name": "stdout",
     "output_type": "stream",
     "text": [
      "****Warning -- two packages of the same type:  <class 'flopy.mt3d.mtdsp.Mt3dDsp'> <class 'flopy.mt3d.mtdsp.Mt3dDsp'>\n",
      "replacing existing Package...\n",
      "[<flopy.utils.util_array.util_3d object at 0x107d33d50>, <flopy.utils.util_array.util_3d object at 0x107d60dd0>]\n"
     ]
    }
   ],
   "source": [
    "dsp = Mt3dDsp(mt,dmcoef2=1.0,multiDiff=True)\n",
    "print dsp.dmcoef"
   ]
  },
  {
   "cell_type": "code",
   "execution_count": null,
   "metadata": {
    "collapsed": false
   },
   "outputs": [],
   "source": []
  }
 ],
 "metadata": {
  "kernelspec": {
   "display_name": "Python 2",
   "language": "python",
   "name": "python2"
  },
  "language_info": {
   "codemirror_mode": {
    "name": "ipython",
    "version": 2
   },
   "file_extension": ".py",
   "mimetype": "text/x-python",
   "name": "python",
   "nbconvert_exporter": "python",
   "pygments_lexer": "ipython2",
   "version": "2.7.10"
  }
 },
 "nbformat": 4,
 "nbformat_minor": 0
}
