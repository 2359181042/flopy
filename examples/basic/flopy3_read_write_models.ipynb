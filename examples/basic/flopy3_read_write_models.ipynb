{
 "metadata": {
  "name": "",
  "signature": "sha256:659da4cb58ef50bbc9b549aa419d6f4d9891203eadfce558e668708f1c9322b1"
 },
 "nbformat": 3,
 "nbformat_minor": 0,
 "worksheets": [
  {
   "cells": [
    {
     "cell_type": "markdown",
     "metadata": {},
     "source": [
      "#Read and write model files"
     ]
    },
    {
     "cell_type": "code",
     "collapsed": false,
     "input": [
      "import os\n",
      "import numpy as np\n",
      "import flopy"
     ],
     "language": "python",
     "metadata": {},
     "outputs": [],
     "prompt_number": 1
    },
    {
     "cell_type": "markdown",
     "metadata": {},
     "source": [
      "First, we need to create a model for test"
     ]
    },
    {
     "cell_type": "code",
     "collapsed": false,
     "input": [
      "base_dir = \"base_model_dir\"\n",
      "nlay, nrow, ncol = 1, 1, 10\n",
      "#ml = flopy.modflow.Modflow(modelname=\"base\", model_ws=base_dir,\n",
      "#                           external_path=\"ref\")\n",
      "ml = flopy.modflow.Modflow(modelname=\"base\", model_ws=base_dir)\n",
      "dis = flopy.modflow.ModflowDis(ml, nrow=1, ncol=10,\n",
      "                               nlay=nlay, nper=2, perlen=[1,1],\n",
      "                               steady=[True,True])\n",
      "bas = flopy.modflow.ModflowBas(ml, ibound=1)\n",
      "hk = np.zeros((nlay, nrow, ncol))+2.5\n",
      "#the full relative path to the external hk array\n",
      "#np.savetxt(os.path.join(base_dir,\"hk.ref\"),hk.flatten(),fmt=\"%15.6E\",delimiter='')\n",
      "\n",
      "# but we have to pass on the filename as the namefile sees it\n",
      "lpf = flopy.modflow.ModflowLpf(ml, hk=hk,vka=hk)\n",
      "\n",
      "well_data = {}\n",
      "well_data[0] = [0, 0, 9, 0.5]\n",
      "well_data[1] = [0, 0, 9, 1.0]\n",
      "wel = flopy.modflow.ModflowWel(ml, stress_period_data=well_data)\n",
      "\n",
      "ghb_data = {}\n",
      "ghb_data[0] = [0, 0, 0, 0.5, 1000.0]\n",
      "ghb = flopy.modflow.ModflowGhb(ml, stress_period_data=ghb_data)\n",
      "print ghb.stress_period_data.data\n",
      "ml.write_input()"
     ],
     "language": "python",
     "metadata": {},
     "outputs": [
      {
       "output_type": "stream",
       "stream": "stdout",
       "text": [
        "{0: rec.array([(0, 0, 0, 0.5, 1000.0)], \n",
        "      dtype=[('k', '<i8'), ('i', '<i8'), ('j', '<i8'), ('bhead', '<f4'), ('cond', '<f4')])}\n"
       ]
      }
     ],
     "prompt_number": 4
    },
    {
     "cell_type": "code",
     "collapsed": false,
     "input": [],
     "language": "python",
     "metadata": {},
     "outputs": [],
     "prompt_number": 4
    },
    {
     "cell_type": "markdown",
     "metadata": {},
     "source": [
      "Now, lets load the `base` model"
     ]
    },
    {
     "cell_type": "code",
     "collapsed": false,
     "input": [
      "ml_loaded = flopy.modflow.Modflow.load(\"base.nam\",model_ws=base_dir)"
     ],
     "language": "python",
     "metadata": {},
     "outputs": [
      {
       "output_type": "stream",
       "stream": "stdout",
       "text": [
        "\n",
        "Creating new model with name: base\n",
        "--------------------------------------------------\n",
        "\n",
        "   DIS  package load...success\n",
        "   LIST package load...skipped\n",
        "   BAS6 package load...success\n",
        "   LPF  package load...success\n",
        "   WEL  package load...success\n",
        "   GHB  package load...success\n",
        "\n",
        "\n",
        "   The following 5 packages were successfully loaded.\n",
        "      base.dis\n",
        "      base.bas\n",
        "      base.lpf\n",
        "      base.wel\n",
        "      base.ghb\n",
        "   The following 1 packages were not loaded.\n",
        "      base.list\n",
        "\n",
        "\n"
       ]
      }
     ],
     "prompt_number": 5
    },
    {
     "cell_type": "code",
     "collapsed": false,
     "input": [],
     "language": "python",
     "metadata": {},
     "outputs": []
    }
   ],
   "metadata": {}
  }
 ]
}