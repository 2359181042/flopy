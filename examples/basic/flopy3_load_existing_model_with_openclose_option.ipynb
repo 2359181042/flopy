{
 "metadata": {
  "name": "",
  "signature": "sha256:ca13a2b73a346c746078e9b69e0f6537df6048845a11c44e4e9fd4653b6cd61e"
 },
 "nbformat": 3,
 "nbformat_minor": 0,
 "worksheets": [
  {
   "cells": [
    {
     "cell_type": "markdown",
     "metadata": {},
     "source": [
      "#load an existing model with `open/close` external arrays and explicit `model_ws`\n"
     ]
    },
    {
     "cell_type": "code",
     "collapsed": false,
     "input": [
      "import os\n",
      "import numpy as np\n",
      "import flopy\n",
      "\n",
      "base_dir = \"base_model_dir\"\n",
      "if not os.path.exists(base_dir):\n",
      "    os.mkdir(base_dir)\n",
      "# change to base_dir    \n",
      "os.chdir(base_dir)    \n",
      "nlay, nrow, ncol = 1, 1, 10\n",
      "ml = flopy.modflow.Modflow(modelname=\"base\",external_path=\"ref\")\n",
      "dis = flopy.modflow.ModflowDis(ml, nrow=1, ncol=10,\n",
      "                               nlay=nlay, nper=2, perlen=[1,1],\n",
      "                               steady=[True,True])\n",
      "bas = flopy.modflow.ModflowBas(ml, ibound=1)\n",
      "hk = np.zeros((nlay, nrow, ncol))+2.5\n",
      "lpf = flopy.modflow.ModflowLpf(ml, hk=hk,vka=hk)\n",
      "\n",
      "well_data = {}\n",
      "well_data[0] = [0, 0, 9, 0.5]\n",
      "well_data[1] = [0, 0, 9, 1.0]\n",
      "wel = flopy.modflow.ModflowWel(ml, stress_period_data=well_data)\n",
      "\n",
      "ghb_data = {}\n",
      "ghb_data[0] = [0, 0, 0, 0.5, 1000.0]\n",
      "ghb = flopy.modflow.ModflowGhb(ml, stress_period_data=ghb_data)\n",
      "ml.write_input()\n",
      "# change back \n",
      "os.chdir(\"..\")"
     ],
     "language": "python",
     "metadata": {},
     "outputs": [],
     "prompt_number": 5
    },
    {
     "cell_type": "markdown",
     "metadata": {},
     "source": [
      "Now load the model using `base_dir` as the `model_ws` arg"
     ]
    },
    {
     "cell_type": "code",
     "collapsed": false,
     "input": [
      "ml_loaded = flopy.modflow.Modflow.load(\"base.nam\",model_ws=base_dir)\n"
     ],
     "language": "python",
     "metadata": {},
     "outputs": [
      {
       "output_type": "stream",
       "stream": "stdout",
       "text": [
        "\n",
        "Creating new model with name: base\n",
        "--------------------------------------------------\n",
        "\n",
        "   DIS  package load...success\n",
        "   LIST package load...skipped\n",
        "   BAS6 package load...success\n",
        "   LPF  package load...failed\n",
        "      could not find file: base_model_dir/base.lpf\n",
        "   WEL  package load...success\n",
        "   GHB  package load...success\n",
        "\n",
        "\n",
        "   The following 4 packages were successfully loaded.\n",
        "      base.dis\n",
        "      base.bas\n",
        "      base.wel\n",
        "      base.ghb\n",
        "   The following 2 packages were not loaded.\n",
        "      base.list\n",
        "      base.lpf\n",
        "\n",
        "\n"
       ]
      }
     ],
     "prompt_number": 6
    },
    {
     "cell_type": "markdown",
     "metadata": {},
     "source": []
    },
    {
     "cell_type": "code",
     "collapsed": false,
     "input": [],
     "language": "python",
     "metadata": {},
     "outputs": []
    }
   ],
   "metadata": {}
  }
 ]
}