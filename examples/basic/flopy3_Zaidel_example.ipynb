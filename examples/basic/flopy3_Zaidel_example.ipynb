{
 "metadata": {
  "name": "",
  "signature": "sha256:7ca3417e8c95d1f0372190a4e657cb9f49499d82c03218228e729b21025ddfd8"
 },
 "nbformat": 3,
 "nbformat_minor": 0,
 "worksheets": [
  {
   "cells": [
    {
     "cell_type": "markdown",
     "metadata": {},
     "source": [
      "#Advanced Modeling of Groundwater Flow - 2014\n",
      "\n",
      "##MODFLOW-2015 $-$ Discontinuous water table configuration over a stairway impervious base\n",
      "\n",
      "One of the most challenging numerical cases for MODFLOW arises from drying-rewetting problems often associated with abrupt changes in the elevations of impervious base of a thin unconfined aquifer. This problem simulates a discontinuous water table configuration over a stairway impervious base and flow between constant-head boundaries in column 1 and 200. This problem is based on \n",
      "\n",
      "[Zaidel, J. (2013), Discontinuous Steady-State Analytical Solutions of the Boussinesq Equation and Their Numerical Representation by Modflow. Groundwater, 51: 952\u2013959. doi: 10.1111/gwat.12019](http://onlinelibrary.wiley.com/doi/10.1111/gwat.12019/abstract)\n",
      "\n",
      "The model consistes of a grid of 200 columns, 1 row, and 1 layer; a bottom altitude of ranging from 20 to 0 m; constant heads of 23 and 5 m in column 1 and 200, respectively; and a horizontal hydraulic conductivity of $1x10^{-4}$ m/d.  The discretization is 5 m in the row direction for all cells.\n",
      "\n",
      "In this example results from MODFLOW-USG and MODFLOW-2105 will be compared."
     ]
    },
    {
     "cell_type": "code",
     "collapsed": false,
     "input": [
      "%matplotlib inline\n",
      "import sys\n",
      "import os\n",
      "import platform\n",
      "import numpy as np\n",
      "import matplotlib.pyplot as plt\n",
      "\n",
      "from paths import *\n",
      "import flopy.modflow as fpmf\n",
      "import flopy.utils as fputl\n",
      "\n",
      "#Set path and name of MODFLOW exe\n",
      "mfusg = 'mfusg'\n",
      "mf2015 = 'mf2015'\n",
      "osbinpth = 'mac'\n",
      "if platform.system() == 'Windows':\n",
      "    mfusg = 'mfusg.exe'\n",
      "    mf2015 = 'mf2015.exe'\n",
      "    osbinpth = 'win'\n",
      "mfusg = os.path.abspath(os.path.join(binpath, osbinpth, mfusg))\n",
      "print mfusg\n",
      "\n",
      "mf2015 = os.path.abspath(os.path.join(binpath, osbinpth, mf2015))\n",
      "print mf2015\n",
      "\n",
      "modelpth = os.path.join(datapath, '2015_Z')\n",
      "model2015 = 'zaidel5m'\n",
      "\n",
      "#make sure modelpth directory exists\n",
      "if not os.path.exists(modelpth):\n",
      "    os.makedirs(modelpth)"
     ],
     "language": "python",
     "metadata": {},
     "outputs": []
    },
    {
     "cell_type": "markdown",
     "metadata": {},
     "source": [
      "##Model parameters for all models"
     ]
    },
    {
     "cell_type": "code",
     "collapsed": false,
     "input": [
      "#--model dimensions\n",
      "nlay, nrow, ncol = 1, 1, 200\n",
      "delr = 50.\n",
      "delc = 1.\n",
      "\n",
      "#--boundary heads\n",
      "h1 = 23.\n",
      "h2 = 5.\n",
      "\n",
      "#--cell centroid locations\n",
      "x = np.arange(0., float(ncol)*delr, delr) + delr / 2.\n",
      "\n",
      "#--ibound\n",
      "ibound = np.ones((nlay, nrow, ncol), dtype=np.int)\n",
      "ibound[:, :, 0] = -1\n",
      "ibound[:, :, -1] = -1\n",
      "\n",
      "#--bottom of the model\n",
      "botm = 25 * np.ones((nlay + 1, nrow, ncol), dtype=np.float)\n",
      "base = 20.\n",
      "for j in xrange(ncol):\n",
      "    botm[1, :, j] = base\n",
      "    #if j > 0 and j % 40 == 0:\n",
      "    if j+1 in [40,80,120,160]:\n",
      "        base -= 5\n",
      "\n",
      "#--starting heads\n",
      "strt = h1 * np.ones((nlay, nrow, ncol), dtype=np.float)\n",
      "strt[:, :, -1] = h2"
     ],
     "language": "python",
     "metadata": {},
     "outputs": []
    },
    {
     "cell_type": "markdown",
     "metadata": {},
     "source": [
      "##Create and run the MODFLOW-USG model"
     ]
    },
    {
     "cell_type": "code",
     "collapsed": false,
     "input": [
      "#make the flopy model\n",
      "mfusgname = 'zusg'\n",
      "mf = fpmf.Modflow(modelname=mfusgname, exe_name=mfusg, model_ws=modelpth)\n",
      "dis = fpmf.ModflowDis(mf, nlay, nrow, ncol,\n",
      "                               delr=delr, delc=delc, \n",
      "                               top=botm[0, :, :], botm=botm[1:, :, :], \n",
      "                               perlen=1, nstp=1, steady=True)\n",
      "bas = fpmf.ModflowBas(mf, ibound=ibound, strt=strt)\n",
      "lpf = fpmf.ModflowLpf(mf, hk=0.0001, laytyp=4)\n",
      "oc = fpmf.ModflowOc(mf, words=['pbudget', 'phead', 'head', 'budget'], save_head_every=1)\n",
      "sms = fpmf.ModflowSms(mf, nonlinmeth=1, linmeth=1,\n",
      "                      numtrack=50, btol=1.1, breduc=0.70, reslim = 0.0,\n",
      "                      theta=0.85, akappa=0.0001, gamma=0., amomentum=0.1,\n",
      "                      iacl=2, norder=0, level=5, north=7, iredsys=0, rrctol=0.,\n",
      "                      idroptol=1, epsrn=1.e-5,\n",
      "                      mxiter=500, hclose=1.e-3, hiclose=1.e-3, iter1=50)\n",
      "mf.write_input()\n",
      "\n",
      "#--remove any existing head files\n",
      "try:\n",
      "    os.remove(os.path.join(model_ws, '{0}.hds'.format(mfusgname)))\n",
      "except:\n",
      "    pass\n",
      "\n",
      "#--run the model\n",
      "mf.run_model2(silent=False)"
     ],
     "language": "python",
     "metadata": {},
     "outputs": []
    },
    {
     "cell_type": "markdown",
     "metadata": {},
     "source": [
      "###Create an empty flopy object to run the existing MODFLOW-2015 datasets for this problem"
     ]
    },
    {
     "cell_type": "code",
     "collapsed": false,
     "input": [
      "#--make the flopy model object and run existing modelfiles\n",
      "mf2015name = 'mf2015'\n",
      "mf = fpmf.Modflow(modelname=mf2015name, exe_name=mf2015, model_ws=modelpth)\n",
      "\n",
      "#--remove existing heads results, if necessary\n",
      "try:\n",
      "    os.remove(os.path.join(model_ws, '{0}.hds'.format(model2015)))\n",
      "except:\n",
      "    pass\n",
      "\n",
      "#--run existing model\n",
      "mf.run_model2(silent=False)"
     ],
     "language": "python",
     "metadata": {},
     "outputs": []
    },
    {
     "cell_type": "markdown",
     "metadata": {},
     "source": [
      "###Read the simulated MODFLOW-USG and MODFLOW-2015 model results"
     ]
    },
    {
     "cell_type": "code",
     "collapsed": false,
     "input": [
      "#--Create the mfusg headfile object\n",
      "headfile = os.path.join(modelpth, '{0}.hds'.format(mfusgname))\n",
      "headobj = fputl.HeadFile(headfile)\n",
      "times = headobj.get_times()\n",
      "mfusghead = headobj.get_data(totim=times[-1])\n",
      "\n",
      "headfile = os.path.join(modelpth, '{0}.hds'.format(model2015))\n",
      "headobj = fputl.HeadFile(headfile, precision='double')\n",
      "times = headobj.get_times()\n",
      "mf2015head = headobj.get_data(totim=times[-1]) "
     ],
     "language": "python",
     "metadata": {},
     "outputs": []
    },
    {
     "cell_type": "markdown",
     "metadata": {},
     "source": [
      "###Plot the MODFLOW-USG and MODFLOW-2015 results and compare to each other"
     ]
    },
    {
     "cell_type": "code",
     "collapsed": false,
     "input": [
      "fig = plt.figure(figsize=(16,6))\n",
      "fig.subplots_adjust(left=None, bottom=None, right=None, top=None,\n",
      "                    wspace=0.25, hspace=0.25)\n",
      "ax = fig.add_subplot(1, 3, 1)\n",
      "ax.plot(x, mfusghead[0, 0, :], linewidth=0.75, color='blue', label='MODFLOW-USG')\n",
      "ax.plot(x, botm[1, 0, :], linewidth=0.75, color='green', label='Bottom')\n",
      "leg = ax.legend(loc='lower left')\n",
      "leg.draw_frame(False)\n",
      "ax.set_xlabel('Horizontal distance, in m')\n",
      "ax.set_ylabel('Head, in m')\n",
      "\n",
      "ax = fig.add_subplot(1, 3, 2)\n",
      "ax.plot(x, mf2015head[0, 0, :], linewidth=0.75, color='blue', label='MODFLOW-2015')\n",
      "ax.plot(x, botm[1, 0, :], linewidth=0.75, color='green', label='Bottom')\n",
      "leg = ax.legend(loc='lower left')\n",
      "leg.draw_frame(False)\n",
      "ax.set_xlabel('Horizontal distance, in m')\n",
      "ax.set_ylabel('Head, in m')\n",
      "\n",
      "ax = fig.add_subplot(1, 3, 3)\n",
      "ax.plot(x, 100. * (mf2015head[0, 0, :] - mfusghead[0, 0, :]) / mfusghead[0, 0, :], linewidth=0.75, color='red')\n",
      "ax.set_xlabel('Horizontal distance, in m')\n",
      "ax.set_ylabel('Percent Difference')\n",
      "\n",
      "fig.savefig(os.path.join(modelpth, 'Figures', '{}.png'.format(model2015)), dpi=300)"
     ],
     "language": "python",
     "metadata": {},
     "outputs": []
    },
    {
     "cell_type": "code",
     "collapsed": false,
     "input": [],
     "language": "python",
     "metadata": {},
     "outputs": []
    }
   ],
   "metadata": {}
  }
 ]
}