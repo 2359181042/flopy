{
 "metadata": {
  "name": "",
  "signature": "sha256:b3765da44dc0177e5da0872913adbaae2578e4997c7ec072b052e28c244cf1a1"
 },
 "nbformat": 3,
 "nbformat_minor": 0,
 "worksheets": [
  {
   "cells": [
    {
     "cell_type": "markdown",
     "metadata": {},
     "source": [
      "#Demo for new kwargs-based ncomp"
     ]
    },
    {
     "cell_type": "code",
     "collapsed": false,
     "input": [
      "import numpy as np\n",
      "import flopy\n",
      "reload(flopy)\n",
      "from flopy.modflow import *\n",
      "from flopy.mt3d import *"
     ],
     "language": "python",
     "metadata": {},
     "outputs": [],
     "prompt_number": 1
    },
    {
     "cell_type": "code",
     "collapsed": false,
     "input": [
      "nlay, nrow, ncol = 3, 10, 10\n",
      "ml = Modflow(\"test\")\n",
      "dis = ModflowDis(ml,nlay=nlay, nrow=nrow, ncol=ncol)\n"
     ],
     "language": "python",
     "metadata": {},
     "outputs": [],
     "prompt_number": 2
    },
    {
     "cell_type": "markdown",
     "metadata": {},
     "source": [
      "for btn, `sconc` is passed as a normal `util_3d`-compatible argument, no need for the list anymore"
     ]
    },
    {
     "cell_type": "code",
     "collapsed": false,
     "input": [
      "mt = Mt3dms(modflowmodel=ml)\n",
      "btn = Mt3dBtn(mt,sconc=1.0,ncomp=2)"
     ],
     "language": "python",
     "metadata": {},
     "outputs": [
      {
       "output_type": "stream",
       "stream": "stdout",
       "text": [
        "BTN: setting sconc for component 2 to zero, kwarg name sconc2\n"
       ]
      }
     ],
     "prompt_number": 3
    },
    {
     "cell_type": "markdown",
     "metadata": {},
     "source": [
      "or we pass in the `sconc2` kwarg explicitly"
     ]
    },
    {
     "cell_type": "code",
     "collapsed": false,
     "input": [
      "mt = Mt3dms(modflowmodel=ml)\n",
      "btn = Mt3dBtn(mt,sconc=1.0,ncomp=2,sconc2=1.5)\n",
      "print btn.sconc[1].name_base"
     ],
     "language": "python",
     "metadata": {},
     "outputs": [
      {
       "output_type": "stream",
       "stream": "stdout",
       "text": [
        "sconc2 Layer \n"
       ]
      }
     ],
     "prompt_number": 4
    },
    {
     "cell_type": "markdown",
     "metadata": {},
     "source": [
      "error raised for unrecognized kwargs"
     ]
    },
    {
     "cell_type": "code",
     "collapsed": false,
     "input": [
      "mt = Mt3dms(modflowmodel=ml)\n",
      "btn = Mt3dBtn(mt,sconc=1.0,ncomp=2,sconc3=1.5)"
     ],
     "language": "python",
     "metadata": {},
     "outputs": [
      {
       "output_type": "stream",
       "stream": "stdout",
       "text": [
        "BTN: setting sconc for component 2 to zero, kwarg name sconc2\n"
       ]
      },
      {
       "ename": "Exception",
       "evalue": "BTN error: unrecognized kwargs: sconc3",
       "output_type": "pyerr",
       "traceback": [
        "\u001b[0;31m---------------------------------------------------------------------------\u001b[0m\n\u001b[0;31mException\u001b[0m                                 Traceback (most recent call last)",
        "\u001b[0;32m<ipython-input-5-3f8a6a5d9f52>\u001b[0m in \u001b[0;36m<module>\u001b[0;34m()\u001b[0m\n\u001b[1;32m      1\u001b[0m \u001b[0mmt\u001b[0m \u001b[0;34m=\u001b[0m \u001b[0mMt3dms\u001b[0m\u001b[0;34m(\u001b[0m\u001b[0mmodflowmodel\u001b[0m\u001b[0;34m=\u001b[0m\u001b[0mml\u001b[0m\u001b[0;34m)\u001b[0m\u001b[0;34m\u001b[0m\u001b[0m\n\u001b[0;32m----> 2\u001b[0;31m \u001b[0mbtn\u001b[0m \u001b[0;34m=\u001b[0m \u001b[0mMt3dBtn\u001b[0m\u001b[0;34m(\u001b[0m\u001b[0mmt\u001b[0m\u001b[0;34m,\u001b[0m\u001b[0msconc\u001b[0m\u001b[0;34m=\u001b[0m\u001b[0;36m1.0\u001b[0m\u001b[0;34m,\u001b[0m\u001b[0mncomp\u001b[0m\u001b[0;34m=\u001b[0m\u001b[0;36m2\u001b[0m\u001b[0;34m,\u001b[0m\u001b[0msconc3\u001b[0m\u001b[0;34m=\u001b[0m\u001b[0;36m1.5\u001b[0m\u001b[0;34m)\u001b[0m\u001b[0;34m\u001b[0m\u001b[0m\n\u001b[0m",
        "\u001b[0;32m/Users/jwhite/anaconda/lib/python2.7/site-packages/flopy/mt3d/mtbtn.pyc\u001b[0m in \u001b[0;36m__init__\u001b[0;34m(self, model, ncomp, mcomp, tunit, lunit, munit, prsity, icbund, sconc, cinact, thkmin, ifmtcn, ifmtnp, ifmtrf, ifmtdp, savucn, nprs, timprs, obs, nprobs, chkmas, nprmas, dt0, mxstrn, ttsmult, ttsmax, species_names, extension, **kwargs)\u001b[0m\n\u001b[1;32m    203\u001b[0m         \u001b[0;32mif\u001b[0m \u001b[0mlen\u001b[0m\u001b[0;34m(\u001b[0m\u001b[0mkwargs\u001b[0m\u001b[0;34m.\u001b[0m\u001b[0mkeys\u001b[0m\u001b[0;34m(\u001b[0m\u001b[0;34m)\u001b[0m\u001b[0;34m)\u001b[0m \u001b[0;34m>\u001b[0m \u001b[0;36m0\u001b[0m\u001b[0;34m:\u001b[0m\u001b[0;34m\u001b[0m\u001b[0m\n\u001b[1;32m    204\u001b[0m             raise Exception(\"BTN error: unrecognized kwargs: \" +\n\u001b[0;32m--> 205\u001b[0;31m                             ' '.join(kwargs.keys()))\n\u001b[0m\u001b[1;32m    206\u001b[0m         \u001b[0mself\u001b[0m\u001b[0;34m.\u001b[0m\u001b[0mdt0\u001b[0m \u001b[0;34m=\u001b[0m \u001b[0mutil_2d\u001b[0m\u001b[0;34m(\u001b[0m\u001b[0mmodel\u001b[0m\u001b[0;34m,\u001b[0m \u001b[0;34m(\u001b[0m\u001b[0mnper\u001b[0m\u001b[0;34m,\u001b[0m\u001b[0;34m)\u001b[0m\u001b[0;34m,\u001b[0m \u001b[0mnp\u001b[0m\u001b[0;34m.\u001b[0m\u001b[0mfloat32\u001b[0m\u001b[0;34m,\u001b[0m \u001b[0mdt0\u001b[0m\u001b[0;34m,\u001b[0m \u001b[0mname\u001b[0m\u001b[0;34m=\u001b[0m\u001b[0;34m'dt0'\u001b[0m\u001b[0;34m)\u001b[0m\u001b[0;34m\u001b[0m\u001b[0m\n\u001b[1;32m    207\u001b[0m         \u001b[0mself\u001b[0m\u001b[0;34m.\u001b[0m\u001b[0mmxstrn\u001b[0m \u001b[0;34m=\u001b[0m \u001b[0mutil_2d\u001b[0m\u001b[0;34m(\u001b[0m\u001b[0mmodel\u001b[0m\u001b[0;34m,\u001b[0m \u001b[0;34m(\u001b[0m\u001b[0mnper\u001b[0m\u001b[0;34m,\u001b[0m\u001b[0;34m)\u001b[0m\u001b[0;34m,\u001b[0m \u001b[0mnp\u001b[0m\u001b[0;34m.\u001b[0m\u001b[0mint\u001b[0m\u001b[0;34m,\u001b[0m \u001b[0mmxstrn\u001b[0m\u001b[0;34m,\u001b[0m \u001b[0mname\u001b[0m\u001b[0;34m=\u001b[0m\u001b[0;34m'mxstrn'\u001b[0m\u001b[0;34m)\u001b[0m\u001b[0;34m\u001b[0m\u001b[0m\n",
        "\u001b[0;31mException\u001b[0m: BTN error: unrecognized kwargs: sconc3"
       ]
      }
     ],
     "prompt_number": 5
    },
    {
     "cell_type": "markdown",
     "metadata": {},
     "source": [
      "same behavior for `SSM`"
     ]
    },
    {
     "cell_type": "code",
     "collapsed": false,
     "input": [
      "mt = Mt3dms(modflowmodel=ml)\n",
      "btn = Mt3dBtn(mt,sconc=1.0,ncomp=2,sconc2=1.5)\n",
      "ssm = Mt3dSsm(mt,crch=1.0,crch2=1.0,cevt=0.5,cevt2=1.5)\n",
      "print ssm.crch,ssm.cevt\n",
      "\n",
      "dsp = Mt3dDsp()"
     ],
     "language": "python",
     "metadata": {},
     "outputs": [
      {
       "output_type": "stream",
       "stream": "stdout",
       "text": [
        "[<flopy.utils.util_array.transient_2d object at 0x1065b8850>, <flopy.utils.util_array.transient_2d object at 0x1065b8910>] [<flopy.utils.util_array.transient_2d object at 0x1065b8990>, <flopy.utils.util_array.transient_2d object at 0x1065b8a10>]\n"
       ]
      }
     ],
     "prompt_number": 8
    },
    {
     "cell_type": "markdown",
     "metadata": {},
     "source": [
      "`DSP` still needs to `multDiff` flag"
     ]
    },
    {
     "cell_type": "code",
     "collapsed": false,
     "input": [
      "dsp = Mt3dDsp(mt,dmcoef2=1.0)"
     ],
     "language": "python",
     "metadata": {},
     "outputs": [
      {
       "ename": "Exception",
       "evalue": "DSP error: unrecognized kwargs: dmcoef2",
       "output_type": "pyerr",
       "traceback": [
        "\u001b[0;31m---------------------------------------------------------------------------\u001b[0m\n\u001b[0;31mException\u001b[0m                                 Traceback (most recent call last)",
        "\u001b[0;32m<ipython-input-10-72d9001320e4>\u001b[0m in \u001b[0;36m<module>\u001b[0;34m()\u001b[0m\n\u001b[0;32m----> 1\u001b[0;31m \u001b[0mdsp\u001b[0m \u001b[0;34m=\u001b[0m \u001b[0mMt3dDsp\u001b[0m\u001b[0;34m(\u001b[0m\u001b[0mmt\u001b[0m\u001b[0;34m,\u001b[0m\u001b[0mdmcoef2\u001b[0m\u001b[0;34m=\u001b[0m\u001b[0;36m1.0\u001b[0m\u001b[0;34m)\u001b[0m\u001b[0;34m\u001b[0m\u001b[0m\n\u001b[0m",
        "\u001b[0;32m/Users/jwhite/anaconda/lib/python2.7/site-packages/flopy/mt3d/mtdsp.pyc\u001b[0m in \u001b[0;36m__init__\u001b[0;34m(self, model, al, trpt, trpv, dmcoef, extension, multiDiff, **kwargs)\u001b[0m\n\u001b[1;32m     58\u001b[0m         \u001b[0;32mif\u001b[0m \u001b[0mlen\u001b[0m\u001b[0;34m(\u001b[0m\u001b[0mkwargs\u001b[0m\u001b[0;34m.\u001b[0m\u001b[0mkeys\u001b[0m\u001b[0;34m(\u001b[0m\u001b[0;34m)\u001b[0m\u001b[0;34m)\u001b[0m \u001b[0;34m>\u001b[0m \u001b[0;36m0\u001b[0m\u001b[0;34m:\u001b[0m\u001b[0;34m\u001b[0m\u001b[0m\n\u001b[1;32m     59\u001b[0m             raise Exception(\"DSP error: unrecognized kwargs: \" +\n\u001b[0;32m---> 60\u001b[0;31m                             ' '.join(kwargs.keys()))\n\u001b[0m\u001b[1;32m     61\u001b[0m         \u001b[0mself\u001b[0m\u001b[0;34m.\u001b[0m\u001b[0mparent\u001b[0m\u001b[0;34m.\u001b[0m\u001b[0madd_package\u001b[0m\u001b[0;34m(\u001b[0m\u001b[0mself\u001b[0m\u001b[0;34m)\u001b[0m\u001b[0;34m\u001b[0m\u001b[0m\n\u001b[1;32m     62\u001b[0m         \u001b[0;32mreturn\u001b[0m\u001b[0;34m\u001b[0m\u001b[0m\n",
        "\u001b[0;31mException\u001b[0m: DSP error: unrecognized kwargs: dmcoef2"
       ]
      }
     ],
     "prompt_number": 10
    },
    {
     "cell_type": "code",
     "collapsed": false,
     "input": [
      "dsp = Mt3dDsp(mt,dmcoef2=1.0,multiDiff=True)\n",
      "print dsp.dmcoef"
     ],
     "language": "python",
     "metadata": {},
     "outputs": [
      {
       "output_type": "stream",
       "stream": "stdout",
       "text": [
        "****Warning -- two packages of the same type:  <class 'flopy.mt3d.mtdsp.Mt3dDsp'> <class 'flopy.mt3d.mtdsp.Mt3dDsp'>\n",
        "replacing existing Package...\n",
        "[<flopy.utils.util_array.util_3d object at 0x1065a38d0>, <flopy.utils.util_array.util_3d object at 0x1065a3810>]\n"
       ]
      }
     ],
     "prompt_number": 13
    },
    {
     "cell_type": "code",
     "collapsed": false,
     "input": [],
     "language": "python",
     "metadata": {},
     "outputs": []
    }
   ],
   "metadata": {}
  }
 ]
}