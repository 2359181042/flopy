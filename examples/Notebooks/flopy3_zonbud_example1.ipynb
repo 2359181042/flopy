{
 "cells": [
  {
   "cell_type": "markdown",
   "metadata": {},
   "source": [
    "# FloPy\n",
    "\n",
    "### Zonbud Example 1\n",
    "\n",
    "This notebook demonstrates how to use the functions included in the zonbud utility to extract budget information from the cell by cell budget file using an array of zones.\n",
    "\n",
    "First set the path and import the required packages. The flopy path doesn't have to be set if you install flopy from a binary installer. If you want to run this notebook, you have to set the path to your own flopy path."
   ]
  },
  {
   "cell_type": "code",
   "execution_count": 1,
   "metadata": {
    "collapsed": false
   },
   "outputs": [],
   "source": [
    "%matplotlib inline\n",
    "from __future__ import print_function\n",
    "import os\n",
    "import platform\n",
    "import numpy as np\n",
    "import matplotlib.pyplot as plt\n",
    "from flopy.utils import ZoneBudget\n",
    "\n",
    "# Set path to example datafiles\n",
    "zbudpath = os.path.join('..', 'data', 'zonbud_examples')"
   ]
  },
  {
   "cell_type": "markdown",
   "metadata": {},
   "source": [
    "### Create a ZoneBudget Object and Make Some Zones\n",
    "\n",
    "We create a simple numpy integer-array to define some zones for which we are interested in getting cell-by-cell budget information."
   ]
  },
  {
   "cell_type": "code",
   "execution_count": 2,
   "metadata": {
    "collapsed": false
   },
   "outputs": [
    {
     "name": "stdout",
     "output_type": "stream",
     "text": [
      "['WELLS', 'RIVER LEAKAGE', 'RECHARGE']\n"
     ]
    }
   ],
   "source": [
    "# Create ZoneBudget object\n",
    "cbc_file = os.path.join(zbudpath, 'freyberg.gitcbc')\n",
    "zb = ZoneBudget(cbc_file)\n",
    "print(zb.get_ssst_names())"
   ]
  },
  {
   "cell_type": "code",
   "execution_count": 3,
   "metadata": {
    "collapsed": false
   },
   "outputs": [
    {
     "name": "stdout",
     "output_type": "stream",
     "text": [
      "[(0, 0)]\n"
     ]
    }
   ],
   "source": [
    "print(zb.get_kstpkper())"
   ]
  },
  {
   "cell_type": "code",
   "execution_count": 4,
   "metadata": {
    "collapsed": false
   },
   "outputs": [
    {
     "name": "stdout",
     "output_type": "stream",
     "text": [
      "1000 loops, best of 3: 1.65 ms per loop\n"
     ]
    }
   ],
   "source": [
    "%%timeit\n",
    "ZoneBudget(cbc_file)"
   ]
  },
  {
   "cell_type": "code",
   "execution_count": 5,
   "metadata": {
    "collapsed": false
   },
   "outputs": [
    {
     "data": {
      "text/plain": [
       "(1L, 40L, 20L)"
      ]
     },
     "execution_count": 5,
     "metadata": {},
     "output_type": "execute_result"
    }
   ],
   "source": [
    "# We can get the shape of the model from the ZoneBudget object\n",
    "zb.get_model_shape()"
   ]
  },
  {
   "cell_type": "code",
   "execution_count": 6,
   "metadata": {
    "collapsed": false
   },
   "outputs": [
    {
     "data": {
      "image/png": "[encoded data removed]",
      "text/plain": [
       "<matplotlib.figure.Figure at 0x6f57f60>"
      ]
     },
     "metadata": {},
     "output_type": "display_data"
    }
   ],
   "source": [
    "# Define some very interesting zones\n",
    "nlay, nrow, ncol = zb.get_model_shape()\n",
    "zon = np.zeros((nlay, nrow, ncol), np.int32)\n",
    "zon[0, :nrow/2, :ncol/2] = 1\n",
    "zon[0, :nrow/2, ncol/2:] = 2\n",
    "zon[0, nrow/2:, :ncol/2] = 3\n",
    "zon[0, nrow/2:, ncol/2:] = 4\n",
    "\n",
    "im = plt.imshow(zon[0, :, :])\n",
    "cbar = plt.colorbar(im)"
   ]
  },
  {
   "cell_type": "markdown",
   "metadata": {},
   "source": [
    "### Extract Budget Information from ZoneBudget Object\n",
    "\n",
    "We use the `get_budget()` method of the ZoneBudget object to return a Budget object, which is a thin wrapper around a numpy record array. The Budget object can be used to write the budget to a csv file. Let's look at the dtype:"
   ]
  },
  {
   "cell_type": "code",
   "execution_count": 7,
   "metadata": {
    "collapsed": false
   },
   "outputs": [
    {
     "name": "stdout",
     "output_type": "stream",
     "text": [
      "[1 2 3 4]\n",
      "[('flow_dir', 'S3'), ('record', 'S20'), ('ZONE 1', '<f4'), ('ZONE 2', '<f4'), ('ZONE 3', '<f4'), ('ZONE 4', '<f4')]\n"
     ]
    },
    {
     "name": "stderr",
     "output_type": "stream",
     "text": [
      "E:\\local_repo\\flopy_dev\\flopy\\flopy\\utils\\zonbud.py:323: UserWarning: Budget information for CONSTANT HEAD cells is not yet supported.Any non-zero results for CONSTANT HEAD andSWIADDTOCH should be considered erroneous.\n",
      "  warnings.warn(chwarn, UserWarning)\n"
     ]
    }
   ],
   "source": [
    "bud = zb.get_budget(zon, kstpkper=(0, 0))\n",
    "print(np.unique(zon))\n",
    "print(bud.records.dtype)"
   ]
  },
  {
   "cell_type": "code",
   "execution_count": 8,
   "metadata": {
    "collapsed": false
   },
   "outputs": [
    {
     "name": "stdout",
     "output_type": "stream",
     "text": [
      "[('in', 'WELLS', 0.0, 0.0, 0.0, 0.0)\n",
      " ('in', 'RIVER LEAKAGE', 0.0, 0.004194190260022879, 0.0, 0.0)\n",
      " ('in', 'RECHARGE', 0.01530000101774931, 0.020000001415610313, 0.01590000092983246, 0.018300000578165054)\n",
      " ('in', 'CONSTANT HEAD', 0.0, 0.0, 0.0, 0.0)\n",
      " ('in', 'FROM ZONE 1', 0.0, 0.013101870194077492, 0.0028348490595817566, 0.0)\n",
      " ('in', 'FROM ZONE 2', 0.0, 0.0, 0.0, 0.0012257143389433622)\n",
      " ('in', 'FROM ZONE 3', 0.0006367169553413987, 0.0, 0.0, 0.013000612147152424)\n",
      " ('in', 'FROM ZONE 4', 0.0, 0.0011461640242487192, 0.0, 0.0)\n",
      " ('out', 'WELLS', 0.0, 0.016199998557567596, 0.0015499999281018972, 0.00430000014603138)\n",
      " ('out', 'RIVER LEAKAGE', 0.0, 0.021016843616962433, 0.0, 0.025892717763781548)\n",
      " ('out', 'RECHARGE', 0.0, 0.0, 0.0, 0.0)\n",
      " ('out', 'CONSTANT HEAD', 0.0, 0.0, 0.0, 0.0)\n",
      " ('out', 'TO ZONE 1', 0.0, 0.0, 0.0006367169553413987, 0.0)\n",
      " ('out', 'TO ZONE 2', 0.013101870194077492, 0.0, 0.0, 0.0011461640242487192)\n",
      " ('out', 'TO ZONE 3', 0.0028348490595817566, 0.0, 0.0, 0.0)\n",
      " ('out', 'TO ZONE 4', 0.0, 0.0012257143389433622, 0.013000612147152424, 0.0)]\n"
     ]
    }
   ],
   "source": [
    "print(bud.records)"
   ]
  },
  {
   "cell_type": "code",
   "execution_count": 9,
   "metadata": {
    "collapsed": false
   },
   "outputs": [
    {
     "name": "stdout",
     "output_type": "stream",
     "text": [
      "[ 0.01593672  0.03844223  0.01873485  0.03252633]\n",
      "[ 0.01593672  0.03844256  0.01518733  0.03133888]\n",
      "[ -1.16877591e-05  -8.52770929e-04   2.09156437e+01   3.71859360e+00]\n"
     ]
    }
   ],
   "source": [
    "print(bud.get_total_inflow())\n",
    "print(bud.get_total_outflow())\n",
    "print(bud.get_percent_error())"
   ]
  },
  {
   "cell_type": "code",
   "execution_count": 10,
   "metadata": {
    "collapsed": false
   },
   "outputs": [
    {
     "name": "stdout",
     "output_type": "stream",
     "text": [
      "100 loops, best of 3: 8.89 ms per loop\n"
     ]
    }
   ],
   "source": [
    "%%timeit\n",
    "zb.get_budget(zon, kstpkper=(0, 0))"
   ]
  },
  {
   "cell_type": "code",
   "execution_count": 11,
   "metadata": {
    "collapsed": false
   },
   "outputs": [
    {
     "name": "stdout",
     "output_type": "stream",
     "text": [
      "[('in', 'WELLS', 0.0, 0.0, 0.0, 0.0)\n",
      " ('in', 'RIVER LEAKAGE', 0.0, 0.004194190260022879, 0.0, 0.0)\n",
      " ('in', 'RECHARGE', 0.01530000101774931, 0.020000001415610313, 0.01590000092983246, 0.018300000578165054)\n",
      " ('in', 'CONSTANT HEAD', 0.0, 0.0, 0.0, 0.0)\n",
      " ('in', 'FROM ZONE 1', 0.0, 0.013101870194077492, 0.0028348490595817566, 0.0)\n",
      " ('in', 'FROM ZONE 2', 0.0, 0.0, 0.0, 0.0012257143389433622)\n",
      " ('in', 'FROM ZONE 3', 0.0006367169553413987, 0.0, 0.0, 0.013000612147152424)\n",
      " ('in', 'FROM ZONE 4', 0.0, 0.0011461640242487192, 0.0, 0.0)]\n"
     ]
    }
   ],
   "source": [
    "# Look at just the inflow terms:\n",
    "print(bud.records[bud.records['flow_dir']=='in'])"
   ]
  },
  {
   "cell_type": "code",
   "execution_count": 12,
   "metadata": {
    "collapsed": false
   },
   "outputs": [
    {
     "name": "stdout",
     "output_type": "stream",
     "text": [
      "[ ('in', 'RECHARGE', 0.01530000101774931, 0.020000001415610313, 0.01590000092983246, 0.018300000578165054)\n",
      " ('out', 'RECHARGE', 0.0, 0.0, 0.0, 0.0)]\n"
     ]
    }
   ],
   "source": [
    "# Look at just the recharge record\n",
    "print(bud.records[bud.records['record']=='RECHARGE'])"
   ]
  },
  {
   "cell_type": "code",
   "execution_count": 13,
   "metadata": {
    "collapsed": false
   },
   "outputs": [
    {
     "name": "stdout",
     "output_type": "stream",
     "text": [
      "[ 0.          0.          0.          0.          0.          0.01310187\n",
      "  0.00283485  0.        ]\n",
      "Total Outflow from Zone 1 (kstpkper=(0, 0)): -0.01594\n"
     ]
    }
   ],
   "source": [
    "# Look at outflow from zone 1\n",
    "z1_outflow = bud.records['ZONE 1'][bud.records['flow_dir'] == 'out']\n",
    "print(z1_outflow)\n",
    "print('Total Outflow from Zone 1 (kstpkper=(0, 0)): {out:.5f}'.format(out=z1_outflow.sum()*-1))"
   ]
  },
  {
   "cell_type": "code",
   "execution_count": 14,
   "metadata": {
    "collapsed": false
   },
   "outputs": [
    {
     "data": {
      "text/html": [
       "<div>\n",
       "<table border=\"1\" class=\"dataframe\">\n",
       "  <thead>\n",
       "    <tr style=\"text-align: right;\">\n",
       "      <th></th>\n",
       "      <th></th>\n",
       "      <th>ZONE 1</th>\n",
       "      <th>ZONE 2</th>\n",
       "      <th>ZONE 3</th>\n",
       "      <th>ZONE 4</th>\n",
       "    </tr>\n",
       "    <tr>\n",
       "      <th>flow_dir</th>\n",
       "      <th>record</th>\n",
       "      <th></th>\n",
       "      <th></th>\n",
       "      <th></th>\n",
       "      <th></th>\n",
       "    </tr>\n",
       "  </thead>\n",
       "  <tbody>\n",
       "    <tr>\n",
       "      <th rowspan=\"8\" valign=\"top\">in</th>\n",
       "      <th>CONSTANT HEAD</th>\n",
       "      <td>0.000000</td>\n",
       "      <td>0.000000</td>\n",
       "      <td>0.000000</td>\n",
       "      <td>0.000000</td>\n",
       "    </tr>\n",
       "    <tr>\n",
       "      <th>FROM ZONE 1</th>\n",
       "      <td>0.000000</td>\n",
       "      <td>0.013102</td>\n",
       "      <td>0.002835</td>\n",
       "      <td>0.000000</td>\n",
       "    </tr>\n",
       "    <tr>\n",
       "      <th>FROM ZONE 2</th>\n",
       "      <td>0.000000</td>\n",
       "      <td>0.000000</td>\n",
       "      <td>0.000000</td>\n",
       "      <td>0.001226</td>\n",
       "    </tr>\n",
       "    <tr>\n",
       "      <th>FROM ZONE 3</th>\n",
       "      <td>0.000637</td>\n",
       "      <td>0.000000</td>\n",
       "      <td>0.000000</td>\n",
       "      <td>0.013001</td>\n",
       "    </tr>\n",
       "    <tr>\n",
       "      <th>FROM ZONE 4</th>\n",
       "      <td>0.000000</td>\n",
       "      <td>0.001146</td>\n",
       "      <td>0.000000</td>\n",
       "      <td>0.000000</td>\n",
       "    </tr>\n",
       "    <tr>\n",
       "      <th>RECHARGE</th>\n",
       "      <td>0.015300</td>\n",
       "      <td>0.020000</td>\n",
       "      <td>0.015900</td>\n",
       "      <td>0.018300</td>\n",
       "    </tr>\n",
       "    <tr>\n",
       "      <th>RIVER LEAKAGE</th>\n",
       "      <td>0.000000</td>\n",
       "      <td>0.004194</td>\n",
       "      <td>0.000000</td>\n",
       "      <td>0.000000</td>\n",
       "    </tr>\n",
       "    <tr>\n",
       "      <th>WELLS</th>\n",
       "      <td>0.000000</td>\n",
       "      <td>0.000000</td>\n",
       "      <td>0.000000</td>\n",
       "      <td>0.000000</td>\n",
       "    </tr>\n",
       "    <tr>\n",
       "      <th rowspan=\"8\" valign=\"top\">out</th>\n",
       "      <th>CONSTANT HEAD</th>\n",
       "      <td>0.000000</td>\n",
       "      <td>0.000000</td>\n",
       "      <td>0.000000</td>\n",
       "      <td>0.000000</td>\n",
       "    </tr>\n",
       "    <tr>\n",
       "      <th>RECHARGE</th>\n",
       "      <td>0.000000</td>\n",
       "      <td>0.000000</td>\n",
       "      <td>0.000000</td>\n",
       "      <td>0.000000</td>\n",
       "    </tr>\n",
       "    <tr>\n",
       "      <th>RIVER LEAKAGE</th>\n",
       "      <td>0.000000</td>\n",
       "      <td>0.021017</td>\n",
       "      <td>0.000000</td>\n",
       "      <td>0.025893</td>\n",
       "    </tr>\n",
       "    <tr>\n",
       "      <th>TO ZONE 1</th>\n",
       "      <td>0.000000</td>\n",
       "      <td>0.000000</td>\n",
       "      <td>0.000637</td>\n",
       "      <td>0.000000</td>\n",
       "    </tr>\n",
       "    <tr>\n",
       "      <th>TO ZONE 2</th>\n",
       "      <td>0.013102</td>\n",
       "      <td>0.000000</td>\n",
       "      <td>0.000000</td>\n",
       "      <td>0.001146</td>\n",
       "    </tr>\n",
       "    <tr>\n",
       "      <th>TO ZONE 3</th>\n",
       "      <td>0.002835</td>\n",
       "      <td>0.000000</td>\n",
       "      <td>0.000000</td>\n",
       "      <td>0.000000</td>\n",
       "    </tr>\n",
       "    <tr>\n",
       "      <th>TO ZONE 4</th>\n",
       "      <td>0.000000</td>\n",
       "      <td>0.001226</td>\n",
       "      <td>0.013001</td>\n",
       "      <td>0.000000</td>\n",
       "    </tr>\n",
       "    <tr>\n",
       "      <th>WELLS</th>\n",
       "      <td>0.000000</td>\n",
       "      <td>0.016200</td>\n",
       "      <td>0.001550</td>\n",
       "      <td>0.004300</td>\n",
       "    </tr>\n",
       "  </tbody>\n",
       "</table>\n",
       "</div>"
      ],
      "text/plain": [
       "                          ZONE 1    ZONE 2    ZONE 3    ZONE 4\n",
       "flow_dir record                                               \n",
       "in       CONSTANT HEAD  0.000000  0.000000  0.000000  0.000000\n",
       "         FROM ZONE 1    0.000000  0.013102  0.002835  0.000000\n",
       "         FROM ZONE 2    0.000000  0.000000  0.000000  0.001226\n",
       "         FROM ZONE 3    0.000637  0.000000  0.000000  0.013001\n",
       "         FROM ZONE 4    0.000000  0.001146  0.000000  0.000000\n",
       "         RECHARGE       0.015300  0.020000  0.015900  0.018300\n",
       "         RIVER LEAKAGE  0.000000  0.004194  0.000000  0.000000\n",
       "         WELLS          0.000000  0.000000  0.000000  0.000000\n",
       "out      CONSTANT HEAD  0.000000  0.000000  0.000000  0.000000\n",
       "         RECHARGE       0.000000  0.000000  0.000000  0.000000\n",
       "         RIVER LEAKAGE  0.000000  0.021017  0.000000  0.025893\n",
       "         TO ZONE 1      0.000000  0.000000  0.000637  0.000000\n",
       "         TO ZONE 2      0.013102  0.000000  0.000000  0.001146\n",
       "         TO ZONE 3      0.002835  0.000000  0.000000  0.000000\n",
       "         TO ZONE 4      0.000000  0.001226  0.013001  0.000000\n",
       "         WELLS          0.000000  0.016200  0.001550  0.004300"
      ]
     },
     "execution_count": 14,
     "metadata": {},
     "output_type": "execute_result"
    }
   ],
   "source": [
    "# View the budget as a Pandas DataFrame\n",
    "import pandas as pd\n",
    "df = pd.DataFrame.from_records(bud.records)\n",
    "df = df.set_index(['flow_dir', 'record']).sort_index()  # sort multi-index so we can slice it later\n",
    "df"
   ]
  },
  {
   "cell_type": "code",
   "execution_count": 15,
   "metadata": {
    "collapsed": false,
    "scrolled": true
   },
   "outputs": [
    {
     "data": {
      "text/plain": [
       "flow_dir  record  \n",
       "in        RECHARGE    0.0342\n",
       "dtype: float32"
      ]
     },
     "execution_count": 15,
     "metadata": {},
     "output_type": "execute_result"
    }
   ],
   "source": [
    "# Look at recharge in zones 3 and 4\n",
    "df.loc[(['in'], ['RECHARGE']), ['ZONE 3', 'ZONE 4']].sum(axis=1)  # axis=1 to sum along rows"
   ]
  },
  {
   "cell_type": "code",
   "execution_count": 16,
   "metadata": {
    "collapsed": false
   },
   "outputs": [
    {
     "data": {
      "text/plain": [
       "0.015936719"
      ]
     },
     "execution_count": 16,
     "metadata": {},
     "output_type": "execute_result"
    }
   ],
   "source": [
    "# Look at all outflow from zone 1\n",
    "df.loc[(['out'], slice(None)), 'ZONE 1'].sum()"
   ]
  },
  {
   "cell_type": "code",
   "execution_count": 17,
   "metadata": {
    "collapsed": false
   },
   "outputs": [
    {
     "data": {
      "text/plain": [
       "flow_dir  record   \n",
       "out       TO ZONE 2    0.014248\n",
       "dtype: float32"
      ]
     },
     "execution_count": 17,
     "metadata": {},
     "output_type": "execute_result"
    }
   ],
   "source": [
    "# Look at flow to zone 2\n",
    "df.loc[(slice(None), ['TO ZONE 2']), :].sum(axis=1)  # axis=1 to sum along rows"
   ]
  },
  {
   "cell_type": "markdown",
   "metadata": {},
   "source": [
    "### Write ZoneBudget Output to CSV\n",
    "\n",
    "We can write the resulting recarray to a csv with the .to_csv() method of the ZoneBudget object."
   ]
  },
  {
   "cell_type": "code",
   "execution_count": 18,
   "metadata": {
    "collapsed": false
   },
   "outputs": [],
   "source": [
    "out_fname = os.path.join(zbudpath, 'zbud.csv')\n",
    "bud.to_csv(out_fname, write_format='pandas')"
   ]
  },
  {
   "cell_type": "code",
   "execution_count": 19,
   "metadata": {
    "collapsed": false
   },
   "outputs": [
    {
     "name": "stdout",
     "output_type": "stream",
     "text": [
      "flow_dir         record        ZONE 1        ZONE 2     ZONE 3    ZONE 4\n",
      "     in          WELLS  0.000000e+00  0.000000e+00   0.000000  0.000000\n",
      "     in  RIVER LEAKAGE  0.000000e+00  4.194190e-03   0.000000  0.000000\n",
      "     in       RECHARGE  1.530000e-02  2.000000e-02   0.015900  0.018300\n",
      "     in  CONSTANT HEAD  0.000000e+00  0.000000e+00   0.000000  0.000000\n",
      "     in    FROM ZONE 1  0.000000e+00  1.310187e-02   0.002835  0.000000\n",
      "     in    FROM ZONE 2  0.000000e+00  0.000000e+00   0.000000  0.001226\n",
      "     in    FROM ZONE 3  6.367170e-04  0.000000e+00   0.000000  0.013001\n",
      "     in    FROM ZONE 4  0.000000e+00  1.146164e-03   0.000000  0.000000\n",
      "              Total IN  1.593672e-02  3.844223e-02   0.018735  0.032526\n",
      "    out          WELLS  0.000000e+00  1.620000e-02   0.001550  0.004300\n",
      "    out  RIVER LEAKAGE  0.000000e+00  2.101684e-02   0.000000  0.025893\n",
      "    out       RECHARGE  0.000000e+00  0.000000e+00   0.000000  0.000000\n",
      "    out  CONSTANT HEAD  0.000000e+00  0.000000e+00   0.000000  0.000000\n",
      "    out      TO ZONE 1  0.000000e+00  0.000000e+00   0.000637  0.000000\n",
      "    out      TO ZONE 2  1.310187e-02  0.000000e+00   0.000000  0.001146\n",
      "    out      TO ZONE 3  2.834849e-03  0.000000e+00   0.000000  0.000000\n",
      "    out      TO ZONE 4  0.000000e+00  1.225714e-03   0.013001  0.000000\n",
      "             Total OUT  1.593672e-02  3.844256e-02   0.015187  0.031339\n",
      "                IN-OUT -1.862645e-09 -3.278255e-07   0.003548  0.001187\n",
      "         Percent Error -1.168776e-05 -8.527709e-04  20.915644  3.718594\n"
     ]
    }
   ],
   "source": [
    "# Read the file in to see the contents\n",
    "try:\n",
    "    import pandas as pd\n",
    "    df = pd.read_csv(out_fname)\n",
    "    df = df.fillna(0)\n",
    "    print(df.to_string(index=False))\n",
    "except:\n",
    "    with open(out_fname, 'r') as f:\n",
    "        for line in f.readlines():\n",
    "            print('\\t'.join(line.split(',')))"
   ]
  },
  {
   "cell_type": "markdown",
   "metadata": {
    "collapsed": true
   },
   "source": [
    "### Plot Cell by Cell Budgets\n",
    "Access and plot source/sink/storage budget terms."
   ]
  },
  {
   "cell_type": "code",
   "execution_count": 20,
   "metadata": {
    "collapsed": false
   },
   "outputs": [
    {
     "data": {
      "image/png": "[encoded data removed]",
      "text/plain": [
       "<matplotlib.figure.Figure at 0x72adc50>"
      ]
     },
     "metadata": {},
     "output_type": "display_data"
    }
   ],
   "source": [
    "import flopy\n",
    "\n",
    "nam_f = r'..\\data\\freyberg\\freyberg.nam'\n",
    "ml = flopy.modflow.Modflow.load(nam_f, check=False)\n",
    "\n",
    "names = zb.get_ssst_names()\n",
    "zbud_arrays = [zb.get_ssst_cbc_array(name, kstpkper=(0, 0)) for name in names]\n",
    "fig = plt.figure(figsize=(14, 6))\n",
    "\n",
    "for idx, name in enumerate(names):\n",
    "    zbud = zbud_arrays[idx][0, :, :]\n",
    "    ax = fig.add_subplot(1, len(names), idx+1, aspect='equal')\n",
    "    ax.set_title(name)\n",
    "    modelmap = flopy.plot.ModelMap(model=ml)\n",
    "    modelmap.plot_grid()\n",
    "    quadmesh = modelmap.plot_array(zbud)\n",
    "    cbar = fig.colorbar(quadmesh, shrink=.5)\n",
    "\n",
    "plt.tight_layout()\n",
    "plt.show()"
   ]
  },
  {
   "cell_type": "code",
   "execution_count": null,
   "metadata": {
    "collapsed": true
   },
   "outputs": [],
   "source": []
  }
 ],
 "metadata": {
  "kernelspec": {
   "display_name": "Python 2",
   "language": "python",
   "name": "python2"
  },
  "language_info": {
   "codemirror_mode": {
    "name": "ipython",
    "version": 2
   },
   "file_extension": ".py",
   "mimetype": "text/x-python",
   "name": "python",
   "nbconvert_exporter": "python",
   "pygments_lexer": "ipython2",
   "version": "2.7.11"
  }
 },
 "nbformat": 4,
 "nbformat_minor": 0
}
