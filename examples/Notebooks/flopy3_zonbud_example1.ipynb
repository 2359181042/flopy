{
 "cells": [
  {
   "cell_type": "markdown",
   "metadata": {},
   "source": [
    "# FloPy\n",
    "\n",
    "### Zonbud Example 1\n",
    "\n",
    "This notebook demonstrates how to use the functions included in the zonbud utility to extract budget information from the cell by cell budget file using an array of zones.\n",
    "\n",
    "First set the path and import the required packages. The flopy path doesn't have to be set if you install flopy from a binary installer. If you want to run this notebook, you have to set the path to your own flopy path."
   ]
  },
  {
   "cell_type": "code",
   "execution_count": 1,
   "metadata": {
    "collapsed": false
   },
   "outputs": [],
   "source": [
    "%matplotlib inline\n",
    "from __future__ import print_function\n",
    "import os\n",
    "import platform\n",
    "import numpy as np\n",
    "import pandas as pd\n",
    "import matplotlib.pyplot as plt\n",
    "from flopy.utils import ZoneBudget\n",
    "\n",
    "# Set path to example datafiles\n",
    "zbudpath = os.path.join('..', 'data', 'zonbud_examples')"
   ]
  },
  {
   "cell_type": "markdown",
   "metadata": {},
   "source": [
    "### Create a ZoneBudget Object and Make Some Zones\n",
    "\n",
    "We create a simple numpy integer-array to define some zones for which we are interested in getting cell-by-cell budget information."
   ]
  },
  {
   "cell_type": "code",
   "execution_count": 2,
   "metadata": {
    "collapsed": false
   },
   "outputs": [
    {
     "name": "stdout",
     "output_type": "stream",
     "text": [
      "[u'WELLS', u'RIVER LEAKAGE', u'RECHARGE']\n",
      "[(0, 0)]\n",
      "(1L, 40L, 20L)\n"
     ]
    }
   ],
   "source": [
    "# Create ZoneBudget object\n",
    "cbc_file = os.path.join(zbudpath, 'freyberg.gitcbc')\n",
    "zb = ZoneBudget(cbc_file)\n",
    "\n",
    "print(zb.ssst_record_names)\n",
    "print(zb.get_kstpkper())\n",
    "print(zb.get_model_shape())"
   ]
  },
  {
   "cell_type": "code",
   "execution_count": 3,
   "metadata": {
    "collapsed": false
   },
   "outputs": [
    {
     "name": "stdout",
     "output_type": "stream",
     "text": [
      "[1 2 3 4]\n"
     ]
    },
    {
     "data": {
      "image/png": "[encoded data removed]",
      "text/plain": [
       "<matplotlib.figure.Figure at 0x3afae10>"
      ]
     },
     "metadata": {},
     "output_type": "display_data"
    }
   ],
   "source": [
    "# Define some very interesting zones\n",
    "nlay, nrow, ncol = zb.get_model_shape()\n",
    "zon = np.zeros((nlay, nrow, ncol), np.int32)\n",
    "zon[0, :20, :10] = 1\n",
    "zon[0, :20, 10:] = 2\n",
    "zon[0, 20:, :10] = 3\n",
    "zon[0, 20:, 10:] = 4\n",
    "\n",
    "im = plt.imshow(zon[0, :, :], )\n",
    "cbar = plt.colorbar(im)\n",
    "print(np.unique(zon))"
   ]
  },
  {
   "cell_type": "markdown",
   "metadata": {},
   "source": [
    "### Extract Budget Information from ZoneBudget Object\n",
    "\n",
    "We use the `get_budget()` method of the ZoneBudget object to return a Budget object, which is a thin wrapper around a numpy record array."
   ]
  },
  {
   "cell_type": "code",
   "execution_count": 4,
   "metadata": {
    "collapsed": true
   },
   "outputs": [],
   "source": [
    "bud = zb.get_budget(zon, kstpkper=(0, 0))"
   ]
  },
  {
   "cell_type": "code",
   "execution_count": 5,
   "metadata": {
    "collapsed": false
   },
   "outputs": [
    {
     "name": "stdout",
     "output_type": "stream",
     "text": [
      "[('flow_dir', 'S3'), ('record', 'S20'), ('ZONE 1', '<f8'), ('ZONE 2', '<f8'), ('ZONE 3', '<f8'), ('ZONE 4', '<f8')]\n",
      "[('IN', 'CONSTANT HEAD', 0.0, 0.0, 0.0, 0.0)\n",
      " ('IN', 'WELLS', 0.0, 0.0, 0.0, 0.0)\n",
      " ('IN', 'RIVER LEAKAGE', 0.0, 0.004194190260022879, 0.0, 0.0)\n",
      " ('IN', 'RECHARGE', 0.015300000726711005, 0.020000000949949026, 0.015900000755209476, 0.01830000086920336)\n",
      " ('IN', 'FROM ZONE 1', 0.0, 0.013101870426908135, 0.0028348490013740957, 0.0)\n",
      " ('IN', 'FROM ZONE 2', 0.0, 0.0, 0.0, 0.001225714382599108)\n",
      " ('IN', 'FROM ZONE 3', 0.0006367169262375683, 0.0, 0.0, 0.013000612932955846)\n",
      " ('IN', 'FROM ZONE 4', 0.0, 0.001146163951489143, 0.0, 0.0)\n",
      " ('OUT', 'CONSTANT HEAD', 0.0, 0.0, 0.0035475197073537856, 0.0011877618562721182)\n",
      " ('OUT', 'WELLS', 0.0, 0.01619999995455146, 0.0015499999863095582, 0.00430000014603138)\n",
      " ('OUT', 'RIVER LEAKAGE', 0.0, 0.02101684292574646, 0.0, 0.025892717123497277)\n",
      " ('OUT', 'RECHARGE', 0.0, 0.0, 0.0, 0.0)\n",
      " ('OUT', 'TO ZONE 1', 0.0, 0.0, 0.0006367169262375683, 0.0)\n",
      " ('OUT', 'TO ZONE 2', 0.013101870426908135, 0.0, 0.0, 0.001146163951489143)\n",
      " ('OUT', 'TO ZONE 3', 0.0028348490013740957, 0.0, 0.0, 0.0)\n",
      " ('OUT', 'TO ZONE 4', 0.0, 0.001225714382599108, 0.013000612932955846, 0.0)]\n"
     ]
    }
   ],
   "source": [
    "# Get the budget record array\n",
    "records = bud.get_records()\n",
    "print(records.dtype)\n",
    "print(records)"
   ]
  },
  {
   "cell_type": "code",
   "execution_count": 6,
   "metadata": {
    "collapsed": false
   },
   "outputs": [
    {
     "name": "stdout",
     "output_type": "stream",
     "text": [
      "[('flow_dir', 'S3'), ('record', 'S20'), ('ZONE 1', '<f8'), ('ZONE 3', '<f8')]\n",
      "[[('IN', 'RECHARGE', 0.015300000726711005, 0.015900000755209476)]\n",
      " [('IN', 'FROM ZONE 1', 0.0, 0.0028348490013740957)]\n",
      " [('IN', 'FROM ZONE 3', 0.0006367169262375683, 0.0)]]\n"
     ]
    }
   ],
   "source": [
    "# Pass a list of (flow_dir, record name) tuples and/or zones to get a subset of the entire budget\n",
    "recordlist = [('IN', 'RECHARGE'), ('IN', 'FROM ZONE 1'), ('IN', 'FROM ZONE 3')]\n",
    "records = bud.get_records(recordlist=recordlist, zones=[1, 3])\n",
    "print(records.dtype)\n",
    "print(records)"
   ]
  },
  {
   "cell_type": "code",
   "execution_count": 7,
   "metadata": {
    "collapsed": false
   },
   "outputs": [
    {
     "data": {
      "text/html": [
       "<div>\n",
       "<table border=\"1\" class=\"dataframe\">\n",
       "  <thead>\n",
       "    <tr style=\"text-align: right;\">\n",
       "      <th></th>\n",
       "      <th></th>\n",
       "      <th>ZONE 1</th>\n",
       "      <th>ZONE 2</th>\n",
       "      <th>ZONE 3</th>\n",
       "      <th>ZONE 4</th>\n",
       "    </tr>\n",
       "    <tr>\n",
       "      <th>flow_dir</th>\n",
       "      <th>record</th>\n",
       "      <th></th>\n",
       "      <th></th>\n",
       "      <th></th>\n",
       "      <th></th>\n",
       "    </tr>\n",
       "  </thead>\n",
       "  <tbody>\n",
       "    <tr>\n",
       "      <th rowspan=\"8\" valign=\"top\">IN</th>\n",
       "      <th>CONSTANT HEAD</th>\n",
       "      <td>0.000000</td>\n",
       "      <td>0.000000</td>\n",
       "      <td>0.000000</td>\n",
       "      <td>0.000000</td>\n",
       "    </tr>\n",
       "    <tr>\n",
       "      <th>FROM ZONE 1</th>\n",
       "      <td>0.000000</td>\n",
       "      <td>0.013102</td>\n",
       "      <td>0.002835</td>\n",
       "      <td>0.000000</td>\n",
       "    </tr>\n",
       "    <tr>\n",
       "      <th>FROM ZONE 2</th>\n",
       "      <td>0.000000</td>\n",
       "      <td>0.000000</td>\n",
       "      <td>0.000000</td>\n",
       "      <td>0.001226</td>\n",
       "    </tr>\n",
       "    <tr>\n",
       "      <th>FROM ZONE 3</th>\n",
       "      <td>0.000637</td>\n",
       "      <td>0.000000</td>\n",
       "      <td>0.000000</td>\n",
       "      <td>0.013001</td>\n",
       "    </tr>\n",
       "    <tr>\n",
       "      <th>FROM ZONE 4</th>\n",
       "      <td>0.000000</td>\n",
       "      <td>0.001146</td>\n",
       "      <td>0.000000</td>\n",
       "      <td>0.000000</td>\n",
       "    </tr>\n",
       "    <tr>\n",
       "      <th>RECHARGE</th>\n",
       "      <td>0.015300</td>\n",
       "      <td>0.020000</td>\n",
       "      <td>0.015900</td>\n",
       "      <td>0.018300</td>\n",
       "    </tr>\n",
       "    <tr>\n",
       "      <th>RIVER LEAKAGE</th>\n",
       "      <td>0.000000</td>\n",
       "      <td>0.004194</td>\n",
       "      <td>0.000000</td>\n",
       "      <td>0.000000</td>\n",
       "    </tr>\n",
       "    <tr>\n",
       "      <th>WELLS</th>\n",
       "      <td>0.000000</td>\n",
       "      <td>0.000000</td>\n",
       "      <td>0.000000</td>\n",
       "      <td>0.000000</td>\n",
       "    </tr>\n",
       "    <tr>\n",
       "      <th rowspan=\"8\" valign=\"top\">OUT</th>\n",
       "      <th>CONSTANT HEAD</th>\n",
       "      <td>0.000000</td>\n",
       "      <td>0.000000</td>\n",
       "      <td>0.003548</td>\n",
       "      <td>0.001188</td>\n",
       "    </tr>\n",
       "    <tr>\n",
       "      <th>RECHARGE</th>\n",
       "      <td>0.000000</td>\n",
       "      <td>0.000000</td>\n",
       "      <td>0.000000</td>\n",
       "      <td>0.000000</td>\n",
       "    </tr>\n",
       "    <tr>\n",
       "      <th>RIVER LEAKAGE</th>\n",
       "      <td>0.000000</td>\n",
       "      <td>0.021017</td>\n",
       "      <td>0.000000</td>\n",
       "      <td>0.025893</td>\n",
       "    </tr>\n",
       "    <tr>\n",
       "      <th>TO ZONE 1</th>\n",
       "      <td>0.000000</td>\n",
       "      <td>0.000000</td>\n",
       "      <td>0.000637</td>\n",
       "      <td>0.000000</td>\n",
       "    </tr>\n",
       "    <tr>\n",
       "      <th>TO ZONE 2</th>\n",
       "      <td>0.013102</td>\n",
       "      <td>0.000000</td>\n",
       "      <td>0.000000</td>\n",
       "      <td>0.001146</td>\n",
       "    </tr>\n",
       "    <tr>\n",
       "      <th>TO ZONE 3</th>\n",
       "      <td>0.002835</td>\n",
       "      <td>0.000000</td>\n",
       "      <td>0.000000</td>\n",
       "      <td>0.000000</td>\n",
       "    </tr>\n",
       "    <tr>\n",
       "      <th>TO ZONE 4</th>\n",
       "      <td>0.000000</td>\n",
       "      <td>0.001226</td>\n",
       "      <td>0.013001</td>\n",
       "      <td>0.000000</td>\n",
       "    </tr>\n",
       "    <tr>\n",
       "      <th>WELLS</th>\n",
       "      <td>0.000000</td>\n",
       "      <td>0.016200</td>\n",
       "      <td>0.001550</td>\n",
       "      <td>0.004300</td>\n",
       "    </tr>\n",
       "  </tbody>\n",
       "</table>\n",
       "</div>"
      ],
      "text/plain": [
       "                          ZONE 1    ZONE 2    ZONE 3    ZONE 4\n",
       "flow_dir record                                               \n",
       "IN       CONSTANT HEAD  0.000000  0.000000  0.000000  0.000000\n",
       "         FROM ZONE 1    0.000000  0.013102  0.002835  0.000000\n",
       "         FROM ZONE 2    0.000000  0.000000  0.000000  0.001226\n",
       "         FROM ZONE 3    0.000637  0.000000  0.000000  0.013001\n",
       "         FROM ZONE 4    0.000000  0.001146  0.000000  0.000000\n",
       "         RECHARGE       0.015300  0.020000  0.015900  0.018300\n",
       "         RIVER LEAKAGE  0.000000  0.004194  0.000000  0.000000\n",
       "         WELLS          0.000000  0.000000  0.000000  0.000000\n",
       "OUT      CONSTANT HEAD  0.000000  0.000000  0.003548  0.001188\n",
       "         RECHARGE       0.000000  0.000000  0.000000  0.000000\n",
       "         RIVER LEAKAGE  0.000000  0.021017  0.000000  0.025893\n",
       "         TO ZONE 1      0.000000  0.000000  0.000637  0.000000\n",
       "         TO ZONE 2      0.013102  0.000000  0.000000  0.001146\n",
       "         TO ZONE 3      0.002835  0.000000  0.000000  0.000000\n",
       "         TO ZONE 4      0.000000  0.001226  0.013001  0.000000\n",
       "         WELLS          0.000000  0.016200  0.001550  0.004300"
      ]
     },
     "execution_count": 7,
     "metadata": {},
     "output_type": "execute_result"
    }
   ],
   "source": [
    "# View the budget as a Pandas DataFrame\n",
    "records = bud.get_records()\n",
    "df = pd.DataFrame(records)\n",
    "df = df.set_index(['flow_dir', 'record']).sort_index()  # sort multi-index so we can slice it later\n",
    "df"
   ]
  },
  {
   "cell_type": "code",
   "execution_count": 8,
   "metadata": {
    "collapsed": false,
    "scrolled": true
   },
   "outputs": [
    {
     "data": {
      "text/plain": [
       "flow_dir  record  \n",
       "IN        RECHARGE    0.0342\n",
       "dtype: float64"
      ]
     },
     "execution_count": 8,
     "metadata": {},
     "output_type": "execute_result"
    }
   ],
   "source": [
    "# Look at recharge in zones 3 and 4\n",
    "df.loc[(['IN'], ['RECHARGE']), ['ZONE 3', 'ZONE 4']].sum(axis=1)  # axis=1 to sum along rows"
   ]
  },
  {
   "cell_type": "code",
   "execution_count": 9,
   "metadata": {
    "collapsed": false
   },
   "outputs": [
    {
     "data": {
      "text/plain": [
       "0.015936719428282231"
      ]
     },
     "execution_count": 9,
     "metadata": {},
     "output_type": "execute_result"
    }
   ],
   "source": [
    "# Look at all outflow from zone 1\n",
    "df.loc[(['OUT'], slice(None)), 'ZONE 1'].sum()"
   ]
  },
  {
   "cell_type": "code",
   "execution_count": 10,
   "metadata": {
    "collapsed": false
   },
   "outputs": [
    {
     "data": {
      "text/plain": [
       "flow_dir  record   \n",
       "OUT       TO ZONE 2    0.014248\n",
       "dtype: float64"
      ]
     },
     "execution_count": 10,
     "metadata": {},
     "output_type": "execute_result"
    }
   ],
   "source": [
    "# Look at flow to zone 2\n",
    "df.loc[(slice(None), ['TO ZONE 2']), :].sum(axis=1)  # axis=1 to sum along rows"
   ]
  },
  {
   "cell_type": "markdown",
   "metadata": {},
   "source": [
    "We can use the Budget object to look at the mass-balance:"
   ]
  },
  {
   "cell_type": "code",
   "execution_count": 11,
   "metadata": {
    "collapsed": false
   },
   "outputs": [
    {
     "name": "stdout",
     "output_type": "stream",
     "text": [
      "[ ('INFLOW', 0.015936717652948573, 0.03844222558836918, 0.01873484975658357, 0.03252632818475831)\n",
      " ('OUTFLOW', 0.01593671942828223, 0.038442557262897026, 0.018734849552856758, 0.03252664307728992)\n",
      " ('ERROR', -1.1139894661101299e-05, -0.0008627832856969281, 1.0874216604444852e-06, -0.0009681111423396122)]\n",
      "[('INFLOW', 0.015936717652948573, 0.01873484975658357)\n",
      " ('OUTFLOW', 0.01593671942828223, 0.018734849552856758)\n",
      " ('ERROR', -1.1139894661101299e-05, 1.0874216604444852e-06)]\n"
     ]
    }
   ],
   "source": [
    "# Look at all of the mass-balance records\n",
    "print(bud.get_mass_balance())\n",
    "\n",
    "# Look at the mass-balance for just zones 1 and 3\n",
    "print(bud.get_mass_balance(zones=[1, 3]))"
   ]
  },
  {
   "cell_type": "code",
   "execution_count": 12,
   "metadata": {
    "collapsed": false
   },
   "outputs": [
    {
     "name": "stdout",
     "output_type": "stream",
     "text": [
      "[ -1.11398947e-05  -8.62783286e-04   1.08742166e-06  -9.68111142e-04]\n",
      "[ 0.01593672  0.01873485]\n"
     ]
    }
   ],
   "source": [
    "# Look at just the percent error record\n",
    "print(bud.get_percent_error())\n",
    "\n",
    "# Look at the total inflow for zones 1 and 3\n",
    "print(bud.get_total_inflow(zones=[1, 3]))"
   ]
  },
  {
   "cell_type": "code",
   "execution_count": 13,
   "metadata": {
    "collapsed": false
   },
   "outputs": [
    {
     "data": {
      "text/html": [
       "<div>\n",
       "<table border=\"1\" class=\"dataframe\">\n",
       "  <thead>\n",
       "    <tr style=\"text-align: right;\">\n",
       "      <th></th>\n",
       "      <th>ZONE 1</th>\n",
       "      <th>ZONE 2</th>\n",
       "      <th>ZONE 3</th>\n",
       "      <th>ZONE 4</th>\n",
       "    </tr>\n",
       "    <tr>\n",
       "      <th>record</th>\n",
       "      <th></th>\n",
       "      <th></th>\n",
       "      <th></th>\n",
       "      <th></th>\n",
       "    </tr>\n",
       "  </thead>\n",
       "  <tbody>\n",
       "    <tr>\n",
       "      <th>INFLOW</th>\n",
       "      <td>0.015937</td>\n",
       "      <td>0.038442</td>\n",
       "      <td>0.018735</td>\n",
       "      <td>0.032526</td>\n",
       "    </tr>\n",
       "    <tr>\n",
       "      <th>OUTFLOW</th>\n",
       "      <td>0.015937</td>\n",
       "      <td>0.038443</td>\n",
       "      <td>0.018735</td>\n",
       "      <td>0.032527</td>\n",
       "    </tr>\n",
       "    <tr>\n",
       "      <th>ERROR</th>\n",
       "      <td>-0.000011</td>\n",
       "      <td>-0.000863</td>\n",
       "      <td>0.000001</td>\n",
       "      <td>-0.000968</td>\n",
       "    </tr>\n",
       "  </tbody>\n",
       "</table>\n",
       "</div>"
      ],
      "text/plain": [
       "           ZONE 1    ZONE 2    ZONE 3    ZONE 4\n",
       "record                                         \n",
       "INFLOW   0.015937  0.038442  0.018735  0.032526\n",
       "OUTFLOW  0.015937  0.038443  0.018735  0.032527\n",
       "ERROR   -0.000011 -0.000863  0.000001 -0.000968"
      ]
     },
     "execution_count": 13,
     "metadata": {},
     "output_type": "execute_result"
    }
   ],
   "source": [
    "# View the mass-balance as a Pandas DataFrame\n",
    "mb = bud.get_mass_balance()\n",
    "mb = pd.DataFrame(mb).set_index(['record'])\n",
    "mb"
   ]
  },
  {
   "cell_type": "code",
   "execution_count": 14,
   "metadata": {
    "collapsed": false
   },
   "outputs": [
    {
     "data": {
      "text/plain": [
       "ZONE 1    0.015937\n",
       "ZONE 3    0.018735\n",
       "Name: INFLOW, dtype: float64"
      ]
     },
     "execution_count": 14,
     "metadata": {},
     "output_type": "execute_result"
    }
   ],
   "source": [
    "mb.loc['INFLOW'][['ZONE 1', 'ZONE 3']]"
   ]
  },
  {
   "cell_type": "markdown",
   "metadata": {},
   "source": [
    "### Write Budget Output to CSV\n",
    "\n",
    "We can write the resulting recarray to a csv with the .to_csv() method of the Budget object."
   ]
  },
  {
   "cell_type": "code",
   "execution_count": 15,
   "metadata": {
    "collapsed": false
   },
   "outputs": [],
   "source": [
    "bud.to_csv(os.path.join(zbudpath, 'zbud.csv'), write_format='zonbud')\n",
    "bud.to_csv(os.path.join(zbudpath, 'zbud_pandas.csv'), write_format='pandas')"
   ]
  },
  {
   "cell_type": "code",
   "execution_count": 16,
   "metadata": {
    "collapsed": false
   },
   "outputs": [
    {
     "name": "stdout",
     "output_type": "stream",
     "text": [
      "flow_dir         record        ZONE 1        ZONE 2        ZONE 3        ZONE 4\n",
      "     IN  CONSTANT HEAD  0.000000e+00  0.000000e+00  0.000000e+00  0.000000e+00\n",
      "     IN          WELLS  0.000000e+00  0.000000e+00  0.000000e+00  0.000000e+00\n",
      "     IN  RIVER LEAKAGE  0.000000e+00  4.194190e-03  0.000000e+00  0.000000e+00\n",
      "     IN       RECHARGE  1.530000e-02  2.000000e-02  1.590000e-02  1.830000e-02\n",
      "     IN    FROM ZONE 1  0.000000e+00  1.310187e-02  2.834849e-03  0.000000e+00\n",
      "     IN    FROM ZONE 2  0.000000e+00  0.000000e+00  0.000000e+00  1.225714e-03\n",
      "     IN    FROM ZONE 3  6.367169e-04  0.000000e+00  0.000000e+00  1.300061e-02\n",
      "     IN    FROM ZONE 4  0.000000e+00  1.146164e-03  0.000000e+00  0.000000e+00\n",
      "              Total IN  1.593672e-02  3.844223e-02  1.873485e-02  3.252633e-02\n",
      "    OUT  CONSTANT HEAD  0.000000e+00  0.000000e+00  3.547520e-03  1.187762e-03\n",
      "    OUT          WELLS  0.000000e+00  1.620000e-02  1.550000e-03  4.300000e-03\n",
      "    OUT  RIVER LEAKAGE  0.000000e+00  2.101684e-02  0.000000e+00  2.589272e-02\n",
      "    OUT       RECHARGE  0.000000e+00  0.000000e+00  0.000000e+00  0.000000e+00\n",
      "    OUT      TO ZONE 1  0.000000e+00  0.000000e+00  6.367169e-04  0.000000e+00\n",
      "    OUT      TO ZONE 2  1.310187e-02  0.000000e+00  0.000000e+00  1.146164e-03\n",
      "    OUT      TO ZONE 3  2.834849e-03  0.000000e+00  0.000000e+00  0.000000e+00\n",
      "    OUT      TO ZONE 4  0.000000e+00  1.225714e-03  1.300061e-02  0.000000e+00\n",
      "             Total OUT  1.593672e-02  3.844256e-02  1.873485e-02  3.252664e-02\n",
      "                IN-OUT -1.775334e-09 -3.316745e-07  2.037268e-10 -3.148925e-07\n",
      "         Percent Error -1.113989e-05 -8.627833e-04  1.087422e-06 -9.681111e-04\n"
     ]
    }
   ],
   "source": [
    "# Read the file in to see the contents\n",
    "try:\n",
    "    import pandas as pd\n",
    "    df = pd.read_csv(os.path.join(zbudpath, 'zbud_pandas.csv'))\n",
    "    df = df.fillna(0)\n",
    "    print(df.to_string(index=False))\n",
    "except:\n",
    "    with open(out_fname, 'r') as f:\n",
    "        for line in f.readlines():\n",
    "            print('\\t'.join(line.split(',')))"
   ]
  },
  {
   "cell_type": "code",
   "execution_count": null,
   "metadata": {
    "collapsed": true
   },
   "outputs": [],
   "source": []
  }
 ],
 "metadata": {
  "kernelspec": {
   "display_name": "Python 2",
   "language": "python",
   "name": "python2"
  },
  "language_info": {
   "codemirror_mode": {
    "name": "ipython",
    "version": 2
   },
   "file_extension": ".py",
   "mimetype": "text/x-python",
   "name": "python",
   "nbconvert_exporter": "python",
   "pygments_lexer": "ipython2",
   "version": "2.7.11"
  }
 },
 "nbformat": 4,
 "nbformat_minor": 0
}
