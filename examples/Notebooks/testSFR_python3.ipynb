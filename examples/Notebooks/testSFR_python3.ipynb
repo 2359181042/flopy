{
 "cells": [
  {
   "cell_type": "code",
   "execution_count": 1,
   "metadata": {
    "collapsed": false
   },
   "outputs": [],
   "source": [
    "import sys\n",
    "import os\n",
    "import flopy.utils.binaryfile as bf\n",
    "import flopy"
   ]
  },
  {
   "cell_type": "code",
   "execution_count": 2,
   "metadata": {
    "collapsed": false
   },
   "outputs": [],
   "source": [
    "m = flopy.modflow.Modflow()"
   ]
  },
  {
   "cell_type": "code",
   "execution_count": 3,
   "metadata": {
    "collapsed": false
   },
   "outputs": [
    {
     "ename": "IOError",
     "evalue": "[Errno 2] No such file or directory: '../data/example_sfr/testsfr2_tab_ICALC2.sfr'",
     "output_type": "error",
     "traceback": [
      "\u001b[0;31m---------------------------------------------------------------------------\u001b[0m",
      "\u001b[0;31mIOError\u001b[0m                                   Traceback (most recent call last)",
      "\u001b[0;32m<ipython-input-3-4587cb11e93a>\u001b[0m in \u001b[0;36m<module>\u001b[0;34m()\u001b[0m\n\u001b[1;32m      1\u001b[0m \u001b[0mf\u001b[0m \u001b[0;34m=\u001b[0m \u001b[0mos\u001b[0m\u001b[0;34m.\u001b[0m\u001b[0mpath\u001b[0m\u001b[0;34m.\u001b[0m\u001b[0mjoin\u001b[0m\u001b[0;34m(\u001b[0m\u001b[0;34m'..'\u001b[0m\u001b[0;34m,\u001b[0m \u001b[0;34m'data'\u001b[0m\u001b[0;34m,\u001b[0m \u001b[0;34m'example_sfr'\u001b[0m\u001b[0;34m,\u001b[0m \u001b[0;34m'testsfr2_tab_ICALC2.sfr'\u001b[0m\u001b[0;34m)\u001b[0m\u001b[0;34m\u001b[0m\u001b[0m\n\u001b[0;32m----> 2\u001b[0;31m \u001b[0mstuff\u001b[0m \u001b[0;34m=\u001b[0m \u001b[0mopen\u001b[0m\u001b[0;34m(\u001b[0m\u001b[0mf\u001b[0m\u001b[0;34m)\u001b[0m\u001b[0;34m.\u001b[0m\u001b[0mreadlines\u001b[0m\u001b[0;34m(\u001b[0m\u001b[0;34m)\u001b[0m\u001b[0;34m\u001b[0m\u001b[0m\n\u001b[0m\u001b[1;32m      3\u001b[0m \u001b[0mstuff\u001b[0m\u001b[0;34m\u001b[0m\u001b[0m\n",
      "\u001b[0;31mIOError\u001b[0m: [Errno 2] No such file or directory: '../data/example_sfr/testsfr2_tab_ICALC2.sfr'"
     ]
    }
   ],
   "source": [
    "f = os.path.join('..', 'data', 'example_sfr', 'testsfr2_tab_ICALC2.sfr')\n",
    "stuff = open(f).readlines()\n",
    "stuff"
   ]
  },
  {
   "cell_type": "code",
   "execution_count": 4,
   "metadata": {
    "collapsed": false
   },
   "outputs": [],
   "source": [
    "sfr = flopy.modflow.ModflowSfr2.load(f, m, nper=50)"
   ]
  },
  {
   "cell_type": "code",
   "execution_count": 5,
   "metadata": {
    "collapsed": false
   },
   "outputs": [
    {
     "data": {
      "text/plain": [
       "[0]"
      ]
     },
     "execution_count": 5,
     "metadata": {},
     "output_type": "execute_result"
    }
   ],
   "source": [
    "sfr.segment_data.keys()"
   ]
  },
  {
   "cell_type": "code",
   "execution_count": 6,
   "metadata": {
    "collapsed": false
   },
   "outputs": [
    {
     "data": {
      "text/plain": [
       "rec.array([(0, 3, 0, 1, 1, 200.0), (0, 3, 1, 1, 2, 200.0),\n",
       "       (0, 3, 2, 1, 3, 200.0), (0, 3, 3, 1, 4, 200.0),\n",
       "       (0, 3, 4, 1, 5, 200.0), (0, 3, 5, 1, 6, 200.0),\n",
       "       (0, 3, 6, 1, 7, 200.0), (0, 3, 7, 1, 8, 200.0),\n",
       "       (0, 3, 8, 1, 9, 200.0), (0, 3, 9, 1, 10, 200.0),\n",
       "       (0, 3, 10, 1, 11, 200.0), (0, 3, 11, 1, 12, 200.0),\n",
       "       (0, 3, 12, 1, 13, 200.0), (0, 3, 13, 1, 14, 200.0),\n",
       "       (0, 3, 14, 1, 15, 200.0), (0, 3, 15, 1, 16, 200.0),\n",
       "       (0, 3, 16, 1, 17, 200.0), (0, 3, 17, 1, 18, 200.0),\n",
       "       (0, 3, 18, 1, 19, 200.0), (0, 3, 19, 1, 20, 200.0),\n",
       "       (0, 3, 20, 1, 21, 200.0), (0, 3, 21, 1, 22, 200.0),\n",
       "       (0, 3, 22, 1, 23, 200.0), (0, 3, 23, 1, 24, 200.0),\n",
       "       (0, 3, 24, 1, 25, 200.0), (0, 3, 25, 1, 26, 200.0),\n",
       "       (0, 3, 26, 1, 27, 200.0), (0, 3, 27, 1, 28, 200.0),\n",
       "       (0, 3, 28, 1, 29, 200.0), (0, 3, 29, 1, 30, 200.0),\n",
       "       (0, 3, 30, 1, 31, 200.0), (0, 3, 31, 1, 32, 200.0),\n",
       "       (0, 3, 32, 1, 33, 200.0), (0, 3, 33, 1, 34, 200.0),\n",
       "       (0, 3, 34, 1, 35, 200.0), (0, 3, 35, 1, 36, 200.0),\n",
       "       (0, 3, 36, 1, 37, 200.0), (0, 3, 37, 1, 38, 200.0),\n",
       "       (0, 3, 38, 1, 39, 200.0), (0, 3, 39, 1, 40, 200.0),\n",
       "       (0, 3, 40, 1, 41, 200.0), (0, 3, 41, 1, 42, 200.0),\n",
       "       (0, 3, 42, 1, 43, 200.0), (0, 3, 43, 1, 44, 200.0),\n",
       "       (0, 3, 44, 1, 45, 200.0), (0, 3, 45, 1, 46, 200.0),\n",
       "       (0, 3, 46, 1, 47, 200.0), (0, 3, 47, 1, 48, 200.0),\n",
       "       (0, 3, 48, 1, 49, 200.0), (0, 3, 49, 1, 50, 200.0),\n",
       "       (0, 3, 50, 1, 51, 200.0), (0, 3, 51, 1, 52, 200.0),\n",
       "       (0, 3, 52, 1, 53, 200.0), (0, 3, 53, 1, 54, 200.0),\n",
       "       (0, 3, 54, 1, 55, 200.0), (0, 3, 55, 1, 56, 200.0),\n",
       "       (0, 3, 56, 1, 57, 200.0), (0, 3, 57, 1, 58, 200.0),\n",
       "       (0, 3, 58, 1, 59, 200.0), (0, 3, 59, 1, 60, 200.0),\n",
       "       (0, 3, 60, 1, 61, 200.0), (0, 3, 61, 1, 62, 200.0),\n",
       "       (0, 3, 62, 1, 63, 200.0), (0, 3, 63, 1, 64, 200.0),\n",
       "       (0, 3, 64, 1, 65, 200.0), (0, 3, 65, 1, 66, 200.0),\n",
       "       (0, 3, 66, 1, 67, 200.0), (0, 3, 67, 1, 68, 200.0),\n",
       "       (0, 3, 68, 1, 69, 200.0), (0, 3, 69, 1, 70, 200.0),\n",
       "       (0, 3, 70, 1, 71, 200.0), (0, 3, 71, 1, 72, 200.0),\n",
       "       (0, 3, 72, 1, 73, 200.0), (0, 3, 73, 1, 74, 200.0),\n",
       "       (0, 3, 74, 1, 75, 200.0), (0, 3, 75, 1, 76, 200.0),\n",
       "       (0, 3, 76, 1, 77, 200.0), (0, 3, 77, 1, 78, 200.0),\n",
       "       (0, 3, 78, 1, 79, 200.0), (0, 3, 79, 1, 80, 200.0),\n",
       "       (0, 3, 80, 1, 81, 200.0), (0, 3, 81, 1, 82, 200.0),\n",
       "       (0, 3, 82, 1, 83, 200.0), (0, 3, 83, 1, 84, 200.0),\n",
       "       (0, 3, 84, 1, 85, 200.0), (0, 3, 85, 1, 86, 200.0),\n",
       "       (0, 3, 86, 1, 87, 200.0), (0, 3, 87, 1, 88, 200.0),\n",
       "       (0, 3, 88, 1, 89, 200.0), (0, 3, 89, 1, 90, 200.0),\n",
       "       (0, 3, 90, 1, 91, 200.0), (0, 3, 91, 1, 92, 200.0),\n",
       "       (0, 3, 92, 1, 93, 200.0), (0, 3, 93, 1, 94, 200.0),\n",
       "       (0, 3, 94, 1, 95, 200.0), (0, 3, 95, 1, 96, 200.0),\n",
       "       (0, 3, 96, 1, 97, 200.0), (0, 3, 97, 1, 98, 200.0),\n",
       "       (0, 3, 98, 1, 99, 200.0), (0, 3, 99, 1, 100, 200.0)], \n",
       "      dtype=[('krch', '<i8'), ('irch', '<i8'), ('jrch', '<i8'), ('iseg', '<i8'), ('ireach', '<i8'), ('rchlen', '<f4')])"
      ]
     },
     "execution_count": 6,
     "metadata": {},
     "output_type": "execute_result"
    }
   ],
   "source": [
    "sfr.reach_data"
   ]
  },
  {
   "cell_type": "code",
   "execution_count": 7,
   "metadata": {
    "collapsed": false
   },
   "outputs": [
    {
     "data": {
      "text/plain": [
       "{}"
      ]
     },
     "execution_count": 7,
     "metadata": {},
     "output_type": "execute_result"
    }
   ],
   "source": [
    "sfr.channel_flow_data"
   ]
  },
  {
   "cell_type": "code",
   "execution_count": 8,
   "metadata": {
    "collapsed": false
   },
   "outputs": [
    {
     "data": {
      "text/plain": [
       "{0: {0: [[0.0, 2.0, 4.0, 6.0, 8.0, 10.0, 12.0, 14.0],\n",
       "   [6.0, 4.5, 3.5, 0.0, 0.3, 3.5, 4.5, 6.0]]}}"
      ]
     },
     "execution_count": 8,
     "metadata": {},
     "output_type": "execute_result"
    }
   ],
   "source": [
    "sfr.channel_geometry_data"
   ]
  },
  {
   "cell_type": "code",
   "execution_count": 9,
   "metadata": {
    "collapsed": false
   },
   "outputs": [
    {
     "data": {
      "text/plain": [
       "{0: [1, 0, 0, 0],\n",
       " 1: [-1, 0, 0, 0],\n",
       " 2: [-1, 0, 0, 0],\n",
       " 3: [-1, 0, 0, 0],\n",
       " 4: [-1, 0, 0, 0],\n",
       " 5: [-1, 0, 0, 0],\n",
       " 6: [-1, 0, 0, 0],\n",
       " 7: [-1, 0, 0, 0],\n",
       " 8: [-1, 0, 0, 0],\n",
       " 9: [-1, 0, 0, 0],\n",
       " 10: [-1, 0, 0, 0],\n",
       " 11: [-1, 0, 0, 0],\n",
       " 12: [-1, 0, 0, 0],\n",
       " 13: [-1, 0, 0, 0],\n",
       " 14: [-1, 0, 0, 0],\n",
       " 15: [-1, 0, 0, 0],\n",
       " 16: [-1, 0, 0, 0],\n",
       " 17: [-1, 0, 0, 0],\n",
       " 18: [-1, 0, 0, 0],\n",
       " 19: [-1, 0, 0, 0],\n",
       " 20: [-1, 0, 0, 0],\n",
       " 21: [-1, 0, 0, 0],\n",
       " 22: [-1, 0, 0, 0],\n",
       " 23: [-1, 0, 0, 0],\n",
       " 24: [-1, 0, 0, 0],\n",
       " 25: [-1, 0, 0, 0],\n",
       " 26: [-1, 0, 0, 0],\n",
       " 27: [-1, 0, 0, 0],\n",
       " 28: [-1, 0, 0, 0],\n",
       " 29: [-1, 0, 0, 0],\n",
       " 30: [-1, 0, 0, 0],\n",
       " 31: [-1, 0, 0, 0],\n",
       " 32: [-1, 0, 0, 0],\n",
       " 33: [-1, 0, 0, 0],\n",
       " 34: [-1, 0, 0, 0],\n",
       " 35: [-1, 0, 0, 0],\n",
       " 36: [-1, 0, 0, 0],\n",
       " 37: [-1, 0, 0, 0],\n",
       " 38: [-1, 0, 0, 0],\n",
       " 39: [-1, 0, 0, 0],\n",
       " 40: [-1, 0, 0, 0],\n",
       " 41: [-1, 0, 0, 0],\n",
       " 42: [-1, 0, 0, 0],\n",
       " 43: [-1, 0, 0, 0],\n",
       " 44: [-1, 0, 0, 0],\n",
       " 45: [-1, 0, 0, 0],\n",
       " 46: [-1, 0, 0, 0],\n",
       " 47: [-1, 0, 0, 0],\n",
       " 48: [-1, 0, 0, 0],\n",
       " 49: [-1, 0, 0, 0]}"
      ]
     },
     "execution_count": 9,
     "metadata": {},
     "output_type": "execute_result"
    }
   ],
   "source": [
    "sfr.dataset_5"
   ]
  },
  {
   "cell_type": "code",
   "execution_count": 10,
   "metadata": {
    "collapsed": false
   },
   "outputs": [
    {
     "data": {
      "text/plain": [
       "{1: {'inuit': 55, 'numval': 50}}"
      ]
     },
     "execution_count": 10,
     "metadata": {},
     "output_type": "execute_result"
    }
   ],
   "source": [
    "sfr.tabfiles_dict"
   ]
  },
  {
   "cell_type": "code",
   "execution_count": 11,
   "metadata": {
    "collapsed": false
   },
   "outputs": [
    {
     "data": {
      "text/plain": [
       "'TABFILES'"
      ]
     },
     "execution_count": 11,
     "metadata": {},
     "output_type": "execute_result"
    }
   ],
   "source": [
    "sfr.tabfiles"
   ]
  },
  {
   "cell_type": "code",
   "execution_count": null,
   "metadata": {
    "collapsed": true
   },
   "outputs": [],
   "source": []
  }
 ],
 "metadata": {
  "kernelspec": {
   "display_name": "Python 2",
   "language": "python",
   "name": "python2"
  },
  "language_info": {
   "codemirror_mode": {
    "name": "ipython",
    "version": 2
   },
   "file_extension": ".py",
   "mimetype": "text/x-python",
   "name": "python",
   "nbconvert_exporter": "python",
   "pygments_lexer": "ipython2",
   "version": "2.7.10"
  }
 },
 "nbformat": 4,
 "nbformat_minor": 0
}
