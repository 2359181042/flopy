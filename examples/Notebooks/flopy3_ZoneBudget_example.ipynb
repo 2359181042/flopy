{
 "cells": [
  {
   "cell_type": "markdown",
   "metadata": {},
   "source": [
    "# FloPy\n",
    "\n",
    "### Zonbud Example 1\n",
    "\n",
    "This notebook demonstrates how to use the functions included in the zonbud utility to extract budget information from the cell by cell budget file using an array of zones.\n",
    "\n",
    "First set the path and import the required packages. The flopy path doesn't have to be set if you install flopy from a binary installer. If you want to run this notebook, you have to set the path to your own flopy path."
   ]
  },
  {
   "cell_type": "code",
   "execution_count": 1,
   "metadata": {
    "collapsed": false
   },
   "outputs": [],
   "source": [
    "%matplotlib inline\n",
    "from __future__ import print_function\n",
    "import os\n",
    "import platform\n",
    "import numpy as np\n",
    "import pandas as pd\n",
    "import matplotlib.pyplot as plt\n",
    "from flopy.utils import ZoneBudget, CellBudgetFile\n",
    "\n",
    "# Set path to example datafiles\n",
    "zbudpath = os.path.join('..', 'data', 'zonbud_examples')\n",
    "\n",
    "# Create CellBudgetFile object\n",
    "cbc_file = os.path.join(zbudpath, 'freyberg.gitcbc')\n",
    "cbc_obj = CellBudgetFile(cbc_file)\n",
    "\n",
    "nlay, nrow, ncol = cbc_obj.nlay, cbc_obj.nrow, cbc_obj.ncol"
   ]
  },
  {
   "cell_type": "markdown",
   "metadata": {},
   "source": [
    "### Make Some Zones\n",
    "\n",
    "We create a simple numpy integer-array to define some zones for which we are interested in getting cell-by-cell budget information."
   ]
  },
  {
   "cell_type": "code",
   "execution_count": 2,
   "metadata": {
    "collapsed": false
   },
   "outputs": [
    {
     "data": {
      "text/plain": [
       "array([1, 2, 3, 4])"
      ]
     },
     "execution_count": 2,
     "metadata": {},
     "output_type": "execute_result"
    },
    {
     "data": {
      "image/png": "[encoded data removed]",
      "text/plain": [
       "<matplotlib.figure.Figure at 0x9217898>"
      ]
     },
     "metadata": {},
     "output_type": "display_data"
    }
   ],
   "source": [
    "# Define some very interesting zones\n",
    "zon = np.zeros((nlay, nrow, ncol), np.int32)\n",
    "zon[0, :20, :10] = 1\n",
    "zon[0, :20, 10:] = 2\n",
    "zon[0, 20:, :10] = 3\n",
    "zon[0, 20:, 10:] = 4\n",
    "\n",
    "im = plt.imshow(zon[0, :, :], )\n",
    "cbar = plt.colorbar(im)\n",
    "np.unique(zon)"
   ]
  },
  {
   "cell_type": "markdown",
   "metadata": {},
   "source": [
    "### Extract Budget Information from ZoneBudget Object\n",
    "\n",
    "At the core of the ZoneBudget object is a numpy structured array (aka recarray). The ZoneBudget class provides some wrapper functions to help us interogate the array and save it to disk."
   ]
  },
  {
   "cell_type": "code",
   "execution_count": 3,
   "metadata": {
    "collapsed": false
   },
   "outputs": [
    {
     "data": {
      "text/plain": [
       "array([('IN', 'CONSTANT_HEAD_IN', 0.0, 0.0, 0.0, 0.0),\n",
       "       ('IN', 'WELLS_IN', 0.0, 0.0, 0.0, 0.0),\n",
       "       ('IN', 'RIVER_LEAKAGE_IN', 0.0, 0.004194190260022879, 0.0, 0.0),\n",
       "       ('IN', 'RECHARGE_IN', 0.015300000726711005, 0.020000000949949026, 0.015900000755209476, 0.01830000086920336),\n",
       "       ('IN', 'ZONE_1_IN', 0.0, 0.013101870194077492, 0.0028348490595817566, 0.0),\n",
       "       ('IN', 'ZONE_2_IN', 0.0, 0.0, 0.0, 0.0012257143389433622),\n",
       "       ('IN', 'ZONE_3_IN', 0.0006367169553413987, 0.0, 0.0, 0.013000613078474998),\n",
       "       ('IN', 'ZONE_4_IN', 0.0, 0.0011461640242487192, 0.0, 0.0),\n",
       "       ('OUT', 'CONSTANT_HEAD_OUT', 0.0, 0.0, 0.003547519678249955, 0.0011877617798745632),\n",
       "       ('OUT', 'WELLS_OUT', 0.0, 0.01619999995455146, 0.0015499999863095582, 0.00430000014603138),\n",
       "       ('OUT', 'RIVER_LEAKAGE_OUT', 0.0, 0.02101684292574646, 0.0, 0.025892717123497277),\n",
       "       ('OUT', 'RECHARGE_OUT', 0.0, 0.0, 0.0, 0.0),\n",
       "       ('OUT', 'ZONE_1_OUT', 0.0, 0.0, 0.0006367169553413987, 0.0),\n",
       "       ('OUT', 'ZONE_2_OUT', 0.013101870194077492, 0.0, 0.0, 0.0011461640242487192),\n",
       "       ('OUT', 'ZONE_3_OUT', 0.0028348490595817566, 0.0, 0.0, 0.0),\n",
       "       ('OUT', 'ZONE_4_OUT', 0.0, 0.0012257143389433622, 0.013000613078474998, 0.0)], \n",
       "      dtype=[('flow_dir', 'S3'), ('record', 'S50'), ('ZONE_1', '<f8'), ('ZONE_2', '<f8'), ('ZONE_3', '<f8'), ('ZONE_4', '<f8')])"
      ]
     },
     "execution_count": 3,
     "metadata": {},
     "output_type": "execute_result"
    }
   ],
   "source": [
    "# Create a ZoneBudget object and get the budget record array\n",
    "bud = ZoneBudget(cbc_obj, zon, kstpkper=(0, 0))\n",
    "bud.get_records()"
   ]
  },
  {
   "cell_type": "code",
   "execution_count": 4,
   "metadata": {
    "collapsed": false
   },
   "outputs": [
    {
     "data": {
      "text/plain": [
       "array([('IN', 'RECHARGE_IN', 0.015300000726711005, 0.015900000755209476)], \n",
       "      dtype=[('flow_dir', 'S3'), ('record', 'S50'), ('ZONE_1', '<f8'), ('ZONE_3', '<f8')])"
      ]
     },
     "execution_count": 4,
     "metadata": {},
     "output_type": "execute_result"
    }
   ],
   "source": [
    "# Pass a list of (flow_dir, record name) tuples and/or zones to get a subset of the entire budget\n",
    "recordlist = ['RECHARGE_IN', 'FROM_ZONE_1_IN', 'FROM_ZONE_3_IN']\n",
    "zonelist = [1, 3]\n",
    "bud.get_records(recordlist=recordlist, zones=zonelist)"
   ]
  },
  {
   "cell_type": "code",
   "execution_count": 5,
   "metadata": {
    "collapsed": false
   },
   "outputs": [
    {
     "data": {
      "text/plain": [
       "array([ ('TOTAL_IN', 0.015936717682052404, 0.038442225428298116, 0.018734849814791232, 0.03252632828662172),\n",
       "       ('TOTAL_OUT', 0.01593671925365925, 0.03844255721924128, 0.01873484969837591, 0.03252664307365194),\n",
       "       ('IN-OUT', -1.57160684466362e-09, -3.317909431643784e-07, 1.1641532182693481e-10, -3.1478703022003174e-07),\n",
       "       ('PERCENT_DISCREPANCY', -9.861546138457127e-06, -0.00086308611857667, 6.213838025897463e-07, -0.0009677867855618503)], \n",
       "      dtype=[('record', 'S50'), ('ZONE_1', '<f8'), ('ZONE_2', '<f8'), ('ZONE_3', '<f8'), ('ZONE_4', '<f8')])"
      ]
     },
     "execution_count": 5,
     "metadata": {},
     "output_type": "execute_result"
    }
   ],
   "source": [
    "# Look at all of the mass-balance records\n",
    "bud.get_mass_balance()"
   ]
  },
  {
   "cell_type": "code",
   "execution_count": 6,
   "metadata": {
    "collapsed": false
   },
   "outputs": [
    {
     "data": {
      "text/plain": [
       "array([('TOTAL_IN', 0.015936717682052404, 0.018734849814791232),\n",
       "       ('TOTAL_OUT', 0.01593671925365925, 0.01873484969837591),\n",
       "       ('IN-OUT', -1.57160684466362e-09, 1.1641532182693481e-10),\n",
       "       ('PERCENT_DISCREPANCY', -9.861546138457127e-06, 6.213838025897463e-07)], \n",
       "      dtype=[('record', 'S50'), ('ZONE_1', '<f8'), ('ZONE_3', '<f8')])"
      ]
     },
     "execution_count": 6,
     "metadata": {},
     "output_type": "execute_result"
    }
   ],
   "source": [
    "# Look at the mass-balance for just zones 1 and 3\n",
    "bud.get_mass_balance(zones=[1, 3])"
   ]
  },
  {
   "cell_type": "code",
   "execution_count": 7,
   "metadata": {
    "collapsed": false
   },
   "outputs": [
    {
     "data": {
      "text/plain": [
       "array([ -9.86154614e-06,  -8.63086119e-04,   6.21383803e-07,\n",
       "        -9.67786786e-04])"
      ]
     },
     "execution_count": 7,
     "metadata": {},
     "output_type": "execute_result"
    }
   ],
   "source": [
    "# Look at just the percent error record\n",
    "bud.get_percent_error()"
   ]
  },
  {
   "cell_type": "code",
   "execution_count": 8,
   "metadata": {
    "collapsed": false
   },
   "outputs": [
    {
     "data": {
      "text/plain": [
       "array([ 0.01593672,  0.01873485])"
      ]
     },
     "execution_count": 8,
     "metadata": {},
     "output_type": "execute_result"
    }
   ],
   "source": [
    "# Look at the total inflow for zones 1 and 3\n",
    "bud.get_total_inflow(zones=[1, 3])"
   ]
  },
  {
   "cell_type": "markdown",
   "metadata": {},
   "source": [
    "### Easily Convert Units\n",
    "The ZoneBudget class provides methods for using mathematical operators and returns a new copy of the object."
   ]
  },
  {
   "cell_type": "code",
   "execution_count": 9,
   "metadata": {
    "collapsed": false
   },
   "outputs": [
    {
     "name": "stdout",
     "output_type": "stream",
     "text": [
      "cubic feet/day 0.000636716955341\n",
      "million gallons/day 4.76297391877e-09\n"
     ]
    }
   ],
   "source": [
    "cfd = ZoneBudget(cbc_obj, zon, kstpkper=(0, 0))\n",
    "print('cubic feet/day', cfd.recordarray[6]['ZONE_1'])\n",
    "\n",
    "mgd = cfd*(7.48052/1000000)\n",
    "print('million gallons/day', mgd.recordarray[6]['ZONE_1'])"
   ]
  },
  {
   "cell_type": "markdown",
   "metadata": {},
   "source": [
    "### Alias Names\n",
    "A dictionary of {zone: alias} pairs can be passed to replace the typical `ZONE X` fieldnames of the ZoneBudget structured array."
   ]
  },
  {
   "cell_type": "code",
   "execution_count": 10,
   "metadata": {
    "collapsed": false
   },
   "outputs": [
    {
     "data": {
      "text/plain": [
       "array([('IN', 'CONSTANT_HEAD_IN', 0.0, 0.0, 0.0, 0.0),\n",
       "       ('IN', 'WELLS_IN', 0.0, 0.0, 0.0, 0.0),\n",
       "       ('IN', 'RIVER_LEAKAGE_IN', 0.0, 0.004194190260022879, 0.0, 0.0),\n",
       "       ('IN', 'RECHARGE_IN', 0.015300000726711005, 0.020000000949949026, 0.015900000755209476, 0.01830000086920336),\n",
       "       ('IN', 'Surficial_aquifer_IN', 0.0, 0.013101870194077492, 0.0028348490595817566, 0.0),\n",
       "       ('IN', 'Confining_Unit_IN', 0.0, 0.0, 0.0, 0.0012257143389433622),\n",
       "       ('IN', 'Upper_Floridan_aquifer_IN', 0.0006367169553413987, 0.0, 0.0, 0.013000613078474998),\n",
       "       ('IN', 'Offshore_GHB_IN', 0.0, 0.0011461640242487192, 0.0, 0.0),\n",
       "       ('OUT', 'CONSTANT_HEAD_OUT', 0.0, 0.0, 0.003547519678249955, 0.0011877617798745632),\n",
       "       ('OUT', 'WELLS_OUT', 0.0, 0.01619999995455146, 0.0015499999863095582, 0.00430000014603138),\n",
       "       ('OUT', 'RIVER_LEAKAGE_OUT', 0.0, 0.02101684292574646, 0.0, 0.025892717123497277),\n",
       "       ('OUT', 'RECHARGE_OUT', 0.0, 0.0, 0.0, 0.0),\n",
       "       ('OUT', 'Surficial_aquifer_OUT', 0.0, 0.0, 0.0006367169553413987, 0.0),\n",
       "       ('OUT', 'Confining_Unit_OUT', 0.013101870194077492, 0.0, 0.0, 0.0011461640242487192),\n",
       "       ('OUT', 'Upper_Floridan_aquifer_OUT', 0.0028348490595817566, 0.0, 0.0, 0.0),\n",
       "       ('OUT', 'Offshore_GHB_OUT', 0.0, 0.0012257143389433622, 0.013000613078474998, 0.0)], \n",
       "      dtype=[('flow_dir', 'S3'), ('record', 'S50'), ('Surficial_aquifer', '<f8'), ('Confining_Unit', '<f8'), ('Upper_Floridan_aquifer', '<f8'), ('Offshore_GHB', '<f8')])"
      ]
     },
     "execution_count": 10,
     "metadata": {},
     "output_type": "execute_result"
    }
   ],
   "source": [
    "aliases = {1: 'Surficial aquifer', 2:'Confining Unit', 3: 'Upper Floridan aquifer', 4: 'Offshore GHB'}\n",
    "cfd = ZoneBudget(cbc_obj, zon, kstpkper=(0, 0), aliases=aliases)\n",
    "cfd.get_records()"
   ]
  },
  {
   "cell_type": "code",
   "execution_count": 11,
   "metadata": {
    "collapsed": false
   },
   "outputs": [
    {
     "data": {
      "text/html": [
       "<div>\n",
       "<table border=\"1\" class=\"dataframe\">\n",
       "  <thead>\n",
       "    <tr style=\"text-align: right;\">\n",
       "      <th></th>\n",
       "      <th></th>\n",
       "      <th>SURF</th>\n",
       "      <th>UCU</th>\n",
       "      <th>UFA</th>\n",
       "      <th>Offshore_GHB</th>\n",
       "    </tr>\n",
       "    <tr>\n",
       "      <th>flow_dir</th>\n",
       "      <th>record</th>\n",
       "      <th></th>\n",
       "      <th></th>\n",
       "      <th></th>\n",
       "      <th></th>\n",
       "    </tr>\n",
       "  </thead>\n",
       "  <tbody>\n",
       "    <tr>\n",
       "      <th rowspan=\"8\" valign=\"top\">IN</th>\n",
       "      <th>CONSTANT_HEAD_IN</th>\n",
       "      <td>0.000000e+00</td>\n",
       "      <td>0.000000e+00</td>\n",
       "      <td>0.000000e+00</td>\n",
       "      <td>0.000000e+00</td>\n",
       "    </tr>\n",
       "    <tr>\n",
       "      <th>Offshore_GHB_IN</th>\n",
       "      <td>0.000000e+00</td>\n",
       "      <td>8.574224e-09</td>\n",
       "      <td>0.000000e+00</td>\n",
       "      <td>0.000000e+00</td>\n",
       "    </tr>\n",
       "    <tr>\n",
       "      <th>RECHARGE_IN</th>\n",
       "      <td>1.144562e-07</td>\n",
       "      <td>1.496160e-07</td>\n",
       "      <td>1.189447e-07</td>\n",
       "      <td>1.368986e-07</td>\n",
       "    </tr>\n",
       "    <tr>\n",
       "      <th>RIVER_LEAKAGE_IN</th>\n",
       "      <td>0.000000e+00</td>\n",
       "      <td>3.137590e-08</td>\n",
       "      <td>0.000000e+00</td>\n",
       "      <td>0.000000e+00</td>\n",
       "    </tr>\n",
       "    <tr>\n",
       "      <th>SURF_IN</th>\n",
       "      <td>0.000000e+00</td>\n",
       "      <td>9.801247e-08</td>\n",
       "      <td>2.120694e-08</td>\n",
       "      <td>0.000000e+00</td>\n",
       "    </tr>\n",
       "    <tr>\n",
       "      <th>UCU_IN</th>\n",
       "      <td>0.000000e+00</td>\n",
       "      <td>0.000000e+00</td>\n",
       "      <td>0.000000e+00</td>\n",
       "      <td>9.169324e-09</td>\n",
       "    </tr>\n",
       "    <tr>\n",
       "      <th>UFA_IN</th>\n",
       "      <td>4.763152e-09</td>\n",
       "      <td>0.000000e+00</td>\n",
       "      <td>0.000000e+00</td>\n",
       "      <td>9.725499e-08</td>\n",
       "    </tr>\n",
       "    <tr>\n",
       "      <th>WELLS_IN</th>\n",
       "      <td>0.000000e+00</td>\n",
       "      <td>0.000000e+00</td>\n",
       "      <td>0.000000e+00</td>\n",
       "      <td>0.000000e+00</td>\n",
       "    </tr>\n",
       "    <tr>\n",
       "      <th rowspan=\"8\" valign=\"top\">OUT</th>\n",
       "      <th>CONSTANT_HEAD_OUT</th>\n",
       "      <td>0.000000e+00</td>\n",
       "      <td>0.000000e+00</td>\n",
       "      <td>2.653829e-08</td>\n",
       "      <td>8.885408e-09</td>\n",
       "    </tr>\n",
       "    <tr>\n",
       "      <th>Offshore_GHB_OUT</th>\n",
       "      <td>0.000000e+00</td>\n",
       "      <td>9.169324e-09</td>\n",
       "      <td>9.725499e-08</td>\n",
       "      <td>0.000000e+00</td>\n",
       "    </tr>\n",
       "    <tr>\n",
       "      <th>RECHARGE_OUT</th>\n",
       "      <td>0.000000e+00</td>\n",
       "      <td>0.000000e+00</td>\n",
       "      <td>0.000000e+00</td>\n",
       "      <td>0.000000e+00</td>\n",
       "    </tr>\n",
       "    <tr>\n",
       "      <th>RIVER_LEAKAGE_OUT</th>\n",
       "      <td>0.000000e+00</td>\n",
       "      <td>1.572228e-07</td>\n",
       "      <td>0.000000e+00</td>\n",
       "      <td>1.936982e-07</td>\n",
       "    </tr>\n",
       "    <tr>\n",
       "      <th>SURF_OUT</th>\n",
       "      <td>0.000000e+00</td>\n",
       "      <td>0.000000e+00</td>\n",
       "      <td>4.763152e-09</td>\n",
       "      <td>0.000000e+00</td>\n",
       "    </tr>\n",
       "    <tr>\n",
       "      <th>UCU_OUT</th>\n",
       "      <td>9.801247e-08</td>\n",
       "      <td>0.000000e+00</td>\n",
       "      <td>0.000000e+00</td>\n",
       "      <td>8.574224e-09</td>\n",
       "    </tr>\n",
       "    <tr>\n",
       "      <th>UFA_OUT</th>\n",
       "      <td>2.120694e-08</td>\n",
       "      <td>0.000000e+00</td>\n",
       "      <td>0.000000e+00</td>\n",
       "      <td>0.000000e+00</td>\n",
       "    </tr>\n",
       "    <tr>\n",
       "      <th>WELLS_OUT</th>\n",
       "      <td>0.000000e+00</td>\n",
       "      <td>1.211890e-07</td>\n",
       "      <td>1.159524e-08</td>\n",
       "      <td>3.216744e-08</td>\n",
       "    </tr>\n",
       "  </tbody>\n",
       "</table>\n",
       "</div>"
      ],
      "text/plain": [
       "                                    SURF           UCU           UFA  \\\n",
       "flow_dir record                                                        \n",
       "IN       CONSTANT_HEAD_IN   0.000000e+00  0.000000e+00  0.000000e+00   \n",
       "         Offshore_GHB_IN    0.000000e+00  8.574224e-09  0.000000e+00   \n",
       "         RECHARGE_IN        1.144562e-07  1.496160e-07  1.189447e-07   \n",
       "         RIVER_LEAKAGE_IN   0.000000e+00  3.137590e-08  0.000000e+00   \n",
       "         SURF_IN            0.000000e+00  9.801247e-08  2.120694e-08   \n",
       "         UCU_IN             0.000000e+00  0.000000e+00  0.000000e+00   \n",
       "         UFA_IN             4.763152e-09  0.000000e+00  0.000000e+00   \n",
       "         WELLS_IN           0.000000e+00  0.000000e+00  0.000000e+00   \n",
       "OUT      CONSTANT_HEAD_OUT  0.000000e+00  0.000000e+00  2.653829e-08   \n",
       "         Offshore_GHB_OUT   0.000000e+00  9.169324e-09  9.725499e-08   \n",
       "         RECHARGE_OUT       0.000000e+00  0.000000e+00  0.000000e+00   \n",
       "         RIVER_LEAKAGE_OUT  0.000000e+00  1.572228e-07  0.000000e+00   \n",
       "         SURF_OUT           0.000000e+00  0.000000e+00  4.763152e-09   \n",
       "         UCU_OUT            9.801247e-08  0.000000e+00  0.000000e+00   \n",
       "         UFA_OUT            2.120694e-08  0.000000e+00  0.000000e+00   \n",
       "         WELLS_OUT          0.000000e+00  1.211890e-07  1.159524e-08   \n",
       "\n",
       "                            Offshore_GHB  \n",
       "flow_dir record                           \n",
       "IN       CONSTANT_HEAD_IN   0.000000e+00  \n",
       "         Offshore_GHB_IN    0.000000e+00  \n",
       "         RECHARGE_IN        1.368986e-07  \n",
       "         RIVER_LEAKAGE_IN   0.000000e+00  \n",
       "         SURF_IN            0.000000e+00  \n",
       "         UCU_IN             9.169324e-09  \n",
       "         UFA_IN             9.725499e-08  \n",
       "         WELLS_IN           0.000000e+00  \n",
       "OUT      CONSTANT_HEAD_OUT  8.885408e-09  \n",
       "         Offshore_GHB_OUT   0.000000e+00  \n",
       "         RECHARGE_OUT       0.000000e+00  \n",
       "         RIVER_LEAKAGE_OUT  1.936982e-07  \n",
       "         SURF_OUT           0.000000e+00  \n",
       "         UCU_OUT            8.574224e-09  \n",
       "         UFA_OUT            0.000000e+00  \n",
       "         WELLS_OUT          3.216744e-08  "
      ]
     },
     "execution_count": 11,
     "metadata": {},
     "output_type": "execute_result"
    }
   ],
   "source": [
    "# View the budget as a Pandas DataFrame\n",
    "aliases = {1: 'SURF', 2:'UCU', 3: 'UFA', 4: 'Offshore GHB'}\n",
    "mgd = ZoneBudget(cbc_obj, zon, kstpkper=(0, 0), aliases=aliases)*(7.4808/1000000)\n",
    "df = pd.DataFrame(mgd.get_records())\n",
    "df = df.set_index(['flow_dir', 'record']).sort_index()  # sort multi-index so we can slice it later\n",
    "df"
   ]
  },
  {
   "cell_type": "code",
   "execution_count": 12,
   "metadata": {
    "collapsed": false,
    "scrolled": true
   },
   "outputs": [
    {
     "ename": "KeyError",
     "evalue": "\"None of [['Surficial', 'Upper Floridan']] are in the [columns]\"",
     "output_type": "error",
     "traceback": [
      "\u001b[0;31m\u001b[0m",
      "\u001b[0;31mKeyError\u001b[0mTraceback (most recent call last)",
      "\u001b[0;32m<ipython-input-12-266630d9b68e>\u001b[0m in \u001b[0;36m<module>\u001b[0;34m()\u001b[0m\n\u001b[1;32m      1\u001b[0m \u001b[1;31m# Look at recharge to the surficial and Upper Floridan aquifers\u001b[0m\u001b[1;33m\u001b[0m\u001b[1;33m\u001b[0m\u001b[0m\n\u001b[0;32m----> 2\u001b[0;31m \u001b[0mdf\u001b[0m\u001b[1;33m.\u001b[0m\u001b[0mloc\u001b[0m\u001b[1;33m[\u001b[0m\u001b[1;33m(\u001b[0m\u001b[1;33m[\u001b[0m\u001b[1;34m'IN'\u001b[0m\u001b[1;33m]\u001b[0m\u001b[1;33m,\u001b[0m \u001b[1;33m[\u001b[0m\u001b[1;34m'RECHARGE_IN'\u001b[0m\u001b[1;33m]\u001b[0m\u001b[1;33m)\u001b[0m\u001b[1;33m,\u001b[0m \u001b[1;33m[\u001b[0m\u001b[1;34m'Surficial'\u001b[0m\u001b[1;33m,\u001b[0m \u001b[1;34m'Upper Floridan'\u001b[0m\u001b[1;33m]\u001b[0m\u001b[1;33m]\u001b[0m\u001b[1;33m.\u001b[0m\u001b[0msum\u001b[0m\u001b[1;33m(\u001b[0m\u001b[0maxis\u001b[0m\u001b[1;33m=\u001b[0m\u001b[1;36m1\u001b[0m\u001b[1;33m)\u001b[0m  \u001b[1;31m# axis=1 to sum along rows\u001b[0m\u001b[1;33m\u001b[0m\u001b[0m\n\u001b[0m",
      "\u001b[0;32mC:\\Anaconda\\lib\\site-packages\\pandas\\core\\indexing.pyc\u001b[0m in \u001b[0;36m__getitem__\u001b[0;34m(self, key)\u001b[0m\n\u001b[1;32m   1292\u001b[0m \u001b[1;33m\u001b[0m\u001b[0m\n\u001b[1;32m   1293\u001b[0m         \u001b[1;32mif\u001b[0m \u001b[0mtype\u001b[0m\u001b[1;33m(\u001b[0m\u001b[0mkey\u001b[0m\u001b[1;33m)\u001b[0m \u001b[1;32mis\u001b[0m \u001b[0mtuple\u001b[0m\u001b[1;33m:\u001b[0m\u001b[1;33m\u001b[0m\u001b[0m\n\u001b[0;32m-> 1294\u001b[0;31m             \u001b[1;32mreturn\u001b[0m \u001b[0mself\u001b[0m\u001b[1;33m.\u001b[0m\u001b[0m_getitem_tuple\u001b[0m\u001b[1;33m(\u001b[0m\u001b[0mkey\u001b[0m\u001b[1;33m)\u001b[0m\u001b[1;33m\u001b[0m\u001b[0m\n\u001b[0m\u001b[1;32m   1295\u001b[0m         \u001b[1;32melse\u001b[0m\u001b[1;33m:\u001b[0m\u001b[1;33m\u001b[0m\u001b[0m\n\u001b[1;32m   1296\u001b[0m             \u001b[1;32mreturn\u001b[0m \u001b[0mself\u001b[0m\u001b[1;33m.\u001b[0m\u001b[0m_getitem_axis\u001b[0m\u001b[1;33m(\u001b[0m\u001b[0mkey\u001b[0m\u001b[1;33m,\u001b[0m \u001b[0maxis\u001b[0m\u001b[1;33m=\u001b[0m\u001b[1;36m0\u001b[0m\u001b[1;33m)\u001b[0m\u001b[1;33m\u001b[0m\u001b[0m\n",
      "\u001b[0;32mC:\\Anaconda\\lib\\site-packages\\pandas\\core\\indexing.pyc\u001b[0m in \u001b[0;36m_getitem_tuple\u001b[0;34m(self, tup)\u001b[0m\n\u001b[1;32m    782\u001b[0m     \u001b[1;32mdef\u001b[0m \u001b[0m_getitem_tuple\u001b[0m\u001b[1;33m(\u001b[0m\u001b[0mself\u001b[0m\u001b[1;33m,\u001b[0m \u001b[0mtup\u001b[0m\u001b[1;33m)\u001b[0m\u001b[1;33m:\u001b[0m\u001b[1;33m\u001b[0m\u001b[0m\n\u001b[1;32m    783\u001b[0m         \u001b[1;32mtry\u001b[0m\u001b[1;33m:\u001b[0m\u001b[1;33m\u001b[0m\u001b[0m\n\u001b[0;32m--> 784\u001b[0;31m             \u001b[1;32mreturn\u001b[0m \u001b[0mself\u001b[0m\u001b[1;33m.\u001b[0m\u001b[0m_getitem_lowerdim\u001b[0m\u001b[1;33m(\u001b[0m\u001b[0mtup\u001b[0m\u001b[1;33m)\u001b[0m\u001b[1;33m\u001b[0m\u001b[0m\n\u001b[0m\u001b[1;32m    785\u001b[0m         \u001b[1;32mexcept\u001b[0m \u001b[0mIndexingError\u001b[0m\u001b[1;33m:\u001b[0m\u001b[1;33m\u001b[0m\u001b[0m\n\u001b[1;32m    786\u001b[0m             \u001b[1;32mpass\u001b[0m\u001b[1;33m\u001b[0m\u001b[0m\n",
      "\u001b[0;32mC:\\Anaconda\\lib\\site-packages\\pandas\\core\\indexing.pyc\u001b[0m in \u001b[0;36m_getitem_lowerdim\u001b[0;34m(self, tup)\u001b[0m\n\u001b[1;32m    889\u001b[0m         \u001b[1;31m# we may have a nested tuples indexer here\u001b[0m\u001b[1;33m\u001b[0m\u001b[1;33m\u001b[0m\u001b[0m\n\u001b[1;32m    890\u001b[0m         \u001b[1;32mif\u001b[0m \u001b[0mself\u001b[0m\u001b[1;33m.\u001b[0m\u001b[0m_is_nested_tuple_indexer\u001b[0m\u001b[1;33m(\u001b[0m\u001b[0mtup\u001b[0m\u001b[1;33m)\u001b[0m\u001b[1;33m:\u001b[0m\u001b[1;33m\u001b[0m\u001b[0m\n\u001b[0;32m--> 891\u001b[0;31m             \u001b[1;32mreturn\u001b[0m \u001b[0mself\u001b[0m\u001b[1;33m.\u001b[0m\u001b[0m_getitem_nested_tuple\u001b[0m\u001b[1;33m(\u001b[0m\u001b[0mtup\u001b[0m\u001b[1;33m)\u001b[0m\u001b[1;33m\u001b[0m\u001b[0m\n\u001b[0m\u001b[1;32m    892\u001b[0m \u001b[1;33m\u001b[0m\u001b[0m\n\u001b[1;32m    893\u001b[0m         \u001b[1;31m# we maybe be using a tuple to represent multiple dimensions here\u001b[0m\u001b[1;33m\u001b[0m\u001b[1;33m\u001b[0m\u001b[0m\n",
      "\u001b[0;32mC:\\Anaconda\\lib\\site-packages\\pandas\\core\\indexing.pyc\u001b[0m in \u001b[0;36m_getitem_nested_tuple\u001b[0;34m(self, tup)\u001b[0m\n\u001b[1;32m    962\u001b[0m \u001b[1;33m\u001b[0m\u001b[0m\n\u001b[1;32m    963\u001b[0m             \u001b[0mcurrent_ndim\u001b[0m \u001b[1;33m=\u001b[0m \u001b[0mobj\u001b[0m\u001b[1;33m.\u001b[0m\u001b[0mndim\u001b[0m\u001b[1;33m\u001b[0m\u001b[0m\n\u001b[0;32m--> 964\u001b[0;31m             \u001b[0mobj\u001b[0m \u001b[1;33m=\u001b[0m \u001b[0mgetattr\u001b[0m\u001b[1;33m(\u001b[0m\u001b[0mobj\u001b[0m\u001b[1;33m,\u001b[0m \u001b[0mself\u001b[0m\u001b[1;33m.\u001b[0m\u001b[0mname\u001b[0m\u001b[1;33m)\u001b[0m\u001b[1;33m.\u001b[0m\u001b[0m_getitem_axis\u001b[0m\u001b[1;33m(\u001b[0m\u001b[0mkey\u001b[0m\u001b[1;33m,\u001b[0m \u001b[0maxis\u001b[0m\u001b[1;33m=\u001b[0m\u001b[0maxis\u001b[0m\u001b[1;33m)\u001b[0m\u001b[1;33m\u001b[0m\u001b[0m\n\u001b[0m\u001b[1;32m    965\u001b[0m             \u001b[0maxis\u001b[0m \u001b[1;33m+=\u001b[0m \u001b[1;36m1\u001b[0m\u001b[1;33m\u001b[0m\u001b[0m\n\u001b[1;32m    966\u001b[0m \u001b[1;33m\u001b[0m\u001b[0m\n",
      "\u001b[0;32mC:\\Anaconda\\lib\\site-packages\\pandas\\core\\indexing.pyc\u001b[0m in \u001b[0;36m_getitem_axis\u001b[0;34m(self, key, axis)\u001b[0m\n\u001b[1;32m   1454\u001b[0m                     \u001b[1;32mraise\u001b[0m \u001b[0mValueError\u001b[0m\u001b[1;33m(\u001b[0m\u001b[1;34m'Cannot index with multidimensional key'\u001b[0m\u001b[1;33m)\u001b[0m\u001b[1;33m\u001b[0m\u001b[0m\n\u001b[1;32m   1455\u001b[0m \u001b[1;33m\u001b[0m\u001b[0m\n\u001b[0;32m-> 1456\u001b[0;31m                 \u001b[1;32mreturn\u001b[0m \u001b[0mself\u001b[0m\u001b[1;33m.\u001b[0m\u001b[0m_getitem_iterable\u001b[0m\u001b[1;33m(\u001b[0m\u001b[0mkey\u001b[0m\u001b[1;33m,\u001b[0m \u001b[0maxis\u001b[0m\u001b[1;33m=\u001b[0m\u001b[0maxis\u001b[0m\u001b[1;33m)\u001b[0m\u001b[1;33m\u001b[0m\u001b[0m\n\u001b[0m\u001b[1;32m   1457\u001b[0m \u001b[1;33m\u001b[0m\u001b[0m\n\u001b[1;32m   1458\u001b[0m             \u001b[1;31m# nested tuple slicing\u001b[0m\u001b[1;33m\u001b[0m\u001b[1;33m\u001b[0m\u001b[0m\n",
      "\u001b[0;32mC:\\Anaconda\\lib\\site-packages\\pandas\\core\\indexing.pyc\u001b[0m in \u001b[0;36m_getitem_iterable\u001b[0;34m(self, key, axis)\u001b[0m\n\u001b[1;32m   1020\u001b[0m     \u001b[1;32mdef\u001b[0m \u001b[0m_getitem_iterable\u001b[0m\u001b[1;33m(\u001b[0m\u001b[0mself\u001b[0m\u001b[1;33m,\u001b[0m \u001b[0mkey\u001b[0m\u001b[1;33m,\u001b[0m \u001b[0maxis\u001b[0m\u001b[1;33m=\u001b[0m\u001b[1;36m0\u001b[0m\u001b[1;33m)\u001b[0m\u001b[1;33m:\u001b[0m\u001b[1;33m\u001b[0m\u001b[0m\n\u001b[1;32m   1021\u001b[0m         \u001b[1;32mif\u001b[0m \u001b[0mself\u001b[0m\u001b[1;33m.\u001b[0m\u001b[0m_should_validate_iterable\u001b[0m\u001b[1;33m(\u001b[0m\u001b[0maxis\u001b[0m\u001b[1;33m)\u001b[0m\u001b[1;33m:\u001b[0m\u001b[1;33m\u001b[0m\u001b[0m\n\u001b[0;32m-> 1022\u001b[0;31m             \u001b[0mself\u001b[0m\u001b[1;33m.\u001b[0m\u001b[0m_has_valid_type\u001b[0m\u001b[1;33m(\u001b[0m\u001b[0mkey\u001b[0m\u001b[1;33m,\u001b[0m \u001b[0maxis\u001b[0m\u001b[1;33m)\u001b[0m\u001b[1;33m\u001b[0m\u001b[0m\n\u001b[0m\u001b[1;32m   1023\u001b[0m \u001b[1;33m\u001b[0m\u001b[0m\n\u001b[1;32m   1024\u001b[0m         \u001b[0mlabels\u001b[0m \u001b[1;33m=\u001b[0m \u001b[0mself\u001b[0m\u001b[1;33m.\u001b[0m\u001b[0mobj\u001b[0m\u001b[1;33m.\u001b[0m\u001b[0m_get_axis\u001b[0m\u001b[1;33m(\u001b[0m\u001b[0maxis\u001b[0m\u001b[1;33m)\u001b[0m\u001b[1;33m\u001b[0m\u001b[0m\n",
      "\u001b[0;32mC:\\Anaconda\\lib\\site-packages\\pandas\\core\\indexing.pyc\u001b[0m in \u001b[0;36m_has_valid_type\u001b[0;34m(self, key, axis)\u001b[0m\n\u001b[1;32m   1377\u001b[0m \u001b[1;33m\u001b[0m\u001b[0m\n\u001b[1;32m   1378\u001b[0m                 raise KeyError(\"None of [%s] are in the [%s]\" %\n\u001b[0;32m-> 1379\u001b[0;31m                                (key, self.obj._get_axis_name(axis)))\n\u001b[0m\u001b[1;32m   1380\u001b[0m \u001b[1;33m\u001b[0m\u001b[0m\n\u001b[1;32m   1381\u001b[0m             \u001b[1;32mreturn\u001b[0m \u001b[0mTrue\u001b[0m\u001b[1;33m\u001b[0m\u001b[0m\n",
      "\u001b[0;31mKeyError\u001b[0m: \"None of [['Surficial', 'Upper Floridan']] are in the [columns]\""
     ]
    }
   ],
   "source": [
    "# Look at recharge to the surficial and Upper Floridan aquifers\n",
    "df.loc[(['IN'], ['RECHARGE_IN']), ['Surficial', 'Upper Floridan']].sum(axis=1)  # axis=1 to sum along rows"
   ]
  },
  {
   "cell_type": "code",
   "execution_count": null,
   "metadata": {
    "collapsed": false
   },
   "outputs": [],
   "source": [
    "# Look at all outflow to offshore general head boundaries\n",
    "df.loc[(['OUT'], slice(None)), 'Offshore GHB'].sum()"
   ]
  },
  {
   "cell_type": "markdown",
   "metadata": {},
   "source": [
    "### Write Budget Output to CSV\n",
    "\n",
    "We can write the resulting recarray to a csv with the .to_csv() method of the Budget object."
   ]
  },
  {
   "cell_type": "code",
   "execution_count": null,
   "metadata": {
    "collapsed": false
   },
   "outputs": [],
   "source": [
    "cfd = ZoneBudget(cbc_obj, zon, kstpkper=(0, 0), aliases=aliases)\n",
    "cfd.to_csv(os.path.join(zbudpath, 'zbud_zonbud.csv'), write_format='zonbud')\n",
    "cfd.to_csv(os.path.join(zbudpath, 'zbud_pandas.csv'), write_format='pandas')\n",
    "\n",
    "# Read the file in to see the contents\n",
    "fname = os.path.join(zbudpath, 'zbud_zonbud.csv')\n",
    "try:\n",
    "    import pandas as pd\n",
    "    df = pd.read_csv(fname)\n",
    "    print(df.to_string(index=True))\n",
    "except:\n",
    "    with open(fname, 'r') as f:\n",
    "        for line in f.readlines():\n",
    "            print('\\t'.join(line.split(',')))"
   ]
  },
  {
   "cell_type": "markdown",
   "metadata": {
    "collapsed": true
   },
   "source": [
    "### Read/Write Zonebudget-style input files"
   ]
  },
  {
   "cell_type": "code",
   "execution_count": null,
   "metadata": {
    "collapsed": false,
    "scrolled": true
   },
   "outputs": [],
   "source": [
    "from flopy.utils import write_zbarray, read_zbarray\n",
    "\n",
    "# Set parameter values\n",
    "fmtin = 10  # number of values per line\n",
    "iprn = 3    # width of each value\n",
    "fname = os.path.join(zbudpath, 'zonef')\n",
    "\n",
    "z = np.random.randint(1, 10, size=(3, 40, 20))\n",
    "\n",
    "# Write the array to a zonebudget-style zone file and read it back in to see what it looks like\n",
    "write_zbarray(fname, z, fmtin=fmtin, iprn=iprn)\n",
    "with open(fname, 'r') as f:\n",
    "    for line in f.readlines():\n",
    "        print(line.strip())       "
   ]
  },
  {
   "cell_type": "code",
   "execution_count": null,
   "metadata": {
    "collapsed": false
   },
   "outputs": [],
   "source": [
    "read_zbarray(fname)\n",
    "print(z.shape)\n",
    "z"
   ]
  },
  {
   "cell_type": "code",
   "execution_count": null,
   "metadata": {
    "collapsed": true
   },
   "outputs": [],
   "source": []
  }
 ],
 "metadata": {
  "kernelspec": {
   "display_name": "Python 2",
   "language": "python",
   "name": "python2"
  },
  "language_info": {
   "codemirror_mode": {
    "name": "ipython",
    "version": 2
   },
   "file_extension": ".py",
   "mimetype": "text/x-python",
   "name": "python",
   "nbconvert_exporter": "python",
   "pygments_lexer": "ipython2",
   "version": "2.7.11"
  }
 },
 "nbformat": 4,
 "nbformat_minor": 0
}
