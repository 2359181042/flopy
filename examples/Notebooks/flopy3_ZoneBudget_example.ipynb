{
 "cells": [
  {
   "cell_type": "markdown",
   "metadata": {},
   "source": [
    "# FloPy\n",
    "\n",
    "### Zonbud Example 1\n",
    "\n",
    "This notebook demonstrates how to use the functions included in the zonbud utility to extract budget information from the cell by cell budget file using an array of zones.\n",
    "\n",
    "First set the path and import the required packages. The flopy path doesn't have to be set if you install flopy from a binary installer. If you want to run this notebook, you have to set the path to your own flopy path."
   ]
  },
  {
   "cell_type": "code",
   "execution_count": 1,
   "metadata": {
    "collapsed": false
   },
   "outputs": [],
   "source": [
    "%matplotlib inline\n",
    "import os\n",
    "import platform\n",
    "import numpy as np\n",
    "import pandas as pd\n",
    "import matplotlib.pyplot as plt\n",
    "from flopy.utils import ZoneBudget, CellBudgetFile\n",
    "\n",
    "# Set path to example datafiles\n",
    "zbudpath = os.path.join('..', 'data', 'zonbud_examples')\n",
    "\n",
    "# Create CellBudgetFile object\n",
    "cbc_file = os.path.join(zbudpath, 'freyberg.gitcbc')\n",
    "cbc_obj = CellBudgetFile(cbc_file)\n",
    "\n",
    "nlay, nrow, ncol = cbc_obj.nlay, cbc_obj.nrow, cbc_obj.ncol"
   ]
  },
  {
   "cell_type": "markdown",
   "metadata": {},
   "source": [
    "### Make Some Zones\n",
    "\n",
    "We create a simple numpy integer-array to define some zones for which we are interested in getting cell-by-cell budget information."
   ]
  },
  {
   "cell_type": "code",
   "execution_count": 2,
   "metadata": {
    "collapsed": false
   },
   "outputs": [
    {
     "data": {
      "text/plain": [
       "array([1, 2, 3, 4])"
      ]
     },
     "execution_count": 2,
     "metadata": {},
     "output_type": "execute_result"
    },
    {
     "data": {
      "image/png": "[encoded data removed]",
      "text/plain": [
       "<matplotlib.figure.Figure at 0x7816da0>"
      ]
     },
     "metadata": {},
     "output_type": "display_data"
    }
   ],
   "source": [
    "# Define some very interesting zones\n",
    "zon = np.zeros((nlay, nrow, ncol), np.int32)\n",
    "zon[0, :20, :10] = 1\n",
    "zon[0, :20, 10:] = 2\n",
    "zon[0, 20:, :10] = 3\n",
    "zon[0, 20:, 10:] = 4\n",
    "\n",
    "im = plt.imshow(zon[0, :, :], )\n",
    "cbar = plt.colorbar(im)\n",
    "np.unique(zon)"
   ]
  },
  {
   "cell_type": "markdown",
   "metadata": {},
   "source": [
    "### Extract Budget Information from ZoneBudget Object\n",
    "\n",
    "At the core of the ZoneBudget object is a numpy structured array (aka recarray). The ZoneBudget class provides some wrapper functions to help us interogate the array and save it to disk."
   ]
  },
  {
   "cell_type": "code",
   "execution_count": 3,
   "metadata": {
    "collapsed": false
   },
   "outputs": [
    {
     "data": {
      "text/plain": [
       "array([('IN', 'CONSTANT HEAD', 0.0, 0.0, 0.0, 0.0),\n",
       "       ('IN', 'WELLS', 0.0, 0.0, 0.0, 0.0),\n",
       "       ('IN', 'RIVER LEAKAGE', 0.0, 0.004194190260022879, 0.0, 0.0),\n",
       "       ('IN', 'RECHARGE', 0.015300000726711005, 0.020000000949949026, 0.015900000755209476, 0.01830000086920336),\n",
       "       ('IN', 'FROM ZONE 1', 0.0, 0.013101870194077492, 0.0028348490595817566, 0.0),\n",
       "       ('IN', 'FROM ZONE 2', 0.0, 0.0, 0.0, 0.0012257143389433622),\n",
       "       ('IN', 'FROM ZONE 3', 0.0006367169553413987, 0.0, 0.0, 0.013000613078474998),\n",
       "       ('IN', 'FROM ZONE 4', 0.0, 0.0011461640242487192, 0.0, 0.0),\n",
       "       ('OUT', 'CONSTANT HEAD', 0.0, 0.0, 0.003547519678249955, 0.0011877617798745632),\n",
       "       ('OUT', 'WELLS', 0.0, 0.01619999995455146, 0.0015499999863095582, 0.00430000014603138),\n",
       "       ('OUT', 'RIVER LEAKAGE', 0.0, 0.02101684292574646, 0.0, 0.025892717123497277),\n",
       "       ('OUT', 'RECHARGE', 0.0, 0.0, 0.0, 0.0),\n",
       "       ('OUT', 'TO ZONE 1', 0.0, 0.0, 0.0006367169553413987, 0.0),\n",
       "       ('OUT', 'TO ZONE 2', 0.013101870194077492, 0.0, 0.0, 0.0011461640242487192),\n",
       "       ('OUT', 'TO ZONE 3', 0.0028348490595817566, 0.0, 0.0, 0.0),\n",
       "       ('OUT', 'TO ZONE 4', 0.0, 0.0012257143389433622, 0.013000613078474998, 0.0)], \n",
       "      dtype=[('flow_dir', 'S3'), ('record', 'S50'), ('ZONE 1', '<f8'), ('ZONE 2', '<f8'), ('ZONE 3', '<f8'), ('ZONE 4', '<f8')])"
      ]
     },
     "execution_count": 3,
     "metadata": {},
     "output_type": "execute_result"
    }
   ],
   "source": [
    "# Create a ZoneBudget object and get the budget record array\n",
    "bud = ZoneBudget(cbc_obj, zon, kstpkper=(0, 0))\n",
    "bud.get_records()"
   ]
  },
  {
   "cell_type": "code",
   "execution_count": 4,
   "metadata": {
    "collapsed": false
   },
   "outputs": [
    {
     "data": {
      "text/plain": [
       "array([('IN', 'RECHARGE', 0.015300000726711005, 0.015900000755209476),\n",
       "       ('IN', 'FROM ZONE 1', 0.0, 0.0028348490595817566),\n",
       "       ('IN', 'FROM ZONE 3', 0.0006367169553413987, 0.0)], \n",
       "      dtype=[('flow_dir', 'S3'), ('record', 'S50'), ('ZONE 1', '<f8'), ('ZONE 3', '<f8')])"
      ]
     },
     "execution_count": 4,
     "metadata": {},
     "output_type": "execute_result"
    }
   ],
   "source": [
    "# Pass a list of (flow_dir, record name) tuples and/or zones to get a subset of the entire budget\n",
    "recordlist = [('IN', 'RECHARGE'),\n",
    "              ('IN', 'FROM ZONE 1'),\n",
    "              ('IN', 'FROM ZONE 3')]\n",
    "zonelist = [1, 3]\n",
    "bud.get_records(recordlist=recordlist, zones=zonelist)"
   ]
  },
  {
   "cell_type": "code",
   "execution_count": 5,
   "metadata": {
    "collapsed": false
   },
   "outputs": [
    {
     "data": {
      "text/plain": [
       "array([ ('INFLOW', 0.015936717682052404, 0.038442225428298116, 0.018734849814791232, 0.03252632828662172),\n",
       "       ('OUTFLOW', 0.01593671925365925, 0.03844255721924128, 0.01873484969837591, 0.03252664307365194),\n",
       "       ('ERROR', -9.861546138457127e-06, -0.00086308611857667, 6.213838025897463e-07, -0.0009677867855618503)], \n",
       "      dtype=[('record', 'S7'), ('ZONE 1', '<f8'), ('ZONE 2', '<f8'), ('ZONE 3', '<f8'), ('ZONE 4', '<f8')])"
      ]
     },
     "execution_count": 5,
     "metadata": {},
     "output_type": "execute_result"
    }
   ],
   "source": [
    "# Look at all of the mass-balance records\n",
    "bud.get_mass_balance()"
   ]
  },
  {
   "cell_type": "code",
   "execution_count": 6,
   "metadata": {
    "collapsed": false
   },
   "outputs": [
    {
     "data": {
      "text/plain": [
       "array([('INFLOW', 0.015936717682052404, 0.018734849814791232),\n",
       "       ('OUTFLOW', 0.01593671925365925, 0.01873484969837591),\n",
       "       ('ERROR', -9.861546138457127e-06, 6.213838025897463e-07)], \n",
       "      dtype=[('record', 'S7'), ('ZONE 1', '<f8'), ('ZONE 3', '<f8')])"
      ]
     },
     "execution_count": 6,
     "metadata": {},
     "output_type": "execute_result"
    }
   ],
   "source": [
    "# Look at the mass-balance for just zones 1 and 3\n",
    "bud.get_mass_balance(zones=[1, 3])"
   ]
  },
  {
   "cell_type": "code",
   "execution_count": 7,
   "metadata": {
    "collapsed": false
   },
   "outputs": [
    {
     "data": {
      "text/plain": [
       "array([ -9.86154614e-06,  -8.63086119e-04,   6.21383803e-07,\n",
       "        -9.67786786e-04])"
      ]
     },
     "execution_count": 7,
     "metadata": {},
     "output_type": "execute_result"
    }
   ],
   "source": [
    "# Look at just the percent error record\n",
    "bud.get_percent_error()"
   ]
  },
  {
   "cell_type": "code",
   "execution_count": 8,
   "metadata": {
    "collapsed": false
   },
   "outputs": [
    {
     "data": {
      "text/plain": [
       "array([ 0.01593672,  0.01873485])"
      ]
     },
     "execution_count": 8,
     "metadata": {},
     "output_type": "execute_result"
    }
   ],
   "source": [
    "# Look at the total inflow for zones 1 and 3\n",
    "bud.get_total_inflow(zones=[1, 3])"
   ]
  },
  {
   "cell_type": "markdown",
   "metadata": {},
   "source": [
    "### Easily Convert Units\n",
    "The ZoneBudget class provides methods for using mathematical operators and returns a new copy of the object."
   ]
  },
  {
   "cell_type": "code",
   "execution_count": 9,
   "metadata": {
    "collapsed": false
   },
   "outputs": [
    {
     "name": "stdout",
     "output_type": "stream",
     "text": [
      "('cubic feet/day', 0.00063671695534139872)\n",
      "('million gallons/day', 4.7629739187704405e-09)\n"
     ]
    }
   ],
   "source": [
    "cfd = ZoneBudget(cbc_obj, zon, kstpkper=(0, 0))\n",
    "print('cubic feet/day', cfd.recordarray[6]['ZONE 1'])\n",
    "\n",
    "mgd = cfd*(7.48052/1000000)\n",
    "print('million gallons/day', mgd.recordarray[6]['ZONE 1'])"
   ]
  },
  {
   "cell_type": "markdown",
   "metadata": {},
   "source": [
    "### Alias Names\n",
    "A dictionary of {zone, 'alias'} pairs can be passed to replace the typical 'ZONE X' fieldnames of the ZoneBudget structured array."
   ]
  },
  {
   "cell_type": "code",
   "execution_count": 10,
   "metadata": {
    "collapsed": false
   },
   "outputs": [
    {
     "data": {
      "text/plain": [
       "array([('IN', 'CONSTANT HEAD', 0.0, 0.0, 0.0, 0.0),\n",
       "       ('IN', 'WELLS', 0.0, 0.0, 0.0, 0.0),\n",
       "       ('IN', 'RIVER LEAKAGE', 0.0, 0.004194190260022879, 0.0, 0.0),\n",
       "       ('IN', 'RECHARGE', 0.015300000726711005, 0.020000000949949026, 0.015900000755209476, 0.01830000086920336),\n",
       "       ('IN', 'FROM Surficial aquifer', 0.0, 0.013101870194077492, 0.0028348490595817566, 0.0),\n",
       "       ('IN', 'FROM Confining Unit', 0.0, 0.0, 0.0, 0.0012257143389433622),\n",
       "       ('IN', 'FROM Upper Floridan aquifer', 0.0006367169553413987, 0.0, 0.0, 0.013000613078474998),\n",
       "       ('IN', 'FROM Offshore GHB', 0.0, 0.0011461640242487192, 0.0, 0.0),\n",
       "       ('OUT', 'CONSTANT HEAD', 0.0, 0.0, 0.003547519678249955, 0.0011877617798745632),\n",
       "       ('OUT', 'WELLS', 0.0, 0.01619999995455146, 0.0015499999863095582, 0.00430000014603138),\n",
       "       ('OUT', 'RIVER LEAKAGE', 0.0, 0.02101684292574646, 0.0, 0.025892717123497277),\n",
       "       ('OUT', 'RECHARGE', 0.0, 0.0, 0.0, 0.0),\n",
       "       ('OUT', 'TO Surficial aquifer', 0.0, 0.0, 0.0006367169553413987, 0.0),\n",
       "       ('OUT', 'TO Confining Unit', 0.013101870194077492, 0.0, 0.0, 0.0011461640242487192),\n",
       "       ('OUT', 'TO Upper Floridan aquifer', 0.0028348490595817566, 0.0, 0.0, 0.0),\n",
       "       ('OUT', 'TO Offshore GHB', 0.0, 0.0012257143389433622, 0.013000613078474998, 0.0)], \n",
       "      dtype=[('flow_dir', 'S3'), ('record', 'S50'), ('Surficial aquifer', '<f8'), ('Confining Unit', '<f8'), ('Upper Floridan aquifer', '<f8'), ('Offshore GHB', '<f8')])"
      ]
     },
     "execution_count": 10,
     "metadata": {},
     "output_type": "execute_result"
    }
   ],
   "source": [
    "aliases = {1: 'Surficial aquifer', 2:'Confining Unit', 3: 'Upper Floridan aquifer', 4: 'Offshore GHB'}\n",
    "cfd = ZoneBudget(cbc_obj, zon, kstpkper=(0, 0), aliases=aliases)\n",
    "cfd.get_records()"
   ]
  },
  {
   "cell_type": "code",
   "execution_count": 11,
   "metadata": {
    "collapsed": false
   },
   "outputs": [
    {
     "data": {
      "text/html": [
       "<div>\n",
       "<table border=\"1\" class=\"dataframe\">\n",
       "  <thead>\n",
       "    <tr style=\"text-align: right;\">\n",
       "      <th></th>\n",
       "      <th></th>\n",
       "      <th>Surficial aquifer</th>\n",
       "      <th>Confining Unit</th>\n",
       "      <th>Upper Floridan aquifer</th>\n",
       "      <th>Offshore GHB</th>\n",
       "    </tr>\n",
       "    <tr>\n",
       "      <th>flow_dir</th>\n",
       "      <th>record</th>\n",
       "      <th></th>\n",
       "      <th></th>\n",
       "      <th></th>\n",
       "      <th></th>\n",
       "    </tr>\n",
       "  </thead>\n",
       "  <tbody>\n",
       "    <tr>\n",
       "      <th rowspan=\"8\" valign=\"top\">IN</th>\n",
       "      <th>CONSTANT HEAD</th>\n",
       "      <td>0.000000e+00</td>\n",
       "      <td>0.000000e+00</td>\n",
       "      <td>0.000000e+00</td>\n",
       "      <td>0.000000e+00</td>\n",
       "    </tr>\n",
       "    <tr>\n",
       "      <th>FROM Confining Unit</th>\n",
       "      <td>0.000000e+00</td>\n",
       "      <td>0.000000e+00</td>\n",
       "      <td>0.000000e+00</td>\n",
       "      <td>9.169324e-09</td>\n",
       "    </tr>\n",
       "    <tr>\n",
       "      <th>FROM Offshore GHB</th>\n",
       "      <td>0.000000e+00</td>\n",
       "      <td>8.574224e-09</td>\n",
       "      <td>0.000000e+00</td>\n",
       "      <td>0.000000e+00</td>\n",
       "    </tr>\n",
       "    <tr>\n",
       "      <th>FROM Surficial aquifer</th>\n",
       "      <td>0.000000e+00</td>\n",
       "      <td>9.801247e-08</td>\n",
       "      <td>2.120694e-08</td>\n",
       "      <td>0.000000e+00</td>\n",
       "    </tr>\n",
       "    <tr>\n",
       "      <th>FROM Upper Floridan aquifer</th>\n",
       "      <td>4.763152e-09</td>\n",
       "      <td>0.000000e+00</td>\n",
       "      <td>0.000000e+00</td>\n",
       "      <td>9.725499e-08</td>\n",
       "    </tr>\n",
       "    <tr>\n",
       "      <th>RECHARGE</th>\n",
       "      <td>1.144562e-07</td>\n",
       "      <td>1.496160e-07</td>\n",
       "      <td>1.189447e-07</td>\n",
       "      <td>1.368986e-07</td>\n",
       "    </tr>\n",
       "    <tr>\n",
       "      <th>RIVER LEAKAGE</th>\n",
       "      <td>0.000000e+00</td>\n",
       "      <td>3.137590e-08</td>\n",
       "      <td>0.000000e+00</td>\n",
       "      <td>0.000000e+00</td>\n",
       "    </tr>\n",
       "    <tr>\n",
       "      <th>WELLS</th>\n",
       "      <td>0.000000e+00</td>\n",
       "      <td>0.000000e+00</td>\n",
       "      <td>0.000000e+00</td>\n",
       "      <td>0.000000e+00</td>\n",
       "    </tr>\n",
       "    <tr>\n",
       "      <th rowspan=\"8\" valign=\"top\">OUT</th>\n",
       "      <th>CONSTANT HEAD</th>\n",
       "      <td>0.000000e+00</td>\n",
       "      <td>0.000000e+00</td>\n",
       "      <td>2.653829e-08</td>\n",
       "      <td>8.885408e-09</td>\n",
       "    </tr>\n",
       "    <tr>\n",
       "      <th>RECHARGE</th>\n",
       "      <td>0.000000e+00</td>\n",
       "      <td>0.000000e+00</td>\n",
       "      <td>0.000000e+00</td>\n",
       "      <td>0.000000e+00</td>\n",
       "    </tr>\n",
       "    <tr>\n",
       "      <th>RIVER LEAKAGE</th>\n",
       "      <td>0.000000e+00</td>\n",
       "      <td>1.572228e-07</td>\n",
       "      <td>0.000000e+00</td>\n",
       "      <td>1.936982e-07</td>\n",
       "    </tr>\n",
       "    <tr>\n",
       "      <th>TO Confining Unit</th>\n",
       "      <td>9.801247e-08</td>\n",
       "      <td>0.000000e+00</td>\n",
       "      <td>0.000000e+00</td>\n",
       "      <td>8.574224e-09</td>\n",
       "    </tr>\n",
       "    <tr>\n",
       "      <th>TO Offshore GHB</th>\n",
       "      <td>0.000000e+00</td>\n",
       "      <td>9.169324e-09</td>\n",
       "      <td>9.725499e-08</td>\n",
       "      <td>0.000000e+00</td>\n",
       "    </tr>\n",
       "    <tr>\n",
       "      <th>TO Surficial aquifer</th>\n",
       "      <td>0.000000e+00</td>\n",
       "      <td>0.000000e+00</td>\n",
       "      <td>4.763152e-09</td>\n",
       "      <td>0.000000e+00</td>\n",
       "    </tr>\n",
       "    <tr>\n",
       "      <th>TO Upper Floridan aquifer</th>\n",
       "      <td>2.120694e-08</td>\n",
       "      <td>0.000000e+00</td>\n",
       "      <td>0.000000e+00</td>\n",
       "      <td>0.000000e+00</td>\n",
       "    </tr>\n",
       "    <tr>\n",
       "      <th>WELLS</th>\n",
       "      <td>0.000000e+00</td>\n",
       "      <td>1.211890e-07</td>\n",
       "      <td>1.159524e-08</td>\n",
       "      <td>3.216744e-08</td>\n",
       "    </tr>\n",
       "  </tbody>\n",
       "</table>\n",
       "</div>"
      ],
      "text/plain": [
       "                                      Surficial aquifer  Confining Unit  \\\n",
       "flow_dir record                                                           \n",
       "IN       CONSTANT HEAD                     0.000000e+00    0.000000e+00   \n",
       "         FROM Confining Unit               0.000000e+00    0.000000e+00   \n",
       "         FROM Offshore GHB                 0.000000e+00    8.574224e-09   \n",
       "         FROM Surficial aquifer            0.000000e+00    9.801247e-08   \n",
       "         FROM Upper Floridan aquifer       4.763152e-09    0.000000e+00   \n",
       "         RECHARGE                          1.144562e-07    1.496160e-07   \n",
       "         RIVER LEAKAGE                     0.000000e+00    3.137590e-08   \n",
       "         WELLS                             0.000000e+00    0.000000e+00   \n",
       "OUT      CONSTANT HEAD                     0.000000e+00    0.000000e+00   \n",
       "         RECHARGE                          0.000000e+00    0.000000e+00   \n",
       "         RIVER LEAKAGE                     0.000000e+00    1.572228e-07   \n",
       "         TO Confining Unit                 9.801247e-08    0.000000e+00   \n",
       "         TO Offshore GHB                   0.000000e+00    9.169324e-09   \n",
       "         TO Surficial aquifer              0.000000e+00    0.000000e+00   \n",
       "         TO Upper Floridan aquifer         2.120694e-08    0.000000e+00   \n",
       "         WELLS                             0.000000e+00    1.211890e-07   \n",
       "\n",
       "                                      Upper Floridan aquifer  Offshore GHB  \n",
       "flow_dir record                                                             \n",
       "IN       CONSTANT HEAD                          0.000000e+00  0.000000e+00  \n",
       "         FROM Confining Unit                    0.000000e+00  9.169324e-09  \n",
       "         FROM Offshore GHB                      0.000000e+00  0.000000e+00  \n",
       "         FROM Surficial aquifer                 2.120694e-08  0.000000e+00  \n",
       "         FROM Upper Floridan aquifer            0.000000e+00  9.725499e-08  \n",
       "         RECHARGE                               1.189447e-07  1.368986e-07  \n",
       "         RIVER LEAKAGE                          0.000000e+00  0.000000e+00  \n",
       "         WELLS                                  0.000000e+00  0.000000e+00  \n",
       "OUT      CONSTANT HEAD                          2.653829e-08  8.885408e-09  \n",
       "         RECHARGE                               0.000000e+00  0.000000e+00  \n",
       "         RIVER LEAKAGE                          0.000000e+00  1.936982e-07  \n",
       "         TO Confining Unit                      0.000000e+00  8.574224e-09  \n",
       "         TO Offshore GHB                        9.725499e-08  0.000000e+00  \n",
       "         TO Surficial aquifer                   4.763152e-09  0.000000e+00  \n",
       "         TO Upper Floridan aquifer              0.000000e+00  0.000000e+00  \n",
       "         WELLS                                  1.159524e-08  3.216744e-08  "
      ]
     },
     "execution_count": 11,
     "metadata": {},
     "output_type": "execute_result"
    }
   ],
   "source": [
    "# View the budget as a Pandas DataFrame\n",
    "aliases = {1: 'Surficial aquifer', 2:'Confining Unit', 3: 'Upper Floridan aquifer', 4: 'Offshore GHB'}\n",
    "mgd = ZoneBudget(cbc_obj, zon, kstpkper=(0, 0), aliases=aliases)*(7.4808/1000000)\n",
    "df = pd.DataFrame(mgd.get_records())\n",
    "df = df.set_index(['flow_dir', 'record']).sort_index()  # sort multi-index so we can slice it later\n",
    "df"
   ]
  },
  {
   "cell_type": "code",
   "execution_count": 12,
   "metadata": {
    "collapsed": false,
    "scrolled": true
   },
   "outputs": [
    {
     "data": {
      "text/plain": [
       "flow_dir  record  \n",
       "IN        RECHARGE    2.334010e-07\n",
       "dtype: float64"
      ]
     },
     "execution_count": 12,
     "metadata": {},
     "output_type": "execute_result"
    }
   ],
   "source": [
    "# Look at recharge to the surficial and Upper Floridan aquifers\n",
    "df.loc[(['IN'], ['RECHARGE']), ['Surficial aquifer', 'Upper Floridan aquifer']].sum(axis=1)  # axis=1 to sum along rows"
   ]
  },
  {
   "cell_type": "code",
   "execution_count": 13,
   "metadata": {
    "collapsed": false
   },
   "outputs": [
    {
     "data": {
      "text/plain": [
       "2.4332531150537546e-07"
      ]
     },
     "execution_count": 13,
     "metadata": {},
     "output_type": "execute_result"
    }
   ],
   "source": [
    "# Look at all outflow to offshore general head boundaries\n",
    "df.loc[(['OUT'], slice(None)), 'Offshore GHB'].sum()"
   ]
  },
  {
   "cell_type": "markdown",
   "metadata": {},
   "source": [
    "### Write Budget Output to CSV\n",
    "\n",
    "We can write the resulting recarray to a csv with the .to_csv() method of the Budget object."
   ]
  },
  {
   "cell_type": "code",
   "execution_count": 14,
   "metadata": {
    "collapsed": false
   },
   "outputs": [
    {
     "name": "stdout",
     "output_type": "stream",
     "text": [
      "                                           Time Step                        1           Stress Period                      1.1\n",
      "                                   Surficial aquifer           Confining Unit  Upper Floridan aquifer             Offshore GHB\n",
      "                                                  IN                       IN                      IN                       IN\n",
      "CONSTANT HEAD                 0.0000000000000000e+00   0.0000000000000000e+00  0.0000000000000000e+00   0.0000000000000000e+00\n",
      "WELLS                         0.0000000000000000e+00   0.0000000000000000e+00  0.0000000000000000e+00   0.0000000000000000e+00\n",
      "RIVER LEAKAGE                 0.0000000000000000e+00   4.1941902600228786e-03  0.0000000000000000e+00   0.0000000000000000e+00\n",
      "RECHARGE                      1.5300000726711005e-02   2.0000000949949026e-02  1.5900000755209476e-02   1.8300000869203359e-02\n",
      "FROM Surficial aquifer        0.0000000000000000e+00   1.3101870194077492e-02  2.8348490595817566e-03   0.0000000000000000e+00\n",
      "FROM Confining Unit           0.0000000000000000e+00   0.0000000000000000e+00  0.0000000000000000e+00   1.2257143389433622e-03\n",
      "FROM Upper Floridan aquifer   6.3671695534139872e-04   0.0000000000000000e+00  0.0000000000000000e+00   1.3000613078474998e-02\n",
      "FROM Offshore GHB             0.0000000000000000e+00   1.1461640242487192e-03  0.0000000000000000e+00   0.0000000000000000e+00\n",
      "Total IN                      1.5936717682052404e-02   3.8442225428298116e-02  1.8734849814791232e-02   3.2526328286621720e-02\n",
      "                                                 OUT                      OUT                     OUT                      OUT\n",
      "CONSTANT HEAD                 0.0000000000000000e+00   0.0000000000000000e+00  3.5475196782499552e-03   1.1877617798745632e-03\n",
      "WELLS                         0.0000000000000000e+00   1.6199999954551458e-02  1.5499999863095582e-03   4.3000001460313797e-03\n",
      "RIVER LEAKAGE                 0.0000000000000000e+00   2.1016842925746460e-02  0.0000000000000000e+00   2.5892717123497277e-02\n",
      "RECHARGE                      0.0000000000000000e+00   0.0000000000000000e+00  0.0000000000000000e+00   0.0000000000000000e+00\n",
      "TO Surficial aquifer          0.0000000000000000e+00   0.0000000000000000e+00  6.3671695534139872e-04   0.0000000000000000e+00\n",
      "TO Confining Unit             1.3101870194077492e-02   0.0000000000000000e+00  0.0000000000000000e+00   1.1461640242487192e-03\n",
      "TO Upper Floridan aquifer     2.8348490595817566e-03   0.0000000000000000e+00  0.0000000000000000e+00   0.0000000000000000e+00\n",
      "TO Offshore GHB               0.0000000000000000e+00   1.2257143389433622e-03  1.3000613078474998e-02   0.0000000000000000e+00\n",
      "Total OUT                     1.5936719253659248e-02   3.8442557219241280e-02  1.8734849698375911e-02   3.2526643073651940e-02\n",
      "IN-OUT                       -1.5716068446636200e-09  -3.3179094316437840e-07  1.1641532182693481e-10  -3.1478703022003174e-07\n",
      "Percent Error                -9.8615461384571265e-06  -8.6308611857666996e-04  6.2138380258974626e-07  -9.6778678556185026e-04\n"
     ]
    }
   ],
   "source": [
    "cfd = ZoneBudget(cbc_obj, zon, kstpkper=(0, 0), aliases=aliases)\n",
    "cfd.to_csv(os.path.join(zbudpath, 'zbud_zonbud.csv'), write_format='zonbud')\n",
    "cfd.to_csv(os.path.join(zbudpath, 'zbud_pandas.csv'), write_format='pandas')\n",
    "\n",
    "# Read the file in to see the contents\n",
    "fname = os.path.join(zbudpath, 'zbud_zonbud.csv')\n",
    "try:\n",
    "    import pandas as pd\n",
    "    df = pd.read_csv(fname)\n",
    "    print(df.to_string(index=True))\n",
    "except:\n",
    "    with open(fname, 'r') as f:\n",
    "        for line in f.readlines():\n",
    "            print('\\t'.join(line.split(',')))"
   ]
  },
  {
   "cell_type": "code",
   "execution_count": null,
   "metadata": {
    "collapsed": true
   },
   "outputs": [],
   "source": []
  }
 ],
 "metadata": {
  "kernelspec": {
   "display_name": "Python 2",
   "language": "python",
   "name": "python2"
  },
  "language_info": {
   "codemirror_mode": {
    "name": "ipython",
    "version": 2
   },
   "file_extension": ".py",
   "mimetype": "text/x-python",
   "name": "python",
   "nbconvert_exporter": "python",
   "pygments_lexer": "ipython2",
   "version": "2.7.11"
  }
 },
 "nbformat": 4,
 "nbformat_minor": 0
}
