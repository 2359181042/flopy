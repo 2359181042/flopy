{
 "cells": [
  {
   "cell_type": "markdown",
   "metadata": {},
   "source": [
    "# FloPy\n",
    "\n",
    "## MODFLOW-USG $-$ Discontinuous water table configuration over a stairway impervious base\n",
    "\n",
    "One of the most challenging numerical cases for MODFLOW arises from drying-rewetting problems often associated with abrupt changes in the elevations of impervious base of a thin unconfined aquifer. This problem simulates a discontinuous water table configuration over a stairway impervious base and flow between constant-head boundaries in column 1 and 200. This problem is based on \n",
    "\n",
    "[Zaidel, J. (2013), Discontinuous Steady-State Analytical Solutions of the Boussinesq Equation and Their Numerical Representation by Modflow. Groundwater, 51: 952–959. doi: 10.1111/gwat.12019](http://onlinelibrary.wiley.com/doi/10.1111/gwat.12019/abstract)\n",
    "\n",
    "The model consistes of a grid of 200 columns, 1 row, and 1 layer; a bottom altitude of ranging from 20 to 0 m; constant heads of 23 and 5 m in column 1 and 200, respectively; and a horizontal hydraulic conductivity of $1x10^{-4}$ m/d.  The discretization is 5 m in the row direction for all cells.\n",
    "\n",
    "In this example results from MODFLOW-USG will be evaluated."
   ]
  },
  {
   "cell_type": "code",
   "execution_count": 1,
   "metadata": {
    "collapsed": false
   },
   "outputs": [
    {
     "name": "stdout",
     "output_type": "stream",
     "text": [
      "3.6.0 |Anaconda 4.3.0 (x86_64)| (default, Dec 23 2016, 13:19:00) \n",
      "[GCC 4.2.1 Compatible Apple LLVM 6.0 (clang-600.0.57)]\n",
      "numpy version: 1.11.3\n",
      "matplotlib version: 2.0.0\n",
      "flopy version: 3.2.6\n"
     ]
    }
   ],
   "source": [
    "%matplotlib inline\n",
    "import os\n",
    "import sys\n",
    "import platform\n",
    "import numpy as np\n",
    "import matplotlib as mpl\n",
    "import matplotlib.pyplot as plt\n",
    "import flopy\n",
    "\n",
    "print(sys.version)\n",
    "print('numpy version: {}'.format(np.__version__))\n",
    "print('matplotlib version: {}'.format(mpl.__version__))\n",
    "print('flopy version: {}'.format(flopy.__version__))"
   ]
  },
  {
   "cell_type": "code",
   "execution_count": 2,
   "metadata": {
    "collapsed": false
   },
   "outputs": [],
   "source": [
    "#Set name of MODFLOW exe\n",
    "#  assumes executable is in users path statement\n",
    "exe_name = 'mfusg'\n",
    "if platform.system() == 'Windows':\n",
    "    exe_name += '.exe'\n",
    "mfexe = exe_name\n",
    "\n",
    "modelpth = os.path.join('data')\n",
    "modelname = 'zaidel'\n",
    "\n",
    "#make sure modelpth directory exists\n",
    "if not os.path.exists(modelpth):\n",
    "    os.makedirs(modelpth)"
   ]
  },
  {
   "cell_type": "markdown",
   "metadata": {},
   "source": [
    "## Model parameters"
   ]
  },
  {
   "cell_type": "code",
   "execution_count": 3,
   "metadata": {
    "collapsed": false
   },
   "outputs": [],
   "source": [
    "# model dimensions\n",
    "nlay, nrow, ncol = 1, 1, 200\n",
    "delr = 50.\n",
    "delc = 1.\n",
    "\n",
    "# boundary heads\n",
    "h1 = 23.\n",
    "h2 = 5.\n",
    "\n",
    "# cell centroid locations\n",
    "x = np.arange(0., float(ncol)*delr, delr) + delr / 2.\n",
    "\n",
    "# ibound\n",
    "ibound = np.ones((nlay, nrow, ncol), dtype=np.int)\n",
    "ibound[:, :, 0] = -1\n",
    "ibound[:, :, -1] = -1\n",
    "\n",
    "# bottom of the model\n",
    "botm = 25 * np.ones((nlay + 1, nrow, ncol), dtype=np.float)\n",
    "base = 20.\n",
    "for j in range(ncol):\n",
    "    botm[1, :, j] = base\n",
    "    #if j > 0 and j % 40 == 0:\n",
    "    if j+1 in [40,80,120,160]:\n",
    "        base -= 5\n",
    "\n",
    "# starting heads\n",
    "strt = h1 * np.ones((nlay, nrow, ncol), dtype=np.float)\n",
    "strt[:, :, -1] = h2"
   ]
  },
  {
   "cell_type": "markdown",
   "metadata": {},
   "source": [
    "## Create and run the MODFLOW-USG model"
   ]
  },
  {
   "cell_type": "code",
   "execution_count": 4,
   "metadata": {
    "collapsed": false
   },
   "outputs": [
    {
     "name": "stdout",
     "output_type": "stream",
     "text": [
      "FloPy is using the following executable to run the model: /Users/JosephHughes/USGS/Development/bin/mfusg\n",
      "\n",
      "                                  MODFLOW-USG      \n",
      "    U.S. GEOLOGICAL SURVEY MODULAR FINITE-DIFFERENCE GROUNDWATER FLOW MODEL\n",
      "                             Version 1.3.00 12/01/2015                       \n",
      "\n",
      " Using NAME file: zaidel.nam \n",
      " Run start date and time (yyyy/mm/dd hh:mm:ss): 2017/03/19 11:09:53\n",
      "\n",
      " Solving:  Stress period:     1    Time step:     1    Groundwater Flow Eqn.\n",
      " Run end date and time (yyyy/mm/dd hh:mm:ss): 2017/03/19 11:09:53\n",
      " Elapsed run time:  0.034 Seconds\n",
      "\n",
      "  Normal termination of simulation\n"
     ]
    },
    {
     "data": {
      "text/plain": [
       "(True, [])"
      ]
     },
     "execution_count": 4,
     "metadata": {},
     "output_type": "execute_result"
    }
   ],
   "source": [
    "#make the flopy model\n",
    "mf = flopy.modflow.Modflow(modelname=modelname, exe_name=mfexe, model_ws=modelpth)\n",
    "dis = flopy.modflow.ModflowDis(mf, nlay, nrow, ncol,\n",
    "                               delr=delr, delc=delc, \n",
    "                               top=botm[0, :, :], botm=botm[1:, :, :], \n",
    "                               perlen=1, nstp=1, steady=True)\n",
    "bas = flopy.modflow.ModflowBas(mf, ibound=ibound, strt=strt)\n",
    "lpf = flopy.modflow.ModflowLpf(mf, hk=0.0001, laytyp=4)\n",
    "oc = flopy.modflow.ModflowOc(mf, \n",
    "                             stress_period_data={(0,0): ['print budget', 'print head', \n",
    "                                                         'save head', 'save budget']})\n",
    "sms = flopy.modflow.ModflowSms(mf, nonlinmeth=1, linmeth=1,\n",
    "                               numtrack=50, btol=1.1, breduc=0.70, reslim = 0.0,\n",
    "                               theta=0.85, akappa=0.0001, gamma=0., amomentum=0.1,\n",
    "                               iacl=2, norder=0, level=5, north=7, iredsys=0, rrctol=0.,\n",
    "                               idroptol=1, epsrn=1.e-5,\n",
    "                               mxiter=500, hclose=1.e-3, hiclose=1.e-3, iter1=50)\n",
    "mf.write_input()\n",
    "\n",
    "# remove any existing head files\n",
    "try:\n",
    "    os.remove(os.path.join(model_ws, '{0}.hds'.format(modelname)))\n",
    "except:\n",
    "    pass\n",
    "\n",
    "# run the model\n",
    "mf.run_model()"
   ]
  },
  {
   "cell_type": "markdown",
   "metadata": {},
   "source": [
    "### Read the simulated MODFLOW-USG model results"
   ]
  },
  {
   "cell_type": "code",
   "execution_count": 5,
   "metadata": {
    "collapsed": false
   },
   "outputs": [],
   "source": [
    "# Create the mfusg headfile object\n",
    "headfile = os.path.join(modelpth, '{0}.hds'.format(modelname))\n",
    "headobj = flopy.utils.HeadFile(headfile)\n",
    "times = headobj.get_times()\n",
    "mfusghead = headobj.get_data(totim=times[-1])"
   ]
  },
  {
   "cell_type": "markdown",
   "metadata": {},
   "source": [
    "### Plot MODFLOW-USG results"
   ]
  },
  {
   "cell_type": "code",
   "execution_count": 6,
   "metadata": {
    "collapsed": false
   },
   "outputs": [
    {
     "data": {
      "image/png": "[encoded data removed]",
      "text/plain": [
       "<matplotlib.figure.Figure at 0x10ed61470>"
      ]
     },
     "metadata": {},
     "output_type": "display_data"
    }
   ],
   "source": [
    "fig = plt.figure(figsize=(8,6))\n",
    "fig.subplots_adjust(left=None, bottom=None, right=None, top=None,\n",
    "                    wspace=0.25, hspace=0.25)\n",
    "ax = fig.add_subplot(1, 1, 1)\n",
    "ax.plot(x, mfusghead[0, 0, :], linewidth=0.75, color='blue', label='MODFLOW-USG')\n",
    "ax.fill_between(x, y1=botm[1, 0, :], y2=-5, color='0.5', alpha=0.5)\n",
    "leg = ax.legend(loc='upper right')\n",
    "leg.draw_frame(False)\n",
    "ax.set_xlabel('Horizontal distance, in m')\n",
    "ax.set_ylabel('Head, in m')\n",
    "ax.set_ylim(-5,25);"
   ]
  },
  {
   "cell_type": "code",
   "execution_count": null,
   "metadata": {
    "collapsed": false
   },
   "outputs": [],
   "source": []
  }
 ],
 "metadata": {
  "kernelspec": {
   "display_name": "Python 3",
   "language": "python",
   "name": "python3"
  },
  "language_info": {
   "codemirror_mode": {
    "name": "ipython",
    "version": 3
   },
   "file_extension": ".py",
   "mimetype": "text/x-python",
   "name": "python",
   "nbconvert_exporter": "python",
   "pygments_lexer": "ipython3",
   "version": "3.6.0"
  }
 },
 "nbformat": 4,
 "nbformat_minor": 0
}
