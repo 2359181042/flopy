{
 "cells": [
  {
   "cell_type": "markdown",
   "metadata": {},
   "source": [
    "# FloPy \n",
    "\n",
    "### Working stack demo\n",
    "\n",
    "A short demonstration of some of the `flopy3` awesomeness"
   ]
  },
  {
   "cell_type": "code",
   "execution_count": null,
   "metadata": {
    "collapsed": true
   },
   "outputs": [],
   "source": [
    "%matplotlib inline\n",
    "from IPython.display import clear_output, display\n",
    "from __future__ import print_function\n",
    "import time\n",
    "import os\n",
    "import numpy as np\n",
    "import pandas as pd\n",
    "import matplotlib.pyplot as plt\n",
    "\n",
    "import flopy"
   ]
  },
  {
   "cell_type": "markdown",
   "metadata": {},
   "source": [
    "###Model Inputs"
   ]
  },
  {
   "cell_type": "code",
   "execution_count": null,
   "metadata": {
    "collapsed": false
   },
   "outputs": [],
   "source": [
    "# first lets load an existing model\n",
    "model_ws = os.path.join(\"..\",\"data\",\"freyberg_multilayer_transient\")\n",
    "ml = flopy.modflow.Modflow.load(\"freyberg.nam\", model_ws=model_ws, verbose=False,\n",
    "                               check=False,exe_name=\"mfnwt\")"
   ]
  },
  {
   "cell_type": "code",
   "execution_count": null,
   "metadata": {
    "collapsed": false
   },
   "outputs": [],
   "source": [
    "ml.dis.sr"
   ]
  },
  {
   "cell_type": "markdown",
   "metadata": {},
   "source": [
    "Let's looks at some plots"
   ]
  },
  {
   "cell_type": "code",
   "execution_count": null,
   "metadata": {
    "collapsed": false
   },
   "outputs": [],
   "source": [
    "ml.upw.plot()"
   ]
  },
  {
   "cell_type": "code",
   "execution_count": null,
   "metadata": {
    "collapsed": false
   },
   "outputs": [],
   "source": [
    "ml.dis.plot()"
   ]
  },
  {
   "cell_type": "code",
   "execution_count": null,
   "metadata": {
    "collapsed": false
   },
   "outputs": [],
   "source": [
    "ml.drn.plot(key=\"cond\")\n",
    "ml.drn.plot(key=\"elev\")\n"
   ]
  },
  {
   "cell_type": "markdown",
   "metadata": {},
   "source": [
    "Let's write a shapefile of the DIS package"
   ]
  },
  {
   "cell_type": "code",
   "execution_count": null,
   "metadata": {
    "collapsed": false
   },
   "outputs": [],
   "source": [
    "ml.dis.export(os.path.join(model_ws,\"freyberg_dis.shp\"))"
   ]
  },
  {
   "cell_type": "markdown",
   "metadata": {},
   "source": [
    "Let's also write a netCDF file with all model inputs"
   ]
  },
  {
   "cell_type": "code",
   "execution_count": null,
   "metadata": {
    "collapsed": false
   },
   "outputs": [],
   "source": [
    "ml.export(os.path.join(model_ws, \"freyberg.nc\"))"
   ]
  },
  {
   "cell_type": "markdown",
   "metadata": {},
   "source": [
    "###Change model directory, modify inputs and write new input files"
   ]
  },
  {
   "cell_type": "code",
   "execution_count": null,
   "metadata": {
    "collapsed": false
   },
   "outputs": [],
   "source": [
    "ml.external_path = \"ref\"\n",
    "ml.model_ws = \"temp\"\n",
    "#print(ml.upw.hk[0].array.mean())\n",
    "#ml.upw.hk[0] *= 2\n",
    "#print(ml.upw.hk[0].array.mean())\n"
   ]
  },
  {
   "cell_type": "markdown",
   "metadata": {},
   "source": [
    "### Run the model"
   ]
  },
  {
   "cell_type": "code",
   "execution_count": null,
   "metadata": {
    "collapsed": false
   },
   "outputs": [],
   "source": [
    "ml.write_input()\n",
    "\n",
    "ml.run_model()"
   ]
  },
  {
   "cell_type": "markdown",
   "metadata": {},
   "source": [
    "### Output inspection\n",
    "\n",
    "First, let's look at the list file"
   ]
  },
  {
   "cell_type": "code",
   "execution_count": null,
   "metadata": {
    "collapsed": false
   },
   "outputs": [],
   "source": [
    "mfl = flopy.utils.MfListBudget(os.path.join(model_ws,\"freyberg.list\"))\n",
    "df_flux, df_vol = mfl.get_dataframes(start_datetime=\"10-21-2015\")\n",
    "df_flux"
   ]
  },
  {
   "cell_type": "code",
   "execution_count": null,
   "metadata": {
    "collapsed": false
   },
   "outputs": [],
   "source": [
    "groups = df_flux.groupby(lambda x:x.split('_')[-1],axis=1).groups\n",
    "df_flux_in = df_flux.loc[:,groups[\"IN\"]]\n",
    "df_flux_in.columns = df_flux_in.columns.map(lambda x:x.split('_')[0])\n",
    "\n",
    "df_flux_out = df_flux.loc[:,groups[\"OUT\"]]\n",
    "df_flux_out.columns = df_flux_out.columns.map(lambda x:x.split('_')[0])\n",
    "\n",
    "\n",
    "df_flux_delta = df_flux_in - df_flux_out\n",
    "#df_flux_delta = df_flux.loc[:,\"in\"] - df_flux.loc[:,\"out\"]\n",
    "df_flux_delta.iloc[-1,:].plot(kind=\"bar\",figsize=(10,10),grid=True)"
   ]
  },
  {
   "cell_type": "markdown",
   "metadata": {},
   "source": [
    "Let's look at head"
   ]
  },
  {
   "cell_type": "code",
   "execution_count": null,
   "metadata": {
    "collapsed": false
   },
   "outputs": [],
   "source": [
    "# if you pass the model instance, then the plots will be offset and rotated\n",
    "h = flopy.utils.HeadFile(os.path.join(model_ws,\"freyberg.hds\"),model=ml)\n",
    "h.times"
   ]
  },
  {
   "cell_type": "code",
   "execution_count": null,
   "metadata": {
    "collapsed": false
   },
   "outputs": [],
   "source": [
    "h.plot(totim=900,contour=True,grid=True,colorbar=True,figsize=(10,10))"
   ]
  },
  {
   "cell_type": "code",
   "execution_count": null,
   "metadata": {
    "collapsed": false
   },
   "outputs": [],
   "source": [
    "#let's write these heads to shapefile\n",
    "h.to_shapefile(os.path.join(model_ws,\"freyburg_head.shp\"))"
   ]
  },
  {
   "cell_type": "markdown",
   "metadata": {},
   "source": [
    "### Let's make an outputs movie"
   ]
  },
  {
   "cell_type": "code",
   "execution_count": null,
   "metadata": {
    "collapsed": false
   },
   "outputs": [],
   "source": [
    "f = plt.figure(figsize=(10,10))\n",
    "ax = plt.subplot(1,1,1,aspect=\"equal\")\n",
    "for i,t in enumerate(h.times):\n",
    "    ax.set_title(\"totim:{0}\".format(t))\n",
    "    h.plot(totim=t,mflay=0,contour=True,\n",
    "           grid=True,figsize=(10,10),\n",
    "            vmin=0,vmax=20,axes=[ax])\n",
    "    time.sleep(0.01)\n",
    "    clear_output(True)\n",
    "    display(f)\n",
    "    ax.cla()"
   ]
  },
  {
   "cell_type": "code",
   "execution_count": null,
   "metadata": {
    "collapsed": true
   },
   "outputs": [],
   "source": []
  }
 ],
 "metadata": {
  "kernelspec": {
   "display_name": "Python 2",
   "language": "python",
   "name": "python2"
  },
  "language_info": {
   "codemirror_mode": {
    "name": "ipython",
    "version": 2
   },
   "file_extension": ".py",
   "mimetype": "text/x-python",
   "name": "python",
   "nbconvert_exporter": "python",
   "pygments_lexer": "ipython2",
   "version": "2.7.11"
  }
 },
 "nbformat": 4,
 "nbformat_minor": 0
}
