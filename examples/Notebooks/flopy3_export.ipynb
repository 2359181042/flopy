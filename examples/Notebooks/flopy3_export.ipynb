{
 "cells": [
  {
   "cell_type": "markdown",
   "metadata": {},
   "source": [
    "# FloPy$_3$\n",
    "\n",
    "### Demo of netCDF and shapefile capabilities within the export module. "
   ]
  },
  {
   "cell_type": "code",
   "execution_count": 1,
   "metadata": {
    "collapsed": true
   },
   "outputs": [],
   "source": [
    "from __future__ import print_function\n",
    "import os\n",
    "import flopy"
   ]
  },
  {
   "cell_type": "markdown",
   "metadata": {},
   "source": [
    "Load our old friend...the Freyberg model"
   ]
  },
  {
   "cell_type": "code",
   "execution_count": 2,
   "metadata": {
    "collapsed": false
   },
   "outputs": [
    {
     "name": "stdout",
     "output_type": "stream",
     "text": [
      "\n",
      "Creating new model with name: freyberg\n",
      "--------------------------------------------------\n",
      "\n",
      "Parsing the namefile --> data/freyberg.nam\n",
      "Setting filehandles:\n",
      "\n",
      "--------------------------------------------------\n",
      "External unit dictionary:\n",
      "{51: filename:data/freyberg.hds, filetype:DATA(BINARY), 2: filename:data/freyberg.list, filetype:LIST, 11: filename:data/freyberg.dis, filetype:DIS, 13: filename:data/freyberg.bas, filetype:BAS6, 14: filename:data/freyberg.oc, filetype:OC, 15: filename:data/freyberg.lpf, filetype:LPF, 18: filename:data/freyberg.riv, filetype:RIV, 19: filename:data/freyberg.rch, filetype:RCH, 20: filename:data/freyberg.wel, filetype:WEL, 53: filename:data/freyberg.cbc, filetype:DATA(BINARY), 52: filename:data/freyberg.ddn, filetype:DATA(BINARY), 27: filename:data/freyberg.pcg, filetype:PCG}\n",
      "--------------------------------------------------\n",
      "\n",
      "loading dis package file...\n",
      "   Loading dis package with:\n",
      "      1 layers, 40 rows, 20 columns, and 1 stress periods\n",
      "   loading laycbd...\n",
      "   loading delr...\n",
      "   loading delc...\n",
      "   loading top...\n",
      "   loading botm...\n",
      "   loading stress period data...\n",
      "adding Package:  DIS\n",
      "   DIS  package load...success\n",
      "   DATA(BINARY) file load...skipped\n",
      "      freyberg.hds\n",
      "   LIST package load...skipped\n",
      "loading bas6 package file...\n",
      "adding Package:  BAS6\n",
      "   BAS6 package load...success\n",
      "loading oc package file...\n",
      "adding Package:  OC\n",
      "   OC   package load...success\n",
      "loading lpf package file...\n",
      "   loading IBCFCB, HDRY, NPLPF...\n",
      "   loading LAYTYP...\n",
      "   loading LAYAVG...\n",
      "   loading CHANI...\n",
      "   loading LAYVKA...\n",
      "   loading LAYWET...\n",
      "   loading hk layer   1...\n",
      "   loading vka layer   1...\n",
      "adding Package:  LPF\n",
      "   LPF  package load...success\n",
      "loading riv package file...\n",
      "   loading <class 'flopy.modflow.mfriv.ModflowRiv'> for kper     1\n",
      "adding Package:  RIV\n",
      "   RIV  package load...success\n",
      "loading rch package file...\n",
      "   loading rech stress period   1...\n",
      "adding Package:  RCH\n",
      "   RCH  package load...success\n",
      "loading wel package file...\n",
      "   loading <class 'flopy.modflow.mfwel.ModflowWel'> for kper     1\n",
      "adding Package:  WEL\n",
      "   WEL  package load...success\n",
      "   DATA(BINARY) file load...skipped\n",
      "      freyberg.cbc\n",
      "   DATA(BINARY) file load...skipped\n",
      "      freyberg.ddn\n",
      "loading pcg package file...\n",
      "adding Package:  PCG\n",
      "   PCG  package load...success\n",
      "\n",
      "\n",
      "   The following 8 packages were successfully loaded.\n",
      "      freyberg.dis\n",
      "      freyberg.bas\n",
      "      freyberg.oc\n",
      "      freyberg.lpf\n",
      "      freyberg.riv\n",
      "      freyberg.rch\n",
      "      freyberg.wel\n",
      "      freyberg.pcg\n",
      "   The following 1 packages were not loaded.\n",
      "      freyberg.list\n",
      "\n",
      "\n",
      "xul:0, yul:10000, rotation:0, proj4_str:epsg:4326\n"
     ]
    }
   ],
   "source": [
    "nam_file = \"freyberg.nam\"\n",
    "model_ws = os.path.join(\"data\")\n",
    "ml = flopy.modflow.Modflow.load(nam_file,model_ws=model_ws,verbose=True)\n",
    "print(ml.dis.sr)"
   ]
  },
  {
   "cell_type": "markdown",
   "metadata": {},
   "source": [
    "### Some netCDF export capabilities:\n",
    "\n",
    "#### Export a 2d array"
   ]
  },
  {
   "cell_type": "code",
   "execution_count": 3,
   "metadata": {
    "collapsed": false
   },
   "outputs": [
    {
     "name": "stdout",
     "output_type": "stream",
     "text": [
      "('2016-01-16 15:22:25.379722 starting: initializing attributes\\n',)\n",
      "('2016-01-16 15:22:25.379801 finished: initializing attributes, took: 0:00:00.000079\\n',)\n",
      "('2016-01-16 15:22:25.379829 starting: getting 2D array for top\\n',)\n",
      "('2016-01-16 15:22:25.379904 finished: getting 2D array for top, took: 0:00:00.000075\\n',)\n",
      "('2016-01-16 15:22:25.380090 starting: creating variable: top\\n',)\n",
      "('2016-01-16 15:22:25.380141 starting: initializing geometry\\n',)\n",
      "('2016-01-16 15:22:25.381402 starting: building grid crs using proj4 string: +init=epsg:4326\\n',)\n",
      "('2016-01-16 15:22:25.381562 finished: building grid crs using proj4 string: +init=epsg:4326, took: 0:00:00.000160\\n',)\n",
      "('2016-01-16 15:22:25.381912 starting: projecting grid cell center arrays from <pyproj.Proj object at 0x1088a42c0> to <pyproj.Proj object at 0x1088a4390>\\n',)\n",
      "('2016-01-16 15:22:25.381990 finished: projecting grid cell center arrays from <pyproj.Proj object at 0x1088a42c0> to <pyproj.Proj object at 0x1088a4390>, took: 0:00:00.000078\\n',)\n",
      "('2016-01-16 15:22:25.382221 finished: initializing geometry, took: 0:00:00.002080\\n',)\n",
      "('2016-01-16 15:22:25.390836 starting: setting standard attributes\\n',)\n",
      "('2016-01-16 15:22:25.391265 finished: setting standard attributes, took: 0:00:00.000429\\n',)\n",
      "('2016-01-16 15:22:25.391297 starting: creating dimensions\\n',)\n",
      "('2016-01-16 15:22:25.391502 finished: creating dimensions, took: 0:00:00.000205\\n',)\n",
      "('2016-01-16 15:22:25.391539 starting: setting CRS info\\n',)\n",
      "('2016-01-16 15:22:25.391732 finished: setting CRS info, took: 0:00:00.000193\\n',)\n",
      "('2016-01-16 15:22:25.391769 starting: creating variable: time\\n',)\n",
      "('2016-01-16 15:22:25.391926 finished: creating variable: time, took: 0:00:00.000157\\n',)\n",
      "('2016-01-16 15:22:25.392844 starting: creating variable: elevation\\n',)\n",
      "('2016-01-16 15:22:25.392995 finished: creating variable: elevation, took: 0:00:00.000151\\n',)\n",
      "('2016-01-16 15:22:25.393689 starting: creating variable: longitude\\n',)\n",
      "('2016-01-16 15:22:25.393823 finished: creating variable: longitude, took: 0:00:00.000134\\n',)\n",
      "('2016-01-16 15:22:25.394699 starting: creating longitude var\\n',)\n",
      "('2016-01-16 15:22:25.394763 starting: creating latitude var\\n',)\n",
      "('2016-01-16 15:22:25.394827 starting: creating variable: latitude\\n',)\n",
      "('2016-01-16 15:22:25.395058 finished: creating variable: latitude, took: 0:00:00.000231\\n',)\n",
      "('2016-01-16 15:22:25.396060 starting: creating layer var\\n',)\n",
      "('2016-01-16 15:22:25.396146 starting: creating variable: layer\\n',)\n",
      "('2016-01-16 15:22:25.396516 finished: creating variable: layer, took: 0:00:00.000370\\n',)\n",
      "('2016-01-16 15:22:25.397650 finished: creating layer var, took: 0:00:00.001590\\n',)\n",
      "('2016-01-16 15:22:25.397704 starting: creating variable: delc\\n',)\n",
      "('2016-01-16 15:22:25.397858 finished: creating variable: delc, took: 0:00:00.000154\\n',)\n",
      "('2016-01-16 15:22:25.398428 starting: creating variable: delr\\n',)\n",
      "('2016-01-16 15:22:25.398591 finished: creating variable: delr, took: 0:00:00.000163\\n',)\n",
      "('2016-01-16 15:22:25.399212 finished: creating variable: top, took: 0:00:00.019122\\n',)\n"
     ]
    }
   ],
   "source": [
    "# export a 2d array\n",
    "ml.dis.top.export(os.path.join(model_ws, 'top.nc'))\n",
    "ml.dis.top.export(os.path.join(model_ws, 'top.shp'))"
   ]
  },
  {
   "cell_type": "markdown",
   "metadata": {},
   "source": [
    "#### Export a 3d array"
   ]
  },
  {
   "cell_type": "code",
   "execution_count": 4,
   "metadata": {
    "collapsed": false
   },
   "outputs": [
    {
     "name": "stdout",
     "output_type": "stream",
     "text": [
      "('2016-01-16 15:22:40.985996 WARNING: removing existing nc file: data/hk.nc\\n',)\n",
      "('2016-01-16 15:22:40.986296 starting: initializing attributes\\n',)\n",
      "('2016-01-16 15:22:40.986366 finished: initializing attributes, took: 0:00:00.000070\\n',)\n",
      "('2016-01-16 15:22:40.986395 starting: getting 3D array for hk\\n',)\n",
      "('2016-01-16 15:22:40.986482 finished: getting 3D array for hk, took: 0:00:00.000087\\n',)\n",
      "('2016-01-16 15:22:40.986578 starting: creating variable: hk\\n',)\n",
      "('2016-01-16 15:22:40.986625 starting: initializing geometry\\n',)\n",
      "('2016-01-16 15:22:40.986673 starting: building grid crs using proj4 string: +init=epsg:4326\\n',)\n",
      "('2016-01-16 15:22:40.986734 finished: building grid crs using proj4 string: +init=epsg:4326, took: 0:00:00.000061\\n',)\n",
      "('2016-01-16 15:22:40.986856 starting: projecting grid cell center arrays from <pyproj.Proj object at 0x10896e600> to <pyproj.Proj object at 0x1088a4188>\\n',)\n",
      "('2016-01-16 15:22:40.986955 finished: projecting grid cell center arrays from <pyproj.Proj object at 0x10896e600> to <pyproj.Proj object at 0x1088a4188>, took: 0:00:00.000099\\n',)\n",
      "('2016-01-16 15:22:40.987017 finished: initializing geometry, took: 0:00:00.000392\\n',)\n",
      "('2016-01-16 15:22:40.987383 starting: setting standard attributes\\n',)\n",
      "('2016-01-16 15:22:40.987620 finished: setting standard attributes, took: 0:00:00.000237\\n',)\n",
      "('2016-01-16 15:22:40.987647 starting: creating dimensions\\n',)\n",
      "('2016-01-16 15:22:40.987796 finished: creating dimensions, took: 0:00:00.000149\\n',)\n",
      "('2016-01-16 15:22:40.987824 starting: setting CRS info\\n',)\n",
      "('2016-01-16 15:22:40.987963 finished: setting CRS info, took: 0:00:00.000139\\n',)\n",
      "('2016-01-16 15:22:40.987993 starting: creating variable: time\\n',)\n",
      "('2016-01-16 15:22:40.988142 finished: creating variable: time, took: 0:00:00.000149\\n',)\n",
      "('2016-01-16 15:22:40.988866 starting: creating variable: elevation\\n',)\n",
      "('2016-01-16 15:22:40.989038 finished: creating variable: elevation, took: 0:00:00.000172\\n',)\n",
      "('2016-01-16 15:22:40.989659 starting: creating variable: longitude\\n',)\n",
      "('2016-01-16 15:22:40.989801 finished: creating variable: longitude, took: 0:00:00.000142\\n',)\n",
      "('2016-01-16 15:22:40.990642 starting: creating longitude var\\n',)\n",
      "('2016-01-16 15:22:40.990704 starting: creating latitude var\\n',)\n",
      "('2016-01-16 15:22:40.990745 starting: creating variable: latitude\\n',)\n",
      "('2016-01-16 15:22:40.990884 finished: creating variable: latitude, took: 0:00:00.000139\\n',)\n",
      "('2016-01-16 15:22:40.991636 starting: creating layer var\\n',)\n",
      "('2016-01-16 15:22:40.991690 starting: creating variable: layer\\n',)\n",
      "('2016-01-16 15:22:40.991906 finished: creating variable: layer, took: 0:00:00.000216\\n',)\n",
      "('2016-01-16 15:22:40.992583 finished: creating layer var, took: 0:00:00.000947\\n',)\n",
      "('2016-01-16 15:22:40.992622 starting: creating variable: delc\\n',)\n",
      "('2016-01-16 15:22:40.992743 finished: creating variable: delc, took: 0:00:00.000121\\n',)\n",
      "('2016-01-16 15:22:40.993128 starting: creating variable: delr\\n',)\n",
      "('2016-01-16 15:22:40.993247 finished: creating variable: delr, took: 0:00:00.000119\\n',)\n",
      "('2016-01-16 15:22:40.993750 finished: creating variable: hk, took: 0:00:00.007172\\n',)\n"
     ]
    }
   ],
   "source": [
    "#export a 3d array\n",
    "ml.lpf.hk.export(os.path.join(model_ws, 'hk.nc'))\n",
    "ml.lpf.hk.export(os.path.join(model_ws, 'hk.shp'))"
   ]
  },
  {
   "cell_type": "markdown",
   "metadata": {},
   "source": [
    "#### Export a number of things to the same netCDF file"
   ]
  },
  {
   "cell_type": "code",
   "execution_count": 5,
   "metadata": {
    "collapsed": false
   },
   "outputs": [
    {
     "name": "stdout",
     "output_type": "stream",
     "text": [
      "('2016-01-16 15:22:55.306674 WARNING: removing existing nc file: data/test.nc\\n',)\n",
      "('2016-01-16 15:22:55.307416 starting: initializing attributes\\n',)\n",
      "('2016-01-16 15:22:55.307494 finished: initializing attributes, took: 0:00:00.000078\\n',)\n",
      "('2016-01-16 15:22:55.307525 starting: getting 3D array for botm\\n',)\n",
      "('2016-01-16 15:22:55.307609 finished: getting 3D array for botm, took: 0:00:00.000084\\n',)\n",
      "('2016-01-16 15:22:55.307727 starting: creating variable: botm\\n',)\n",
      "('2016-01-16 15:22:55.307778 starting: initializing geometry\\n',)\n",
      "('2016-01-16 15:22:55.307828 starting: building grid crs using proj4 string: +init=epsg:4326\\n',)\n",
      "('2016-01-16 15:22:55.307890 finished: building grid crs using proj4 string: +init=epsg:4326, took: 0:00:00.000062\\n',)\n",
      "('2016-01-16 15:22:55.308047 starting: projecting grid cell center arrays from <pyproj.Proj object at 0x1088a4188> to <pyproj.Proj object at 0x10896e598>\\n',)\n",
      "('2016-01-16 15:22:55.308115 finished: projecting grid cell center arrays from <pyproj.Proj object at 0x1088a4188> to <pyproj.Proj object at 0x10896e598>, took: 0:00:00.000068\\n',)\n",
      "('2016-01-16 15:22:55.308159 finished: initializing geometry, took: 0:00:00.000381\\n',)\n",
      "('2016-01-16 15:22:55.308553 starting: setting standard attributes\\n',)\n",
      "('2016-01-16 15:22:55.308797 finished: setting standard attributes, took: 0:00:00.000244\\n',)\n",
      "('2016-01-16 15:22:55.308821 starting: creating dimensions\\n',)\n",
      "('2016-01-16 15:22:55.308953 finished: creating dimensions, took: 0:00:00.000132\\n',)\n",
      "('2016-01-16 15:22:55.308975 starting: setting CRS info\\n',)\n",
      "('2016-01-16 15:22:55.309085 finished: setting CRS info, took: 0:00:00.000110\\n',)\n",
      "('2016-01-16 15:22:55.309111 starting: creating variable: time\\n',)\n",
      "('2016-01-16 15:22:55.309225 finished: creating variable: time, took: 0:00:00.000114\\n',)\n",
      "('2016-01-16 15:22:55.309833 starting: creating variable: elevation\\n',)\n",
      "('2016-01-16 15:22:55.309989 finished: creating variable: elevation, took: 0:00:00.000156\\n',)\n",
      "('2016-01-16 15:22:55.310719 starting: creating variable: longitude\\n',)\n",
      "('2016-01-16 15:22:55.310860 finished: creating variable: longitude, took: 0:00:00.000141\\n',)\n",
      "('2016-01-16 15:22:55.311646 starting: creating longitude var\\n',)\n",
      "('2016-01-16 15:22:55.311693 starting: creating latitude var\\n',)\n",
      "('2016-01-16 15:22:55.311724 starting: creating variable: latitude\\n',)\n",
      "('2016-01-16 15:22:55.311831 finished: creating variable: latitude, took: 0:00:00.000107\\n',)\n",
      "('2016-01-16 15:22:55.312375 starting: creating layer var\\n',)\n",
      "('2016-01-16 15:22:55.312424 starting: creating variable: layer\\n',)\n",
      "('2016-01-16 15:22:55.312641 finished: creating variable: layer, took: 0:00:00.000217\\n',)\n",
      "('2016-01-16 15:22:55.313263 finished: creating layer var, took: 0:00:00.000888\\n',)\n",
      "('2016-01-16 15:22:55.313300 starting: creating variable: delc\\n',)\n",
      "('2016-01-16 15:22:55.313431 finished: creating variable: delc, took: 0:00:00.000131\\n',)\n",
      "('2016-01-16 15:22:55.313851 starting: creating variable: delr\\n',)\n",
      "('2016-01-16 15:22:55.313971 finished: creating variable: delr, took: 0:00:00.000120\\n',)\n",
      "('2016-01-16 15:22:55.314523 finished: creating variable: botm, took: 0:00:00.006796\\n',)\n",
      "('2016-01-16 15:22:55.315807 starting: getting 3D array for hk\\n',)\n",
      "('2016-01-16 15:22:55.315968 finished: getting 3D array for hk, took: 0:00:00.000161\\n',)\n",
      "('2016-01-16 15:22:55.316073 starting: creating variable: hk\\n',)\n",
      "('2016-01-16 15:22:55.316237 finished: creating variable: hk, took: 0:00:00.000164\\n',)\n",
      "('2016-01-16 15:22:55.317588 starting: getting 2D array for top\\n',)\n",
      "('2016-01-16 15:22:55.317685 finished: getting 2D array for top, took: 0:00:00.000097\\n',)\n",
      "('2016-01-16 15:22:55.317774 starting: creating variable: top\\n',)\n",
      "('2016-01-16 15:22:55.317900 finished: creating variable: top, took: 0:00:00.000126\\n',)\n",
      "('2016-01-16 15:22:55.318787 starting: getting 4D array for rech_\\n',)\n",
      "('2016-01-16 15:22:55.318861 finished: getting 4D array for rech_, took: 0:00:00.000074\\n',)\n",
      "('2016-01-16 15:22:55.318950 starting: creating variable: rech\\n',)\n",
      "('2016-01-16 15:22:55.319061 finished: creating variable: rech, took: 0:00:00.000111\\n',)\n"
     ]
    },
    {
     "data": {
      "text/plain": [
       "<flopy.export.netcdf.NetCdf at 0x1088a06d0>"
      ]
     },
     "execution_count": 5,
     "metadata": {},
     "output_type": "execute_result"
    }
   ],
   "source": [
    "# export lots of things to the same nc file\n",
    "fnc = ml.dis.botm.export(os.path.join(model_ws, 'test.nc'))\n",
    "ml.lpf.hk.export(fnc)\n",
    "ml.dis.top.export(fnc)\n",
    "\n",
    "# export transient 2d\n",
    "ml.rch.rech.export(fnc)\n"
   ]
  },
  {
   "cell_type": "markdown",
   "metadata": {},
   "source": [
    "### Export whole packages to a netCDF file"
   ]
  },
  {
   "cell_type": "code",
   "execution_count": 6,
   "metadata": {
    "collapsed": false
   },
   "outputs": [
    {
     "name": "stdout",
     "output_type": "stream",
     "text": [
      "('2016-01-16 15:23:04.386011 WARNING: removing existing nc file: data/packages.nc\\n',)\n",
      "('2016-01-16 15:23:04.386308 starting: initializing attributes\\n',)\n",
      "('2016-01-16 15:23:04.386379 finished: initializing attributes, took: 0:00:00.000071\\n',)\n",
      "('2016-01-16 15:23:04.386501 starting: getting 4D masked arrays for wel\\n',)\n",
      "('2016-01-16 15:23:04.386951 finished: getting 4D masked arrays for wel, took: 0:00:00.000450\\n',)\n",
      "('2016-01-16 15:23:04.396485 starting: creating variable: cumulative_well_flux\\n',)\n",
      "('2016-01-16 15:23:04.396591 starting: initializing geometry\\n',)\n",
      "('2016-01-16 15:23:04.396651 starting: building grid crs using proj4 string: +init=epsg:4326\\n',)\n",
      "('2016-01-16 15:23:04.396714 finished: building grid crs using proj4 string: +init=epsg:4326, took: 0:00:00.000063\\n',)\n",
      "('2016-01-16 15:23:04.396854 starting: projecting grid cell center arrays from <pyproj.Proj object at 0x10896e598> to <pyproj.Proj object at 0x10897f2c0>\\n',)\n",
      "('2016-01-16 15:23:04.396924 finished: projecting grid cell center arrays from <pyproj.Proj object at 0x10896e598> to <pyproj.Proj object at 0x10897f2c0>, took: 0:00:00.000070\\n',)\n",
      "('2016-01-16 15:23:04.396969 finished: initializing geometry, took: 0:00:00.000378\\n',)\n",
      "('2016-01-16 15:23:04.397516 starting: setting standard attributes\\n',)\n",
      "('2016-01-16 15:23:04.397727 finished: setting standard attributes, took: 0:00:00.000211\\n',)\n",
      "('2016-01-16 15:23:04.397749 starting: creating dimensions\\n',)\n",
      "('2016-01-16 15:23:04.397881 finished: creating dimensions, took: 0:00:00.000132\\n',)\n",
      "('2016-01-16 15:23:04.397903 starting: setting CRS info\\n',)\n",
      "('2016-01-16 15:23:04.398022 finished: setting CRS info, took: 0:00:00.000119\\n',)\n",
      "('2016-01-16 15:23:04.398049 starting: creating variable: time\\n',)\n",
      "('2016-01-16 15:23:04.398172 finished: creating variable: time, took: 0:00:00.000123\\n',)\n",
      "('2016-01-16 15:23:04.399118 starting: creating variable: elevation\\n',)\n",
      "('2016-01-16 15:23:04.399374 finished: creating variable: elevation, took: 0:00:00.000256\\n',)\n",
      "('2016-01-16 15:23:04.400392 starting: creating variable: longitude\\n',)\n",
      "('2016-01-16 15:23:04.400661 finished: creating variable: longitude, took: 0:00:00.000269\\n',)\n",
      "('2016-01-16 15:23:04.402139 starting: creating longitude var\\n',)\n",
      "('2016-01-16 15:23:04.402215 starting: creating latitude var\\n',)\n",
      "('2016-01-16 15:23:04.402268 starting: creating variable: latitude\\n',)\n",
      "('2016-01-16 15:23:04.402415 finished: creating variable: latitude, took: 0:00:00.000147\\n',)\n",
      "('2016-01-16 15:23:04.403072 starting: creating layer var\\n',)\n",
      "('2016-01-16 15:23:04.403121 starting: creating variable: layer\\n',)\n",
      "('2016-01-16 15:23:04.403335 finished: creating variable: layer, took: 0:00:00.000214\\n',)\n",
      "('2016-01-16 15:23:04.404057 finished: creating layer var, took: 0:00:00.000985\\n',)\n",
      "('2016-01-16 15:23:04.404095 starting: creating variable: delc\\n',)\n",
      "('2016-01-16 15:23:04.404209 finished: creating variable: delc, took: 0:00:00.000114\\n',)\n",
      "('2016-01-16 15:23:04.404703 starting: creating variable: delr\\n',)\n",
      "('2016-01-16 15:23:04.404878 finished: creating variable: delr, took: 0:00:00.000175\\n',)\n",
      "('2016-01-16 15:23:04.405875 finished: creating variable: cumulative_well_flux, took: 0:00:00.009390\\n',)\n",
      "('2016-01-16 15:23:04.406660 starting: creating variable: well_cell_2d\\n',)\n",
      "('2016-01-16 15:23:04.406787 finished: creating variable: well_cell_2d, took: 0:00:00.000127\\n',)\n",
      "('2016-01-16 15:23:04.407358 starting: creating variable: wel_flux\\n',)\n",
      "('2016-01-16 15:23:04.407519 finished: creating variable: wel_flux, took: 0:00:00.000161\\n',)\n",
      "('2016-01-16 15:23:04.408323 starting: creating variable: wel_iface\\n',)\n",
      "('2016-01-16 15:23:04.408500 finished: creating variable: wel_iface, took: 0:00:00.000177\\n',)\n",
      "('2016-01-16 15:23:04.410079 starting: getting 3D array for hani\\n',)\n",
      "('2016-01-16 15:23:04.410175 finished: getting 3D array for hani, took: 0:00:00.000096\\n',)\n",
      "('2016-01-16 15:23:04.410243 starting: creating variable: hani\\n',)\n",
      "('2016-01-16 15:23:04.410364 finished: creating variable: hani, took: 0:00:00.000121\\n',)\n",
      "('2016-01-16 15:23:04.411087 starting: getting 3D array for hk\\n',)\n",
      "('2016-01-16 15:23:04.411173 finished: getting 3D array for hk, took: 0:00:00.000086\\n',)\n",
      "('2016-01-16 15:23:04.411235 starting: creating variable: hk\\n',)\n",
      "('2016-01-16 15:23:04.411345 finished: creating variable: hk, took: 0:00:00.000110\\n',)\n",
      "('2016-01-16 15:23:04.412043 starting: getting 3D array for ss\\n',)\n",
      "('2016-01-16 15:23:04.412117 finished: getting 3D array for ss, took: 0:00:00.000074\\n',)\n",
      "('2016-01-16 15:23:04.412175 starting: creating variable: ss\\n',)\n",
      "('2016-01-16 15:23:04.412282 finished: creating variable: ss, took: 0:00:00.000107\\n',)\n",
      "('2016-01-16 15:23:04.413179 starting: getting 3D array for sy\\n',)\n",
      "('2016-01-16 15:23:04.413255 finished: getting 3D array for sy, took: 0:00:00.000076\\n',)\n",
      "('2016-01-16 15:23:04.413315 starting: creating variable: sy\\n',)\n",
      "('2016-01-16 15:23:04.413423 finished: creating variable: sy, took: 0:00:00.000108\\n',)\n",
      "('2016-01-16 15:23:04.414091 starting: getting 3D array for vka\\n',)\n",
      "('2016-01-16 15:23:04.414154 finished: getting 3D array for vka, took: 0:00:00.000063\\n',)\n",
      "('2016-01-16 15:23:04.414212 starting: creating variable: vka\\n',)\n",
      "('2016-01-16 15:23:04.414318 finished: creating variable: vka, took: 0:00:00.000106\\n',)\n",
      "('2016-01-16 15:23:04.415013 starting: getting 3D array for vkcb\\n',)\n",
      "('2016-01-16 15:23:04.415107 finished: getting 3D array for vkcb, took: 0:00:00.000094\\n',)\n",
      "('2016-01-16 15:23:04.415179 starting: creating variable: vkcb\\n',)\n",
      "('2016-01-16 15:23:04.415291 finished: creating variable: vkcb, took: 0:00:00.000112\\n',)\n",
      "('2016-01-16 15:23:04.416206 starting: getting 3D array for wetdry\\n',)\n",
      "('2016-01-16 15:23:04.416281 finished: getting 3D array for wetdry, took: 0:00:00.000075\\n',)\n",
      "('2016-01-16 15:23:04.416340 starting: creating variable: wetdry\\n',)\n",
      "('2016-01-16 15:23:04.416449 finished: creating variable: wetdry, took: 0:00:00.000109\\n',)\n"
     ]
    },
    {
     "data": {
      "text/plain": [
       "<type 'netCDF4._netCDF4.Dataset'>\n",
       "root group (NETCDF4 data model, file format HDF5):\n",
       "    Conventions: CF-1.6\n",
       "    date_created: 2016-01-16T21:23:00Z\n",
       "    geospatial_vertical_positive: up\n",
       "    geospatial_vertical_min: -27.3325004578\n",
       "    geospatial_vertical_max: -17.3986301422\n",
       "    geospatial_vertical_resolution: variable\n",
       "    featureType: Grid\n",
       "    origin_x: 0.0\n",
       "    origin_y: 10000.0\n",
       "    origin_crs: epsg:4326\n",
       "    grid_rotation_from_origin: 0.0\n",
       "    dimensions(sizes): time(1), layer(1), y(40), x(20)\n",
       "    variables(dimensions): int32 \u001b[4mcrs\u001b[0m(), float64 \u001b[4mtime\u001b[0m(time), float64 \u001b[4melevation\u001b[0m(layer,y,x), float64 \u001b[4mlongitude\u001b[0m(y,x), float64 \u001b[4mlatitude\u001b[0m(y,x), float32 \u001b[4mlayer\u001b[0m(layer), float32 \u001b[4mdelc\u001b[0m(y), float32 \u001b[4mdelr\u001b[0m(x), |S1 \u001b[4mVerticalTransform\u001b[0m(), float32 \u001b[4mcumulative_well_flux\u001b[0m(layer,y,x), float32 \u001b[4mwell_cell_2d\u001b[0m(y,x), float32 \u001b[4mwel_flux\u001b[0m(time,layer,y,x), float32 \u001b[4mwel_iface\u001b[0m(time,layer,y,x), float32 \u001b[4mhani\u001b[0m(layer,y,x), float32 \u001b[4mhk\u001b[0m(layer,y,x), float32 \u001b[4mss\u001b[0m(layer,y,x), float32 \u001b[4msy\u001b[0m(layer,y,x), float32 \u001b[4mvka\u001b[0m(layer,y,x), float32 \u001b[4mvkcb\u001b[0m(layer,y,x), float32 \u001b[4mwetdry\u001b[0m(layer,y,x)\n",
       "    groups: "
      ]
     },
     "execution_count": 6,
     "metadata": {},
     "output_type": "execute_result"
    }
   ],
   "source": [
    "# export mflist\n",
    "fnc = ml.wel.export(os.path.join(model_ws, 'packages.nc'))\n",
    "ml.lpf.export(fnc)\n",
    "fnc.nc"
   ]
  },
  {
   "cell_type": "markdown",
   "metadata": {},
   "source": [
    "### Export the whole model to a netCDF and a shapefile"
   ]
  },
  {
   "cell_type": "code",
   "execution_count": 7,
   "metadata": {
    "collapsed": false
   },
   "outputs": [
    {
     "name": "stdout",
     "output_type": "stream",
     "text": [
      "('2016-01-16 15:23:45.049693 WARNING: removing existing nc file: data/model.nc\\n',)\n",
      "('2016-01-16 15:23:45.050047 starting: initializing attributes\\n',)\n",
      "('2016-01-16 15:23:45.050118 finished: initializing attributes, took: 0:00:00.000071\\n',)\n",
      "('2016-01-16 15:23:45.050221 starting: getting 3D array for botm\\n',)\n",
      "('2016-01-16 15:23:45.050311 finished: getting 3D array for botm, took: 0:00:00.000090\\n',)\n",
      "('2016-01-16 15:23:45.050401 starting: creating variable: botm\\n',)\n",
      "('2016-01-16 15:23:45.050449 starting: initializing geometry\\n',)\n",
      "('2016-01-16 15:23:45.050498 starting: building grid crs using proj4 string: +init=epsg:4326\\n',)\n",
      "('2016-01-16 15:23:45.050560 finished: building grid crs using proj4 string: +init=epsg:4326, took: 0:00:00.000062\\n',)\n",
      "('2016-01-16 15:23:45.050717 starting: projecting grid cell center arrays from <pyproj.Proj object at 0x10897f390> to <pyproj.Proj object at 0x10897f808>\\n',)\n",
      "('2016-01-16 15:23:45.050807 finished: projecting grid cell center arrays from <pyproj.Proj object at 0x10897f390> to <pyproj.Proj object at 0x10897f808>, took: 0:00:00.000090\\n',)\n",
      "('2016-01-16 15:23:45.050857 finished: initializing geometry, took: 0:00:00.000408\\n',)\n",
      "('2016-01-16 15:23:45.051490 starting: setting standard attributes\\n',)\n",
      "('2016-01-16 15:23:45.051736 finished: setting standard attributes, took: 0:00:00.000246\\n',)\n",
      "('2016-01-16 15:23:45.051763 starting: creating dimensions\\n',)\n",
      "('2016-01-16 15:23:45.051922 finished: creating dimensions, took: 0:00:00.000159\\n',)\n",
      "('2016-01-16 15:23:45.051948 starting: setting CRS info\\n',)\n",
      "('2016-01-16 15:23:45.052088 finished: setting CRS info, took: 0:00:00.000140\\n',)\n",
      "('2016-01-16 15:23:45.052116 starting: creating variable: time\\n',)\n",
      "('2016-01-16 15:23:45.052251 finished: creating variable: time, took: 0:00:00.000135\\n',)\n",
      "('2016-01-16 15:23:45.053000 starting: creating variable: elevation\\n',)\n",
      "('2016-01-16 15:23:45.053171 finished: creating variable: elevation, took: 0:00:00.000171\\n',)\n",
      "('2016-01-16 15:23:45.053854 starting: creating variable: longitude\\n',)\n",
      "('2016-01-16 15:23:45.054000 finished: creating variable: longitude, took: 0:00:00.000146\\n',)\n",
      "('2016-01-16 15:23:45.054881 starting: creating longitude var\\n',)\n",
      "('2016-01-16 15:23:45.054945 starting: creating latitude var\\n',)\n",
      "('2016-01-16 15:23:45.054982 starting: creating variable: latitude\\n',)\n",
      "('2016-01-16 15:23:45.055115 finished: creating variable: latitude, took: 0:00:00.000133\\n',)\n",
      "('2016-01-16 15:23:45.055802 starting: creating layer var\\n',)\n",
      "('2016-01-16 15:23:45.055863 starting: creating variable: layer\\n',)\n",
      "('2016-01-16 15:23:45.056119 finished: creating variable: layer, took: 0:00:00.000256\\n',)\n",
      "('2016-01-16 15:23:45.056963 finished: creating layer var, took: 0:00:00.001161\\n',)\n",
      "('2016-01-16 15:23:45.057008 starting: creating variable: delc\\n',)\n",
      "('2016-01-16 15:23:45.057137 finished: creating variable: delc, took: 0:00:00.000129\\n',)\n",
      "('2016-01-16 15:23:45.057576 starting: creating variable: delr\\n',)\n",
      "('2016-01-16 15:23:45.057706 finished: creating variable: delr, took: 0:00:00.000130\\n',)\n",
      "('2016-01-16 15:23:45.058282 finished: creating variable: botm, took: 0:00:00.007881\\n',)\n",
      "('2016-01-16 15:23:45.059062 starting: getting 3D array for thickness\\n',)\n",
      "('2016-01-16 15:23:45.059156 finished: getting 3D array for thickness, took: 0:00:00.000094\\n',)\n",
      "('2016-01-16 15:23:45.059225 starting: creating variable: thickness\\n',)\n",
      "('2016-01-16 15:23:45.059338 finished: creating variable: thickness, took: 0:00:00.000113\\n',)\n",
      "('2016-01-16 15:23:45.060271 starting: getting 2D array for top\\n',)\n",
      "('2016-01-16 15:23:45.060341 finished: getting 2D array for top, took: 0:00:00.000070\\n',)\n",
      "('2016-01-16 15:23:45.060470 starting: creating variable: top\\n',)\n",
      "('2016-01-16 15:23:45.060621 finished: creating variable: top, took: 0:00:00.000151\\n',)\n",
      "('2016-01-16 15:23:45.061692 starting: getting 3D array for ibound\\n',)\n",
      "('2016-01-16 15:23:45.061786 finished: getting 3D array for ibound, took: 0:00:00.000094\\n',)\n",
      "('2016-01-16 15:23:45.061848 starting: creating variable: ibound\\n',)\n",
      "('2016-01-16 15:23:45.061969 finished: creating variable: ibound, took: 0:00:00.000121\\n',)\n",
      "('2016-01-16 15:23:45.062664 starting: getting 3D array for strt\\n',)\n",
      "('2016-01-16 15:23:45.062737 finished: getting 3D array for strt, took: 0:00:00.000073\\n',)\n",
      "('2016-01-16 15:23:45.062800 starting: creating variable: strt\\n',)\n",
      "('2016-01-16 15:23:45.062910 finished: creating variable: strt, took: 0:00:00.000110\\n',)\n",
      "('2016-01-16 15:23:45.063779 starting: getting 3D array for hani\\n',)\n",
      "('2016-01-16 15:23:45.063866 finished: getting 3D array for hani, took: 0:00:00.000087\\n',)\n",
      "('2016-01-16 15:23:45.063941 starting: creating variable: hani\\n',)\n",
      "('2016-01-16 15:23:45.064087 finished: creating variable: hani, took: 0:00:00.000146\\n',)\n",
      "('2016-01-16 15:23:45.064799 starting: getting 3D array for hk\\n',)\n",
      "('2016-01-16 15:23:45.064865 finished: getting 3D array for hk, took: 0:00:00.000066\\n',)\n",
      "('2016-01-16 15:23:45.064932 starting: creating variable: hk\\n',)\n",
      "('2016-01-16 15:23:45.065038 finished: creating variable: hk, took: 0:00:00.000106\\n',)\n",
      "('2016-01-16 15:23:45.065715 starting: getting 3D array for ss\\n',)\n",
      "('2016-01-16 15:23:45.065777 finished: getting 3D array for ss, took: 0:00:00.000062\\n',)\n",
      "('2016-01-16 15:23:45.065836 starting: creating variable: ss\\n',)\n",
      "('2016-01-16 15:23:45.065943 finished: creating variable: ss, took: 0:00:00.000107\\n',)\n",
      "('2016-01-16 15:23:45.066811 starting: getting 3D array for sy\\n',)\n",
      "('2016-01-16 15:23:45.066875 finished: getting 3D array for sy, took: 0:00:00.000064\\n',)\n",
      "('2016-01-16 15:23:45.066929 starting: creating variable: sy\\n',)\n",
      "('2016-01-16 15:23:45.067030 finished: creating variable: sy, took: 0:00:00.000101\\n',)\n",
      "('2016-01-16 15:23:45.067678 starting: getting 3D array for vka\\n',)\n",
      "('2016-01-16 15:23:45.067739 finished: getting 3D array for vka, took: 0:00:00.000061\\n',)\n",
      "('2016-01-16 15:23:45.067794 starting: creating variable: vka\\n',)\n",
      "('2016-01-16 15:23:45.067898 finished: creating variable: vka, took: 0:00:00.000104\\n',)\n",
      "('2016-01-16 15:23:45.068599 starting: getting 3D array for vkcb\\n',)\n",
      "('2016-01-16 15:23:45.068665 finished: getting 3D array for vkcb, took: 0:00:00.000066\\n',)\n",
      "('2016-01-16 15:23:45.068728 starting: creating variable: vkcb\\n',)\n",
      "('2016-01-16 15:23:45.068834 finished: creating variable: vkcb, took: 0:00:00.000106\\n',)\n",
      "('2016-01-16 15:23:45.070004 starting: getting 3D array for wetdry\\n',)\n",
      "('2016-01-16 15:23:45.070172 finished: getting 3D array for wetdry, took: 0:00:00.000168\\n',)\n",
      "('2016-01-16 15:23:45.070319 starting: creating variable: wetdry\\n',)\n",
      "('2016-01-16 15:23:45.070609 finished: creating variable: wetdry, took: 0:00:00.000290\\n',)\n",
      "('2016-01-16 15:23:45.071975 starting: getting 4D masked arrays for riv\\n',)\n",
      "('2016-01-16 15:23:45.074171 finished: getting 4D masked arrays for riv, took: 0:00:00.002196\\n',)\n",
      "('2016-01-16 15:23:45.074211 starting: creating variable: riv_rbot\\n',)\n",
      "('2016-01-16 15:23:45.074364 finished: creating variable: riv_rbot, took: 0:00:00.000153\\n',)\n",
      "('2016-01-16 15:23:45.075431 starting: creating variable: riv_iface\\n',)\n",
      "('2016-01-16 15:23:45.075568 finished: creating variable: riv_iface, took: 0:00:00.000137\\n',)\n",
      "('2016-01-16 15:23:45.076479 starting: creating variable: riv_cond\\n',)\n",
      "('2016-01-16 15:23:45.076617 finished: creating variable: riv_cond, took: 0:00:00.000138\\n',)\n",
      "('2016-01-16 15:23:45.077467 starting: creating variable: riv_stage\\n',)\n",
      "('2016-01-16 15:23:45.077593 finished: creating variable: riv_stage, took: 0:00:00.000126\\n',)\n",
      "('2016-01-16 15:23:45.078627 starting: getting 4D array for rech_\\n',)\n",
      "('2016-01-16 15:23:45.078759 finished: getting 4D array for rech_, took: 0:00:00.000132\\n',)\n",
      "('2016-01-16 15:23:45.078869 starting: creating variable: rech\\n',)\n",
      "('2016-01-16 15:23:45.079066 finished: creating variable: rech, took: 0:00:00.000197\\n',)\n",
      "('2016-01-16 15:23:45.080421 starting: getting 4D masked arrays for wel\\n',)\n",
      "('2016-01-16 15:23:45.080755 finished: getting 4D masked arrays for wel, took: 0:00:00.000334\\n',)\n",
      "('2016-01-16 15:23:45.080844 starting: creating variable: cumulative_well_flux\\n',)\n",
      "('2016-01-16 15:23:45.080965 finished: creating variable: cumulative_well_flux, took: 0:00:00.000121\\n',)\n",
      "('2016-01-16 15:23:45.082014 starting: creating variable: well_cell_2d\\n',)\n",
      "('2016-01-16 15:23:45.082182 finished: creating variable: well_cell_2d, took: 0:00:00.000168\\n',)\n",
      "('2016-01-16 15:23:45.082994 starting: creating variable: wel_flux\\n',)\n",
      "('2016-01-16 15:23:45.083134 finished: creating variable: wel_flux, took: 0:00:00.000140\\n',)\n",
      "('2016-01-16 15:23:45.084005 starting: creating variable: wel_iface\\n',)\n",
      "('2016-01-16 15:23:45.084135 finished: creating variable: wel_iface, took: 0:00:00.000130\\n',)\n"
     ]
    },
    {
     "data": {
      "text/plain": [
       "<type 'netCDF4._netCDF4.Dataset'>\n",
       "root group (NETCDF4 data model, file format HDF5):\n",
       "    Conventions: CF-1.6\n",
       "    date_created: 2016-01-16T21:23:00Z\n",
       "    geospatial_vertical_positive: up\n",
       "    geospatial_vertical_min: -27.3325004578\n",
       "    geospatial_vertical_max: -17.3986301422\n",
       "    geospatial_vertical_resolution: variable\n",
       "    featureType: Grid\n",
       "    origin_x: 0.0\n",
       "    origin_y: 10000.0\n",
       "    origin_crs: epsg:4326\n",
       "    grid_rotation_from_origin: 0.0\n",
       "    dimensions(sizes): time(1), layer(1), y(40), x(20)\n",
       "    variables(dimensions): int32 \u001b[4mcrs\u001b[0m(), float64 \u001b[4mtime\u001b[0m(time), float64 \u001b[4melevation\u001b[0m(layer,y,x), float64 \u001b[4mlongitude\u001b[0m(y,x), float64 \u001b[4mlatitude\u001b[0m(y,x), float32 \u001b[4mlayer\u001b[0m(layer), float32 \u001b[4mdelc\u001b[0m(y), float32 \u001b[4mdelr\u001b[0m(x), |S1 \u001b[4mVerticalTransform\u001b[0m(), float32 \u001b[4mbotm\u001b[0m(layer,y,x), float32 \u001b[4mthickness\u001b[0m(layer,y,x), float32 \u001b[4mtop\u001b[0m(y,x), int32 \u001b[4mibound\u001b[0m(layer,y,x), float32 \u001b[4mstrt\u001b[0m(layer,y,x), float32 \u001b[4mhani\u001b[0m(layer,y,x), float32 \u001b[4mhk\u001b[0m(layer,y,x), float32 \u001b[4mss\u001b[0m(layer,y,x), float32 \u001b[4msy\u001b[0m(layer,y,x), float32 \u001b[4mvka\u001b[0m(layer,y,x), float32 \u001b[4mvkcb\u001b[0m(layer,y,x), float32 \u001b[4mwetdry\u001b[0m(layer,y,x), float32 \u001b[4mriv_rbot\u001b[0m(time,layer,y,x), float32 \u001b[4mriv_iface\u001b[0m(time,layer,y,x), float32 \u001b[4mriv_cond\u001b[0m(time,layer,y,x), float32 \u001b[4mriv_stage\u001b[0m(time,layer,y,x), float32 \u001b[4mrech\u001b[0m(time,layer,y,x), float32 \u001b[4mcumulative_well_flux\u001b[0m(layer,y,x), float32 \u001b[4mwell_cell_2d\u001b[0m(y,x), float32 \u001b[4mwel_flux\u001b[0m(time,layer,y,x), float32 \u001b[4mwel_iface\u001b[0m(time,layer,y,x)\n",
       "    groups: "
      ]
     },
     "execution_count": 7,
     "metadata": {},
     "output_type": "execute_result"
    }
   ],
   "source": [
    "fnc = ml.export(os.path.join(model_ws, 'model.nc'))\n",
    "ml.export(os.path.join(model_ws, 'model.shp'))\n",
    "fnc.nc"
   ]
  },
  {
   "cell_type": "code",
   "execution_count": null,
   "metadata": {
    "collapsed": true
   },
   "outputs": [],
   "source": []
  }
 ],
 "metadata": {
  "kernelspec": {
   "display_name": "Python 2",
   "language": "python",
   "name": "python2"
  },
  "language_info": {
   "codemirror_mode": {
    "name": "ipython",
    "version": 2
   },
   "file_extension": ".py",
   "mimetype": "text/x-python",
   "name": "python",
   "nbconvert_exporter": "python",
   "pygments_lexer": "ipython2",
   "version": "2.7.11"
  }
 },
 "nbformat": 4,
 "nbformat_minor": 0
}
