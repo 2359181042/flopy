{
 "cells": [
  {
   "cell_type": "markdown",
   "metadata": {},
   "source": [
    "###Very early demo of netCDF capabilities within the export module. "
   ]
  },
  {
   "cell_type": "code",
   "execution_count": 3,
   "metadata": {
    "collapsed": true
   },
   "outputs": [],
   "source": [
    "from __future__ import print_function\n",
    "import os\n",
    "import flopy"
   ]
  },
  {
   "cell_type": "markdown",
   "metadata": {},
   "source": [
    "Load our old friend...the Freyberg model"
   ]
  },
  {
   "cell_type": "code",
   "execution_count": 4,
   "metadata": {
    "collapsed": false
   },
   "outputs": [],
   "source": [
    "nam_file = \"freyberg.nam\"\n",
    "model_ws = os.path.join(\"data\")\n",
    "ml = flopy.modflow.Modflow.load(nam_file,model_ws=model_ws)"
   ]
  },
  {
   "cell_type": "markdown",
   "metadata": {},
   "source": [
    "Some netCDF capabilities:"
   ]
  },
  {
   "cell_type": "code",
   "execution_count": 5,
   "metadata": {
    "collapsed": false
   },
   "outputs": [
    {
     "ename": "SyntaxError",
     "evalue": "invalid syntax (<ipython-input-5-6ab648a49d33>, line 5)",
     "output_type": "error",
     "traceback": [
      "\u001b[0;36m  File \u001b[0;32m\"<ipython-input-5-6ab648a49d33>\"\u001b[0;36m, line \u001b[0;32m5\u001b[0m\n\u001b[0;31m    ml.lpf.hk.export(\"hk.nc\")\u001b[0m\n\u001b[0m     ^\u001b[0m\n\u001b[0;31mSyntaxError\u001b[0m\u001b[0;31m:\u001b[0m invalid syntax\n"
     ]
    }
   ],
   "source": [
    "# export a 2d array\n",
    "ml.dis.top.export(os.path.join(ml.model_ws,\"top.nc\")\n",
    "\n",
    "#export a 3d array\n",
    "ml.lpf.hk.export(\"hk.nc\")\n",
    "\n",
    "# export lots of things to the same nc file\n",
    "fnc = ml.dis.botm.export(os.path.join(ml.model_ws,\"test.nc\"))\n",
    "ml.lpf.hk.export(fnc)\n",
    "ml.dis.top.export(fnc)\n",
    "# export transient 2d\n",
    "ml.rch.rech.export(fnc)\n",
    "\n"
   ]
  },
  {
   "cell_type": "code",
   "execution_count": 6,
   "metadata": {
    "collapsed": false
   },
   "outputs": [
    {
     "data": {
      "text/plain": [
       "<type 'netCDF4._netCDF4.Dataset'>\n",
       "root group (NETCDF4 data model, file format HDF5):\n",
       "    Conventions: CF-1.6\n",
       "    date_created: 2015-12-11T16:54:00Z\n",
       "    geospatial_vertical_positive: up\n",
       "    geospatial_vertical_min: -27.3325004578\n",
       "    geospatial_vertical_max: -17.3986301422\n",
       "    geospatial_vertical_resolution: variable\n",
       "    featureType: Grid\n",
       "    origin_x: 0.0\n",
       "    origin_y: 10000.0\n",
       "    origin_crs: EPSG:4326\n",
       "    grid_rotation_from_origin: 0.0\n",
       "    dimensions(sizes): time(1), layer(1), y(40), x(20)\n",
       "    variables(dimensions): int32 \u001b[4mcrs\u001b[0m(), float64 \u001b[4mtime\u001b[0m(time), float64 \u001b[4melevation\u001b[0m(layer,y,x), float64 \u001b[4mlongitude\u001b[0m(y,x), float64 \u001b[4mlatitude\u001b[0m(y,x), float32 \u001b[4mlayer\u001b[0m(layer), float32 \u001b[4mdelc\u001b[0m(y), float32 \u001b[4mdelr\u001b[0m(x), |S1 \u001b[4mVerticalTransform\u001b[0m(), float32 \u001b[4mwel_flux\u001b[0m(time,layer,y,x), float32 \u001b[4mwel_iface\u001b[0m(time,layer,y,x), float32 \u001b[4mhani\u001b[0m(layer,y,x), float32 \u001b[4mhk\u001b[0m(layer,y,x), float32 \u001b[4mss\u001b[0m(layer,y,x), float32 \u001b[4msy\u001b[0m(layer,y,x), float32 \u001b[4mvka\u001b[0m(layer,y,x), float32 \u001b[4mvkcb\u001b[0m(layer,y,x), float32 \u001b[4mwetdry\u001b[0m(layer,y,x)\n",
       "    groups: "
      ]
     },
     "execution_count": 6,
     "metadata": {},
     "output_type": "execute_result"
    }
   ],
   "source": [
    "# export whole packages\n",
    "# export mflist\n",
    "fnc = ml.wel.export(os.path.join(ml.model_ws,\"packages.nc\"))\n",
    "ml.lpf.export(fnc)\n",
    "fnc.nc\n",
    "\n"
   ]
  },
  {
   "cell_type": "code",
   "execution_count": 7,
   "metadata": {
    "collapsed": false
   },
   "outputs": [
    {
     "data": {
      "text/plain": [
       "<type 'netCDF4._netCDF4.Dataset'>\n",
       "root group (NETCDF4 data model, file format HDF5):\n",
       "    Conventions: CF-1.6\n",
       "    date_created: 2015-12-11T16:54:00Z\n",
       "    geospatial_vertical_positive: up\n",
       "    geospatial_vertical_min: -27.3325004578\n",
       "    geospatial_vertical_max: -17.3986301422\n",
       "    geospatial_vertical_resolution: variable\n",
       "    featureType: Grid\n",
       "    origin_x: 0.0\n",
       "    origin_y: 10000.0\n",
       "    origin_crs: EPSG:4326\n",
       "    grid_rotation_from_origin: 0.0\n",
       "    dimensions(sizes): time(1), layer(1), y(40), x(20)\n",
       "    variables(dimensions): int32 \u001b[4mcrs\u001b[0m(), float64 \u001b[4mtime\u001b[0m(time), float64 \u001b[4melevation\u001b[0m(layer,y,x), float64 \u001b[4mlongitude\u001b[0m(y,x), float64 \u001b[4mlatitude\u001b[0m(y,x), float32 \u001b[4mlayer\u001b[0m(layer), float32 \u001b[4mdelc\u001b[0m(y), float32 \u001b[4mdelr\u001b[0m(x), |S1 \u001b[4mVerticalTransform\u001b[0m(), float32 \u001b[4mbotm\u001b[0m(layer,y,x), float32 \u001b[4mthickness\u001b[0m(layer,y,x), float32 \u001b[4mtop\u001b[0m(y,x), float32 \u001b[4mrech\u001b[0m(time,y,x), int32 \u001b[4mibound\u001b[0m(layer,y,x), float32 \u001b[4mstrt\u001b[0m(layer,y,x), float32 \u001b[4mhani\u001b[0m(layer,y,x), float32 \u001b[4mhk\u001b[0m(layer,y,x), float32 \u001b[4mss\u001b[0m(layer,y,x), float32 \u001b[4msy\u001b[0m(layer,y,x), float32 \u001b[4mvka\u001b[0m(layer,y,x), float32 \u001b[4mvkcb\u001b[0m(layer,y,x), float32 \u001b[4mwetdry\u001b[0m(layer,y,x), float32 \u001b[4mriv_rbot\u001b[0m(time,layer,y,x), float32 \u001b[4mriv_iface\u001b[0m(time,layer,y,x), float32 \u001b[4mriv_cond\u001b[0m(time,layer,y,x), float32 \u001b[4mriv_stage\u001b[0m(time,layer,y,x), float32 \u001b[4mwel_flux\u001b[0m(time,layer,y,x), float32 \u001b[4mwel_iface\u001b[0m(time,layer,y,x)\n",
       "    groups: "
      ]
     },
     "execution_count": 7,
     "metadata": {},
     "output_type": "execute_result"
    }
   ],
   "source": [
    "# or just export the whole model\n",
    "fnc = ml.export(os.path.join(ml.model_ws,\"model.nc\"))\n",
    "fnc.nc"
   ]
  },
  {
   "cell_type": "markdown",
   "metadata": {
    "collapsed": true
   },
   "source": [
    "We can also use ```.export()``` with shapefiles"
   ]
  },
  {
   "cell_type": "code",
   "execution_count": 8,
   "metadata": {
    "collapsed": true
   },
   "outputs": [],
   "source": [
    "ml.wel.export(os.path.join(ml.model_ws,\"packages.shp\"))\n",
    "ml.export(os.path.join(ml.model_ws,\"model.shp\"))\n",
    "ml.lpf.hk.export(os.path.join(ml.model_ws,\"hk.shp\"))"
   ]
  }
 ],
 "metadata": {
  "kernelspec": {
   "display_name": "Python 2",
   "language": "python",
   "name": "python2"
  },
  "language_info": {
   "codemirror_mode": {
    "name": "ipython",
    "version": 2
   },
   "file_extension": ".py",
   "mimetype": "text/x-python",
   "name": "python",
   "nbconvert_exporter": "python",
   "pygments_lexer": "ipython2",
   "version": "2.7.10"
  }
 },
 "nbformat": 4,
 "nbformat_minor": 0
}
