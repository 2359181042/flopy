{
 "metadata": {
  "name": "",
  "signature": "sha256:ec9284c8a1cfa2c152c5926680c8458056f80f4283ca38a28a85593e917930a6"
 },
 "nbformat": 3,
 "nbformat_minor": 0,
 "worksheets": [
  {
   "cells": [
    {
     "cell_type": "markdown",
     "metadata": {},
     "source": [
      "#Using ```flopy``` to simplify the use of the the overly-complicated ```SSM``` package\n",
      "a multi-component transport demostration"
     ]
    },
    {
     "cell_type": "code",
     "collapsed": false,
     "input": [
      "import os\n",
      "import subprocess as sp\n",
      "import numpy as np\n",
      "from flopy import modflow,mt3d,seawat"
     ],
     "language": "python",
     "metadata": {},
     "outputs": [],
     "prompt_number": 39
    },
    {
     "cell_type": "markdown",
     "metadata": {},
     "source": [
      "First, we will create a simple model structure"
     ]
    },
    {
     "cell_type": "code",
     "collapsed": false,
     "input": [
      "nlay, nrow, ncol = 10, 10, 10\n",
      "perlen = np.zeros(10) + 10\n",
      "nper = len(perlen)\n",
      "\n",
      "ibound = np.ones((nlay,nrow,ncol))\n",
      "\n",
      "botm = np.arange(-1,-11,-1)\n",
      "top = 0\n"
     ],
     "language": "python",
     "metadata": {},
     "outputs": [],
     "prompt_number": 40
    },
    {
     "cell_type": "markdown",
     "metadata": {},
     "source": [
      "##```modflow``` packages"
     ]
    },
    {
     "cell_type": "code",
     "collapsed": false,
     "input": [
      "model_ws = \"ssm_example\"\n",
      "mf = modflow.Modflow(\"simple\", model_ws=model_ws)\n",
      "dis = modflow.ModflowDis(mf, nlay=nlay, nrow=nrow, ncol=ncol, perlen=perlen, nper=nper, botm=botm, top=top, steady=False)\n",
      "bas = modflow.ModflowBas(mf, ibound=ibound, strt=top)\n",
      "lpf = modflow.ModflowLpf(mf, hk=100, vka=100, ss=0.00001, sy=0.1)\n",
      "oc = modflow.ModflowOc(mf)\n",
      "pcg = modflow.ModflowPcg(mf)\n",
      "rch = modflow.ModflowRch()\n"
     ],
     "language": "python",
     "metadata": {},
     "outputs": [],
     "prompt_number": 41
    },
    {
     "cell_type": "markdown",
     "metadata": {},
     "source": [
      "```modflow``` boundary conditions.  We'll track the cell locs for the ```SSM``` data"
     ]
    },
    {
     "cell_type": "markdown",
     "metadata": {},
     "source": [
      "get a ```dict``` that has the ```itype``` for each of the boundary types"
     ]
    },
    {
     "cell_type": "code",
     "collapsed": false,
     "input": [
      "itype = mt3d.Mt3dSsm.itype_dict()\n",
      "print itype\n",
      "print mt3d.Mt3dSsm.get_default_dtype()\n",
      "ssm_data = {}"
     ],
     "language": "python",
     "metadata": {},
     "outputs": [
      {
       "output_type": "stream",
       "stream": "stdout",
       "text": [
        "{'BAS6': 1, 'MAS': 15, 'CHD': 1, 'GHB': 5, 'RIV': 4, 'WEL': 2, 'CC': -1, 'PBC': 1, 'DRN': 3}\n",
        "[('k', '<i4'), ('i', '<i4'), ('j', '<i4'), ('css', '<f4'), ('itype', '<i4')]\n"
       ]
      }
     ],
     "prompt_number": 82
    },
    {
     "cell_type": "markdown",
     "metadata": {},
     "source": [
      "Add a ```ghb```.  The ```bhead``` is 0.1 for the first 5 stress periods with a comp_1 concentration of 1.0 and a comp_2 concentration of 100.0.  Then ```bhead``` is raised to 0.25 and comp_1 concentration is lowered to 0.5 and comp_2 concentration is raised to 200.0"
     ]
    },
    {
     "cell_type": "code",
     "collapsed": false,
     "input": [
      "ghb_data = {}\n",
      "print modflow.ModflowGhb.get_default_dtype()\n",
      "ghb_data[0] = [(4,4,4,0.1,1.5)]\n",
      "ssm_data[0] = [(4,4,4,1.0,itype[\"GHB\"],1.0,100.0)]\n",
      "ghb_data[5] = [(4,4,4,0.25,1.5)]\n",
      "ssm_data[5] = [(4,4,4,0.5,itype[\"GHB\"],0.5,200.0)]\n",
      "\n",
      "for k in range(nlay):\n",
      "    for i in xrange(nrow):\n",
      "        ghb_data[0].append((k,i,0,0.0,100.0))\n",
      "        ssm_data[0].append((k,i,0,0.0,itype[\"GHB\"],0.0,0.0))\n",
      "    \n",
      "ghb_data[5] = [(4,4,4,0.25,1.5)]\n",
      "ssm_data[5] = [(4,4,4,0.5,itype[\"GHB\"],0.5,200.0)]\n",
      "for k in range(nlay):\n",
      "    for i in xrange(nrow):\n",
      "        ghb_data[5].append((k,i,0,-0.5,100.0))\n",
      "        ssm_data[5].append((k,i,0,0.0,itype[\"GHB\"],0.0,0.0))\n",
      "    \n",
      "\n"
     ],
     "language": "python",
     "metadata": {},
     "outputs": [
      {
       "output_type": "stream",
       "stream": "stdout",
       "text": [
        "[('k', '<i4'), ('i', '<i4'), ('j', '<i4'), ('bhead', '<f4'), ('cond', '<f4')]\n"
       ]
      }
     ],
     "prompt_number": 83
    },
    {
     "cell_type": "markdown",
     "metadata": {},
     "source": [
      "Add an injection ```well```.  The ```flux``` is 10.0 with a comp_1 concentration of 10.0 and a comp_2 concentration of 0.0 for all stress periods.  WARNING: since we changed the ```SSM``` data in stress period 6, we need to add the well to the ssm_data for stress period 6."
     ]
    },
    {
     "cell_type": "code",
     "collapsed": false,
     "input": [
      "wel_data = {}\n",
      "print modflow.ModflowWel.get_default_dtype()\n",
      "wel_data[0] = [(0,4,8,10.0)]\n",
      "ssm_data[0].append((0,4,8,10.0,itype[\"WEL\"],10.0,0.0))\n",
      "ssm_data[5].append((0,4,8,10.0,itype[\"WEL\"],10.0,0.0))\n"
     ],
     "language": "python",
     "metadata": {},
     "outputs": [
      {
       "output_type": "stream",
       "stream": "stdout",
       "text": [
        "[('k', '<i4'), ('i', '<i4'), ('j', '<i4'), ('flux', '<f4')]\n"
       ]
      }
     ],
     "prompt_number": 84
    },
    {
     "cell_type": "markdown",
     "metadata": {},
     "source": [
      "add the ```GHB``` and ```WEL``` packages"
     ]
    },
    {
     "cell_type": "code",
     "collapsed": false,
     "input": [
      "ghb = modflow.ModflowGhb(mf, stress_period_data=ghb_data)\n",
      "wel = modflow.ModflowWel(mf, stress_period_data=wel_data)"
     ],
     "language": "python",
     "metadata": {},
     "outputs": [
      {
       "output_type": "stream",
       "stream": "stdout",
       "text": [
        "****Warning -- two packages of the same type:  <class 'flopy.modflow.mfghb.ModflowGhb'> <class 'flopy.modflow.mfghb.ModflowGhb'>\n",
        "replacing existing Package...\n",
        "****Warning -- two packages of the same type:  <class 'flopy.modflow.mfwel.ModflowWel'> <class 'flopy.modflow.mfwel.ModflowWel'>\n",
        "replacing existing Package...\n"
       ]
      }
     ],
     "prompt_number": 85
    },
    {
     "cell_type": "markdown",
     "metadata": {},
     "source": [
      "##```Mt3D``` packages"
     ]
    },
    {
     "cell_type": "code",
     "collapsed": false,
     "input": [
      "mt = mt3d.Mt3dms(modflowmodel=mf, modelname=\"simple\", model_ws=model_ws)\n",
      "btn = mt3d.Mt3dBtn(mt,sconc=0,ncomp=2, sconc2=50.0)\n",
      "adv = mt3d.Mt3dAdv(mt)\n",
      "ssm = mt3d.Mt3dSsm(mt,stress_period_data=ssm_data)\n",
      "gcg = mt3d.Mt3dGcg(mt)"
     ],
     "language": "python",
     "metadata": {},
     "outputs": [],
     "prompt_number": 86
    },
    {
     "cell_type": "markdown",
     "metadata": {},
     "source": [
      "Let's verify that ```stress_period_data``` has the right ```dtype```"
     ]
    },
    {
     "cell_type": "code",
     "collapsed": false,
     "input": [
      "print ssm.stress_period_data.dtype\n"
     ],
     "language": "python",
     "metadata": {},
     "outputs": [
      {
       "output_type": "stream",
       "stream": "stdout",
       "text": [
        "[('k', '<i4'), ('i', '<i4'), ('j', '<i4'), ('css', '<f4'), ('itype', '<i4'), ('cssm(01)', '<f4'), ('cssm(02)', '<f4')]\n"
       ]
      }
     ],
     "prompt_number": 87
    },
    {
     "cell_type": "markdown",
     "metadata": {},
     "source": [
      "##```SEAWAT```"
     ]
    },
    {
     "cell_type": "code",
     "collapsed": false,
     "input": [
      "swt = seawat.Seawat(modflowmodel=mf, mt3dmsmodel=mt, modelname=\"simple\", namefile_ext=\"nam_swt\", model_ws=model_ws)\n",
      "vdf = seawat.SeawatVdf(swt,mtdnconc=0,iwtable=0,indense=-1)\n"
     ],
     "language": "python",
     "metadata": {},
     "outputs": [],
     "prompt_number": 88
    },
    {
     "cell_type": "code",
     "collapsed": false,
     "input": [
      "mf.write_input()\n",
      "mt.write_input()\n",
      "swt.write_input()"
     ],
     "language": "python",
     "metadata": {},
     "outputs": [],
     "prompt_number": 89
    },
    {
     "cell_type": "markdown",
     "metadata": {},
     "source": [
      "a cheap fix for ```indense```"
     ]
    },
    {
     "cell_type": "code",
     "collapsed": false,
     "input": [
      "f = open(os.path.join(model_ws,\"simple.vdf\"),'r')\n",
      "lines = f.readlines()\n",
      "f.close()\n",
      "f = open(os.path.join(model_ws,\"simple.vdf\"),'w')\n",
      "for line in lines:\n",
      "    f.write(line)\n",
      "for kper in xrange(nper):\n",
      "    f.write(\"-1\\n\")\n",
      "f.close()    \n",
      "\n"
     ],
     "language": "python",
     "metadata": {},
     "outputs": [],
     "prompt_number": 90
    },
    {
     "cell_type": "code",
     "collapsed": false,
     "input": [],
     "language": "python",
     "metadata": {},
     "outputs": []
    }
   ],
   "metadata": {}
  }
 ]
}