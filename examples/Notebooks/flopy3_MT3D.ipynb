{
 "cells": [
  {
   "cell_type": "markdown",
   "metadata": {},
   "source": [
    "# FloPy\n",
    "\n",
    "### MT3D-USGS Example\n",
    "\n",
    "Demonstrates functionality of the flopy MT3D-USGS module using the 'Crank-Nicolson' example distributed with MT3D-USGS.  \n",
    "\n",
    "#### Problem description:\n",
    "\n",
    "* Grid dimensions: 1 Layer, 3 Rows, 650 Columns\n",
    "* Stress periods: 12\n",
    "* Units are in seconds and days\n",
    "* Flow package: UPW\n",
    "* Stress packages: SFR, GHB, UZF\n",
    "* Solvers: NWT, GCG"
   ]
  },
  {
   "cell_type": "code",
   "execution_count": null,
   "metadata": {
    "collapsed": true
   },
   "outputs": [],
   "source": [
    "import sys\n",
    "import os\n",
    "import flopy.utils.binaryfile as bf\n",
    "import flopy\n",
    "import numpy as np\n",
    "import math"
   ]
  },
  {
   "cell_type": "markdown",
   "metadata": {
    "collapsed": true
   },
   "source": [
    "Set up model discretization"
   ]
  },
  {
   "cell_type": "code",
   "execution_count": null,
   "metadata": {
    "collapsed": true
   },
   "outputs": [],
   "source": [
    "name = 'CrnkNic'\n",
    "Lx = 650.0 \n",
    "Ly = 15\n",
    "nrow = 3\n",
    "ncol = 650\n",
    "nlay = 1\n",
    "\n",
    "delr = Lx / ncol\n",
    "delc = Ly / nrow\n",
    "\n",
    "xmax = ncol * delr\n",
    "ymax = nrow * delc\n",
    "\n",
    "X, Y = np.meshgrid(np.linspace(delr / 2, xmax - delr / 2, ncol),    \n",
    "                   np.linspace(ymax - delc / 2, 0 + delc / 2, nrow))\n"
   ]
  },
  {
   "cell_type": "markdown",
   "metadata": {},
   "source": [
    "Instantiate MODFLOW object in flopy"
   ]
  },
  {
   "cell_type": "code",
   "execution_count": null,
   "metadata": {
    "collapsed": true
   },
   "outputs": [],
   "source": [
    "mf = flopy.modflow.Modflow(modelname, exe_name=exe_name, model_ws=directory, version='mfnwt')"
   ]
  },
  {
   "cell_type": "markdown",
   "metadata": {},
   "source": [
    "Instantiate output control (oc) package for MODFLOW-NWT"
   ]
  },
  {
   "cell_type": "code",
   "execution_count": null,
   "metadata": {
    "collapsed": true
   },
   "outputs": [],
   "source": [
    "# Output Control: Create a flopy output control object\n",
    "oc = flopy.modflow.ModflowOc(mf)                      "
   ]
  },
  {
   "cell_type": "markdown",
   "metadata": {},
   "source": [
    "Instantiate solver package for MODFLOW-NWT"
   ]
  },
  {
   "cell_type": "code",
   "execution_count": null,
   "metadata": {
    "collapsed": true
   },
   "outputs": [],
   "source": [
    "# Newton-Rhapson Solver: Create a flopy nwt package object\n",
    "\n",
    "headtol = 1.0E-4 \n",
    "fluxtol = 5      \n",
    "maxiterout = 5000\n",
    "thickfact = 1E-06\n",
    "linmeth = 2      \n",
    "iprnwt = 1       \n",
    "ibotav = 1       \n",
    "                                                                                      \n",
    "nwt = flopy.modflow.ModflowNwt(mf, headtol=headtol, fluxtol=fluxtol, maxiterout=maxiterout,       \n",
    "                               thickfact=thickfact, linmeth=linmeth, iprnwt=iprnwt, ibotav=ibotav,\n",
    "                               options='SIMPLE')                                                  \n"
   ]
  },
  {
   "cell_type": "markdown",
   "metadata": {},
   "source": [
    "Instantiate discretization (DIS) package for MODFLOW-NWT"
   ]
  },
  {
   "cell_type": "code",
   "execution_count": null,
   "metadata": {
    "collapsed": true
   },
   "outputs": [],
   "source": [
    "# The equations for calculating the ground elevation in the 1 Layer CrnkNic model.  \n",
    "# Although Y isn't used, keeping it here for symetry\n",
    "def topElev(X, Y):\n",
    "    return 100. - (math.ceil(X)-1) * 0.03\n",
    "\n",
    "grndElev = topElev(X, Y)\n",
    "bedRockElev = GrndElev - 3.\n",
    "\n",
    "Steady = [False, False, False]                                                                  \n",
    "nstp = [1, 1, 1]                                                                        \n",
    "tsmult = [1., 1., 1.]                                                                        \n",
    "perlen = [30600, 10800, 45000]                                                                    \n",
    "                                                                                       \n",
    "# Create the discretization object\n",
    "# itmuni = 1 (seconds); lenuni = 2 (meters)\n",
    "dis = flopy.modflow.ModflowDis(mf, nlay, nrow, ncol, nper=3, delr=delr, delc=delc,     \n",
    "                               top=grndElev, botm=bedRockElev, laycbd=0, itmuni=1, lenuni=2,\n",
    "                               steady=Steady, nstp=nstp, tsmult=tsmult, perlen=perlen) "
   ]
  },
  {
   "cell_type": "markdown",
   "metadata": {},
   "source": [
    "Instantiate upstream weighting (UPW) flow package for MODFLOW-NWT"
   ]
  },
  {
   "cell_type": "code",
   "execution_count": null,
   "metadata": {
    "collapsed": true
   },
   "outputs": [],
   "source": [
    "# UPW parameters \n",
    "# UPW must be instantiated after DIS.  Otherwise, during the mf.write_input() procedures,   \n",
    "# flopy will crash.\n",
    "\n",
    "laytyp = 1   \n",
    "layavg = 2   \n",
    "chani = 1.0  \n",
    "layvka = 1   \n",
    "iphdry = 0   \n",
    "hk = 0.1     \n",
    "hani = 1     \n",
    "vka = 1.     \n",
    "ss = 0.000001\n",
    "sy = 0.20\n",
    "                                                                                            \n",
    "upw = flopy.modflow.ModflowUpw(mf, laytyp=laytyp, layavg=layavg, chani=chani, layvka=layvka,\n",
    "                               ipakcb=53, hdry=hdry, iphdry=iphdry, hk=hk, hani=hani,       \n",
    "                               vka=vka, ss=ss, sy=sy)                                       \n"
   ]
  },
  {
   "cell_type": "markdown",
   "metadata": {},
   "source": [
    "Instantiate basic (BAS or BA6) package for MODFLOW-NWT"
   ]
  },
  {
   "cell_type": "code",
   "execution_count": null,
   "metadata": {
    "collapsed": true
   },
   "outputs": [],
   "source": [
    "# Create a flopy basic package object                                               \n",
    "def calc_strtElev(X, Y):\n",
    "    return 99.5 - (math.ceil(X)-1) * 0.0001\n",
    "\n",
    "ibound = np.ones((nlay, nrow, ncol))\n",
    "ibound[:,0,:] *= -1\n",
    "ibound[:,2,:] *= -1\n",
    "hdry = -888  \n",
    "strtElev = calc_strtElev(X, Y)\n",
    "\n",
    "bas = flopy.modflow.ModflowBas(mf, ibound=ibound, hnoflo=hdry, strt=strtElev)       \n"
   ]
  },
  {
   "cell_type": "code",
   "execution_count": null,
   "metadata": {
    "collapsed": true
   },
   "outputs": [],
   "source": [
    "Instantiate streamflow routing (SFR2) package for MODFLOW-NWT"
   ]
  },
  {
   "cell_type": "code",
   "execution_count": null,
   "metadata": {
    "collapsed": true
   },
   "outputs": [],
   "source": [
    "# Streamflow Routing Package: Try and set up with minimal options in use\n",
    "# 9 11 IFACE # Data Set 1: ISTCB1  ISTCB2\n",
    "\n",
    "nstrm = ncol\n",
    "nss = 6\n",
    "const = 1.0\n",
    "dleak = 0.0001\n",
    "istcb1 = -10\n",
    "istcb2 = 11\n",
    "isfropt = 1\n",
    "# nstrail = 10\n",
    "# isuzn = 1\n",
    "\n",
    "nsfrsets = 30\n",
    "irtflg = 1\n",
    "numtim = 2\n",
    "weight = 0.75\n",
    "flwtol = 0.0001\n",
    "segment_data = None\n",
    "channel_geometry_data = None\n",
    "channel_flow_data = None\n",
    "dataset_5 = None\n",
    "reachinput = False\n",
    "\n",
    "# The next couple of lines set up the reach_data for the 30x100 hypothetical model.\n",
    "# Will need to adjust the row based on which grid discretization we're doing.\n",
    "# Ensure that the stream goes down one of the middle rows of the model.\n",
    "\n",
    "# Determine the middle row and store in rBot (account for 0-base)\n",
    "rBot = nrow - 1\n",
    "\n",
    "s1 = u\"k,i,j,iseg,ireach,rchlen,iface\\n\"\n",
    "for y in xrange(ncol):\n",
    "    #    layer +    row    +        col   +  iseg +   irch      +     rchlen     +    iface\n",
    "    s1 += '0,' + str(rBot) + ',' + str(y) + ',1,' + str(y+1) + ',' + str(delr) + ',' + u'0\\n'\n",
    "\n",
    "s1 = StringIO(s1)\n",
    "reach_data = np.genfromtxt(s1, delimiter=',',names=True, dtype=[('k', '<f8'), ('i', '<f8'), ('j', '<f8'), ('iseg', '<f8'), ('ireach', '<f8'), ('rchlen', '<f8')])\n",
    "\n",
    "# Will need to adjust the elevations of the upper and lower ends of the segment based on topElev array\n",
    "# In Cara's original model, these two items appaer to be calculated as 5 m below ground surface (5 m of stream incision)\n",
    "s2 = StringIO(u\"nseg,icalc,outseg,iupseg,nstrpts,   flow,runoff,etsw,pptsw,roughch,roughbk,cdpth,fdpth,awdth,bwdth,hcond1,thickm1,elevup,width1,depth1,hcond2,thickm2,elevdn,width2,depth2\\n\\\n",
    "                   1,    1,     0,     0,      0,25000.0,   0.0, 0.0,  0.0,  0.020,    0.0,  0.0,  0.0,  0.0,  0.0,   1.0,    1.0, 254.9,  20.0,   0.0,   1.0,    1.0,225.15,  20.0,   0.0\")\n",
    "segment_data = np.genfromtxt(s2, delimiter=',',names=True)\n",
    "# Adjust the elevations of the upstream and downstream ends of the segment\n",
    "ELEVUP = segment_data['elevup'] = topElev[rBot,0] - 10.\n",
    "ELEVDN = segment_data['elevdn'] = topElev[rBot,ncol-1] - 10.\n",
    "# Be sure to convert segment_data to a dictionary keyed on stress period.\n",
    "segment_data = np.atleast_1d(segment_data)\n",
    "segment_data = {0: segment_data,\n",
    "                1: segment_data}\n",
    "\n",
    "# There are 2 stress periods\n",
    "dataset_5 = {0: [nss, 0, 0],\n",
    "             1: [nss, 0, 0]}\n",
    "\n",
    "channel_flow_data = {0: {1:[[ 1.0E+00, 1.0E+00, ELEVUP, 2.0E+01],    #Data set 6b: HCOND1 THICKM1 ELEVUP WIDTH1\n",
    "                            [ 1.0E+00, 1.0E+00, ELEVDN, 2.0E+01]]},  #Data set 6c: HCOND2 THICKM2 ELEVDN WIDTH2\n",
    "                     1: {2:[[ 1.0E+00, 1.0E+00, ELEVUP, 2.0E+01],    #Data set 6b: HCOND1 THICKM1 ELEVUP WIDTH1\n",
    "                            [ 1.0E+00, 1.0E+00, ELEVDN, 2.0E+01]]},} #Data set 6c: HCOND2 THICKM2 ELEVDN WIDTH2\n",
    "\n",
    "sfr = flopy.modflow.ModflowSfr2(mf, nstrm=nstrm, nss=nss, const=const, dleak=dleak,\n",
    "                                istcb1=53, istcb2=0, reach_data=reach_data, dataset_5=dataset_5,\n",
    "                                segment_data=segment_data, channel_flow_data=channel_flow_data)"
   ]
  }
 ],
 "metadata": {
  "kernelspec": {
   "display_name": "Python 2",
   "language": "python",
   "name": "python2"
  },
  "language_info": {
   "codemirror_mode": {
    "name": "ipython",
    "version": 2
   },
   "file_extension": ".py",
   "mimetype": "text/x-python",
   "name": "python",
   "nbconvert_exporter": "python",
   "pygments_lexer": "ipython2",
   "version": "2.7.11"
  }
 },
 "nbformat": 4,
 "nbformat_minor": 0
}
