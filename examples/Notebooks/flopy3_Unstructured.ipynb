{
 "cells": [
  {
   "cell_type": "markdown",
   "metadata": {},
   "source": [
    "# FloPy\n",
    "\n",
    "## Plotting unstructured grids\n",
    "This notebook demonstrates the unstructured mapping capabilities of flopy."
   ]
  },
  {
   "cell_type": "code",
   "execution_count": 1,
   "metadata": {
    "collapsed": false
   },
   "outputs": [],
   "source": [
    "%matplotlib inline\n",
    "import os\n",
    "import matplotlib.pyplot as plt\n",
    "import random\n",
    "import numpy as np\n",
    "import flopy\n",
    "\n",
    "datapth = os.path.join('..', 'data', 'unstructured')"
   ]
  },
  {
   "cell_type": "code",
   "execution_count": 2,
   "metadata": {
    "collapsed": true
   },
   "outputs": [],
   "source": [
    "# functions to load vertices and incidence lists\n",
    "def load_verts(fname):\n",
    "    return(np.genfromtxt(fname))\n",
    "\n",
    "def load_iverts(fname):\n",
    "    f = open(fname, 'r')\n",
    "    iverts = []\n",
    "    xc = []\n",
    "    yc = []\n",
    "    for line in f:\n",
    "        ll = line.strip().split()\n",
    "        iverts.append([int(i) - 1 for i in ll[4:]])\n",
    "        xc.append(float(ll[1]))\n",
    "        yc.append(float(ll[2]))\n",
    "    return iverts, np.array(xc), np.array(yc)"
   ]
  },
  {
   "cell_type": "code",
   "execution_count": 3,
   "metadata": {
    "collapsed": true
   },
   "outputs": [],
   "source": [
    "# load vertices\n",
    "fname = os.path.join(datapth, 'ugrid_verts.dat')\n",
    "verts = load_verts(fname)[:, 1:]\n",
    "\n",
    "# load iverts\n",
    "fname = os.path.join(datapth, 'ugrid_iverts.dat')\n",
    "iverts, xc, yc = load_iverts(fname)"
   ]
  },
  {
   "cell_type": "code",
   "execution_count": 4,
   "metadata": {
    "collapsed": false
   },
   "outputs": [
    {
     "name": "stdout",
     "output_type": "stream",
     "text": [
      "xul:0; yul:0; rotation:0; proj4_str:+init=EPSG:4326; units:meters; lenuni:1; length_multiplier:1.0\n"
     ]
    }
   ],
   "source": [
    "ncpl = np.array(5 * [len(iverts)])\n",
    "sr = flopy.utils.reference.SpatialReferenceUnstructured(xc, yc, verts, iverts, ncpl)\n",
    "print(sr)"
   ]
  },
  {
   "cell_type": "code",
   "execution_count": 10,
   "metadata": {
    "collapsed": false
   },
   "outputs": [
    {
     "ename": "TypeError",
     "evalue": "plot_array() got an unexpected keyword argument 'ax'",
     "output_type": "error",
     "traceback": [
      "\u001b[0;31m---------------------------------------------------------------------------\u001b[0m",
      "\u001b[0;31mTypeError\u001b[0m                                 Traceback (most recent call last)",
      "\u001b[0;32m<ipython-input-10-4b9b93daf9e6>\u001b[0m in \u001b[0;36m<module>\u001b[0;34m()\u001b[0m\n\u001b[1;32m      3\u001b[0m \u001b[0ma\u001b[0m \u001b[0;34m=\u001b[0m \u001b[0mnp\u001b[0m\u001b[0;34m.\u001b[0m\u001b[0mrandom\u001b[0m\u001b[0;34m.\u001b[0m\u001b[0mrandom\u001b[0m\u001b[0;34m(\u001b[0m\u001b[0;34m(\u001b[0m\u001b[0mncpl\u001b[0m\u001b[0;34m[\u001b[0m\u001b[0;36m0\u001b[0m\u001b[0;34m]\u001b[0m\u001b[0;34m)\u001b[0m\u001b[0;34m)\u001b[0m\u001b[0;34m\u001b[0m\u001b[0m\n\u001b[1;32m      4\u001b[0m \u001b[0mmm\u001b[0m \u001b[0;34m=\u001b[0m \u001b[0mflopy\u001b[0m\u001b[0;34m.\u001b[0m\u001b[0mplot\u001b[0m\u001b[0;34m.\u001b[0m\u001b[0mModelMap\u001b[0m\u001b[0;34m(\u001b[0m\u001b[0msr\u001b[0m\u001b[0;34m=\u001b[0m\u001b[0msr\u001b[0m\u001b[0;34m)\u001b[0m\u001b[0;34m\u001b[0m\u001b[0m\n\u001b[0;32m----> 5\u001b[0;31m \u001b[0mmm\u001b[0m\u001b[0;34m.\u001b[0m\u001b[0mplot_array\u001b[0m\u001b[0;34m(\u001b[0m\u001b[0ma\u001b[0m\u001b[0;34m)\u001b[0m\u001b[0;34m\u001b[0m\u001b[0m\n\u001b[0m\u001b[1;32m      6\u001b[0m \u001b[0mmm\u001b[0m\u001b[0;34m.\u001b[0m\u001b[0mcontour_array\u001b[0m\u001b[0;34m(\u001b[0m\u001b[0ma\u001b[0m\u001b[0;34m)\u001b[0m\u001b[0;34m\u001b[0m\u001b[0m\n\u001b[1;32m      7\u001b[0m \u001b[0mplt\u001b[0m\u001b[0;34m.\u001b[0m\u001b[0mplot\u001b[0m\u001b[0;34m(\u001b[0m\u001b[0mxc\u001b[0m\u001b[0;34m,\u001b[0m \u001b[0myc\u001b[0m\u001b[0;34m,\u001b[0m \u001b[0;34m'bo'\u001b[0m\u001b[0;34m)\u001b[0m\u001b[0;34m\u001b[0m\u001b[0m\n",
      "\u001b[0;32m/Users/jdhughes/Documents/Development/flopy_git/flopy/plot/map.py\u001b[0m in \u001b[0;36mplot_array\u001b[0;34m(self, a, masked_values, **kwargs)\u001b[0m\n\u001b[1;32m    138\u001b[0m         \u001b[0;31m# quadmesh = ax.pcolormesh(self.sr.xgrid, self.sr.ygrid, plotarray,\u001b[0m\u001b[0;34m\u001b[0m\u001b[0;34m\u001b[0m\u001b[0m\n\u001b[1;32m    139\u001b[0m         \u001b[0;31m#                          **kwargs)\u001b[0m\u001b[0;34m\u001b[0m\u001b[0;34m\u001b[0m\u001b[0m\n\u001b[0;32m--> 140\u001b[0;31m         \u001b[0mquadmesh\u001b[0m \u001b[0;34m=\u001b[0m \u001b[0mself\u001b[0m\u001b[0;34m.\u001b[0m\u001b[0msr\u001b[0m\u001b[0;34m.\u001b[0m\u001b[0mplot_array\u001b[0m\u001b[0;34m(\u001b[0m\u001b[0mplotarray\u001b[0m\u001b[0;34m,\u001b[0m \u001b[0max\u001b[0m\u001b[0;34m=\u001b[0m\u001b[0max\u001b[0m\u001b[0;34m)\u001b[0m\u001b[0;34m\u001b[0m\u001b[0m\n\u001b[0m\u001b[1;32m    141\u001b[0m \u001b[0;34m\u001b[0m\u001b[0m\n\u001b[1;32m    142\u001b[0m         \u001b[0;31m# set max and min\u001b[0m\u001b[0;34m\u001b[0m\u001b[0;34m\u001b[0m\u001b[0m\n",
      "\u001b[0;31mTypeError\u001b[0m: plot_array() got an unexpected keyword argument 'ax'"
     ]
    },
    {
     "data": {
      "image/png": "[encoded data removed]",
      "text/plain": [
       "<matplotlib.figure.Figure at 0x1166d0320>"
      ]
     },
     "metadata": {},
     "output_type": "display_data"
    }
   ],
   "source": [
    "f = plt.figure(figsize=(10, 10))\n",
    "ax = f.gca()\n",
    "a = np.random.random((ncpl[0]))\n",
    "mm = flopy.plot.ModelMap(sr=sr)\n",
    "mm.plot_array(a)\n",
    "mm.contour_array(a)\n",
    "plt.plot(xc, yc, 'bo')"
   ]
  },
  {
   "cell_type": "code",
   "execution_count": null,
   "metadata": {
    "collapsed": false
   },
   "outputs": [],
   "source": [
    "ibound = np.ones((ncpl[0]))\n",
    "ibound[0:10] = -1\n",
    "ibound[-10:] = 0\n",
    "mm = flopy.plot.ModelMap(sr=sr)\n",
    "mm.plot_ibound(ibound=ibound)"
   ]
  },
  {
   "cell_type": "code",
   "execution_count": null,
   "metadata": {
    "collapsed": false
   },
   "outputs": [],
   "source": [
    "f = plt.figure(figsize=(10, 10))\n",
    "mm = flopy.plot.ModelMap(sr=sr)\n",
    "mm.plot_grid(colors='green')\n",
    "plt.plot(sr.xcenter, sr.ycenter, 'bo')"
   ]
  },
  {
   "cell_type": "code",
   "execution_count": null,
   "metadata": {
    "collapsed": false
   },
   "outputs": [],
   "source": [
    "fname = os.path.join(datapth, 'Trimesh_local.exp')\n",
    "f = plt.figure(figsize=(10, 10))\n",
    "sr = flopy.utils.reference.SpatialReferenceUnstructured.from_argus_export(fname, nlay=1)\n",
    "mm = flopy.plot.ModelMap(sr=sr)\n",
    "mm.plot_grid(colors='green')\n",
    "#plt.plot(sr.xcenter, sr.ycenter, 'bo')"
   ]
  },
  {
   "cell_type": "code",
   "execution_count": null,
   "metadata": {
    "collapsed": false
   },
   "outputs": [],
   "source": [
    "f = plt.figure(figsize=(10, 10))\n",
    "fnames = [fname for fname in os.listdir(datapth) if fname.endswith('.exp')]\n",
    "nplot = len(fnames)\n",
    "for i, f in enumerate(fnames):\n",
    "    ax = plt.subplot(nplot / 2 + 1, 2, i + 1, aspect='equal')\n",
    "    fname = os.path.join(datapth, f)\n",
    "    sr = flopy.utils.reference.SpatialReferenceUnstructured.from_argus_export(fname, nlay=1)\n",
    "    mm = flopy.plot.ModelMap(sr=sr, ax=ax)\n",
    "    mm.plot_grid(colors='k')\n",
    "    ax.set_title(fname)"
   ]
  },
  {
   "cell_type": "code",
   "execution_count": null,
   "metadata": {
    "collapsed": false
   },
   "outputs": [],
   "source": []
  },
  {
   "cell_type": "code",
   "execution_count": null,
   "metadata": {
    "collapsed": true
   },
   "outputs": [],
   "source": []
  }
 ],
 "metadata": {
  "anaconda-cloud": {},
  "kernelspec": {
   "display_name": "Python [conda root]",
   "language": "python",
   "name": "conda-root-py"
  },
  "language_info": {
   "codemirror_mode": {
    "name": "ipython",
    "version": 3
   },
   "file_extension": ".py",
   "mimetype": "text/x-python",
   "name": "python",
   "nbconvert_exporter": "python",
   "pygments_lexer": "ipython3",
   "version": "3.5.2"
  }
 },
 "nbformat": 4,
 "nbformat_minor": 0
}
