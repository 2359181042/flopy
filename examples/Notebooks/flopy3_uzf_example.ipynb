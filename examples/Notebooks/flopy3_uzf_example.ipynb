{
 "cells": [
  {
   "cell_type": "markdown",
   "metadata": {},
   "source": [
    "# FloPy\n",
    "### UZF example\n",
    "Demonstrates functionality of the flopy UZF module using the example from [Niswonger and others (2006)](http://pubs.usgs.gov/tm/2006/tm6a19/). This is the same as the SFR example problem from Prudic and others (2004;\n",
    "p. 13–19), except the UZF package replaces the ET and RCH packages.\n",
    "\n",
    "#### Problem description:\n",
    "\n",
    "* Grid dimensions: 1 Layer, 15 Rows, 10 Columns  \n",
    "* Stress periods: 12  \n",
    "* Units are in seconds and days\n",
    "* Flow package: LPF  \n",
    "* Stress packages: SFR, GHB, UZF \n",
    "* Solver: SIP  \n",
    "\n",
    "<img src=\"./img/Niswonger2006_fig13.png\" width=\"400\" height=\"500\"/>"
   ]
  },
  {
   "cell_type": "code",
   "execution_count": 1,
   "metadata": {
    "collapsed": false
   },
   "outputs": [],
   "source": [
    "%matplotlib inline\n",
    "\n",
    "import sys\n",
    "import glob\n",
    "import os\n",
    "import platform\n",
    "import shutil\n",
    "import numpy as np\n",
    "import pandas as pd\n",
    "import matplotlib.pyplot as plt\n",
    "import flopy\n",
    "import flopy.utils.binaryfile as bf"
   ]
  },
  {
   "cell_type": "code",
   "execution_count": 2,
   "metadata": {
    "collapsed": false
   },
   "outputs": [],
   "source": [
    "#Set name of MODFLOW exe\n",
    "#  assumes executable is in users path statement\n",
    "exe_name = 'mf2005'\n",
    "if platform.system() == 'Windows':\n",
    "    exe_name += '.exe'"
   ]
  },
  {
   "cell_type": "code",
   "execution_count": 3,
   "metadata": {
    "collapsed": false
   },
   "outputs": [],
   "source": [
    "path = 'temp'\n",
    "if not os.path.isdir(path):\n",
    "    os.mkdirs(path)\n",
    "gpth = os.path.join('..', 'data', 'mf2005_test', 'UZFtest2.*')\n",
    "for f in glob.glob(gpth):\n",
    "    shutil.copy(f, path)"
   ]
  },
  {
   "cell_type": "markdown",
   "metadata": {},
   "source": [
    "### Load example dataset, skipping the UZF package"
   ]
  },
  {
   "cell_type": "code",
   "execution_count": 4,
   "metadata": {
    "collapsed": false
   },
   "outputs": [],
   "source": [
    "m = flopy.modflow.Modflow.load('UZFtest2.nam', version='mf2005', exe_name=exe_name, \n",
    "                               model_ws=path, load_only=['ghb', 'dis', 'bas6', 'oc', 'sip', 'lpf', 'sfr'])"
   ]
  },
  {
   "cell_type": "markdown",
   "metadata": {},
   "source": [
    "### remove previous uzf external file references \n",
    "(so they don't conflict with the ones made by flopy)"
   ]
  },
  {
   "cell_type": "code",
   "execution_count": 5,
   "metadata": {
    "collapsed": false
   },
   "outputs": [
    {
     "data": {
      "text/plain": [
       "['temp/UZFtest2.uzf1',\n",
       " 'temp/UZFtest2.uzf2',\n",
       " 'temp/UZFtest2.uzf3',\n",
       " 'temp/UZFtest2.uzf4',\n",
       " 'temp/UZFtest2.sg2',\n",
       " 'temp/UZFtest2.sg3',\n",
       " 'temp/UZFtest2.sg4',\n",
       " 'temp/UZFtest2.sg5',\n",
       " 'temp/UZFtest2.sg6',\n",
       " 'temp/UZFtest2.sg7',\n",
       " 'temp/UZFtest2.sg8',\n",
       " 'temp/UZFtest2dv.sg9',\n",
       " 'temp/UZFtest2.sg1',\n",
       " 'temp/UZFtest2.uzfot']"
      ]
     },
     "execution_count": 5,
     "metadata": {},
     "output_type": "execute_result"
    }
   ],
   "source": [
    "m.external_fnames"
   ]
  },
  {
   "cell_type": "code",
   "execution_count": 6,
   "metadata": {
    "collapsed": false
   },
   "outputs": [],
   "source": [
    "rm = [True if '.uz' in f else False for f in m.external_fnames]"
   ]
  },
  {
   "cell_type": "code",
   "execution_count": 7,
   "metadata": {
    "collapsed": false
   },
   "outputs": [
    {
     "data": {
      "text/plain": [
       "['temp/UZFtest2.sg2',\n",
       " 'temp/UZFtest2.sg3',\n",
       " 'temp/UZFtest2.sg4',\n",
       " 'temp/UZFtest2.sg5',\n",
       " 'temp/UZFtest2.sg6',\n",
       " 'temp/UZFtest2.sg7',\n",
       " 'temp/UZFtest2.sg8',\n",
       " 'temp/UZFtest2dv.sg9',\n",
       " 'temp/UZFtest2.sg1']"
      ]
     },
     "execution_count": 7,
     "metadata": {},
     "output_type": "execute_result"
    }
   ],
   "source": [
    "m.external_fnames = [f for i, f in enumerate(m.external_fnames) if not rm[i]]\n",
    "m.external_fnames"
   ]
  },
  {
   "cell_type": "code",
   "execution_count": 8,
   "metadata": {
    "collapsed": true
   },
   "outputs": [],
   "source": [
    "m.external_binflag = [f for i, f in enumerate(m.external_binflag) if not rm[i]]\n",
    "m.external_output = [f for i, f in enumerate(m.external_output) if not rm[i]]\n",
    "m.external_units = [f for i, f in enumerate(m.external_output) if not rm[i]]"
   ]
  },
  {
   "cell_type": "markdown",
   "metadata": {},
   "source": [
    "### `izufbnd` array  \n",
    "* in the example, the UZF package **izufbnd** array is the same as the ibound"
   ]
  },
  {
   "cell_type": "code",
   "execution_count": 9,
   "metadata": {
    "collapsed": false
   },
   "outputs": [
    {
     "data": {
      "image/png": "[encoded data removed]",
      "text/plain": [
       "<matplotlib.figure.Figure at 0x118c92ac8>"
      ]
     },
     "metadata": {},
     "output_type": "display_data"
    }
   ],
   "source": [
    "fig = plt.figure(figsize=(8, 8))\n",
    "ax = fig.add_subplot(1, 1, 1, aspect='equal')\n",
    "modelmap = flopy.plot.ModelMap(model=m)\n",
    "quadmesh = modelmap.plot_ibound()\n",
    "linecollection = modelmap.plot_grid()"
   ]
  },
  {
   "cell_type": "markdown",
   "metadata": {},
   "source": [
    "### Set up the ```irunbnd``` array  \n",
    "* read this in from an external file"
   ]
  },
  {
   "cell_type": "code",
   "execution_count": 10,
   "metadata": {
    "collapsed": false
   },
   "outputs": [
    {
     "data": {
      "image/png": "[encoded data removed]",
      "text/plain": [
       "<matplotlib.figure.Figure at 0x118ca1ef0>"
      ]
     },
     "metadata": {},
     "output_type": "display_data"
    }
   ],
   "source": [
    "irnbndpth = os.path.join('..', 'data', 'uzf_examples', 'irunbnd.dat')\n",
    "irunbnd = np.loadtxt(irnbndpth)\n",
    "\n",
    "fig = plt.figure(figsize=(8, 8))\n",
    "ax = fig.add_subplot(1, 1, 1, aspect='equal')\n",
    "modelmap = flopy.plot.ModelMap(model=m)\n",
    "irunbndplt = modelmap.plot_array(irunbnd)\n",
    "plt.colorbar(irunbndplt, ax=ax, label='SFR segment')\n",
    "linecollection = modelmap.plot_grid()"
   ]
  },
  {
   "cell_type": "markdown",
   "metadata": {},
   "source": [
    "### ``vks`` (unsaturated zone vertical hydraulic conductivity) array"
   ]
  },
  {
   "cell_type": "code",
   "execution_count": 11,
   "metadata": {
    "collapsed": false
   },
   "outputs": [
    {
     "data": {
      "image/png": "[encoded data removed]",
      "text/plain": [
       "<matplotlib.figure.Figure at 0x11ae6cb38>"
      ]
     },
     "metadata": {},
     "output_type": "display_data"
    }
   ],
   "source": [
    "vksbndpth = os.path.join('..', 'data', 'uzf_examples', 'vks.dat')\n",
    "vks = np.loadtxt(vksbndpth)\n",
    "\n",
    "fig = plt.figure(figsize=(8, 8))\n",
    "ax = fig.add_subplot(1, 1, 1, aspect='equal')\n",
    "modelmap = flopy.plot.ModelMap(model=m)\n",
    "vksplt = modelmap.plot_array(vks)\n",
    "plt.colorbar(vksplt, ax=ax, label='Layer 1 Kv')\n",
    "linecollection = modelmap.plot_grid()"
   ]
  },
  {
   "cell_type": "code",
   "execution_count": 12,
   "metadata": {
    "collapsed": false
   },
   "outputs": [
    {
     "name": "stdout",
     "output_type": "stream",
     "text": [
      "   loading iuzfbnd array...\n",
      "   loading irunbnd array...\n",
      "   loading vks array...\n",
      "   loading eps array...\n",
      "   loading thts array...\n",
      "stress period 1:\n",
      "   loading finf array...\n",
      "   loading pet array...\n",
      "   loading extdp array...\n",
      "   loading extwc array...\n",
      "stress period 2:\n",
      "   loading finf array...\n",
      "   loading pet array...\n",
      "stress period 3:\n",
      "   loading finf array...\n",
      "stress period 4:\n",
      "   loading finf array...\n",
      "stress period 5:\n",
      "   loading finf array...\n",
      "stress period 6:\n",
      "   loading finf array...\n",
      "stress period 7:\n",
      "   loading finf array...\n",
      "stress period 8:\n",
      "   loading finf array...\n",
      "stress period 9:\n",
      "   loading finf array...\n",
      "stress period 10:\n",
      "   loading finf array...\n",
      "stress period 11:\n",
      "   loading finf array...\n",
      "stress period 12:\n",
      "   loading finf array...\n"
     ]
    }
   ],
   "source": [
    "m2 = flopy.modflow.Modflow.load('UZFtest2.nam', version='mf2005', exe_name='mf2005', \n",
    "                               model_ws=path)"
   ]
  },
  {
   "cell_type": "markdown",
   "metadata": {},
   "source": [
    "### `finf` array  \n",
    "* load infiltration rates from a file into a 3D array\n",
    "* `finf` can be submitted to FloPy as a 3D array, list of 2D arrays, list of numeric values, or single numeric value"
   ]
  },
  {
   "cell_type": "code",
   "execution_count": 13,
   "metadata": {
    "collapsed": false
   },
   "outputs": [
    {
     "data": {
      "text/plain": [
       "<matplotlib.colorbar.Colorbar at 0x11b164c50>"
      ]
     },
     "execution_count": 13,
     "metadata": {},
     "output_type": "execute_result"
    },
    {
     "data": {
      "image/png": "[encoded data removed]",
      "text/plain": [
       "<matplotlib.figure.Figure at 0x11ae61898>"
      ]
     },
     "metadata": {},
     "output_type": "display_data"
    }
   ],
   "source": [
    "finf = np.loadtxt(os.path.join('..', 'data', 'uzf_examples', 'finf.dat'))\n",
    "finf = np.reshape(finf, (m2.nper, m2.nrow, m2.ncol))\n",
    "plt.imshow(finf[0], interpolation='none')\n",
    "plt.colorbar()"
   ]
  },
  {
   "cell_type": "code",
   "execution_count": 14,
   "metadata": {
    "collapsed": false
   },
   "outputs": [
    {
     "data": {
      "text/plain": [
       "<matplotlib.text.Text at 0x11b2dcc88>"
      ]
     },
     "execution_count": 14,
     "metadata": {},
     "output_type": "execute_result"
    },
    {
     "data": {
      "image/png": "[encoded data removed]",
      "text/plain": [
       "<matplotlib.figure.Figure at 0x11b18d940>"
      ]
     },
     "metadata": {},
     "output_type": "display_data"
    }
   ],
   "source": [
    "plt.plot(m2.dis.perlen.array.cumsum()/864600, \n",
    "         [a.mean() * 86400 * 365 * 12 for a in finf[:, :, :]], marker='o')\n",
    "plt.xlabel('Time, in days')\n",
    "plt.ylabel('Average infiltration rate, inches per year')"
   ]
  },
  {
   "cell_type": "markdown",
   "metadata": {},
   "source": [
    "### `extwc` (extinction water content) array"
   ]
  },
  {
   "cell_type": "code",
   "execution_count": 15,
   "metadata": {
    "collapsed": false
   },
   "outputs": [
    {
     "data": {
      "text/plain": [
       "<matplotlib.colorbar.Colorbar at 0x11b432cc0>"
      ]
     },
     "execution_count": 15,
     "metadata": {},
     "output_type": "execute_result"
    },
    {
     "data": {
      "image/png": "[encoded data removed]",
      "text/plain": [
       "<matplotlib.figure.Figure at 0x11ae0d390>"
      ]
     },
     "metadata": {},
     "output_type": "display_data"
    }
   ],
   "source": [
    "extwc = np.loadtxt(os.path.join('..', 'data', 'uzf_examples', 'extwc.dat'))\n",
    "plt.imshow(extwc, interpolation='none')\n",
    "plt.colorbar()"
   ]
  },
  {
   "cell_type": "markdown",
   "metadata": {},
   "source": [
    "### Set up the gages (observation points)\n",
    "* supplied as a dictionary keyed by `IFTUNIT`\n",
    "* A positive value [of `IFTUNIT`] is for output of individual cells whereas a negative value is for output that is summed over all model cells. \n",
    "* values are a list of `[IUZROW, IUZCOL, IFTUNIT, IUZOPT]`\n",
    "* `IUZROW` and `IUZCOL` are zero based"
   ]
  },
  {
   "cell_type": "code",
   "execution_count": 16,
   "metadata": {
    "collapsed": true
   },
   "outputs": [],
   "source": [
    "uzgag = {-68: [-68],\n",
    "         65: [2, 5, 65, 1], #Print time, head, uz thickness and cum. vols of infiltration, recharge, storage, change in storage and ground-water discharge to land surface.\n",
    "         66: [5, 2, 66, 2], #Same as option 1 except rates of infiltration, recharge, change in storage, and ground-water discharge also are printed.\n",
    "         67: [9, 4, 67, 3]} #Prints time, ground-water head, thickness of unsaturated zone, followed by a series of depths and water contents in the unsaturated zone. "
   ]
  },
  {
   "cell_type": "markdown",
   "metadata": {},
   "source": [
    "### Make the UZF package"
   ]
  },
  {
   "cell_type": "code",
   "execution_count": 17,
   "metadata": {
    "collapsed": false
   },
   "outputs": [],
   "source": [
    "uzf = flopy.modflow.ModflowUzf1(m,\n",
    "                                nuztop=1, iuzfopt=1, irunflg=1, ietflg=1,\n",
    "                                ipakcb=0, \n",
    "                                iuzfcb2=61,# binary output of recharge and groundwater discharge\n",
    "                                ntrail2=25, nsets=20, nuzgag=4,\n",
    "                                surfdep=1.0, uzgag=uzgag,\n",
    "                                iuzfbnd=m2.bas6.ibound.array, \n",
    "                                irunbnd=irunbnd, \n",
    "                                vks=vks, # saturated vertical hydraulic conductivity of the uz\n",
    "                                finf=finf, #infiltration rates\n",
    "                                eps=3.5, # Brooks-Corey relation of water content to hydraulic conductivity (epsilon)\n",
    "                                thts = 0.35, # saturated water content of the uz in units of volume of water to total volume\n",
    "                                pet=5.000000E-08, # potential ET\n",
    "                                extdp=15., # ET extinction depth(s)\n",
    "                                extwc=extwc, #extinction water content below which ET cannot be removed from the unsaturated zone\n",
    "                                unitnumber=19)"
   ]
  },
  {
   "cell_type": "code",
   "execution_count": 18,
   "metadata": {
    "collapsed": false
   },
   "outputs": [],
   "source": [
    "m.write_input()"
   ]
  },
  {
   "cell_type": "markdown",
   "metadata": {},
   "source": [
    "### run the model"
   ]
  },
  {
   "cell_type": "code",
   "execution_count": 19,
   "metadata": {
    "collapsed": false
   },
   "outputs": [
    {
     "name": "stdout",
     "output_type": "stream",
     "text": [
      "FloPy is using the following executable to run the model: /Users/jdhughes/Documents/Development/bin/mac/mf2005\n",
      "\n",
      "                                  MODFLOW-2005     \n",
      "    U.S. GEOLOGICAL SURVEY MODULAR FINITE-DIFFERENCE GROUND-WATER FLOW MODEL\n",
      "                             Version 1.12.00 2/3/2017                        \n",
      "\n",
      " Using NAME file: UZFtest2.nam \n",
      " Run start date and time (yyyy/mm/dd hh:mm:ss): 2017/03/15 12:25:59\n",
      "\n",
      " Solving:  Stress period:     1    Time step:     1    Ground-Water Flow Eqn.\n",
      " Solving:  Stress period:     2    Time step:     1    Ground-Water Flow Eqn.\n",
      " Solving:  Stress period:     2    Time step:     2    Ground-Water Flow Eqn.\n",
      " Solving:  Stress period:     2    Time step:     3    Ground-Water Flow Eqn.\n",
      " Solving:  Stress period:     2    Time step:     4    Ground-Water Flow Eqn.\n",
      " Solving:  Stress period:     2    Time step:     5    Ground-Water Flow Eqn.\n",
      " Solving:  Stress period:     2    Time step:     6    Ground-Water Flow Eqn.\n",
      " Solving:  Stress period:     2    Time step:     7    Ground-Water Flow Eqn.\n",
      " Solving:  Stress period:     2    Time step:     8    Ground-Water Flow Eqn.\n",
      " Solving:  Stress period:     2    Time step:     9    Ground-Water Flow Eqn.\n",
      " Solving:  Stress period:     2    Time step:    10    Ground-Water Flow Eqn.\n",
      " Solving:  Stress period:     2    Time step:    11    Ground-Water Flow Eqn.\n",
      " Solving:  Stress period:     2    Time step:    12    Ground-Water Flow Eqn.\n",
      " Solving:  Stress period:     2    Time step:    13    Ground-Water Flow Eqn.\n",
      " Solving:  Stress period:     2    Time step:    14    Ground-Water Flow Eqn.\n",
      " Solving:  Stress period:     2    Time step:    15    Ground-Water Flow Eqn.\n",
      " Solving:  Stress period:     3    Time step:     1    Ground-Water Flow Eqn.\n",
      " Solving:  Stress period:     3    Time step:     2    Ground-Water Flow Eqn.\n",
      " Solving:  Stress period:     3    Time step:     3    Ground-Water Flow Eqn.\n",
      " Solving:  Stress period:     3    Time step:     4    Ground-Water Flow Eqn.\n",
      " Solving:  Stress period:     3    Time step:     5    Ground-Water Flow Eqn.\n",
      " Solving:  Stress period:     3    Time step:     6    Ground-Water Flow Eqn.\n",
      " Solving:  Stress period:     3    Time step:     7    Ground-Water Flow Eqn.\n",
      " Solving:  Stress period:     3    Time step:     8    Ground-Water Flow Eqn.\n",
      " Solving:  Stress period:     3    Time step:     9    Ground-Water Flow Eqn.\n",
      " Solving:  Stress period:     3    Time step:    10    Ground-Water Flow Eqn.\n",
      " Solving:  Stress period:     3    Time step:    11    Ground-Water Flow Eqn.\n",
      " Solving:  Stress period:     3    Time step:    12    Ground-Water Flow Eqn.\n",
      " Solving:  Stress period:     3    Time step:    13    Ground-Water Flow Eqn.\n",
      " Solving:  Stress period:     3    Time step:    14    Ground-Water Flow Eqn.\n",
      " Solving:  Stress period:     3    Time step:    15    Ground-Water Flow Eqn.\n",
      " Solving:  Stress period:     4    Time step:     1    Ground-Water Flow Eqn.\n",
      " Solving:  Stress period:     4    Time step:     2    Ground-Water Flow Eqn.\n",
      " Solving:  Stress period:     4    Time step:     3    Ground-Water Flow Eqn.\n",
      " Solving:  Stress period:     4    Time step:     4    Ground-Water Flow Eqn.\n",
      " Solving:  Stress period:     4    Time step:     5    Ground-Water Flow Eqn.\n",
      " Solving:  Stress period:     4    Time step:     6    Ground-Water Flow Eqn.\n",
      " Solving:  Stress period:     4    Time step:     7    Ground-Water Flow Eqn.\n",
      " Solving:  Stress period:     4    Time step:     8    Ground-Water Flow Eqn.\n",
      " Solving:  Stress period:     4    Time step:     9    Ground-Water Flow Eqn.\n",
      " Solving:  Stress period:     4    Time step:    10    Ground-Water Flow Eqn.\n",
      " Solving:  Stress period:     4    Time step:    11    Ground-Water Flow Eqn.\n",
      " Solving:  Stress period:     4    Time step:    12    Ground-Water Flow Eqn.\n",
      " Solving:  Stress period:     4    Time step:    13    Ground-Water Flow Eqn.\n",
      " Solving:  Stress period:     4    Time step:    14    Ground-Water Flow Eqn.\n",
      " Solving:  Stress period:     4    Time step:    15    Ground-Water Flow Eqn.\n",
      " Solving:  Stress period:     5    Time step:     1    Ground-Water Flow Eqn.\n",
      " Solving:  Stress period:     5    Time step:     2    Ground-Water Flow Eqn.\n",
      " Solving:  Stress period:     5    Time step:     3    Ground-Water Flow Eqn.\n",
      " Solving:  Stress period:     5    Time step:     4    Ground-Water Flow Eqn.\n",
      " Solving:  Stress period:     5    Time step:     5    Ground-Water Flow Eqn.\n",
      " Solving:  Stress period:     5    Time step:     6    Ground-Water Flow Eqn.\n",
      " Solving:  Stress period:     5    Time step:     7    Ground-Water Flow Eqn.\n",
      " Solving:  Stress period:     5    Time step:     8    Ground-Water Flow Eqn.\n",
      " Solving:  Stress period:     5    Time step:     9    Ground-Water Flow Eqn.\n",
      " Solving:  Stress period:     5    Time step:    10    Ground-Water Flow Eqn.\n",
      " Solving:  Stress period:     5    Time step:    11    Ground-Water Flow Eqn.\n",
      " Solving:  Stress period:     5    Time step:    12    Ground-Water Flow Eqn.\n",
      " Solving:  Stress period:     5    Time step:    13    Ground-Water Flow Eqn.\n",
      " Solving:  Stress period:     5    Time step:    14    Ground-Water Flow Eqn.\n",
      " Solving:  Stress period:     5    Time step:    15    Ground-Water Flow Eqn.\n",
      " Solving:  Stress period:     6    Time step:     1    Ground-Water Flow Eqn.\n",
      " Solving:  Stress period:     6    Time step:     2    Ground-Water Flow Eqn.\n",
      " Solving:  Stress period:     6    Time step:     3    Ground-Water Flow Eqn.\n",
      " Solving:  Stress period:     6    Time step:     4    Ground-Water Flow Eqn.\n",
      " Solving:  Stress period:     6    Time step:     5    Ground-Water Flow Eqn.\n",
      " Solving:  Stress period:     6    Time step:     6    Ground-Water Flow Eqn.\n",
      " Solving:  Stress period:     6    Time step:     7    Ground-Water Flow Eqn.\n",
      " Solving:  Stress period:     6    Time step:     8    Ground-Water Flow Eqn.\n",
      " Solving:  Stress period:     6    Time step:     9    Ground-Water Flow Eqn.\n",
      " Solving:  Stress period:     6    Time step:    10    Ground-Water Flow Eqn.\n",
      " Solving:  Stress period:     6    Time step:    11    Ground-Water Flow Eqn.\n",
      " Solving:  Stress period:     6    Time step:    12    Ground-Water Flow Eqn.\n",
      " Solving:  Stress period:     6    Time step:    13    Ground-Water Flow Eqn.\n",
      " Solving:  Stress period:     6    Time step:    14    Ground-Water Flow Eqn.\n",
      " Solving:  Stress period:     6    Time step:    15    Ground-Water Flow Eqn.\n",
      " Solving:  Stress period:     7    Time step:     1    Ground-Water Flow Eqn.\n",
      " Solving:  Stress period:     7    Time step:     2    Ground-Water Flow Eqn.\n",
      " Solving:  Stress period:     7    Time step:     3    Ground-Water Flow Eqn.\n",
      " Solving:  Stress period:     7    Time step:     4    Ground-Water Flow Eqn.\n",
      " Solving:  Stress period:     7    Time step:     5    Ground-Water Flow Eqn.\n",
      " Solving:  Stress period:     7    Time step:     6    Ground-Water Flow Eqn.\n",
      " Solving:  Stress period:     7    Time step:     7    Ground-Water Flow Eqn.\n",
      " Solving:  Stress period:     7    Time step:     8    Ground-Water Flow Eqn.\n",
      " Solving:  Stress period:     7    Time step:     9    Ground-Water Flow Eqn.\n",
      " Solving:  Stress period:     7    Time step:    10    Ground-Water Flow Eqn.\n",
      " Solving:  Stress period:     7    Time step:    11    Ground-Water Flow Eqn.\n",
      " Solving:  Stress period:     7    Time step:    12    Ground-Water Flow Eqn.\n",
      " Solving:  Stress period:     7    Time step:    13    Ground-Water Flow Eqn.\n",
      " Solving:  Stress period:     7    Time step:    14    Ground-Water Flow Eqn.\n",
      " Solving:  Stress period:     7    Time step:    15    Ground-Water Flow Eqn.\n",
      " Solving:  Stress period:     8    Time step:     1    Ground-Water Flow Eqn.\n",
      " Solving:  Stress period:     8    Time step:     2    Ground-Water Flow Eqn.\n",
      " Solving:  Stress period:     8    Time step:     3    Ground-Water Flow Eqn.\n",
      " Solving:  Stress period:     8    Time step:     4    Ground-Water Flow Eqn.\n",
      " Solving:  Stress period:     8    Time step:     5    Ground-Water Flow Eqn.\n",
      " Solving:  Stress period:     8    Time step:     6    Ground-Water Flow Eqn.\n",
      " Solving:  Stress period:     8    Time step:     7    Ground-Water Flow Eqn.\n",
      " Solving:  Stress period:     8    Time step:     8    Ground-Water Flow Eqn.\n",
      " Solving:  Stress period:     8    Time step:     9    Ground-Water Flow Eqn.\n",
      " Solving:  Stress period:     8    Time step:    10    Ground-Water Flow Eqn.\n",
      " Solving:  Stress period:     8    Time step:    11    Ground-Water Flow Eqn.\n",
      " Solving:  Stress period:     8    Time step:    12    Ground-Water Flow Eqn.\n",
      " Solving:  Stress period:     8    Time step:    13    Ground-Water Flow Eqn.\n",
      " Solving:  Stress period:     8    Time step:    14    Ground-Water Flow Eqn.\n",
      " Solving:  Stress period:     8    Time step:    15    Ground-Water Flow Eqn.\n",
      " Solving:  Stress period:     9    Time step:     1    Ground-Water Flow Eqn.\n",
      " Solving:  Stress period:     9    Time step:     2    Ground-Water Flow Eqn.\n",
      " Solving:  Stress period:     9    Time step:     3    Ground-Water Flow Eqn.\n",
      " Solving:  Stress period:     9    Time step:     4    Ground-Water Flow Eqn.\n",
      " Solving:  Stress period:     9    Time step:     5    Ground-Water Flow Eqn.\n",
      " Solving:  Stress period:     9    Time step:     6    Ground-Water Flow Eqn.\n",
      " Solving:  Stress period:     9    Time step:     7    Ground-Water Flow Eqn.\n",
      " Solving:  Stress period:     9    Time step:     8    Ground-Water Flow Eqn.\n",
      " Solving:  Stress period:     9    Time step:     9    Ground-Water Flow Eqn.\n",
      " Solving:  Stress period:     9    Time step:    10    Ground-Water Flow Eqn.\n",
      " Solving:  Stress period:     9    Time step:    11    Ground-Water Flow Eqn.\n",
      " Solving:  Stress period:     9    Time step:    12    Ground-Water Flow Eqn.\n",
      " Solving:  Stress period:     9    Time step:    13    Ground-Water Flow Eqn.\n",
      " Solving:  Stress period:     9    Time step:    14    Ground-Water Flow Eqn.\n",
      " Solving:  Stress period:     9    Time step:    15    Ground-Water Flow Eqn.\n",
      " Solving:  Stress period:    10    Time step:     1    Ground-Water Flow Eqn.\n",
      " Solving:  Stress period:    10    Time step:     2    Ground-Water Flow Eqn.\n",
      " Solving:  Stress period:    10    Time step:     3    Ground-Water Flow Eqn.\n",
      " Solving:  Stress period:    10    Time step:     4    Ground-Water Flow Eqn.\n",
      " Solving:  Stress period:    10    Time step:     5    Ground-Water Flow Eqn.\n",
      " Solving:  Stress period:    10    Time step:     6    Ground-Water Flow Eqn.\n",
      " Solving:  Stress period:    10    Time step:     7    Ground-Water Flow Eqn.\n",
      " Solving:  Stress period:    10    Time step:     8    Ground-Water Flow Eqn.\n",
      " Solving:  Stress period:    10    Time step:     9    Ground-Water Flow Eqn.\n",
      " Solving:  Stress period:    10    Time step:    10    Ground-Water Flow Eqn.\n",
      " Solving:  Stress period:    10    Time step:    11    Ground-Water Flow Eqn.\n",
      " Solving:  Stress period:    10    Time step:    12    Ground-Water Flow Eqn.\n",
      " Solving:  Stress period:    10    Time step:    13    Ground-Water Flow Eqn.\n",
      " Solving:  Stress period:    10    Time step:    14    Ground-Water Flow Eqn.\n",
      " Solving:  Stress period:    10    Time step:    15    Ground-Water Flow Eqn.\n",
      " Solving:  Stress period:    11    Time step:     1    Ground-Water Flow Eqn.\n",
      " Solving:  Stress period:    11    Time step:     2    Ground-Water Flow Eqn.\n",
      " Solving:  Stress period:    11    Time step:     3    Ground-Water Flow Eqn.\n",
      " Solving:  Stress period:    11    Time step:     4    Ground-Water Flow Eqn.\n",
      " Solving:  Stress period:    11    Time step:     5    Ground-Water Flow Eqn.\n",
      " Solving:  Stress period:    11    Time step:     6    Ground-Water Flow Eqn.\n",
      " Solving:  Stress period:    11    Time step:     7    Ground-Water Flow Eqn.\n",
      " Solving:  Stress period:    11    Time step:     8    Ground-Water Flow Eqn.\n",
      " Solving:  Stress period:    11    Time step:     9    Ground-Water Flow Eqn.\n",
      " Solving:  Stress period:    11    Time step:    10    Ground-Water Flow Eqn.\n",
      " Solving:  Stress period:    11    Time step:    11    Ground-Water Flow Eqn.\n",
      " Solving:  Stress period:    11    Time step:    12    Ground-Water Flow Eqn.\n",
      " Solving:  Stress period:    11    Time step:    13    Ground-Water Flow Eqn.\n",
      " Solving:  Stress period:    11    Time step:    14    Ground-Water Flow Eqn.\n",
      " Solving:  Stress period:    11    Time step:    15    Ground-Water Flow Eqn.\n",
      " Solving:  Stress period:    12    Time step:     1    Ground-Water Flow Eqn.\n",
      " Solving:  Stress period:    12    Time step:     2    Ground-Water Flow Eqn.\n",
      " Solving:  Stress period:    12    Time step:     3    Ground-Water Flow Eqn.\n",
      " Solving:  Stress period:    12    Time step:     4    Ground-Water Flow Eqn.\n",
      " Solving:  Stress period:    12    Time step:     5    Ground-Water Flow Eqn.\n",
      " Solving:  Stress period:    12    Time step:     6    Ground-Water Flow Eqn.\n",
      " Solving:  Stress period:    12    Time step:     7    Ground-Water Flow Eqn.\n",
      " Solving:  Stress period:    12    Time step:     8    Ground-Water Flow Eqn.\n",
      " Solving:  Stress period:    12    Time step:     9    Ground-Water Flow Eqn.\n",
      " Solving:  Stress period:    12    Time step:    10    Ground-Water Flow Eqn.\n",
      " Solving:  Stress period:    12    Time step:    11    Ground-Water Flow Eqn.\n",
      " Solving:  Stress period:    12    Time step:    12    Ground-Water Flow Eqn.\n",
      " Solving:  Stress period:    12    Time step:    13    Ground-Water Flow Eqn.\n",
      " Solving:  Stress period:    12    Time step:    14    Ground-Water Flow Eqn.\n",
      " Solving:  Stress period:    12    Time step:    15    Ground-Water Flow Eqn.\n",
      " Run end date and time (yyyy/mm/dd hh:mm:ss): 2017/03/15 12:26:02\n",
      " Elapsed run time:  2.731 Seconds\n",
      "\n",
      "  Normal termination of simulation\n"
     ]
    },
    {
     "data": {
      "text/plain": [
       "(True, [])"
      ]
     },
     "execution_count": 19,
     "metadata": {},
     "output_type": "execute_result"
    }
   ],
   "source": [
    "m.run_model()"
   ]
  },
  {
   "cell_type": "markdown",
   "metadata": {},
   "source": [
    "## Results\n",
    "\n",
    "### Look at the budget output"
   ]
  },
  {
   "cell_type": "code",
   "execution_count": 20,
   "metadata": {
    "collapsed": false
   },
   "outputs": [
    {
     "name": "stdout",
     "output_type": "stream",
     "text": [
      "(1, 1, b'           GW ET', 10, 15, -1, 4, 2628000.0, 2628000.0, 2628000.0, b'', b'', b'', b'')\n",
      "(1, 1, b'    UZF RECHARGE', 10, 15, -1, 4, 2628000.0, 2628000.0, 2628000.0, b'', b'', b'', b'')\n",
      "(1, 1, b' SURFACE LEAKAGE', 10, 15, -1, 4, 2628000.0, 2628000.0, 2628000.0, b'', b'', b'', b'')\n",
      "(1, 1, b'       HORT+DUNN', 10, 15, -1, 4, 2628000.0, 2628000.0, 2628000.0, b'', b'', b'', b'')\n",
      "(1, 1, b'  STORAGE CHANGE', 10, 15, -1, 4, 2628000.0, 2628000.0, 2628000.0, b'', b'', b'', b'')\n",
      "(1, 2, b'           GW ET', 10, 15, -1, 4, 82713.0703125, 82713.0703125, 2710713.0, b'', b'', b'', b'')\n",
      "(1, 2, b'    UZF RECHARGE', 10, 15, -1, 4, 82713.0703125, 82713.0703125, 2710713.0, b'', b'', b'', b'')\n",
      "(1, 2, b' SURFACE LEAKAGE', 10, 15, -1, 4, 82713.0703125, 82713.0703125, 2710713.0, b'', b'', b'', b'')\n",
      "(1, 2, b'       HORT+DUNN', 10, 15, -1, 4, 82713.0703125, 82713.0703125, 2710713.0, b'', b'', b'', b'')\n",
      "(1, 2, b'  STORAGE CHANGE', 10, 15, -1, 4, 82713.0703125, 82713.0703125, 2710713.0, b'', b'', b'', b'')\n",
      "(5, 2, b'           GW ET', 10, 15, -1, 4, 121100.2109375, 504971.59375, 3132971.5, b'', b'', b'', b'')\n",
      "(5, 2, b'    UZF RECHARGE', 10, 15, -1, 4, 121100.2109375, 504971.59375, 3132971.5, b'', b'', b'', b'')\n",
      "(5, 2, b' SURFACE LEAKAGE', 10, 15, -1, 4, 121100.2109375, 504971.59375, 3132971.5, b'', b'', b'', b'')\n",
      "(5, 2, b'       HORT+DUNN', 10, 15, -1, 4, 121100.2109375, 504971.59375, 3132971.5, b'', b'', b'', b'')\n",
      "(5, 2, b'  STORAGE CHANGE', 10, 15, -1, 4, 121100.2109375, 504971.59375, 3132971.5, b'', b'', b'', b'')\n",
      "(10, 2, b'           GW ET', 10, 15, -1, 4, 195033.109375, 1318233.375, 3946233.25, b'', b'', b'', b'')\n",
      "(10, 2, b'    UZF RECHARGE', 10, 15, -1, 4, 195033.109375, 1318233.375, 3946233.25, b'', b'', b'', b'')\n",
      "(10, 2, b' SURFACE LEAKAGE', 10, 15, -1, 4, 195033.109375, 1318233.375, 3946233.25, b'', b'', b'', b'')\n",
      "(10, 2, b'       HORT+DUNN', 10, 15, -1, 4, 195033.109375, 1318233.375, 3946233.25, b'', b'', b'', b'')\n",
      "(10, 2, b'  STORAGE CHANGE', 10, 15, -1, 4, 195033.109375, 1318233.375, 3946233.25, b'', b'', b'', b'')\n",
      "(15, 2, b'           GW ET', 10, 15, -1, 4, 314102.8125, 2627999.75, 5256000.0, b'', b'', b'', b'')\n",
      "(15, 2, b'    UZF RECHARGE', 10, 15, -1, 4, 314102.8125, 2627999.75, 5256000.0, b'', b'', b'', b'')\n",
      "(15, 2, b' SURFACE LEAKAGE', 10, 15, -1, 4, 314102.8125, 2627999.75, 5256000.0, b'', b'', b'', b'')\n",
      "(15, 2, b'       HORT+DUNN', 10, 15, -1, 4, 314102.8125, 2627999.75, 5256000.0, b'', b'', b'', b'')\n",
      "(15, 2, b'  STORAGE CHANGE', 10, 15, -1, 4, 314102.8125, 2627999.75, 5256000.0, b'', b'', b'', b'')\n",
      "(1, 3, b'           GW ET', 10, 15, -1, 4, 82713.0703125, 82713.0703125, 5338713.0, b'', b'', b'', b'')\n",
      "(1, 3, b'    UZF RECHARGE', 10, 15, -1, 4, 82713.0703125, 82713.0703125, 5338713.0, b'', b'', b'', b'')\n",
      "(1, 3, b' SURFACE LEAKAGE', 10, 15, -1, 4, 82713.0703125, 82713.0703125, 5338713.0, b'', b'', b'', b'')\n",
      "(1, 3, b'       HORT+DUNN', 10, 15, -1, 4, 82713.0703125, 82713.0703125, 5338713.0, b'', b'', b'', b'')\n",
      "(1, 3, b'  STORAGE CHANGE', 10, 15, -1, 4, 82713.0703125, 82713.0703125, 5338713.0, b'', b'', b'', b'')\n",
      "(5, 3, b'           GW ET', 10, 15, -1, 4, 121100.2109375, 504971.59375, 5760971.5, b'', b'', b'', b'')\n",
      "(5, 3, b'    UZF RECHARGE', 10, 15, -1, 4, 121100.2109375, 504971.59375, 5760971.5, b'', b'', b'', b'')\n",
      "(5, 3, b' SURFACE LEAKAGE', 10, 15, -1, 4, 121100.2109375, 504971.59375, 5760971.5, b'', b'', b'', b'')\n",
      "(5, 3, b'       HORT+DUNN', 10, 15, -1, 4, 121100.2109375, 504971.59375, 5760971.5, b'', b'', b'', b'')\n",
      "(5, 3, b'  STORAGE CHANGE', 10, 15, -1, 4, 121100.2109375, 504971.59375, 5760971.5, b'', b'', b'', b'')\n",
      "(10, 3, b'           GW ET', 10, 15, -1, 4, 195033.109375, 1318233.375, 6574233.5, b'', b'', b'', b'')\n",
      "(10, 3, b'    UZF RECHARGE', 10, 15, -1, 4, 195033.109375, 1318233.375, 6574233.5, b'', b'', b'', b'')\n",
      "(10, 3, b' SURFACE LEAKAGE', 10, 15, -1, 4, 195033.109375, 1318233.375, 6574233.5, b'', b'', b'', b'')\n",
      "(10, 3, b'       HORT+DUNN', 10, 15, -1, 4, 195033.109375, 1318233.375, 6574233.5, b'', b'', b'', b'')\n",
      "(10, 3, b'  STORAGE CHANGE', 10, 15, -1, 4, 195033.109375, 1318233.375, 6574233.5, b'', b'', b'', b'')\n",
      "(15, 3, b'           GW ET', 10, 15, -1, 4, 314102.8125, 2627999.75, 7884000.0, b'', b'', b'', b'')\n",
      "(15, 3, b'    UZF RECHARGE', 10, 15, -1, 4, 314102.8125, 2627999.75, 7884000.0, b'', b'', b'', b'')\n",
      "(15, 3, b' SURFACE LEAKAGE', 10, 15, -1, 4, 314102.8125, 2627999.75, 7884000.0, b'', b'', b'', b'')\n",
      "(15, 3, b'       HORT+DUNN', 10, 15, -1, 4, 314102.8125, 2627999.75, 7884000.0, b'', b'', b'', b'')\n",
      "(15, 3, b'  STORAGE CHANGE', 10, 15, -1, 4, 314102.8125, 2627999.75, 7884000.0, b'', b'', b'', b'')\n",
      "(5, 4, b'           GW ET', 10, 15, -1, 4, 121100.2109375, 504971.59375, 8388972.0, b'', b'', b'', b'')\n",
      "(5, 4, b'    UZF RECHARGE', 10, 15, -1, 4, 121100.2109375, 504971.59375, 8388972.0, b'', b'', b'', b'')\n",
      "(5, 4, b' SURFACE LEAKAGE', 10, 15, -1, 4, 121100.2109375, 504971.59375, 8388972.0, b'', b'', b'', b'')\n",
      "(5, 4, b'       HORT+DUNN', 10, 15, -1, 4, 121100.2109375, 504971.59375, 8388972.0, b'', b'', b'', b'')\n",
      "(5, 4, b'  STORAGE CHANGE', 10, 15, -1, 4, 121100.2109375, 504971.59375, 8388972.0, b'', b'', b'', b'')\n",
      "(10, 4, b'           GW ET', 10, 15, -1, 4, 195033.109375, 1318233.375, 9202233.0, b'', b'', b'', b'')\n",
      "(10, 4, b'    UZF RECHARGE', 10, 15, -1, 4, 195033.109375, 1318233.375, 9202233.0, b'', b'', b'', b'')\n",
      "(10, 4, b' SURFACE LEAKAGE', 10, 15, -1, 4, 195033.109375, 1318233.375, 9202233.0, b'', b'', b'', b'')\n",
      "(10, 4, b'       HORT+DUNN', 10, 15, -1, 4, 195033.109375, 1318233.375, 9202233.0, b'', b'', b'', b'')\n",
      "(10, 4, b'  STORAGE CHANGE', 10, 15, -1, 4, 195033.109375, 1318233.375, 9202233.0, b'', b'', b'', b'')\n",
      "(15, 4, b'           GW ET', 10, 15, -1, 4, 314102.8125, 2627999.75, 10511999.0, b'', b'', b'', b'')\n",
      "(15, 4, b'    UZF RECHARGE', 10, 15, -1, 4, 314102.8125, 2627999.75, 10511999.0, b'', b'', b'', b'')\n",
      "(15, 4, b' SURFACE LEAKAGE', 10, 15, -1, 4, 314102.8125, 2627999.75, 10511999.0, b'', b'', b'', b'')\n",
      "(15, 4, b'       HORT+DUNN', 10, 15, -1, 4, 314102.8125, 2627999.75, 10511999.0, b'', b'', b'', b'')\n",
      "(15, 4, b'  STORAGE CHANGE', 10, 15, -1, 4, 314102.8125, 2627999.75, 10511999.0, b'', b'', b'', b'')\n",
      "(5, 5, b'           GW ET', 10, 15, -1, 4, 121100.2109375, 504971.59375, 11016970.0, b'', b'', b'', b'')\n",
      "(5, 5, b'    UZF RECHARGE', 10, 15, -1, 4, 121100.2109375, 504971.59375, 11016970.0, b'', b'', b'', b'')\n",
      "(5, 5, b' SURFACE LEAKAGE', 10, 15, -1, 4, 121100.2109375, 504971.59375, 11016970.0, b'', b'', b'', b'')\n",
      "(5, 5, b'       HORT+DUNN', 10, 15, -1, 4, 121100.2109375, 504971.59375, 11016970.0, b'', b'', b'', b'')\n",
      "(5, 5, b'  STORAGE CHANGE', 10, 15, -1, 4, 121100.2109375, 504971.59375, 11016970.0, b'', b'', b'', b'')\n",
      "(10, 5, b'           GW ET', 10, 15, -1, 4, 195033.109375, 1318233.375, 11830231.0, b'', b'', b'', b'')\n",
      "(10, 5, b'    UZF RECHARGE', 10, 15, -1, 4, 195033.109375, 1318233.375, 11830231.0, b'', b'', b'', b'')\n",
      "(10, 5, b' SURFACE LEAKAGE', 10, 15, -1, 4, 195033.109375, 1318233.375, 11830231.0, b'', b'', b'', b'')\n",
      "(10, 5, b'       HORT+DUNN', 10, 15, -1, 4, 195033.109375, 1318233.375, 11830231.0, b'', b'', b'', b'')\n",
      "(10, 5, b'  STORAGE CHANGE', 10, 15, -1, 4, 195033.109375, 1318233.375, 11830231.0, b'', b'', b'', b'')\n",
      "(15, 5, b'           GW ET', 10, 15, -1, 4, 314102.8125, 2627999.75, 13139997.0, b'', b'', b'', b'')\n",
      "(15, 5, b'    UZF RECHARGE', 10, 15, -1, 4, 314102.8125, 2627999.75, 13139997.0, b'', b'', b'', b'')\n",
      "(15, 5, b' SURFACE LEAKAGE', 10, 15, -1, 4, 314102.8125, 2627999.75, 13139997.0, b'', b'', b'', b'')\n",
      "(15, 5, b'       HORT+DUNN', 10, 15, -1, 4, 314102.8125, 2627999.75, 13139997.0, b'', b'', b'', b'')\n",
      "(15, 5, b'  STORAGE CHANGE', 10, 15, -1, 4, 314102.8125, 2627999.75, 13139997.0, b'', b'', b'', b'')\n",
      "(5, 6, b'           GW ET', 10, 15, -1, 4, 121100.2109375, 504971.59375, 13644968.0, b'', b'', b'', b'')\n",
      "(5, 6, b'    UZF RECHARGE', 10, 15, -1, 4, 121100.2109375, 504971.59375, 13644968.0, b'', b'', b'', b'')\n",
      "(5, 6, b' SURFACE LEAKAGE', 10, 15, -1, 4, 121100.2109375, 504971.59375, 13644968.0, b'', b'', b'', b'')\n",
      "(5, 6, b'       HORT+DUNN', 10, 15, -1, 4, 121100.2109375, 504971.59375, 13644968.0, b'', b'', b'', b'')\n",
      "(5, 6, b'  STORAGE CHANGE', 10, 15, -1, 4, 121100.2109375, 504971.59375, 13644968.0, b'', b'', b'', b'')\n",
      "(10, 6, b'           GW ET', 10, 15, -1, 4, 195033.109375, 1318233.375, 14458229.0, b'', b'', b'', b'')\n",
      "(10, 6, b'    UZF RECHARGE', 10, 15, -1, 4, 195033.109375, 1318233.375, 14458229.0, b'', b'', b'', b'')\n",
      "(10, 6, b' SURFACE LEAKAGE', 10, 15, -1, 4, 195033.109375, 1318233.375, 14458229.0, b'', b'', b'', b'')\n",
      "(10, 6, b'       HORT+DUNN', 10, 15, -1, 4, 195033.109375, 1318233.375, 14458229.0, b'', b'', b'', b'')\n",
      "(10, 6, b'  STORAGE CHANGE', 10, 15, -1, 4, 195033.109375, 1318233.375, 14458229.0, b'', b'', b'', b'')\n",
      "(15, 6, b'           GW ET', 10, 15, -1, 4, 314102.8125, 2627999.75, 15767995.0, b'', b'', b'', b'')\n",
      "(15, 6, b'    UZF RECHARGE', 10, 15, -1, 4, 314102.8125, 2627999.75, 15767995.0, b'', b'', b'', b'')\n",
      "(15, 6, b' SURFACE LEAKAGE', 10, 15, -1, 4, 314102.8125, 2627999.75, 15767995.0, b'', b'', b'', b'')\n",
      "(15, 6, b'       HORT+DUNN', 10, 15, -1, 4, 314102.8125, 2627999.75, 15767995.0, b'', b'', b'', b'')\n",
      "(15, 6, b'  STORAGE CHANGE', 10, 15, -1, 4, 314102.8125, 2627999.75, 15767995.0, b'', b'', b'', b'')\n",
      "(5, 7, b'           GW ET', 10, 15, -1, 4, 121100.2109375, 504971.59375, 16272966.0, b'', b'', b'', b'')\n",
      "(5, 7, b'    UZF RECHARGE', 10, 15, -1, 4, 121100.2109375, 504971.59375, 16272966.0, b'', b'', b'', b'')\n",
      "(5, 7, b' SURFACE LEAKAGE', 10, 15, -1, 4, 121100.2109375, 504971.59375, 16272966.0, b'', b'', b'', b'')\n",
      "(5, 7, b'       HORT+DUNN', 10, 15, -1, 4, 121100.2109375, 504971.59375, 16272966.0, b'', b'', b'', b'')\n",
      "(5, 7, b'  STORAGE CHANGE', 10, 15, -1, 4, 121100.2109375, 504971.59375, 16272966.0, b'', b'', b'', b'')\n",
      "(10, 7, b'           GW ET', 10, 15, -1, 4, 195033.109375, 1318233.375, 17086228.0, b'', b'', b'', b'')\n",
      "(10, 7, b'    UZF RECHARGE', 10, 15, -1, 4, 195033.109375, 1318233.375, 17086228.0, b'', b'', b'', b'')\n",
      "(10, 7, b' SURFACE LEAKAGE', 10, 15, -1, 4, 195033.109375, 1318233.375, 17086228.0, b'', b'', b'', b'')\n",
      "(10, 7, b'       HORT+DUNN', 10, 15, -1, 4, 195033.109375, 1318233.375, 17086228.0, b'', b'', b'', b'')\n",
      "(10, 7, b'  STORAGE CHANGE', 10, 15, -1, 4, 195033.109375, 1318233.375, 17086228.0, b'', b'', b'', b'')\n",
      "(15, 7, b'           GW ET', 10, 15, -1, 4, 314102.8125, 2627999.75, 18395994.0, b'', b'', b'', b'')\n",
      "(15, 7, b'    UZF RECHARGE', 10, 15, -1, 4, 314102.8125, 2627999.75, 18395994.0, b'', b'', b'', b'')\n",
      "(15, 7, b' SURFACE LEAKAGE', 10, 15, -1, 4, 314102.8125, 2627999.75, 18395994.0, b'', b'', b'', b'')\n",
      "(15, 7, b'       HORT+DUNN', 10, 15, -1, 4, 314102.8125, 2627999.75, 18395994.0, b'', b'', b'', b'')\n",
      "(15, 7, b'  STORAGE CHANGE', 10, 15, -1, 4, 314102.8125, 2627999.75, 18395994.0, b'', b'', b'', b'')\n",
      "(5, 8, b'           GW ET', 10, 15, -1, 4, 121100.2109375, 504971.59375, 18900966.0, b'', b'', b'', b'')\n",
      "(5, 8, b'    UZF RECHARGE', 10, 15, -1, 4, 121100.2109375, 504971.59375, 18900966.0, b'', b'', b'', b'')\n",
      "(5, 8, b' SURFACE LEAKAGE', 10, 15, -1, 4, 121100.2109375, 504971.59375, 18900966.0, b'', b'', b'', b'')\n",
      "(5, 8, b'       HORT+DUNN', 10, 15, -1, 4, 121100.2109375, 504971.59375, 18900966.0, b'', b'', b'', b'')\n",
      "(5, 8, b'  STORAGE CHANGE', 10, 15, -1, 4, 121100.2109375, 504971.59375, 18900966.0, b'', b'', b'', b'')\n",
      "(10, 8, b'           GW ET', 10, 15, -1, 4, 195033.109375, 1318233.375, 19714228.0, b'', b'', b'', b'')\n",
      "(10, 8, b'    UZF RECHARGE', 10, 15, -1, 4, 195033.109375, 1318233.375, 19714228.0, b'', b'', b'', b'')\n",
      "(10, 8, b' SURFACE LEAKAGE', 10, 15, -1, 4, 195033.109375, 1318233.375, 19714228.0, b'', b'', b'', b'')\n",
      "(10, 8, b'       HORT+DUNN', 10, 15, -1, 4, 195033.109375, 1318233.375, 19714228.0, b'', b'', b'', b'')\n",
      "(10, 8, b'  STORAGE CHANGE', 10, 15, -1, 4, 195033.109375, 1318233.375, 19714228.0, b'', b'', b'', b'')\n",
      "(15, 8, b'           GW ET', 10, 15, -1, 4, 314102.8125, 2627999.75, 21023994.0, b'', b'', b'', b'')\n",
      "(15, 8, b'    UZF RECHARGE', 10, 15, -1, 4, 314102.8125, 2627999.75, 21023994.0, b'', b'', b'', b'')\n",
      "(15, 8, b' SURFACE LEAKAGE', 10, 15, -1, 4, 314102.8125, 2627999.75, 21023994.0, b'', b'', b'', b'')\n",
      "(15, 8, b'       HORT+DUNN', 10, 15, -1, 4, 314102.8125, 2627999.75, 21023994.0, b'', b'', b'', b'')\n",
      "(15, 8, b'  STORAGE CHANGE', 10, 15, -1, 4, 314102.8125, 2627999.75, 21023994.0, b'', b'', b'', b'')\n",
      "(5, 9, b'           GW ET', 10, 15, -1, 4, 121100.2109375, 504971.59375, 21528966.0, b'', b'', b'', b'')\n",
      "(5, 9, b'    UZF RECHARGE', 10, 15, -1, 4, 121100.2109375, 504971.59375, 21528966.0, b'', b'', b'', b'')\n",
      "(5, 9, b' SURFACE LEAKAGE', 10, 15, -1, 4, 121100.2109375, 504971.59375, 21528966.0, b'', b'', b'', b'')\n",
      "(5, 9, b'       HORT+DUNN', 10, 15, -1, 4, 121100.2109375, 504971.59375, 21528966.0, b'', b'', b'', b'')\n",
      "(5, 9, b'  STORAGE CHANGE', 10, 15, -1, 4, 121100.2109375, 504971.59375, 21528966.0, b'', b'', b'', b'')\n",
      "(10, 9, b'           GW ET', 10, 15, -1, 4, 195033.109375, 1318233.375, 22342228.0, b'', b'', b'', b'')\n",
      "(10, 9, b'    UZF RECHARGE', 10, 15, -1, 4, 195033.109375, 1318233.375, 22342228.0, b'', b'', b'', b'')\n",
      "(10, 9, b' SURFACE LEAKAGE', 10, 15, -1, 4, 195033.109375, 1318233.375, 22342228.0, b'', b'', b'', b'')\n",
      "(10, 9, b'       HORT+DUNN', 10, 15, -1, 4, 195033.109375, 1318233.375, 22342228.0, b'', b'', b'', b'')\n",
      "(10, 9, b'  STORAGE CHANGE', 10, 15, -1, 4, 195033.109375, 1318233.375, 22342228.0, b'', b'', b'', b'')\n",
      "(15, 9, b'           GW ET', 10, 15, -1, 4, 314102.8125, 2627999.75, 23651994.0, b'', b'', b'', b'')\n",
      "(15, 9, b'    UZF RECHARGE', 10, 15, -1, 4, 314102.8125, 2627999.75, 23651994.0, b'', b'', b'', b'')\n",
      "(15, 9, b' SURFACE LEAKAGE', 10, 15, -1, 4, 314102.8125, 2627999.75, 23651994.0, b'', b'', b'', b'')\n",
      "(15, 9, b'       HORT+DUNN', 10, 15, -1, 4, 314102.8125, 2627999.75, 23651994.0, b'', b'', b'', b'')\n",
      "(15, 9, b'  STORAGE CHANGE', 10, 15, -1, 4, 314102.8125, 2627999.75, 23651994.0, b'', b'', b'', b'')\n",
      "(5, 10, b'           GW ET', 10, 15, -1, 4, 121100.2109375, 504971.59375, 24156966.0, b'', b'', b'', b'')\n",
      "(5, 10, b'    UZF RECHARGE', 10, 15, -1, 4, 121100.2109375, 504971.59375, 24156966.0, b'', b'', b'', b'')\n",
      "(5, 10, b' SURFACE LEAKAGE', 10, 15, -1, 4, 121100.2109375, 504971.59375, 24156966.0, b'', b'', b'', b'')\n",
      "(5, 10, b'       HORT+DUNN', 10, 15, -1, 4, 121100.2109375, 504971.59375, 24156966.0, b'', b'', b'', b'')\n",
      "(5, 10, b'  STORAGE CHANGE', 10, 15, -1, 4, 121100.2109375, 504971.59375, 24156966.0, b'', b'', b'', b'')\n",
      "(10, 10, b'           GW ET', 10, 15, -1, 4, 195033.109375, 1318233.375, 24970228.0, b'', b'', b'', b'')\n",
      "(10, 10, b'    UZF RECHARGE', 10, 15, -1, 4, 195033.109375, 1318233.375, 24970228.0, b'', b'', b'', b'')\n",
      "(10, 10, b' SURFACE LEAKAGE', 10, 15, -1, 4, 195033.109375, 1318233.375, 24970228.0, b'', b'', b'', b'')\n",
      "(10, 10, b'       HORT+DUNN', 10, 15, -1, 4, 195033.109375, 1318233.375, 24970228.0, b'', b'', b'', b'')\n",
      "(10, 10, b'  STORAGE CHANGE', 10, 15, -1, 4, 195033.109375, 1318233.375, 24970228.0, b'', b'', b'', b'')\n",
      "(15, 10, b'           GW ET', 10, 15, -1, 4, 314102.8125, 2627999.75, 26279994.0, b'', b'', b'', b'')\n",
      "(15, 10, b'    UZF RECHARGE', 10, 15, -1, 4, 314102.8125, 2627999.75, 26279994.0, b'', b'', b'', b'')\n",
      "(15, 10, b' SURFACE LEAKAGE', 10, 15, -1, 4, 314102.8125, 2627999.75, 26279994.0, b'', b'', b'', b'')\n",
      "(15, 10, b'       HORT+DUNN', 10, 15, -1, 4, 314102.8125, 2627999.75, 26279994.0, b'', b'', b'', b'')\n",
      "(15, 10, b'  STORAGE CHANGE', 10, 15, -1, 4, 314102.8125, 2627999.75, 26279994.0, b'', b'', b'', b'')\n",
      "(5, 11, b'           GW ET', 10, 15, -1, 4, 121100.2109375, 504971.59375, 26784966.0, b'', b'', b'', b'')\n",
      "(5, 11, b'    UZF RECHARGE', 10, 15, -1, 4, 121100.2109375, 504971.59375, 26784966.0, b'', b'', b'', b'')\n",
      "(5, 11, b' SURFACE LEAKAGE', 10, 15, -1, 4, 121100.2109375, 504971.59375, 26784966.0, b'', b'', b'', b'')\n",
      "(5, 11, b'       HORT+DUNN', 10, 15, -1, 4, 121100.2109375, 504971.59375, 26784966.0, b'', b'', b'', b'')\n",
      "(5, 11, b'  STORAGE CHANGE', 10, 15, -1, 4, 121100.2109375, 504971.59375, 26784966.0, b'', b'', b'', b'')\n",
      "(10, 11, b'           GW ET', 10, 15, -1, 4, 195033.109375, 1318233.375, 27598228.0, b'', b'', b'', b'')\n",
      "(10, 11, b'    UZF RECHARGE', 10, 15, -1, 4, 195033.109375, 1318233.375, 27598228.0, b'', b'', b'', b'')\n",
      "(10, 11, b' SURFACE LEAKAGE', 10, 15, -1, 4, 195033.109375, 1318233.375, 27598228.0, b'', b'', b'', b'')\n",
      "(10, 11, b'       HORT+DUNN', 10, 15, -1, 4, 195033.109375, 1318233.375, 27598228.0, b'', b'', b'', b'')\n",
      "(10, 11, b'  STORAGE CHANGE', 10, 15, -1, 4, 195033.109375, 1318233.375, 27598228.0, b'', b'', b'', b'')\n",
      "(15, 11, b'           GW ET', 10, 15, -1, 4, 314102.8125, 2627999.75, 28907994.0, b'', b'', b'', b'')\n",
      "(15, 11, b'    UZF RECHARGE', 10, 15, -1, 4, 314102.8125, 2627999.75, 28907994.0, b'', b'', b'', b'')\n",
      "(15, 11, b' SURFACE LEAKAGE', 10, 15, -1, 4, 314102.8125, 2627999.75, 28907994.0, b'', b'', b'', b'')\n",
      "(15, 11, b'       HORT+DUNN', 10, 15, -1, 4, 314102.8125, 2627999.75, 28907994.0, b'', b'', b'', b'')\n",
      "(15, 11, b'  STORAGE CHANGE', 10, 15, -1, 4, 314102.8125, 2627999.75, 28907994.0, b'', b'', b'', b'')\n",
      "(5, 12, b'           GW ET', 10, 15, -1, 4, 121100.2109375, 504971.59375, 29412966.0, b'', b'', b'', b'')\n",
      "(5, 12, b'    UZF RECHARGE', 10, 15, -1, 4, 121100.2109375, 504971.59375, 29412966.0, b'', b'', b'', b'')\n",
      "(5, 12, b' SURFACE LEAKAGE', 10, 15, -1, 4, 121100.2109375, 504971.59375, 29412966.0, b'', b'', b'', b'')\n",
      "(5, 12, b'       HORT+DUNN', 10, 15, -1, 4, 121100.2109375, 504971.59375, 29412966.0, b'', b'', b'', b'')\n",
      "(5, 12, b'  STORAGE CHANGE', 10, 15, -1, 4, 121100.2109375, 504971.59375, 29412966.0, b'', b'', b'', b'')\n",
      "(10, 12, b'           GW ET', 10, 15, -1, 4, 195033.109375, 1318233.375, 30226228.0, b'', b'', b'', b'')\n",
      "(10, 12, b'    UZF RECHARGE', 10, 15, -1, 4, 195033.109375, 1318233.375, 30226228.0, b'', b'', b'', b'')\n",
      "(10, 12, b' SURFACE LEAKAGE', 10, 15, -1, 4, 195033.109375, 1318233.375, 30226228.0, b'', b'', b'', b'')\n",
      "(10, 12, b'       HORT+DUNN', 10, 15, -1, 4, 195033.109375, 1318233.375, 30226228.0, b'', b'', b'', b'')\n",
      "(10, 12, b'  STORAGE CHANGE', 10, 15, -1, 4, 195033.109375, 1318233.375, 30226228.0, b'', b'', b'', b'')\n",
      "(15, 12, b'           GW ET', 10, 15, -1, 4, 314102.8125, 2627999.75, 31535994.0, b'', b'', b'', b'')\n",
      "(15, 12, b'    UZF RECHARGE', 10, 15, -1, 4, 314102.8125, 2627999.75, 31535994.0, b'', b'', b'', b'')\n",
      "(15, 12, b' SURFACE LEAKAGE', 10, 15, -1, 4, 314102.8125, 2627999.75, 31535994.0, b'', b'', b'', b'')\n",
      "(15, 12, b'       HORT+DUNN', 10, 15, -1, 4, 314102.8125, 2627999.75, 31535994.0, b'', b'', b'', b'')\n",
      "(15, 12, b'  STORAGE CHANGE', 10, 15, -1, 4, 314102.8125, 2627999.75, 31535994.0, b'', b'', b'', b'')\n"
     ]
    }
   ],
   "source": [
    "uzfbdobjct = bf.CellBudgetFile(os.path.join(path,'UZFtest2.uzfcb2.bin'))\n",
    "uzfbdobjct.list_records()"
   ]
  },
  {
   "cell_type": "code",
   "execution_count": 21,
   "metadata": {
    "collapsed": false
   },
   "outputs": [
    {
     "data": {
      "text/plain": [
       "<matplotlib.image.AxesImage at 0x11b5fdcc0>"
      ]
     },
     "execution_count": 21,
     "metadata": {},
     "output_type": "execute_result"
    },
    {
     "data": {
      "image/png": "[encoded data removed]",
      "text/plain": [
       "<matplotlib.figure.Figure at 0x11b4f4ef0>"
      ]
     },
     "metadata": {},
     "output_type": "display_data"
    }
   ],
   "source": [
    "r = uzfbdobjct.get_data(text='UZF RECHARGE')\n",
    "et = uzfbdobjct.get_data(text='GW ET')\n",
    "plt.imshow(r[6], interpolation='None')"
   ]
  },
  {
   "cell_type": "code",
   "execution_count": 22,
   "metadata": {
    "collapsed": false
   },
   "outputs": [
    {
     "data": {
      "text/plain": [
       "<matplotlib.legend.Legend at 0x11b636978>"
      ]
     },
     "execution_count": 22,
     "metadata": {},
     "output_type": "execute_result"
    },
    {
     "data": {
      "image/png": "[encoded data removed]",
      "text/plain": [
       "<matplotlib.figure.Figure at 0x11b60a080>"
      ]
     },
     "metadata": {},
     "output_type": "display_data"
    }
   ],
   "source": [
    "rtot = [rp.sum() for rp in r]\n",
    "ettot = [etp.sum() for etp in et]\n",
    "sltot = [sl.sum() for sl in uzfbdobjct.get_data(text='SURFACE LEAKAGE')]\n",
    "\n",
    "plt.plot(rtot, label='simulated recharge')\n",
    "plt.plot(np.abs(ettot), label='simulated actual et')\n",
    "plt.plot(np.abs(sltot), label='simulated surface leakage')\n",
    "plt.xlabel('Timestep')\n",
    "plt.ylabel('Volume, in cubic feet')\n",
    "plt.legend()"
   ]
  },
  {
   "cell_type": "markdown",
   "metadata": {},
   "source": [
    "### Look at the gages"
   ]
  },
  {
   "cell_type": "code",
   "execution_count": 23,
   "metadata": {
    "collapsed": false
   },
   "outputs": [
    {
     "data": {
      "text/plain": [
       "<matplotlib.text.Text at 0x11b503ac8>"
      ]
     },
     "execution_count": 23,
     "metadata": {},
     "output_type": "execute_result"
    },
    {
     "data": {
      "image/png": "[encoded data removed]",
      "text/plain": [
       "<matplotlib.figure.Figure at 0x11b6a6438>"
      ]
     },
     "metadata": {},
     "output_type": "display_data"
    }
   ],
   "source": [
    "fpth = os.path.join(path, 'UZFtest2.uzf68.out')\n",
    "dtype = [('TIME', np.float), ('APPLIED-INFIL', np.float), ('RUNOFF', np.float), \n",
    "         ('ACTUAL-INFIL', np.float), ('SURFACE-LEAK', np.float), \n",
    "         ('UZ-ET', np.float), ('GW-ET', np.float), ('UZSTOR-CHANGE', np.float), \n",
    "         ('RECHARGE', np.float)]\n",
    "# read data from file\n",
    "df = np.genfromtxt(fpth, skip_header=3, dtype=dtype)\n",
    "# convert numpy recarray to pandas dataframe\n",
    "df = pd.DataFrame(data=df)\n",
    "# set index to the time column\n",
    "df.set_index(['TIME'], inplace=True)\n",
    "# plot the data\n",
    "ax = df.plot(legend=False, figsize=(15, 10))\n",
    "patches, labels = ax.get_legend_handles_labels()\n",
    "ax.legend(patches, labels, loc=1)\n",
    "ax.set_ylabel('Volume for whole model, in cubic feet')"
   ]
  },
  {
   "cell_type": "markdown",
   "metadata": {},
   "source": [
    "### Plot water content profile through time at row 10, column 5"
   ]
  },
  {
   "cell_type": "code",
   "execution_count": 24,
   "metadata": {
    "collapsed": false
   },
   "outputs": [],
   "source": [
    "fpth = os.path.join(path, 'UZFtest2.uzf67.out')\n",
    "data = []\n",
    "with open(fpth) as input:\n",
    "    for i in range(3):\n",
    "        next(input)\n",
    "    for line in input:\n",
    "        line = line.strip().split()\n",
    "        if len(line) == 6:\n",
    "            layer = int(line.pop(0))\n",
    "            time = float(line.pop(0))\n",
    "            head = float(line.pop(0))\n",
    "            uzthick = float(line.pop(0))\n",
    "        depth = float(line.pop(0))\n",
    "        watercontent = float(line.pop(0))\n",
    "        data.append([layer, time, head, uzthick, depth, watercontent])"
   ]
  },
  {
   "cell_type": "code",
   "execution_count": 25,
   "metadata": {
    "collapsed": false
   },
   "outputs": [
    {
     "data": {
      "text/html": [
       "<div>\n",
       "<table border=\"1\" class=\"dataframe\">\n",
       "  <thead>\n",
       "    <tr style=\"text-align: right;\">\n",
       "      <th></th>\n",
       "      <th>layer</th>\n",
       "      <th>time</th>\n",
       "      <th>head</th>\n",
       "      <th>uzthick</th>\n",
       "      <th>depth</th>\n",
       "      <th>watercontent</th>\n",
       "    </tr>\n",
       "  </thead>\n",
       "  <tbody>\n",
       "    <tr>\n",
       "      <th>0</th>\n",
       "      <td>1</td>\n",
       "      <td>2628000.0</td>\n",
       "      <td>1036.0872</td>\n",
       "      <td>9.412842</td>\n",
       "      <td>0.235315</td>\n",
       "      <td>0.183876</td>\n",
       "    </tr>\n",
       "    <tr>\n",
       "      <th>1</th>\n",
       "      <td>1</td>\n",
       "      <td>2628000.0</td>\n",
       "      <td>1036.0872</td>\n",
       "      <td>9.412842</td>\n",
       "      <td>0.470630</td>\n",
       "      <td>0.183876</td>\n",
       "    </tr>\n",
       "    <tr>\n",
       "      <th>2</th>\n",
       "      <td>1</td>\n",
       "      <td>2628000.0</td>\n",
       "      <td>1036.0872</td>\n",
       "      <td>9.412842</td>\n",
       "      <td>0.705945</td>\n",
       "      <td>0.183876</td>\n",
       "    </tr>\n",
       "    <tr>\n",
       "      <th>3</th>\n",
       "      <td>1</td>\n",
       "      <td>2628000.0</td>\n",
       "      <td>1036.0872</td>\n",
       "      <td>9.412842</td>\n",
       "      <td>0.941261</td>\n",
       "      <td>0.183876</td>\n",
       "    </tr>\n",
       "    <tr>\n",
       "      <th>4</th>\n",
       "      <td>1</td>\n",
       "      <td>2628000.0</td>\n",
       "      <td>1036.0872</td>\n",
       "      <td>9.412842</td>\n",
       "      <td>1.176576</td>\n",
       "      <td>0.183876</td>\n",
       "    </tr>\n",
       "    <tr>\n",
       "      <th>5</th>\n",
       "      <td>1</td>\n",
       "      <td>2628000.0</td>\n",
       "      <td>1036.0872</td>\n",
       "      <td>9.412842</td>\n",
       "      <td>1.411891</td>\n",
       "      <td>0.183876</td>\n",
       "    </tr>\n",
       "    <tr>\n",
       "      <th>6</th>\n",
       "      <td>1</td>\n",
       "      <td>2628000.0</td>\n",
       "      <td>1036.0872</td>\n",
       "      <td>9.412842</td>\n",
       "      <td>1.647206</td>\n",
       "      <td>0.183876</td>\n",
       "    </tr>\n",
       "    <tr>\n",
       "      <th>7</th>\n",
       "      <td>1</td>\n",
       "      <td>2628000.0</td>\n",
       "      <td>1036.0872</td>\n",
       "      <td>9.412842</td>\n",
       "      <td>1.882521</td>\n",
       "      <td>0.183876</td>\n",
       "    </tr>\n",
       "    <tr>\n",
       "      <th>8</th>\n",
       "      <td>1</td>\n",
       "      <td>2628000.0</td>\n",
       "      <td>1036.0872</td>\n",
       "      <td>9.412842</td>\n",
       "      <td>2.117837</td>\n",
       "      <td>0.183876</td>\n",
       "    </tr>\n",
       "    <tr>\n",
       "      <th>9</th>\n",
       "      <td>1</td>\n",
       "      <td>2628000.0</td>\n",
       "      <td>1036.0872</td>\n",
       "      <td>9.412842</td>\n",
       "      <td>2.353152</td>\n",
       "      <td>0.183876</td>\n",
       "    </tr>\n",
       "    <tr>\n",
       "      <th>10</th>\n",
       "      <td>1</td>\n",
       "      <td>2628000.0</td>\n",
       "      <td>1036.0872</td>\n",
       "      <td>9.412842</td>\n",
       "      <td>2.588467</td>\n",
       "      <td>0.183876</td>\n",
       "    </tr>\n",
       "    <tr>\n",
       "      <th>11</th>\n",
       "      <td>1</td>\n",
       "      <td>2628000.0</td>\n",
       "      <td>1036.0872</td>\n",
       "      <td>9.412842</td>\n",
       "      <td>2.823782</td>\n",
       "      <td>0.183876</td>\n",
       "    </tr>\n",
       "    <tr>\n",
       "      <th>12</th>\n",
       "      <td>1</td>\n",
       "      <td>2628000.0</td>\n",
       "      <td>1036.0872</td>\n",
       "      <td>9.412842</td>\n",
       "      <td>3.059097</td>\n",
       "      <td>0.183876</td>\n",
       "    </tr>\n",
       "    <tr>\n",
       "      <th>13</th>\n",
       "      <td>1</td>\n",
       "      <td>2628000.0</td>\n",
       "      <td>1036.0872</td>\n",
       "      <td>9.412842</td>\n",
       "      <td>3.294412</td>\n",
       "      <td>0.183876</td>\n",
       "    </tr>\n",
       "    <tr>\n",
       "      <th>14</th>\n",
       "      <td>1</td>\n",
       "      <td>2628000.0</td>\n",
       "      <td>1036.0872</td>\n",
       "      <td>9.412842</td>\n",
       "      <td>3.529727</td>\n",
       "      <td>0.183876</td>\n",
       "    </tr>\n",
       "    <tr>\n",
       "      <th>15</th>\n",
       "      <td>1</td>\n",
       "      <td>2628000.0</td>\n",
       "      <td>1036.0872</td>\n",
       "      <td>9.412842</td>\n",
       "      <td>3.765042</td>\n",
       "      <td>0.183876</td>\n",
       "    </tr>\n",
       "    <tr>\n",
       "      <th>16</th>\n",
       "      <td>1</td>\n",
       "      <td>2628000.0</td>\n",
       "      <td>1036.0872</td>\n",
       "      <td>9.412842</td>\n",
       "      <td>4.000358</td>\n",
       "      <td>0.183876</td>\n",
       "    </tr>\n",
       "    <tr>\n",
       "      <th>17</th>\n",
       "      <td>1</td>\n",
       "      <td>2628000.0</td>\n",
       "      <td>1036.0872</td>\n",
       "      <td>9.412842</td>\n",
       "      <td>4.235673</td>\n",
       "      <td>0.183876</td>\n",
       "    </tr>\n",
       "    <tr>\n",
       "      <th>18</th>\n",
       "      <td>1</td>\n",
       "      <td>2628000.0</td>\n",
       "      <td>1036.0872</td>\n",
       "      <td>9.412842</td>\n",
       "      <td>4.470988</td>\n",
       "      <td>0.183876</td>\n",
       "    </tr>\n",
       "    <tr>\n",
       "      <th>19</th>\n",
       "      <td>1</td>\n",
       "      <td>2628000.0</td>\n",
       "      <td>1036.0872</td>\n",
       "      <td>9.412842</td>\n",
       "      <td>4.706303</td>\n",
       "      <td>0.183876</td>\n",
       "    </tr>\n",
       "    <tr>\n",
       "      <th>20</th>\n",
       "      <td>1</td>\n",
       "      <td>2628000.0</td>\n",
       "      <td>1036.0872</td>\n",
       "      <td>9.412842</td>\n",
       "      <td>4.941618</td>\n",
       "      <td>0.183876</td>\n",
       "    </tr>\n",
       "    <tr>\n",
       "      <th>21</th>\n",
       "      <td>1</td>\n",
       "      <td>2628000.0</td>\n",
       "      <td>1036.0872</td>\n",
       "      <td>9.412842</td>\n",
       "      <td>5.176933</td>\n",
       "      <td>0.183876</td>\n",
       "    </tr>\n",
       "    <tr>\n",
       "      <th>22</th>\n",
       "      <td>1</td>\n",
       "      <td>2628000.0</td>\n",
       "      <td>1036.0872</td>\n",
       "      <td>9.412842</td>\n",
       "      <td>5.412249</td>\n",
       "      <td>0.183876</td>\n",
       "    </tr>\n",
       "    <tr>\n",
       "      <th>23</th>\n",
       "      <td>1</td>\n",
       "      <td>2628000.0</td>\n",
       "      <td>1036.0872</td>\n",
       "      <td>9.412842</td>\n",
       "      <td>5.647564</td>\n",
       "      <td>0.183876</td>\n",
       "    </tr>\n",
       "    <tr>\n",
       "      <th>24</th>\n",
       "      <td>1</td>\n",
       "      <td>2628000.0</td>\n",
       "      <td>1036.0872</td>\n",
       "      <td>9.412842</td>\n",
       "      <td>5.882879</td>\n",
       "      <td>0.183876</td>\n",
       "    </tr>\n",
       "    <tr>\n",
       "      <th>25</th>\n",
       "      <td>1</td>\n",
       "      <td>2628000.0</td>\n",
       "      <td>1036.0872</td>\n",
       "      <td>9.412842</td>\n",
       "      <td>6.118194</td>\n",
       "      <td>0.183876</td>\n",
       "    </tr>\n",
       "    <tr>\n",
       "      <th>26</th>\n",
       "      <td>1</td>\n",
       "      <td>2628000.0</td>\n",
       "      <td>1036.0872</td>\n",
       "      <td>9.412842</td>\n",
       "      <td>6.353509</td>\n",
       "      <td>0.183876</td>\n",
       "    </tr>\n",
       "    <tr>\n",
       "      <th>27</th>\n",
       "      <td>1</td>\n",
       "      <td>2628000.0</td>\n",
       "      <td>1036.0872</td>\n",
       "      <td>9.412842</td>\n",
       "      <td>6.588824</td>\n",
       "      <td>0.183876</td>\n",
       "    </tr>\n",
       "    <tr>\n",
       "      <th>28</th>\n",
       "      <td>1</td>\n",
       "      <td>2628000.0</td>\n",
       "      <td>1036.0872</td>\n",
       "      <td>9.412842</td>\n",
       "      <td>6.824140</td>\n",
       "      <td>0.183876</td>\n",
       "    </tr>\n",
       "    <tr>\n",
       "      <th>29</th>\n",
       "      <td>1</td>\n",
       "      <td>2628000.0</td>\n",
       "      <td>1036.0872</td>\n",
       "      <td>9.412842</td>\n",
       "      <td>7.059455</td>\n",
       "      <td>0.183876</td>\n",
       "    </tr>\n",
       "    <tr>\n",
       "      <th>30</th>\n",
       "      <td>1</td>\n",
       "      <td>2628000.0</td>\n",
       "      <td>1036.0872</td>\n",
       "      <td>9.412842</td>\n",
       "      <td>7.294770</td>\n",
       "      <td>0.183876</td>\n",
       "    </tr>\n",
       "    <tr>\n",
       "      <th>31</th>\n",
       "      <td>1</td>\n",
       "      <td>2628000.0</td>\n",
       "      <td>1036.0872</td>\n",
       "      <td>9.412842</td>\n",
       "      <td>7.530085</td>\n",
       "      <td>0.183876</td>\n",
       "    </tr>\n",
       "    <tr>\n",
       "      <th>32</th>\n",
       "      <td>1</td>\n",
       "      <td>2628000.0</td>\n",
       "      <td>1036.0872</td>\n",
       "      <td>9.412842</td>\n",
       "      <td>7.765400</td>\n",
       "      <td>0.183876</td>\n",
       "    </tr>\n",
       "    <tr>\n",
       "      <th>33</th>\n",
       "      <td>1</td>\n",
       "      <td>2628000.0</td>\n",
       "      <td>1036.0872</td>\n",
       "      <td>9.412842</td>\n",
       "      <td>8.000715</td>\n",
       "      <td>0.183876</td>\n",
       "    </tr>\n",
       "    <tr>\n",
       "      <th>34</th>\n",
       "      <td>1</td>\n",
       "      <td>2628000.0</td>\n",
       "      <td>1036.0872</td>\n",
       "      <td>9.412842</td>\n",
       "      <td>8.236031</td>\n",
       "      <td>0.183876</td>\n",
       "    </tr>\n",
       "    <tr>\n",
       "      <th>35</th>\n",
       "      <td>1</td>\n",
       "      <td>2628000.0</td>\n",
       "      <td>1036.0872</td>\n",
       "      <td>9.412842</td>\n",
       "      <td>8.471346</td>\n",
       "      <td>0.183876</td>\n",
       "    </tr>\n",
       "    <tr>\n",
       "      <th>36</th>\n",
       "      <td>1</td>\n",
       "      <td>2628000.0</td>\n",
       "      <td>1036.0872</td>\n",
       "      <td>9.412842</td>\n",
       "      <td>8.706661</td>\n",
       "      <td>0.183876</td>\n",
       "    </tr>\n",
       "    <tr>\n",
       "      <th>37</th>\n",
       "      <td>1</td>\n",
       "      <td>2628000.0</td>\n",
       "      <td>1036.0872</td>\n",
       "      <td>9.412842</td>\n",
       "      <td>8.941976</td>\n",
       "      <td>0.183876</td>\n",
       "    </tr>\n",
       "    <tr>\n",
       "      <th>38</th>\n",
       "      <td>1</td>\n",
       "      <td>2628000.0</td>\n",
       "      <td>1036.0872</td>\n",
       "      <td>9.412842</td>\n",
       "      <td>9.177291</td>\n",
       "      <td>0.183876</td>\n",
       "    </tr>\n",
       "    <tr>\n",
       "      <th>39</th>\n",
       "      <td>1</td>\n",
       "      <td>2628000.0</td>\n",
       "      <td>1036.0872</td>\n",
       "      <td>9.412842</td>\n",
       "      <td>9.412842</td>\n",
       "      <td>0.183876</td>\n",
       "    </tr>\n",
       "    <tr>\n",
       "      <th>40</th>\n",
       "      <td>1</td>\n",
       "      <td>2710713.0</td>\n",
       "      <td>1036.0927</td>\n",
       "      <td>9.407349</td>\n",
       "      <td>0.235178</td>\n",
       "      <td>0.188524</td>\n",
       "    </tr>\n",
       "  </tbody>\n",
       "</table>\n",
       "</div>"
      ],
      "text/plain": [
       "    layer       time       head   uzthick     depth  watercontent\n",
       "0       1  2628000.0  1036.0872  9.412842  0.235315      0.183876\n",
       "1       1  2628000.0  1036.0872  9.412842  0.470630      0.183876\n",
       "2       1  2628000.0  1036.0872  9.412842  0.705945      0.183876\n",
       "3       1  2628000.0  1036.0872  9.412842  0.941261      0.183876\n",
       "4       1  2628000.0  1036.0872  9.412842  1.176576      0.183876\n",
       "5       1  2628000.0  1036.0872  9.412842  1.411891      0.183876\n",
       "6       1  2628000.0  1036.0872  9.412842  1.647206      0.183876\n",
       "7       1  2628000.0  1036.0872  9.412842  1.882521      0.183876\n",
       "8       1  2628000.0  1036.0872  9.412842  2.117837      0.183876\n",
       "9       1  2628000.0  1036.0872  9.412842  2.353152      0.183876\n",
       "10      1  2628000.0  1036.0872  9.412842  2.588467      0.183876\n",
       "11      1  2628000.0  1036.0872  9.412842  2.823782      0.183876\n",
       "12      1  2628000.0  1036.0872  9.412842  3.059097      0.183876\n",
       "13      1  2628000.0  1036.0872  9.412842  3.294412      0.183876\n",
       "14      1  2628000.0  1036.0872  9.412842  3.529727      0.183876\n",
       "15      1  2628000.0  1036.0872  9.412842  3.765042      0.183876\n",
       "16      1  2628000.0  1036.0872  9.412842  4.000358      0.183876\n",
       "17      1  2628000.0  1036.0872  9.412842  4.235673      0.183876\n",
       "18      1  2628000.0  1036.0872  9.412842  4.470988      0.183876\n",
       "19      1  2628000.0  1036.0872  9.412842  4.706303      0.183876\n",
       "20      1  2628000.0  1036.0872  9.412842  4.941618      0.183876\n",
       "21      1  2628000.0  1036.0872  9.412842  5.176933      0.183876\n",
       "22      1  2628000.0  1036.0872  9.412842  5.412249      0.183876\n",
       "23      1  2628000.0  1036.0872  9.412842  5.647564      0.183876\n",
       "24      1  2628000.0  1036.0872  9.412842  5.882879      0.183876\n",
       "25      1  2628000.0  1036.0872  9.412842  6.118194      0.183876\n",
       "26      1  2628000.0  1036.0872  9.412842  6.353509      0.183876\n",
       "27      1  2628000.0  1036.0872  9.412842  6.588824      0.183876\n",
       "28      1  2628000.0  1036.0872  9.412842  6.824140      0.183876\n",
       "29      1  2628000.0  1036.0872  9.412842  7.059455      0.183876\n",
       "30      1  2628000.0  1036.0872  9.412842  7.294770      0.183876\n",
       "31      1  2628000.0  1036.0872  9.412842  7.530085      0.183876\n",
       "32      1  2628000.0  1036.0872  9.412842  7.765400      0.183876\n",
       "33      1  2628000.0  1036.0872  9.412842  8.000715      0.183876\n",
       "34      1  2628000.0  1036.0872  9.412842  8.236031      0.183876\n",
       "35      1  2628000.0  1036.0872  9.412842  8.471346      0.183876\n",
       "36      1  2628000.0  1036.0872  9.412842  8.706661      0.183876\n",
       "37      1  2628000.0  1036.0872  9.412842  8.941976      0.183876\n",
       "38      1  2628000.0  1036.0872  9.412842  9.177291      0.183876\n",
       "39      1  2628000.0  1036.0872  9.412842  9.412842      0.183876\n",
       "40      1  2710713.0  1036.0927  9.407349  0.235178      0.188524"
      ]
     },
     "execution_count": 25,
     "metadata": {},
     "output_type": "execute_result"
    }
   ],
   "source": [
    "df3 = pd.DataFrame(data, columns=['layer', 'time', 'head', 'uzthick', 'depth', 'watercontent'])\n",
    "df3.head(41)"
   ]
  },
  {
   "cell_type": "code",
   "execution_count": 26,
   "metadata": {
    "collapsed": false
   },
   "outputs": [
    {
     "name": "stderr",
     "output_type": "stream",
     "text": [
      "/Users/jdhughes/anaconda/lib/python3.5/site-packages/ipykernel/__main__.py:1: FutureWarning: reshape is deprecated and will raise in a subsequent release. Please use .values.reshape(...) instead\n",
      "  if __name__ == '__main__':\n"
     ]
    },
    {
     "data": {
      "text/html": [
       "<div>\n",
       "<table border=\"1\" class=\"dataframe\">\n",
       "  <thead>\n",
       "    <tr style=\"text-align: right;\">\n",
       "      <th></th>\n",
       "      <th>2628000.0</th>\n",
       "      <th>2710713.0</th>\n",
       "      <th>2801697.5</th>\n",
       "      <th>2901780.2</th>\n",
       "      <th>3011871.2</th>\n",
       "      <th>3132971.5</th>\n",
       "      <th>3266181.8</th>\n",
       "      <th>3412713.0</th>\n",
       "      <th>3573897.5</th>\n",
       "      <th>3751200.2</th>\n",
       "      <th>...</th>\n",
       "      <th>29546176.0</th>\n",
       "      <th>29692708.0</th>\n",
       "      <th>29853892.0</th>\n",
       "      <th>30031194.0</th>\n",
       "      <th>30226228.0</th>\n",
       "      <th>30440764.0</th>\n",
       "      <th>30676754.0</th>\n",
       "      <th>30936344.0</th>\n",
       "      <th>31221892.0</th>\n",
       "      <th>31535994.0</th>\n",
       "    </tr>\n",
       "    <tr>\n",
       "      <th>depth</th>\n",
       "      <th></th>\n",
       "      <th></th>\n",
       "      <th></th>\n",
       "      <th></th>\n",
       "      <th></th>\n",
       "      <th></th>\n",
       "      <th></th>\n",
       "      <th></th>\n",
       "      <th></th>\n",
       "      <th></th>\n",
       "      <th></th>\n",
       "      <th></th>\n",
       "      <th></th>\n",
       "      <th></th>\n",
       "      <th></th>\n",
       "      <th></th>\n",
       "      <th></th>\n",
       "      <th></th>\n",
       "      <th></th>\n",
       "      <th></th>\n",
       "      <th></th>\n",
       "    </tr>\n",
       "  </thead>\n",
       "  <tbody>\n",
       "    <tr>\n",
       "      <th>0.235315</th>\n",
       "      <td>0.183876</td>\n",
       "      <td>0.188524</td>\n",
       "      <td>0.193666</td>\n",
       "      <td>0.199354</td>\n",
       "      <td>0.205651</td>\n",
       "      <td>0.210728</td>\n",
       "      <td>0.210716</td>\n",
       "      <td>0.210684</td>\n",
       "      <td>0.210643</td>\n",
       "      <td>0.210704</td>\n",
       "      <td>...</td>\n",
       "      <td>0.181644</td>\n",
       "      <td>0.181634</td>\n",
       "      <td>0.181620</td>\n",
       "      <td>0.181621</td>\n",
       "      <td>0.181623</td>\n",
       "      <td>0.181614</td>\n",
       "      <td>0.181609</td>\n",
       "      <td>0.181621</td>\n",
       "      <td>0.181646</td>\n",
       "      <td>0.181642</td>\n",
       "    </tr>\n",
       "    <tr>\n",
       "      <th>0.470630</th>\n",
       "      <td>0.183876</td>\n",
       "      <td>0.183601</td>\n",
       "      <td>0.183297</td>\n",
       "      <td>0.182964</td>\n",
       "      <td>0.182597</td>\n",
       "      <td>0.184087</td>\n",
       "      <td>0.191378</td>\n",
       "      <td>0.199477</td>\n",
       "      <td>0.208463</td>\n",
       "      <td>0.209815</td>\n",
       "      <td>...</td>\n",
       "      <td>0.176178</td>\n",
       "      <td>0.176156</td>\n",
       "      <td>0.176155</td>\n",
       "      <td>0.176150</td>\n",
       "      <td>0.176148</td>\n",
       "      <td>0.176159</td>\n",
       "      <td>0.176173</td>\n",
       "      <td>0.176164</td>\n",
       "      <td>0.176134</td>\n",
       "      <td>0.176139</td>\n",
       "    </tr>\n",
       "    <tr>\n",
       "      <th>0.705945</th>\n",
       "      <td>0.183876</td>\n",
       "      <td>0.183601</td>\n",
       "      <td>0.183297</td>\n",
       "      <td>0.182964</td>\n",
       "      <td>0.182597</td>\n",
       "      <td>0.182193</td>\n",
       "      <td>0.181749</td>\n",
       "      <td>0.181261</td>\n",
       "      <td>0.180723</td>\n",
       "      <td>0.188662</td>\n",
       "      <td>...</td>\n",
       "      <td>0.175859</td>\n",
       "      <td>0.175033</td>\n",
       "      <td>0.174181</td>\n",
       "      <td>0.173325</td>\n",
       "      <td>0.172464</td>\n",
       "      <td>0.171601</td>\n",
       "      <td>0.170738</td>\n",
       "      <td>0.169901</td>\n",
       "      <td>0.169081</td>\n",
       "      <td>0.168261</td>\n",
       "    </tr>\n",
       "    <tr>\n",
       "      <th>0.941261</th>\n",
       "      <td>0.183876</td>\n",
       "      <td>0.183601</td>\n",
       "      <td>0.183297</td>\n",
       "      <td>0.182964</td>\n",
       "      <td>0.182597</td>\n",
       "      <td>0.182193</td>\n",
       "      <td>0.181749</td>\n",
       "      <td>0.181261</td>\n",
       "      <td>0.180723</td>\n",
       "      <td>0.180132</td>\n",
       "      <td>...</td>\n",
       "      <td>0.178985</td>\n",
       "      <td>0.178566</td>\n",
       "      <td>0.178013</td>\n",
       "      <td>0.177326</td>\n",
       "      <td>0.176488</td>\n",
       "      <td>0.175481</td>\n",
       "      <td>0.174330</td>\n",
       "      <td>0.173105</td>\n",
       "      <td>0.171818</td>\n",
       "      <td>0.170466</td>\n",
       "    </tr>\n",
       "    <tr>\n",
       "      <th>1.176576</th>\n",
       "      <td>0.183876</td>\n",
       "      <td>0.183601</td>\n",
       "      <td>0.183297</td>\n",
       "      <td>0.182964</td>\n",
       "      <td>0.182597</td>\n",
       "      <td>0.182193</td>\n",
       "      <td>0.181749</td>\n",
       "      <td>0.181261</td>\n",
       "      <td>0.180723</td>\n",
       "      <td>0.180132</td>\n",
       "      <td>...</td>\n",
       "      <td>0.173670</td>\n",
       "      <td>0.173479</td>\n",
       "      <td>0.173315</td>\n",
       "      <td>0.173164</td>\n",
       "      <td>0.173025</td>\n",
       "      <td>0.172914</td>\n",
       "      <td>0.172784</td>\n",
       "      <td>0.172535</td>\n",
       "      <td>0.172140</td>\n",
       "      <td>0.171566</td>\n",
       "    </tr>\n",
       "  </tbody>\n",
       "</table>\n",
       "<p>5 rows × 166 columns</p>\n",
       "</div>"
      ],
      "text/plain": [
       "          2628000.0   2710713.0   2801697.5   2901780.2   3011871.2   \\\n",
       "depth                                                                  \n",
       "0.235315    0.183876    0.188524    0.193666    0.199354    0.205651   \n",
       "0.470630    0.183876    0.183601    0.183297    0.182964    0.182597   \n",
       "0.705945    0.183876    0.183601    0.183297    0.182964    0.182597   \n",
       "0.941261    0.183876    0.183601    0.183297    0.182964    0.182597   \n",
       "1.176576    0.183876    0.183601    0.183297    0.182964    0.182597   \n",
       "\n",
       "          3132971.5   3266181.8   3412713.0   3573897.5   3751200.2   \\\n",
       "depth                                                                  \n",
       "0.235315    0.210728    0.210716    0.210684    0.210643    0.210704   \n",
       "0.470630    0.184087    0.191378    0.199477    0.208463    0.209815   \n",
       "0.705945    0.182193    0.181749    0.181261    0.180723    0.188662   \n",
       "0.941261    0.182193    0.181749    0.181261    0.180723    0.180132   \n",
       "1.176576    0.182193    0.181749    0.181261    0.180723    0.180132   \n",
       "\n",
       "             ...      29546176.0  29692708.0  29853892.0  30031194.0  \\\n",
       "depth        ...                                                       \n",
       "0.235315     ...        0.181644    0.181634    0.181620    0.181621   \n",
       "0.470630     ...        0.176178    0.176156    0.176155    0.176150   \n",
       "0.705945     ...        0.175859    0.175033    0.174181    0.173325   \n",
       "0.941261     ...        0.178985    0.178566    0.178013    0.177326   \n",
       "1.176576     ...        0.173670    0.173479    0.173315    0.173164   \n",
       "\n",
       "          30226228.0  30440764.0  30676754.0  30936344.0  31221892.0  \\\n",
       "depth                                                                  \n",
       "0.235315    0.181623    0.181614    0.181609    0.181621    0.181646   \n",
       "0.470630    0.176148    0.176159    0.176173    0.176164    0.176134   \n",
       "0.705945    0.172464    0.171601    0.170738    0.169901    0.169081   \n",
       "0.941261    0.176488    0.175481    0.174330    0.173105    0.171818   \n",
       "1.176576    0.173025    0.172914    0.172784    0.172535    0.172140   \n",
       "\n",
       "          31535994.0  \n",
       "depth                 \n",
       "0.235315    0.181642  \n",
       "0.470630    0.176139  \n",
       "0.705945    0.168261  \n",
       "0.941261    0.170466  \n",
       "1.176576    0.171566  \n",
       "\n",
       "[5 rows x 166 columns]"
      ]
     },
     "execution_count": 26,
     "metadata": {},
     "output_type": "execute_result"
    }
   ],
   "source": [
    "wc = df3.watercontent.reshape(len(df3.time.unique()), 40).T\n",
    "wc = pd.DataFrame(wc, columns=df3.time.unique(), index=df3.depth[0:40])\n",
    "wc.head()"
   ]
  },
  {
   "cell_type": "code",
   "execution_count": 27,
   "metadata": {
    "collapsed": false
   },
   "outputs": [
    {
     "data": {
      "text/plain": [
       "<matplotlib.colorbar.Colorbar at 0x11bee64a8>"
      ]
     },
     "execution_count": 27,
     "metadata": {},
     "output_type": "execute_result"
    },
    {
     "data": {
      "image/png": "[encoded data removed]",
      "text/plain": [
       "<matplotlib.figure.Figure at 0x11b6045c0>"
      ]
     },
     "metadata": {},
     "output_type": "display_data"
    }
   ],
   "source": [
    "fig, ax = plt.subplots(figsize=(15, 10))\n",
    "plt.imshow(wc, interpolation='None')\n",
    "ax.set_aspect(3)\n",
    "r, c = wc.shape\n",
    "xcol_locs = np.linspace(0, c-1, 8, dtype=int)\n",
    "ycol_locs = np.linspace(0, r-1, 5, dtype=int)\n",
    "ax.set_xticks(xcol_locs)\n",
    "\n",
    "xlabels = wc.columns\n",
    "ax.set_xticklabels(xlabels[xcol_locs])\n",
    "ax.set_ylabel('Depth, in feet')\n",
    "ax.set_yticks(ycol_locs)\n",
    "ax.set_yticklabels(wc.index[ycol_locs])\n",
    "ax.set_xlabel('Time, in seconds')\n",
    "plt.colorbar(label='Water content')"
   ]
  },
  {
   "cell_type": "code",
   "execution_count": null,
   "metadata": {
    "collapsed": true
   },
   "outputs": [],
   "source": []
  }
 ],
 "metadata": {
  "anaconda-cloud": {},
  "kernelspec": {
   "display_name": "Python [conda root]",
   "language": "python",
   "name": "conda-root-py"
  },
  "language_info": {
   "codemirror_mode": {
    "name": "ipython",
    "version": 3
   },
   "file_extension": ".py",
   "mimetype": "text/x-python",
   "name": "python",
   "nbconvert_exporter": "python",
   "pygments_lexer": "ipython3",
   "version": "3.5.2"
  }
 },
 "nbformat": 4,
 "nbformat_minor": 0
}
