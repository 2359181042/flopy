{
 "cells": [
  {
   "cell_type": "markdown",
   "metadata": {},
   "source": [
    "###A quick demo of how to control the ASCII format of numeric arrays written by ``flopy``$_{3}$"
   ]
  },
  {
   "cell_type": "markdown",
   "metadata": {},
   "source": [
    "load and run the Freyberg model"
   ]
  },
  {
   "cell_type": "code",
   "execution_count": 1,
   "metadata": {
    "collapsed": true
   },
   "outputs": [],
   "source": [
    "%matplotlib inline\n",
    "import sys\n",
    "import os\n",
    "import platform\n",
    "import numpy as np\n",
    "import matplotlib.pyplot as plt\n",
    "\n",
    "import flopy\n",
    "\n",
    "#Set name of MODFLOW exe\n",
    "#  assumes executable is in users path statement\n",
    "version = 'mf2005'\n",
    "exe_name = 'mf2005'\n",
    "if platform.system() == 'Windows':\n",
    "    exe_name = 'mf2005.exe'\n",
    "mfexe = exe_name\n",
    "\n",
    "#Set the paths\n",
    "loadpth = os.path.join('..', 'data', 'freyberg')\n",
    "modelpth = os.path.join('data')\n",
    "\n",
    "#make sure modelpth directory exists\n",
    "if not os.path.exists(modelpth):\n",
    "    os.makedirs(modelpth)"
   ]
  },
  {
   "cell_type": "code",
   "execution_count": 2,
   "metadata": {
    "collapsed": false
   },
   "outputs": [
    {
     "name": "stdout",
     "output_type": "stream",
     "text": [
      "\n",
      "changing model workspace...\n",
      "   data\n",
      "FloPy is using the following executable to run the model: /Users/jwhite/bin/mf2005\n",
      "\n",
      "                                  MODFLOW-2005     \n",
      "    U.S. GEOLOGICAL SURVEY MODULAR FINITE-DIFFERENCE GROUND-WATER FLOW MODEL\n",
      "                             Version 1.11.00 8/8/2013                        \n",
      "\n",
      " Using NAME file: freyberg.nam \n",
      " Run start date and time (yyyy/mm/dd hh:mm:ss): 2015/12/09 13:53:00\n",
      "\n",
      " Solving:  Stress period:     1    Time step:     1    Ground-Water Flow Eqn.\n",
      "Something bad happened.\n",
      "Output file located: freyberg.hds\n",
      "Output file located: freyberg.cbc\n"
     ]
    }
   ],
   "source": [
    "ml = flopy.modflow.Modflow.load('freyberg.nam', model_ws=loadpth, \n",
    "                                exe_name=exe_name, version=version)\n",
    "ml.model_ws = modelpth\n",
    "ml.write_input()\n",
    "success, buff = ml.run_model()\n",
    "if not success:\n",
    "    print ('Something bad happened.')\n",
    "files = ['freyberg.hds', 'freyberg.cbc']\n",
    "for f in files:\n",
    "    if os.path.isfile(os.path.join(modelpth, f)):\n",
    "        msg = 'Output file located: {}'.format(f)\n",
    "        print (msg)\n",
    "    else:\n",
    "        errmsg = 'Error. Output file cannot be found: {}'.format(f)\n",
    "        print (errmsg)"
   ]
  },
  {
   "cell_type": "markdown",
   "metadata": {},
   "source": [
    "Each ``Util2d`` instance now has a ```.format``` attribute, which is an ```ArrayFormat``` instance:"
   ]
  },
  {
   "cell_type": "code",
   "execution_count": 3,
   "metadata": {
    "collapsed": false
   },
   "outputs": [
    {
     "name": "stdout",
     "output_type": "stream",
     "text": [
      "ArrayFormat: npl:20,format:G,width:15,decimal6,isfree:False,isbinary:False\n"
     ]
    }
   ],
   "source": [
    "print(ml.lpf.hk[0].format)"
   ]
  },
  {
   "cell_type": "markdown",
   "metadata": {},
   "source": [
    "The ```ArrayFormat``` class exposes each of the attributes seen in the ```ArrayFormat.___str___()``` call. ```ArrayFormat``` also exposes ``.fortran``, ``.py`` and ``.numpy`` atrributes, which are the respective format descriptors: "
   ]
  },
  {
   "cell_type": "code",
   "execution_count": 4,
   "metadata": {
    "collapsed": false
   },
   "outputs": [
    {
     "name": "stdout",
     "output_type": "stream",
     "text": [
      "(20G15.6)\n",
      "(20, '{0:15.6G}')\n",
      "%15G.6\n"
     ]
    }
   ],
   "source": [
    "print(ml.dis.botm[0].format.fortran)\n",
    "print(ml.dis.botm[0].format.py)\n",
    "print(ml.dis.botm[0].format.numpy)"
   ]
  },
  {
   "cell_type": "markdown",
   "metadata": {},
   "source": [
    "####(re)-setting ```.format```\n",
    "\n",
    "We can reset the format using a standard fortran type format descriptor"
   ]
  },
  {
   "cell_type": "code",
   "execution_count": 7,
   "metadata": {
    "collapsed": false
   },
   "outputs": [
    {
     "name": "stdout",
     "output_type": "stream",
     "text": [
      "(6F10.4)\n",
      "(6, '{0:10.4F}')\n",
      "%10F.4\n"
     ]
    }
   ],
   "source": [
    "ml.dis.botm[0].fmtin = \"(6f10.4)\"\n",
    "print(ml.dis.botm[0].format.fortran)\n",
    "print(ml.dis.botm[0].format.py)\n",
    "print(ml.dis.botm[0].format.numpy)"
   ]
  },
  {
   "cell_type": "code",
   "execution_count": 8,
   "metadata": {
    "collapsed": false
   },
   "outputs": [
    {
     "name": "stdout",
     "output_type": "stream",
     "text": [
      "FloPy is using the following executable to run the model: /Users/jwhite/bin/mf2005\n",
      "\n",
      "                                  MODFLOW-2005     \n",
      "    U.S. GEOLOGICAL SURVEY MODULAR FINITE-DIFFERENCE GROUND-WATER FLOW MODEL\n",
      "                             Version 1.11.00 8/8/2013                        \n",
      "\n",
      " Using NAME file: freyberg.nam \n",
      " Run start date and time (yyyy/mm/dd hh:mm:ss): 2015/12/09 13:53:17\n",
      "\n",
      " Solving:  Stress period:     1    Time step:     1    Ground-Water Flow Eqn.\n"
     ]
    }
   ],
   "source": [
    "ml.write_input()\n",
    "success, buff = ml.run_model()"
   ]
  },
  {
   "cell_type": "markdown",
   "metadata": {},
   "source": [
    "Let's load the model we just wrote and check that the desired ```botm[0].format``` was used:"
   ]
  },
  {
   "cell_type": "code",
   "execution_count": 9,
   "metadata": {
    "collapsed": false
   },
   "outputs": [
    {
     "name": "stdout",
     "output_type": "stream",
     "text": [
      "ArrayFormat: npl:20,format:G,width:15,decimal6,isfree:False,isbinary:False\n"
     ]
    }
   ],
   "source": [
    "ml1 = flopy.modflow.Modflow.load(\"freyberg.nam\",model_ws=modelpth)\n",
    "print(ml1.dis.botm[0].format)"
   ]
  },
  {
   "cell_type": "markdown",
   "metadata": {},
   "source": [
    "We can also reset individual format components (we can also generate some warnings):"
   ]
  },
  {
   "cell_type": "code",
   "execution_count": 10,
   "metadata": {
    "collapsed": false
   },
   "outputs": [
    {
     "name": "stdout",
     "output_type": "stream",
     "text": [
      "ArrayFormat warning:setting width less than default of 15\n",
      "ArrayFormat warning: setting decimal  less than default of 6\n",
      "ArrayFormat warning: setting decimal  less than current value of 6\n",
      "ArrayFormat: npl:20,format:G,width:15,decimal6,isfree:False,isbinary:False\n"
     ]
    }
   ],
   "source": [
    "ml.dis.botm[0].format.width = 9\n",
    "ml.dis.botm[0].format.decimal = 1\n",
    "print(ml1.dis.botm[0].format)"
   ]
  },
  {
   "cell_type": "markdown",
   "metadata": {
    "collapsed": true
   },
   "source": [
    "We can also select ``free`` format.  Note that setting to free format resets the format attributes to the default, max precision:"
   ]
  },
  {
   "cell_type": "code",
   "execution_count": 11,
   "metadata": {
    "collapsed": false
   },
   "outputs": [
    {
     "name": "stdout",
     "output_type": "stream",
     "text": [
      "ArrayFormat: npl:20,format:G,width:15,decimal6,isfree:False,isbinary:False\n"
     ]
    }
   ],
   "source": [
    "ml.dis.botm[0].format.free = True\n",
    "print(ml1.dis.botm[0].format)"
   ]
  },
  {
   "cell_type": "code",
   "execution_count": 12,
   "metadata": {
    "collapsed": false
   },
   "outputs": [
    {
     "name": "stdout",
     "output_type": "stream",
     "text": [
      "FloPy is using the following executable to run the model: /Users/jwhite/bin/mf2005\n",
      "\n",
      "                                  MODFLOW-2005     \n",
      "    U.S. GEOLOGICAL SURVEY MODULAR FINITE-DIFFERENCE GROUND-WATER FLOW MODEL\n",
      "                             Version 1.11.00 8/8/2013                        \n",
      "\n",
      " Using NAME file: freyberg.nam \n",
      " Run start date and time (yyyy/mm/dd hh:mm:ss): 2015/12/09 13:53:21\n",
      "\n",
      " Solving:  Stress period:     1    Time step:     1    Ground-Water Flow Eqn.\n"
     ]
    }
   ],
   "source": [
    "ml.write_input()\n",
    "success, buff = ml.run_model()"
   ]
  },
  {
   "cell_type": "code",
   "execution_count": 13,
   "metadata": {
    "collapsed": false
   },
   "outputs": [
    {
     "name": "stdout",
     "output_type": "stream",
     "text": [
      "ArrayFormat: npl:20,format:G,width:15,decimal6,isfree:False,isbinary:False\n"
     ]
    }
   ],
   "source": [
    "ml1 = flopy.modflow.Modflow.load(\"freyberg.nam\",model_ws=modelpth)\n",
    "print(ml1.dis.botm[0].format)"
   ]
  },
  {
   "cell_type": "code",
   "execution_count": null,
   "metadata": {
    "collapsed": true
   },
   "outputs": [],
   "source": []
  }
 ],
 "metadata": {
  "kernelspec": {
   "display_name": "Python 2",
   "language": "python",
   "name": "python2"
  },
  "language_info": {
   "codemirror_mode": {
    "name": "ipython",
    "version": 2
   },
   "file_extension": ".py",
   "mimetype": "text/x-python",
   "name": "python",
   "nbconvert_exporter": "python",
   "pygments_lexer": "ipython2",
   "version": "2.7.10"
  }
 },
 "nbformat": 4,
 "nbformat_minor": 0
}
