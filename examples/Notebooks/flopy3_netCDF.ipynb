{
 "cells": [
  {
   "cell_type": "markdown",
   "metadata": {},
   "source": [
    "###Very early demo of netCDF capabilities within the export module. "
   ]
  },
  {
   "cell_type": "code",
   "execution_count": 1,
   "metadata": {
    "collapsed": true
   },
   "outputs": [],
   "source": [
    "from __future__ import print_function\n",
    "import os\n",
    "import flopy"
   ]
  },
  {
   "cell_type": "markdown",
   "metadata": {},
   "source": [
    "Load our old friend...the Freyberg model"
   ]
  },
  {
   "cell_type": "code",
   "execution_count": 2,
   "metadata": {
    "collapsed": false
   },
   "outputs": [],
   "source": [
    "nam_file = \"freyberg.nam\"\n",
    "model_ws = os.path.join(\"data\")\n",
    "ml = flopy.modflow.Modflow.load(nam_file,model_ws=model_ws)"
   ]
  },
  {
   "cell_type": "markdown",
   "metadata": {},
   "source": [
    "Some netCDF capabilities:"
   ]
  },
  {
   "cell_type": "code",
   "execution_count": 5,
   "metadata": {
    "collapsed": false
   },
   "outputs": [
    {
     "data": {
      "text/plain": [
       "<type 'netCDF4._netCDF4.Dataset'>\n",
       "root group (NETCDF4 data model, file format UNDEFINED):\n",
       "    Conventions: CF-1.6\n",
       "    date_created: 2015-10-19T17:43:00Z\n",
       "    geospatial_vertical_positive: up\n",
       "    geospatial_vertical_min: -27.3325004578\n",
       "    geospatial_vertical_max: 49999.9492188\n",
       "    geospatial_vertical_resolution: variable\n",
       "    featureType: Grid\n",
       "    origin_x: 0.0\n",
       "    origin_y: 10000.0\n",
       "    origin_crs: EPSG:4326\n",
       "    grid_rotation_from_origin: 0.0\n",
       "    dimensions(sizes): x(20), y(40), layer(1), time(1)\n",
       "    variables(dimensions): int32 \u001b[4mcrs\u001b[0m(), float64 \u001b[4mtime\u001b[0m(time), float32 \u001b[4mlatitude\u001b[0m(x,y), float32 \u001b[4mlongitude\u001b[0m(x,y), float32 \u001b[4melevation\u001b[0m(x,y), float32 \u001b[4mlayer\u001b[0m(layer), float32 \u001b[4mdelc\u001b[0m(y), float32 \u001b[4mdelr\u001b[0m(x), |S1 \u001b[4mVerticalTransform\u001b[0m(), float32 \u001b[4mbotm\u001b[0m(layer,y,x), float32 \u001b[4mhk\u001b[0m(layer,y,x), float32 \u001b[4mtop\u001b[0m(y,x), float32 \u001b[4mrech\u001b[0m(layer,y,x), float32 \u001b[4mwel_flux\u001b[0m(time,layer,y,x), float32 \u001b[4mwel_iface\u001b[0m(time,layer,y,x)\n",
       "    groups: "
      ]
     },
     "execution_count": 5,
     "metadata": {},
     "output_type": "execute_result"
    }
   ],
   "source": [
    "# export a 2d array\n",
    "ml.dis.top.export(\"top.nc\")\n",
    "\n",
    "#export a 3d array\n",
    "ml.lpf.hk.export(\"hk.nc\")\n",
    "\n",
    "# export lots of things to the same nc file\n",
    "fnc = ml.dis.botm.export(\"test.nc\")\n",
    "ml.lpf.hk.export(fnc)\n",
    "ml.dis.top.export(fnc)\n",
    "ml.rch.rech.export(fnc)\n",
    "ml.wel.export(fnc)\n",
    "fnc.nc"
   ]
  },
  {
   "cell_type": "code",
   "execution_count": null,
   "metadata": {
    "collapsed": true
   },
   "outputs": [],
   "source": []
  }
 ],
 "metadata": {
  "kernelspec": {
   "display_name": "Python 2",
   "language": "python",
   "name": "python2"
  },
  "language_info": {
   "codemirror_mode": {
    "name": "ipython",
    "version": 2
   },
   "file_extension": ".py",
   "mimetype": "text/x-python",
   "name": "python",
   "nbconvert_exporter": "python",
   "pygments_lexer": "ipython2",
   "version": "2.7.10"
  }
 },
 "nbformat": 4,
 "nbformat_minor": 0
}
