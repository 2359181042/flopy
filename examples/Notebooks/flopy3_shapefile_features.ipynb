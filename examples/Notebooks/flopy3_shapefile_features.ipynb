{
 "cells": [
  {
   "cell_type": "markdown",
   "metadata": {},
   "source": [
    "### This notebook shows some lower-level functionality in `flopy` for working with shapefiles\n",
    "including:\n",
    "* `recarray2shp` convience function for writing a numpy record array to a shapefile\n",
    "* `shp2recarray` convience function for quickly reading a shapefile into a numpy recarray\n",
    "* `utils.geometry` classes for writing shapefiles of model input/output. For example, quickly writing a shapefile of model cells with errors identified by the checker\n",
    "* demonstration of how the `epsgRef` class works for retrieving projection file information (WKT text) from spatialreference.org, and caching that information locally for when an internet connection isn't available\n",
    "* how to reset `epsgRef` if it becomes corrupted\n",
    "* examples of how the `Point` and `LineString` classes can be used to quickly plot pathlines and endpoints from MODPATH (these are also used by the `PathlineFile` and `EndpointFile` classes to write shapefiles of this output)"
   ]
  },
  {
   "cell_type": "code",
   "execution_count": 1,
   "metadata": {
    "collapsed": false
   },
   "outputs": [
    {
     "name": "stdout",
     "output_type": "stream",
     "text": [
      "Resetting /Users/aleaf/anaconda/lib/python3.5/site-packages/epsgref.py\n"
     ]
    }
   ],
   "source": [
    "try:\n",
    "    from importlib import reload # python3\n",
    "except:\n",
    "    pass # python2 (reload in default namespace)\n",
    "import sys\n",
    "sys.path.append('/Users/aleaf/Documents/GitHub/flopy3/')\n",
    "import shutil\n",
    "import numpy as np\n",
    "import matplotlib.pyplot as plt\n",
    "import flopy\n",
    "from flopy.utils.geometry import Polygon, LineString, Point\n",
    "from flopy.utils.reference import SpatialReference\n",
    "from flopy.export.shapefile_utils import recarray2shp, shp2recarray\n",
    "from flopy.utils.modpathfile import PathlineFile, EndpointFile\n",
    "\n",
    "from flopy.utils.reference import epsgRef\n",
    "ep = epsgRef()\n",
    "ep.reset()\n",
    "\n",
    "%matplotlib inline"
   ]
  },
  {
   "cell_type": "markdown",
   "metadata": {},
   "source": [
    "### write a numpy record array to a shapefile\n",
    "in this case, we want to visualize output from the checker  \n",
    "first make a toy model"
   ]
  },
  {
   "cell_type": "code",
   "execution_count": 2,
   "metadata": {
    "collapsed": true
   },
   "outputs": [],
   "source": [
    "m = flopy.modflow.Modflow('toy_model', model_ws='temp')\n",
    "botm = np.zeros((2, 10, 10))\n",
    "botm[0, :, :] = 1.5\n",
    "botm[1, 5, 5] = 4 # negative layer thickness!\n",
    "botm[1, 6, 6] = 4\n",
    "dis = flopy.modflow.ModflowDis(nrow=10, ncol=10, \n",
    "                               nlay=2, delr=100, delc=100,\n",
    "                               top=3, botm=botm, model=m)"
   ]
  },
  {
   "cell_type": "markdown",
   "metadata": {},
   "source": [
    "### set the spatial reference  \n",
    "note that the grid spacings have to be converted explicitly (in this case from feet to meters)"
   ]
  },
  {
   "cell_type": "code",
   "execution_count": 3,
   "metadata": {
    "collapsed": false
   },
   "outputs": [
    {
     "name": "stderr",
     "output_type": "stream",
     "text": [
      "/Users/aleaf/Documents/GitHub/flopy3/flopy/utils/reference.py:404: UserWarning: rotation arg has recently changed. It was previously treated as positive clockwise. It now is positive counterclockwise.\n",
      "  warnings.warn(msg)\n",
      "/Users/aleaf/Documents/GitHub/flopy3/flopy/utils/reference.py:278: UserWarning: rotation arg has recently changed. It was previously treated as positive clockwise. It now is positive counterclockwise.\n",
      "  warnings.warn(msg)\n"
     ]
    }
   ],
   "source": [
    "m.sr = SpatialReference(delr=m.dis.delr * .3048, delc=m.dis.delc * .3048, xul=600000, yul=5170000, \n",
    "                        proj4_str='EPSG:26715', rotation=45)"
   ]
  },
  {
   "cell_type": "code",
   "execution_count": 4,
   "metadata": {
    "collapsed": false
   },
   "outputs": [
    {
     "name": "stdout",
     "output_type": "stream",
     "text": [
      "\n",
      "DIS PACKAGE DATA VALIDATION:\n",
      "  2 Errors:\n",
      "    2 instances of zero or negative thickness\n",
      "\n",
      "  Checks that passed:\n",
      "    thin cells (less than checker threshold of 1.0)\n",
      "    nan values in top array\n",
      "    nan values in bottom array\n",
      "\n"
     ]
    },
    {
     "data": {
      "text/plain": [
       "rec.array([('Error', 'DIS', 1, 5, 5, -2.5, 'zero or negative thickness'),\n",
       " ('Error', 'DIS', 1, 6, 6, -2.5, 'zero or negative thickness')], \n",
       "          dtype=[('type', 'O'), ('package', 'O'), ('k', '<i8'), ('i', '<i8'), ('j', '<i8'), ('value', '<f8'), ('desc', 'O')])"
      ]
     },
     "execution_count": 4,
     "metadata": {},
     "output_type": "execute_result"
    }
   ],
   "source": [
    "\n",
    "chk = dis.check()\n",
    "chk.summary_array"
   ]
  },
  {
   "cell_type": "markdown",
   "metadata": {},
   "source": [
    "### make geometry objects for the cells with errors  \n",
    "*  geometry objects allow the shapefile writer to be simpler and agnostic about the kind of geometry"
   ]
  },
  {
   "cell_type": "code",
   "execution_count": 5,
   "metadata": {
    "collapsed": false
   },
   "outputs": [],
   "source": [
    "get_vertices = m.sr.get_vertices # function to get the referenced vertices for a model cell\n",
    "geoms = [Polygon(get_vertices(i, j)) for i, j in chk.summary_array[['i', 'j']]]"
   ]
  },
  {
   "cell_type": "code",
   "execution_count": 6,
   "metadata": {
    "collapsed": false
   },
   "outputs": [
    {
     "data": {
      "text/plain": [
       "'Polygon'"
      ]
     },
     "execution_count": 6,
     "metadata": {},
     "output_type": "execute_result"
    }
   ],
   "source": [
    "geoms[0].type"
   ]
  },
  {
   "cell_type": "code",
   "execution_count": 7,
   "metadata": {
    "collapsed": false
   },
   "outputs": [
    {
     "data": {
      "text/plain": [
       "((600215.526138274, 5170000.0),\n",
       " (600237.07874994352, 5169978.4473883314),\n",
       " (600258.63136161305, 5170000.0000000009),\n",
       " (600237.07874994352, 5170021.5526116695),\n",
       " (600215.526138274, 5170000.0))"
      ]
     },
     "execution_count": 7,
     "metadata": {},
     "output_type": "execute_result"
    }
   ],
   "source": [
    "geoms[0].exterior"
   ]
  },
  {
   "cell_type": "code",
   "execution_count": 8,
   "metadata": {
    "collapsed": false
   },
   "outputs": [
    {
     "data": {
      "text/plain": [
       "(600215.526138274, 5169978.4473883314, 600258.63136161305, 5170021.5526116695)"
      ]
     },
     "execution_count": 8,
     "metadata": {},
     "output_type": "execute_result"
    }
   ],
   "source": [
    "geoms[0].bounds"
   ]
  },
  {
   "cell_type": "code",
   "execution_count": 9,
   "metadata": {
    "collapsed": false
   },
   "outputs": [
    {
     "data": {
      "image/png": "[encoded data removed]",
      "text/plain": [
       "<matplotlib.figure.Figure at 0x105638cc0>"
      ]
     },
     "metadata": {},
     "output_type": "display_data"
    }
   ],
   "source": [
    "geoms[0].plot() # this feature requires descartes"
   ]
  },
  {
   "cell_type": "markdown",
   "metadata": {},
   "source": [
    "### write the shapefile  \n",
    "* the projection (.prj) file can be written using an epsg code  \n",
    "* or copied from an existing .prj file"
   ]
  },
  {
   "cell_type": "code",
   "execution_count": 10,
   "metadata": {
    "collapsed": false
   },
   "outputs": [
    {
     "name": "stdout",
     "output_type": "stream",
     "text": [
      "wrote temp/test.shp\n"
     ]
    }
   ],
   "source": [
    "recarray2shp(chk.summary_array, geoms, 'temp/test.shp', epsg=26715)"
   ]
  },
  {
   "cell_type": "code",
   "execution_count": 11,
   "metadata": {
    "collapsed": false
   },
   "outputs": [
    {
     "name": "stdout",
     "output_type": "stream",
     "text": [
      "wrote temp/test.shp\n"
     ]
    }
   ],
   "source": [
    "shutil.copy('temp/test.prj', 'temp/26715.prj')\n",
    "recarray2shp(chk.summary_array, geoms, 'temp/test.shp', prj='temp/26715.prj')"
   ]
  },
  {
   "cell_type": "markdown",
   "metadata": {},
   "source": [
    "### read it back in  \n",
    "* flopy geometry objects representing the shapes are stored in the 'geometry' field"
   ]
  },
  {
   "cell_type": "code",
   "execution_count": 12,
   "metadata": {
    "collapsed": false
   },
   "outputs": [
    {
     "data": {
      "text/plain": [
       "rec.array([ ('Error', 'DIS', 1, 5, 5, -2.5, 'zero or negative thickness', <flopy.utils.geometry.Polygon object at 0x10cfcf470>),\n",
       " ('Error', 'DIS', 1, 6, 6, -2.5, 'zero or negative thickness', <flopy.utils.geometry.Polygon object at 0x105638cf8>)], \n",
       "          dtype=[('type', 'O'), ('package', 'O'), ('k', '<i8'), ('i', '<i8'), ('j', '<i8'), ('value', '<f8'), ('desc', 'O'), ('geometry', 'O')])"
      ]
     },
     "execution_count": 12,
     "metadata": {},
     "output_type": "execute_result"
    }
   ],
   "source": [
    "ra = shp2recarray('temp/test.shp')\n",
    "ra"
   ]
  },
  {
   "cell_type": "code",
   "execution_count": 13,
   "metadata": {
    "collapsed": false
   },
   "outputs": [
    {
     "data": {
      "image/png": "[encoded data removed]",
      "text/plain": [
       "<matplotlib.figure.Figure at 0x10cfcf898>"
      ]
     },
     "metadata": {},
     "output_type": "display_data"
    }
   ],
   "source": [
    "ra.geometry[0].plot()"
   ]
  },
  {
   "cell_type": "markdown",
   "metadata": {},
   "source": [
    "### How the epsg feature works  \n",
    "* requires an internet connection the first time to get the prj text from [spatialreference.org](http://spatialreference.org/) using ```requests```  \n",
    "* if it doesn't exist, ```epsgref.py``` is created in the site-packages folder  \n",
    "* the prj text is then stashed in this file as an entry in a dictionary ```prj```  \n",
    "* this dictionary is imported and checked for the prjtext each time flopy.utils.reference.getprj is called"
   ]
  },
  {
   "cell_type": "code",
   "execution_count": 14,
   "metadata": {
    "collapsed": false
   },
   "outputs": [
    {
     "data": {
      "text/plain": [
       "{26715: 'PROJCS[\"NAD_1927_UTM_Zone_15N\",GEOGCS[\"GCS_North_American_1927\",DATUM[\"D_North_American_1927\",SPHEROID[\"Clarke_1866\",6378206.4,294.9786982138982]],PRIMEM[\"Greenwich\",0],UNIT[\"Degree\",0.017453292519943295]],PROJECTION[\"Transverse_Mercator\"],PARAMETER[\"latitude_of_origin\",0],PARAMETER[\"central_meridian\",-93],PARAMETER[\"scale_factor\",0.9996],PARAMETER[\"false_easting\",500000],PARAMETER[\"false_northing\",0],UNIT[\"Meter\",1]]'}"
      ]
     },
     "execution_count": 14,
     "metadata": {},
     "output_type": "execute_result"
    }
   ],
   "source": [
    "import epsgref\n",
    "reload(epsgref)\n",
    "from epsgref import prj\n",
    "prj"
   ]
  },
  {
   "cell_type": "code",
   "execution_count": 15,
   "metadata": {
    "collapsed": true
   },
   "outputs": [],
   "source": [
    "from flopy.utils.reference import getprj, epsgRef"
   ]
  },
  {
   "cell_type": "code",
   "execution_count": 16,
   "metadata": {
    "collapsed": false
   },
   "outputs": [
    {
     "data": {
      "text/plain": [
       "'GEOGCS[\"GCS_WGS_1984\",DATUM[\"D_WGS_1984\",SPHEROID[\"WGS_1984\",6378137,298.257223563]],PRIMEM[\"Greenwich\",0],UNIT[\"Degree\",0.017453292519943295]]'"
      ]
     },
     "execution_count": 16,
     "metadata": {},
     "output_type": "execute_result"
    }
   ],
   "source": [
    "getprj(4326)"
   ]
  },
  {
   "cell_type": "code",
   "execution_count": 17,
   "metadata": {
    "collapsed": false
   },
   "outputs": [
    {
     "name": "stdout",
     "output_type": "stream",
     "text": [
      "26715:\n",
      "PROJCS[\"NAD_1927_UTM_Zone_15N\",GEOGCS[\"GCS_North_American_1927\",DATUM[\"D_North_American_1927\",SPHEROID[\"Clarke_1866\",6378206.4,294.9786982138982]],PRIMEM[\"Greenwich\",0],UNIT[\"Degree\",0.017453292519943295]],PROJECTION[\"Transverse_Mercator\"],PARAMETER[\"latitude_of_origin\",0],PARAMETER[\"central_meridian\",-93],PARAMETER[\"scale_factor\",0.9996],PARAMETER[\"false_easting\",500000],PARAMETER[\"false_northing\",0],UNIT[\"Meter\",1]]\n",
      "\n",
      "4326:\n",
      "GEOGCS[\"GCS_WGS_1984\",DATUM[\"D_WGS_1984\",SPHEROID[\"WGS_1984\",6378137,298.257223563]],PRIMEM[\"Greenwich\",0],UNIT[\"Degree\",0.017453292519943295]]\n",
      "\n"
     ]
    }
   ],
   "source": [
    "reload(epsgref)\n",
    "from epsgref import prj\n",
    "for k, v in prj.items():\n",
    "    print('{}:\\n{}\\n'.format(k, v))"
   ]
  },
  {
   "cell_type": "markdown",
   "metadata": {},
   "source": [
    "### working with the ```flopy.utils.reference.epsgRef``` handler"
   ]
  },
  {
   "cell_type": "code",
   "execution_count": 18,
   "metadata": {
    "collapsed": true
   },
   "outputs": [],
   "source": [
    "ep = epsgRef()"
   ]
  },
  {
   "cell_type": "code",
   "execution_count": 19,
   "metadata": {
    "collapsed": false
   },
   "outputs": [],
   "source": [
    "ep.add(9999, 'junk')"
   ]
  },
  {
   "cell_type": "code",
   "execution_count": 20,
   "metadata": {
    "collapsed": false
   },
   "outputs": [
    {
     "name": "stdout",
     "output_type": "stream",
     "text": [
      "26715:\n",
      "PROJCS[\"NAD_1927_UTM_Zone_15N\",GEOGCS[\"GCS_North_American_1927\",DATUM[\"D_North_American_1927\",SPHEROID[\"Clarke_1866\",6378206.4,294.9786982138982]],PRIMEM[\"Greenwich\",0],UNIT[\"Degree\",0.017453292519943295]],PROJECTION[\"Transverse_Mercator\"],PARAMETER[\"latitude_of_origin\",0],PARAMETER[\"central_meridian\",-93],PARAMETER[\"scale_factor\",0.9996],PARAMETER[\"false_easting\",500000],PARAMETER[\"false_northing\",0],UNIT[\"Meter\",1]]\n",
      "\n",
      "4326:\n",
      "GEOGCS[\"GCS_WGS_1984\",DATUM[\"D_WGS_1984\",SPHEROID[\"WGS_1984\",6378137,298.257223563]],PRIMEM[\"Greenwich\",0],UNIT[\"Degree\",0.017453292519943295]]\n",
      "\n",
      "9999:\n",
      "junk\n",
      "\n"
     ]
    }
   ],
   "source": [
    "epsgRef.show()"
   ]
  },
  {
   "cell_type": "markdown",
   "metadata": {},
   "source": [
    "#### remove an entry"
   ]
  },
  {
   "cell_type": "code",
   "execution_count": 21,
   "metadata": {
    "collapsed": false
   },
   "outputs": [
    {
     "name": "stdout",
     "output_type": "stream",
     "text": [
      "26715:\n",
      "PROJCS[\"NAD_1927_UTM_Zone_15N\",GEOGCS[\"GCS_North_American_1927\",DATUM[\"D_North_American_1927\",SPHEROID[\"Clarke_1866\",6378206.4,294.9786982138982]],PRIMEM[\"Greenwich\",0],UNIT[\"Degree\",0.017453292519943295]],PROJECTION[\"Transverse_Mercator\"],PARAMETER[\"latitude_of_origin\",0],PARAMETER[\"central_meridian\",-93],PARAMETER[\"scale_factor\",0.9996],PARAMETER[\"false_easting\",500000],PARAMETER[\"false_northing\",0],UNIT[\"Meter\",1]]\n",
      "\n",
      "4326:\n",
      "GEOGCS[\"GCS_WGS_1984\",DATUM[\"D_WGS_1984\",SPHEROID[\"WGS_1984\",6378137,298.257223563]],PRIMEM[\"Greenwich\",0],UNIT[\"Degree\",0.017453292519943295]]\n",
      "\n"
     ]
    }
   ],
   "source": [
    "ep.remove(9999)\n",
    "epsgRef.show()"
   ]
  },
  {
   "cell_type": "markdown",
   "metadata": {},
   "source": [
    "#### start over with a new file"
   ]
  },
  {
   "cell_type": "code",
   "execution_count": 22,
   "metadata": {
    "collapsed": false
   },
   "outputs": [
    {
     "name": "stdout",
     "output_type": "stream",
     "text": [
      "Resetting /Users/aleaf/anaconda/lib/python3.5/site-packages/epsgref.py\n"
     ]
    }
   ],
   "source": [
    "ep.reset()"
   ]
  },
  {
   "cell_type": "code",
   "execution_count": 23,
   "metadata": {
    "collapsed": false
   },
   "outputs": [
    {
     "data": {
      "text/plain": [
       "{}"
      ]
     },
     "execution_count": 23,
     "metadata": {},
     "output_type": "execute_result"
    }
   ],
   "source": [
    "reload(epsgref)\n",
    "from epsgref import prj\n",
    "prj"
   ]
  },
  {
   "cell_type": "code",
   "execution_count": 24,
   "metadata": {
    "collapsed": false
   },
   "outputs": [
    {
     "data": {
      "text/plain": [
       "0"
      ]
     },
     "execution_count": 24,
     "metadata": {},
     "output_type": "execute_result"
    }
   ],
   "source": [
    "len(prj.keys())"
   ]
  },
  {
   "cell_type": "markdown",
   "metadata": {},
   "source": [
    "## Other geometry types\n",
    "\n",
    "### Linestring  \n",
    "* create geometry objects for pathlines from a MODPATH simulation\n",
    "* plot the paths using the built in plotting method"
   ]
  },
  {
   "cell_type": "code",
   "execution_count": 25,
   "metadata": {
    "collapsed": false
   },
   "outputs": [],
   "source": [
    "pthfile = PathlineFile('../data/mp6/EXAMPLE-3.pathline')\n",
    "pthdata = pthfile._data.view(np.recarray)"
   ]
  },
  {
   "cell_type": "code",
   "execution_count": 26,
   "metadata": {
    "collapsed": false
   },
   "outputs": [],
   "source": [
    "length_mult = 1. # multiplier to convert coordinates from model to real world\n",
    "rot = 0 # grid rotation\n",
    "\n",
    "particles = np.unique(pthdata.particleid)\n",
    "geoms = []\n",
    "for pid in particles:\n",
    "    ra = pthdata[pthdata.particleid == pid]\n",
    "\n",
    "    x, y = SpatialReference.rotate(ra.x * length_mult,\n",
    "                                   ra.y * length_mult,\n",
    "                                   theta=rot)\n",
    "    z = ra.z\n",
    "    geoms.append(LineString(list(zip(x, y, z))))"
   ]
  },
  {
   "cell_type": "code",
   "execution_count": 27,
   "metadata": {
    "collapsed": false
   },
   "outputs": [
    {
     "data": {
      "text/plain": [
       "<flopy.utils.geometry.LineString at 0x11ab1f240>"
      ]
     },
     "execution_count": 27,
     "metadata": {},
     "output_type": "execute_result"
    }
   ],
   "source": [
    "geoms[0]"
   ]
  },
  {
   "cell_type": "code",
   "execution_count": 28,
   "metadata": {
    "collapsed": false
   },
   "outputs": [
    {
     "data": {
      "image/png": "[encoded data removed]",
      "text/plain": [
       "<matplotlib.figure.Figure at 0x11a9e7940>"
      ]
     },
     "metadata": {},
     "output_type": "display_data"
    }
   ],
   "source": [
    "geoms[0].plot()"
   ]
  },
  {
   "cell_type": "code",
   "execution_count": 29,
   "metadata": {
    "collapsed": false
   },
   "outputs": [
    {
     "data": {
      "image/png": "[encoded data removed]",
      "text/plain": [
       "<matplotlib.figure.Figure at 0x11ab74240>"
      ]
     },
     "metadata": {},
     "output_type": "display_data"
    }
   ],
   "source": [
    "fig, ax = plt.subplots()\n",
    "for g in geoms:\n",
    "    g.plot(ax=ax)\n",
    "ax.autoscale()\n",
    "ax.set_aspect(1)"
   ]
  },
  {
   "cell_type": "markdown",
   "metadata": {},
   "source": [
    "## Points"
   ]
  },
  {
   "cell_type": "code",
   "execution_count": 30,
   "metadata": {
    "collapsed": false
   },
   "outputs": [],
   "source": [
    "eptfile = EndpointFile('../data/mp6/EXAMPLE-3.endpoint')\n",
    "eptdata = eptfile.get_alldata()"
   ]
  },
  {
   "cell_type": "code",
   "execution_count": 31,
   "metadata": {
    "collapsed": false
   },
   "outputs": [],
   "source": [
    "x, y = SpatialReference.rotate(eptdata['x0'] * length_mult,\n",
    "                               eptdata['y0'] * length_mult,\n",
    "                               theta=rot)\n",
    "z = eptdata['z0']\n",
    "\n",
    "geoms = [Point(x[i], y[i], z[i]) for i in range(len(eptdata))]"
   ]
  },
  {
   "cell_type": "code",
   "execution_count": 32,
   "metadata": {
    "collapsed": false
   },
   "outputs": [
    {
     "data": {
      "image/png": "[encoded data removed]",
      "text/plain": [
       "<matplotlib.figure.Figure at 0x11ab78b00>"
      ]
     },
     "metadata": {},
     "output_type": "display_data"
    }
   ],
   "source": [
    "fig, ax = plt.subplots()\n",
    "for g in geoms:\n",
    "    g.plot(ax=ax)\n",
    "ax.autoscale()\n",
    "ax.set_aspect(2e-6)"
   ]
  },
  {
   "cell_type": "code",
   "execution_count": null,
   "metadata": {
    "collapsed": true
   },
   "outputs": [],
   "source": []
  }
 ],
 "metadata": {
  "anaconda-cloud": {},
  "kernelspec": {
   "display_name": "Python [conda root]",
   "language": "python",
   "name": "conda-root-py"
  },
  "language_info": {
   "codemirror_mode": {
    "name": "ipython",
    "version": 3
   },
   "file_extension": ".py",
   "mimetype": "text/x-python",
   "name": "python",
   "nbconvert_exporter": "python",
   "pygments_lexer": "ipython3",
   "version": "3.5.2"
  }
 },
 "nbformat": 4,
 "nbformat_minor": 0
}
