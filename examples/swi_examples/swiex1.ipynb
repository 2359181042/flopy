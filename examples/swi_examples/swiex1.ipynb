{
 "metadata": {
  "name": "",
  "signature": "sha256:2779602569fdd7cdcd416073e28dd74f75bdcc8178a4d74575d97fff1d191223"
 },
 "nbformat": 3,
 "nbformat_minor": 0,
 "worksheets": [
  {
   "cells": [
    {
     "cell_type": "markdown",
     "metadata": {},
     "source": [
      "###SWI2 Example 1. Rotating Interface"
     ]
    },
    {
     "cell_type": "markdown",
     "metadata": {},
     "source": [
      "Import `numpy` and `matplotlib`, set all figures to be inline, import `flopy.modflow` and `flopy.utils`."
     ]
    },
    {
     "cell_type": "code",
     "collapsed": false,
     "input": [
      "import numpy as np\n",
      "import matplotlib.pyplot as plt\n",
      "%matplotlib inline\n",
      "import flopy.modflow as mf\n",
      "import flopy.utils as fu"
     ],
     "language": "python",
     "metadata": {},
     "outputs": [],
     "prompt_number": 1
    },
    {
     "cell_type": "markdown",
     "metadata": {},
     "source": [
      "Define model name of your model and the location of MODFLOW executable. All MODFLOW files and output will be stored in the subdirectory defined by the workspace. Create a model named `ml` and specify that this is a MODFLOW2005 model."
     ]
    },
    {
     "cell_type": "code",
     "collapsed": false,
     "input": [
      "modelname = 'swiex1'\n",
      "exe_name = '/Users/mark/git/bin/mf2005'\n",
      "workspace = 'mf_files/'\n",
      "ml = mf.Modflow(modelname, version='mf2005', exe_name=exe_name, model_ws=workspace)"
     ],
     "language": "python",
     "metadata": {},
     "outputs": [],
     "prompt_number": 2
    },
    {
     "cell_type": "markdown",
     "metadata": {},
     "source": [
      "Define the number of layers, rows and columns, and the cel size along the rows (`delr`) and along the columns (`delc`). Then create a discretization file. Specify the top and bottom of the aquifer. The heads are computed quasi-steady state (hence a steady MODFLOW run) while the interface will move. There is one stress period with a length of 400 days and 200 steps (so one step is 2 days). "
     ]
    },
    {
     "cell_type": "code",
     "collapsed": false,
     "input": [
      "nlay = 1\n",
      "nrow = 1\n",
      "ncol = 50\n",
      "delr = 5.\n",
      "delc = 1.\n",
      "discret = mf.ModflowDis(ml, nlay=nlay, nrow=nrow, ncol=ncol,\n",
      "                        delr=delr, delc=delc,\n",
      "                        top=0, botm=-40.0,\n",
      "                        steady=True,perlen=400, nstp=200)"
     ],
     "language": "python",
     "metadata": {},
     "outputs": [],
     "prompt_number": 3
    },
    {
     "cell_type": "markdown",
     "metadata": {},
     "source": [
      "All cells are active (`ibound=1`), while the last cell is fixed head (`ibound=-1`). The starting values of the head are not important, as the heads are computed every time with a steady run."
     ]
    },
    {
     "cell_type": "code",
     "collapsed": false,
     "input": [
      "ibound = np.ones((nrow, ncol))\n",
      "ibound[0, -1] = -1\n",
      "bas = mf.ModflowBas(ml, ibound=ibound, strt=0.0)"
     ],
     "language": "python",
     "metadata": {},
     "outputs": [],
     "prompt_number": 4
    },
    {
     "cell_type": "markdown",
     "metadata": {},
     "source": [
      "Define the hydraulic conductivity. The aquifer is confined (`laytype=0`) and the intercell hydraulic conductivity is the harmonic meand (`layavg=0`)."
     ]
    },
    {
     "cell_type": "code",
     "collapsed": false,
     "input": [
      "lpf = mf.ModflowLpf(ml, hk=2., laytyp=0, layavg=0)"
     ],
     "language": "python",
     "metadata": {},
     "outputs": [],
     "prompt_number": 5
    },
    {
     "cell_type": "markdown",
     "metadata": {},
     "source": [
      "Inflow on the right side of the model is 1 m$^3$/d (layer 0, row 0, column 0, discharge 1)"
     ]
    },
    {
     "cell_type": "code",
     "collapsed": false,
     "input": [
      "wel = mf.ModflowWel(ml, stress_period_data = [[0, 0, 0, 1]] )"
     ],
     "language": "python",
     "metadata": {},
     "outputs": [
      {
       "output_type": "stream",
       "stream": "stderr",
       "text": [
        "/Users/mark/git/flopy/flopy/utils/util_list.py:81: UserWarning: mflist casting list to array\n",
        "  warnings.warn(\"mflist casting list to array\")\n",
        "/Users/mark/git/flopy/flopy/utils/util_list.py:160: UserWarning: mflist: ndarray dtype does not match self dtype, trying to cast\n",
        "  warnings.warn(\"mflist: ndarray dtype does not match self dtype, trying to cast\")\n"
       ]
      }
     ],
     "prompt_number": 6
    },
    {
     "cell_type": "markdown",
     "metadata": {},
     "source": [
      "Define the output control to save heads and interface every 50 steps, and define the pcg solver with default arguments."
     ]
    },
    {
     "cell_type": "code",
     "collapsed": false,
     "input": [
      "oc = mf.ModflowOc(ml, save_head_every=50)\n",
      "pcg = mf.ModflowPcg(ml)"
     ],
     "language": "python",
     "metadata": {},
     "outputs": [
      {
       "output_type": "stream",
       "stream": "stderr",
       "text": [
        "/Users/mark/git/flopy/flopy/mbase.py:365: UserWarning: Deprecation Warning: One-based indexing will be deprecated in future FloPy versions. Use Zero-based indexing\n",
        "  warnings.warn('Deprecation Warning: One-based indexing will be deprecated in future FloPy versions. Use Zero-based indexing')\n"
       ]
      }
     ],
     "prompt_number": 7
    },
    {
     "cell_type": "markdown",
     "metadata": {},
     "source": [
      "The intial interface is straight. The isource is one everywhere (inflow and outflow is fresh (zone 1)) except for the first cell (index=0) which has saltwater inflow (zone 2)."
     ]
    },
    {
     "cell_type": "code",
     "collapsed": false,
     "input": [
      "z = np.zeros((nrow, ncol), np.float)\n",
      "z[0, 16:24] = np.arange(-2.5, -40, -5)\n",
      "z[0, 24:] = -40\n",
      "z = [z]  # zeta needs to be \n",
      "isource = np.ones((nrow, ncol), np.int)\n",
      "isource[0, 0] = 2\n",
      "#\n",
      "swi = mf.ModflowSwi2(ml, nsrf=1, istrat=1, toeslope=0.2, tipslope=0.2, nu=[0, 0.025],\n",
      "                     zeta=z, ssz=0.2, isource=isource, nsolver=1)"
     ],
     "language": "python",
     "metadata": {},
     "outputs": [],
     "prompt_number": 8
    },
    {
     "cell_type": "markdown",
     "metadata": {},
     "source": [
      "Write the MODFLOW input files and run the model"
     ]
    },
    {
     "cell_type": "code",
     "collapsed": false,
     "input": [
      "ml.write_input()\n",
      "ml.run_model2(silent=True)"
     ],
     "language": "python",
     "metadata": {},
     "outputs": [
      {
       "metadata": {},
       "output_type": "pyout",
       "prompt_number": 9,
       "text": [
        "[True, []]"
       ]
      }
     ],
     "prompt_number": 9
    },
    {
     "cell_type": "markdown",
     "metadata": {},
     "source": [
      "Load the head and zeta data from the file"
     ]
    },
    {
     "cell_type": "code",
     "collapsed": false,
     "input": [
      "#--read model heads\n",
      "hfile = fu.HeadFile(ml.model_ws+modelname+'.hds')\n",
      "head = hfile.get_alldata()\n",
      "head = np.array(head)\n",
      "#--read model zeta\n",
      "zfile = fu.CellBudgetFile(ml.model_ws+modelname+'.zta')\n",
      "zeta = zfile.get_data_by_text('ZETASRF 1')"
     ],
     "language": "python",
     "metadata": {},
     "outputs": [],
     "prompt_number": 10
    },
    {
     "cell_type": "markdown",
     "metadata": {},
     "source": [
      "Make a graph and add the solution of Wilson and Sa da Costa"
     ]
    },
    {
     "cell_type": "code",
     "collapsed": false,
     "input": [
      "plt.figure(figsize=(16,6))\n",
      "# define x-values of xcells and plot interface\n",
      "x = np.arange(0.5 * delr, ncol * delr, delr)\n",
      "label = ['SWI2','_','_','_'] # labels with an underscore are not added to legend\n",
      "for i in range(4):\n",
      "    plt.plot(x, zeta[i,0,0,:], 'b',label=label[i])\n",
      "# Data for the Wilson - Sa da Costa solution\n",
      "k = 2.0\n",
      "n = 0.2\n",
      "nu = 0.025\n",
      "H = 40.0\n",
      "tzero = H * n / (k * nu) / 4.0\n",
      "Ltoe = np.zeros(4)\n",
      "v = 0.125\n",
      "t = np.arange(100, 500, 100)\n",
      "label = ['W & SD','_','_','_'] # labels with an underscore are not added to legend\n",
      "for i in range(4):\n",
      "    Ltoe[i] = H * np.sqrt(k * nu * (t[i] + tzero) / n / H)\n",
      "    plt.plot([100 - Ltoe[i] + v * t[i], 100 + Ltoe[i] + v * t[i]], [0, -40], 'r', label=label[i])\n",
      "# Scale figure and add legend\n",
      "plt.axis('scaled')\n",
      "plt.legend(loc='best')"
     ],
     "language": "python",
     "metadata": {},
     "outputs": [
      {
       "metadata": {},
       "output_type": "pyout",
       "prompt_number": 11,
       "text": [
        "<matplotlib.legend.Legend at 0x10657a910>"
       ]
      },
      {
       "metadata": {},
       "output_type": "display_data",
       "png": "[encoded data removed]",
       "text": [
        "<matplotlib.figure.Figure at 0x1065392d0>"
       ]
      }
     ],
     "prompt_number": 11
    },
    {
     "cell_type": "code",
     "collapsed": false,
     "input": [],
     "language": "python",
     "metadata": {},
     "outputs": [],
     "prompt_number": 11
    }
   ],
   "metadata": {}
  }
 ]
}