{
 "metadata": {
  "name": "",
  "signature": "sha256:0780a1b22bb61efb048ed64cff4769323c07537130381fc08e9cda018cbde94d"
 },
 "nbformat": 3,
 "nbformat_minor": 0,
 "worksheets": [
  {
   "cells": [
    {
     "cell_type": "markdown",
     "metadata": {},
     "source": [
      "###SWI2 Example 1. Rotating Interface\n",
      "\n",
      "This example problem is the first example problem in the SWO2 documension (http://pubs.usgs.gov/tm/6a46/) and simulates transient movement of a freshwater\\seawater interface separating two density zones in a two-dimensional vertical plane. The problem domain is 250 m long, 40 m high, and 1 m wide. The aquifer is confined, storage changes are not considered (all MODFLOW stress periods are steady-state), and the top and bottom of the aquifer are horizontal and impermeable.\n",
      "\n",
      "The domain is discretized into 50 columns, 1 row, and 1 layer, with respective cell dimensions of 5 m (`DELR`), 1 m (`DELC`), and 40 m. A constant head of 0 m is specified for column 50. The hydraulic conductivity is 2 m/d and the effective porosity (`SSZ`) is 0.2. A flow of 1 m$^3$/d of seawater is specified in column 1 and causes groundwater to flow from left to right\n",
      "in the model domain.\n",
      "\n",
      "The domain contains one freshwater zone and one seawater zone, separated by an active `ZETA` surface between the zones (`NSRF=1`) that approximates the 50-percent seawater salinity contour. A 400-day period is simulated using a constant time step of 2 days. Fluid density is represented using the stratified option (`ISTRAT=1`) and the elevation of the interface is output every 100 days (every 50 time steps). The densities, $\\rho$, of the freshwater and saltwater are 1,000 and 1,025 kg/m$^3$, respectively. Hence, the dimensionless densities, $\\nu$, of the freshwater and saltwater are 0.0 and 0.025, respectively. The maximum slope of the toe and tip is specified as 0.2 (`TOESLOPE=TIPSLOPE=0.2`), and default tip/toe parameters are used (`ALPHA=BETA=0.1`). Initially, the interface is at a 45$\\deg$ angle from (x,z) = (80,0) to (x,z) = (120,-40). The source/sink terms (`ISOURCE`) are specified to be freshwater everywhere (`ISOURCE=1`) except in cell 1 where saltwater enters the model and `ISOURCE` equals 2. A comparison of results for SWI2 and the exact Dupuit solution of Wilson and Sa Da Costa (1982) are presented below. The constant flow from left to right results in an average velocity of 0.125 m/d. The exact Dupuit solution is a rotating straight interface of which the center moves to the right with this velocity"
     ]
    },
    {
     "cell_type": "markdown",
     "metadata": {},
     "source": [
      "Import `numpy` and `matplotlib`, set all figures to be inline, import `flopy.modflow` and `flopy.utils`."
     ]
    },
    {
     "cell_type": "code",
     "collapsed": false,
     "input": [
      "%matplotlib inline\n",
      "import os\n",
      "import platform\n",
      "import numpy as np\n",
      "import matplotlib.pyplot as plt\n",
      "\n",
      "import flopy.modflow as mf\n",
      "import flopy.utils as fu"
     ],
     "language": "python",
     "metadata": {},
     "outputs": [],
     "prompt_number": 1
    },
    {
     "cell_type": "markdown",
     "metadata": {},
     "source": [
      "Define model name of your model and the location of MODFLOW executable. All MODFLOW files and output will be stored in the subdirectory defined by the workspace. Create a model named `ml` and specify that this is a MODFLOW-2005 model."
     ]
    },
    {
     "cell_type": "code",
     "collapsed": false,
     "input": [
      "modelname = 'swiex1'\n",
      "\n",
      "#Set name of MODFLOW exe\n",
      "#  assumes executable is in users path statement\n",
      "exe_name = 'mf2005'\n",
      "if platform.system() == 'Windows':\n",
      "    exe_name = 'mf2005.exe'\n",
      "\n",
      "workspace = os.path.join('data')\n",
      "\n",
      "ml = mf.Modflow(modelname, version='mf2005', exe_name=exe_name, model_ws=workspace)"
     ],
     "language": "python",
     "metadata": {},
     "outputs": [],
     "prompt_number": 2
    },
    {
     "cell_type": "markdown",
     "metadata": {},
     "source": [
      "Define the number of layers, rows and columns, and the cel size along the rows (`delr`) and along the columns (`delc`). Then create a discretization file. Specify the top and bottom of the aquifer. The heads are computed quasi-steady state (hence a steady MODFLOW run) while the interface will move. There is one stress period with a length of 400 days and 200 steps (so one step is 2 days). "
     ]
    },
    {
     "cell_type": "code",
     "collapsed": false,
     "input": [
      "nlay = 1\n",
      "nrow = 1\n",
      "ncol = 50\n",
      "delr = 5.\n",
      "delc = 1.\n",
      "discret = mf.ModflowDis(ml, nlay=nlay, nrow=nrow, ncol=ncol,\n",
      "                        delr=delr, delc=delc,\n",
      "                        top=0, botm=-40.0,\n",
      "                        steady=True,perlen=400, nstp=200)"
     ],
     "language": "python",
     "metadata": {},
     "outputs": [],
     "prompt_number": 3
    },
    {
     "cell_type": "markdown",
     "metadata": {},
     "source": [
      "All cells are active (`ibound=1`), while the last cell is fixed head (`ibound=-1`). The starting values of the head are not important, as the heads are computed every time with a steady run."
     ]
    },
    {
     "cell_type": "code",
     "collapsed": false,
     "input": [
      "ibound = np.ones((nrow, ncol))\n",
      "ibound[0, -1] = -1\n",
      "bas = mf.ModflowBas(ml, ibound=ibound, strt=0.0)"
     ],
     "language": "python",
     "metadata": {},
     "outputs": [],
     "prompt_number": 4
    },
    {
     "cell_type": "markdown",
     "metadata": {},
     "source": [
      "Define the hydraulic conductivity. The aquifer is confined (`laytype=0`) and the intercell hydraulic conductivity is the harmonic meand (`layavg=0`)."
     ]
    },
    {
     "cell_type": "code",
     "collapsed": false,
     "input": [
      "lpf = mf.ModflowLpf(ml, hk=2., laytyp=0, layavg=0)"
     ],
     "language": "python",
     "metadata": {},
     "outputs": [],
     "prompt_number": 5
    },
    {
     "cell_type": "markdown",
     "metadata": {},
     "source": [
      "Inflow on the right side of the model is 1 m$^3$/d (layer 0, row 0, column 0, discharge 1)"
     ]
    },
    {
     "cell_type": "code",
     "collapsed": false,
     "input": [
      "wel = mf.ModflowWel(ml, stress_period_data = {0:[[0, 0, 0, 1]]} )"
     ],
     "language": "python",
     "metadata": {},
     "outputs": [],
     "prompt_number": 6
    },
    {
     "cell_type": "markdown",
     "metadata": {},
     "source": [
      "Define the output control to save heads and interface every 50 steps, and define the pcg solver with default arguments."
     ]
    },
    {
     "cell_type": "code",
     "collapsed": false,
     "input": [
      "oc = mf.ModflowOc(ml, save_head_every=50)\n",
      "pcg = mf.ModflowPcg(ml)"
     ],
     "language": "python",
     "metadata": {},
     "outputs": [],
     "prompt_number": 7
    },
    {
     "cell_type": "markdown",
     "metadata": {},
     "source": [
      "The intial interface is straight. The isource is one everywhere (inflow and outflow is fresh (zone 1)) except for the first cell (index=0) which has saltwater inflow (zone 2)."
     ]
    },
    {
     "cell_type": "code",
     "collapsed": false,
     "input": [
      "z = np.zeros((nrow, ncol), np.float)\n",
      "z[0, 16:24] = np.arange(-2.5, -40, -5)\n",
      "z[0, 24:] = -40\n",
      "z = [z]  # zeta needs to be \n",
      "isource = np.ones((nrow, ncol), np.int)\n",
      "isource[0, 0] = 2\n",
      "#\n",
      "swi = mf.ModflowSwi2(ml, nsrf=1, istrat=1, toeslope=0.2, tipslope=0.2, nu=[0, 0.025],\n",
      "                     zeta=z, ssz=0.2, isource=isource, nsolver=1)"
     ],
     "language": "python",
     "metadata": {},
     "outputs": [],
     "prompt_number": 8
    },
    {
     "cell_type": "markdown",
     "metadata": {},
     "source": [
      "Write the MODFLOW input files and run the model"
     ]
    },
    {
     "cell_type": "code",
     "collapsed": false,
     "input": [
      "ml.write_input()\n",
      "ml.run_model(silent=True)"
     ],
     "language": "python",
     "metadata": {},
     "outputs": [
      {
       "metadata": {},
       "output_type": "pyout",
       "prompt_number": 9,
       "text": [
        "[True, []]"
       ]
      }
     ],
     "prompt_number": 9
    },
    {
     "cell_type": "markdown",
     "metadata": {},
     "source": [
      "Load the head and zeta data from the file"
     ]
    },
    {
     "cell_type": "code",
     "collapsed": false,
     "input": [
      "#--read model heads\n",
      "hfile = fu.HeadFile(os.path.join(ml.model_ws, modelname+'.hds'))\n",
      "kstpkper = hfile.get_kstpkper()\n",
      "head = hfile.get_alldata()\n",
      "#head = np.array(head)\n",
      "#--read model zeta\n",
      "zfile = fu.CellBudgetFile(os.path.join(ml.model_ws, modelname+'.zta'))\n",
      "zeta = []\n",
      "for kk in kstpkper:\n",
      "    zeta.append(zfile.get_data(kstpkper=kk, text='ZETASRF  1')[0].copy())\n",
      "zeta = np.array(zeta)"
     ],
     "language": "python",
     "metadata": {},
     "outputs": [],
     "prompt_number": 10
    },
    {
     "cell_type": "markdown",
     "metadata": {},
     "source": [
      "Make a graph and add the solution of Wilson and Sa da Costa"
     ]
    },
    {
     "cell_type": "code",
     "collapsed": false,
     "input": [
      "plt.figure(figsize=(16,6))\n",
      "# define x-values of xcells and plot interface\n",
      "x = np.arange(0, ncol*delr, delr) + delr/2.\n",
      "label = ['SWI2','_','_','_'] # labels with an underscore are not added to legend\n",
      "for i in range(4):\n",
      "    zt = np.ma.masked_outside(zeta[i,0,0,:], -39.99, -0.01)\n",
      "    plt.plot(x, zt, 'r--', \n",
      "             zorder=10, label=label[i])\n",
      "# Data for the Wilson - Sa da Costa solution\n",
      "k = 2.0\n",
      "n = 0.2\n",
      "nu = 0.025\n",
      "H = 40.0\n",
      "tzero = H * n / (k * nu) / 4.0\n",
      "Ltoe = np.zeros(4)\n",
      "v = 0.125\n",
      "t = np.arange(100, 500, 100)\n",
      "label = ['W & SD','_','_','_'] # labels with an underscore are not added to legend\n",
      "for i in range(4):\n",
      "    Ltoe[i] = H * np.sqrt(k * nu * (t[i] + tzero) / n / H)\n",
      "    plt.plot([100 - Ltoe[i] + v * t[i], 100 + Ltoe[i] + v * t[i]], [0, -40], '0.5', \n",
      "             lw=5, zorder=0, label=label[i])\n",
      "# Scale figure and add legend\n",
      "plt.axis('scaled')\n",
      "plt.xlim(0, 250)\n",
      "plt.ylim(-40, 0)\n",
      "plt.legend(loc='best');"
     ],
     "language": "python",
     "metadata": {},
     "outputs": [
      {
       "metadata": {},
       "output_type": "display_data",
       "png": "[encoded data removed]",
       "text": [
        "<matplotlib.figure.Figure at 0x1076408d0>"
       ]
      }
     ],
     "prompt_number": 11
    },
    {
     "cell_type": "code",
     "collapsed": false,
     "input": [],
     "language": "python",
     "metadata": {},
     "outputs": [],
     "prompt_number": 11
    }
   ],
   "metadata": {}
  }
 ]
}