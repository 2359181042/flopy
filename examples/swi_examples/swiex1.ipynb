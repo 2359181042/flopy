{
 "metadata": {
  "name": "",
  "signature": "sha256:778d5d2078a4c6924bcabe503eca84724a3b47637cde06116d4ab52a042d9284"
 },
 "nbformat": 3,
 "nbformat_minor": 0,
 "worksheets": [
  {
   "cells": [
    {
     "cell_type": "markdown",
     "metadata": {},
     "source": [
      "###SWI2 Example 1"
     ]
    },
    {
     "cell_type": "code",
     "collapsed": false,
     "input": [
      "import numpy as np\n",
      "import matplotlib.pyplot as plt\n",
      "%matplotlib inline\n",
      "import flopy.modflow as mf\n",
      "import flopy.utils as fu"
     ],
     "language": "python",
     "metadata": {},
     "outputs": [],
     "prompt_number": 1
    },
    {
     "cell_type": "code",
     "collapsed": false,
     "input": [
      "modelname = 'swiex1'\n",
      "exe_name = '/Users/mark/git/bin/mf2005'\n",
      "\n",
      "nlay = 1\n",
      "nrow = 1\n",
      "ncol = 50\n",
      "\n",
      "delr = 5.\n",
      "delc = 1."
     ],
     "language": "python",
     "metadata": {},
     "outputs": [],
     "prompt_number": 2
    },
    {
     "cell_type": "code",
     "collapsed": false,
     "input": [
      "ibound = np.ones((nrow, ncol), np.int)\n",
      "ibound[0, -1] = -1"
     ],
     "language": "python",
     "metadata": {},
     "outputs": [],
     "prompt_number": 3
    },
    {
     "cell_type": "code",
     "collapsed": false,
     "input": [
      "z = np.zeros((nrow, ncol), np.float)\n",
      "z[0, 16:24] = np.arange(-2.5, -40, -5)\n",
      "z[0, 24:] = -40\n",
      "z = [z]\n",
      "#--create isource for SWI2\n",
      "isource = np.ones((nrow, ncol), np.int)\n",
      "isource[0, 0] = 2"
     ],
     "language": "python",
     "metadata": {},
     "outputs": [],
     "prompt_number": 4
    },
    {
     "cell_type": "code",
     "collapsed": false,
     "input": [
      "ml = mf.Modflow(modelname, version='mf2005', exe_name=exe_name)"
     ],
     "language": "python",
     "metadata": {},
     "outputs": [],
     "prompt_number": 5
    },
    {
     "cell_type": "code",
     "collapsed": false,
     "input": [
      "discret = mf.ModflowDis(ml, nlay=nlay, nrow=nrow, ncol=ncol,\n",
      "                        delr=delr, delc=delc,\n",
      "                        top=0, botm=[-40.0],\n",
      "                        perlen=400, nstp=200)\n",
      "bas = mf.ModflowBas(ml, ibound=ibound, strt=0.0)\n",
      "lpf = mf.ModflowLpf(ml, hk=2., vka=2.0, vkcb=0, laytyp=0, layavg=0)\n",
      "wel = mf.ModflowWel(ml, layer_row_column_data=[(0, 0, 0, 1)])\n",
      "swi = mf.ModflowSwi2(ml, nsrf=1, istrat=1, toeslope=0.2, tipslope=0.2, nu=[0, 0.025],\n",
      "                     zeta=z, ssz=0.2, isource=isource, nsolver=1)\n",
      "oc = mf.ModflowOc(ml, save_head_every=50)\n",
      "pcg = mf.ModflowPcg(ml)"
     ],
     "language": "python",
     "metadata": {},
     "outputs": [
      {
       "output_type": "stream",
       "stream": "stderr",
       "text": [
        "/Users/mark/git/flopy/flopy/mbase.py:331: UserWarning: Deprecation Warning: One-based indexing will be deprecated in future FloPy versions. Use Zero-based indexing\n",
        "  warnings.warn('Deprecation Warning: One-based indexing will be deprecated in future FloPy versions. Use Zero-based indexing')\n"
       ]
      }
     ],
     "prompt_number": 6
    },
    {
     "cell_type": "code",
     "collapsed": false,
     "input": [
      "ml.write_input()\n",
      "ml.run_model2(silent=True)"
     ],
     "language": "python",
     "metadata": {},
     "outputs": [
      {
       "metadata": {},
       "output_type": "pyout",
       "prompt_number": 7,
       "text": [
        "[True, []]"
       ]
      }
     ],
     "prompt_number": 7
    },
    {
     "cell_type": "code",
     "collapsed": false,
     "input": [
      "#--read model heads\n",
      "hfile = fu.HeadFile(modelname+'.hds')\n",
      "head = hfile.get_alldata()\n",
      "head = np.array(head)\n",
      "#--read model zeta\n",
      "zfile = fu.CellBudgetFile(modelname+'.zta')\n",
      "zkstpkper = zfile.get_kstpkper()\n",
      "zeta = []\n",
      "for [kstp, kper] in zkstpkper:\n",
      "    zeta.append(zfile.get_data(kstp=kstp, kper=kper, text='      ZETASRF  1'))\n",
      "zeta = np.array(zeta)\n",
      "zeta = zfile.get_data_by_text('ZETASRF 1')"
     ],
     "language": "python",
     "metadata": {},
     "outputs": [],
     "prompt_number": 18
    },
    {
     "cell_type": "code",
     "collapsed": false,
     "input": [
      "np.shape(zeta)"
     ],
     "language": "python",
     "metadata": {},
     "outputs": [
      {
       "metadata": {},
       "output_type": "pyout",
       "prompt_number": 20,
       "text": [
        "(4, 1, 1, 50)"
       ]
      }
     ],
     "prompt_number": 20
    },
    {
     "cell_type": "code",
     "collapsed": false,
     "input": [
      "header = zfile.recorddict.keys()[0]"
     ],
     "language": "python",
     "metadata": {},
     "outputs": [],
     "prompt_number": 10
    },
    {
     "cell_type": "code",
     "collapsed": false,
     "input": [
      "header"
     ],
     "language": "python",
     "metadata": {},
     "outputs": [
      {
       "metadata": {},
       "output_type": "pyout",
       "prompt_number": 11,
       "text": [
        "(50, 1, '      ZETASRF  1', 50, 1, 1, 0, 0.0, 0.0, 0.0)"
       ]
      }
     ],
     "prompt_number": 11
    },
    {
     "cell_type": "code",
     "collapsed": false,
     "input": [
      "text ='ZETASRF  1'"
     ],
     "language": "python",
     "metadata": {},
     "outputs": [],
     "prompt_number": 12
    },
    {
     "cell_type": "code",
     "collapsed": false,
     "input": [
      "text in header"
     ],
     "language": "python",
     "metadata": {},
     "outputs": [
      {
       "metadata": {},
       "output_type": "pyout",
       "prompt_number": 13,
       "text": [
        "False"
       ]
      }
     ],
     "prompt_number": 13
    },
    {
     "cell_type": "code",
     "collapsed": false,
     "input": [
      "zfile.get_data?"
     ],
     "language": "python",
     "metadata": {},
     "outputs": [],
     "prompt_number": 17
    },
    {
     "cell_type": "code",
     "collapsed": false,
     "input": [],
     "language": "python",
     "metadata": {},
     "outputs": []
    }
   ],
   "metadata": {}
  }
 ]
}