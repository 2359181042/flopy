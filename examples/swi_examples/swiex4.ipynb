{
 "metadata": {
  "name": "",
  "signature": "sha256:6dff2c9350d6655f8791b59054ade34edb2820f1691290194b29f1bb62cd7a61"
 },
 "nbformat": 3,
 "nbformat_minor": 0,
 "worksheets": [
  {
   "cells": [
    {
     "cell_type": "markdown",
     "metadata": {},
     "source": [
      "###SWI2 Example 1. Rotating Interface\n",
      "\n",
      "This example problem is the first example problem in the SWI2 documension (http://pubs.usgs.gov/tm/6a46/) and simulates transient movement of a freshwater\\seawater interface separating two density zones in a two-dimensional vertical plane. The problem domain is 250 m long, 40 m high, and 1 m wide. The aquifer is confined, storage changes are not considered (all MODFLOW stress periods are steady-state), and the top and bottom of the aquifer are horizontal and impermeable.\n",
      "\n",
      "The domain is discretized into 50 columns, 1 row, and 1 layer, with respective cell dimensions of 5 m (`DELR`), 1 m (`DELC`), and 40 m. A constant head of 0 m is specified for column 50. The hydraulic conductivity is 2 m/d and the effective porosity (`SSZ`) is 0.2. A flow of 1 m$^3$/d of seawater is specified in column 1 and causes groundwater to flow from left to right\n",
      "in the model domain.\n",
      "\n",
      "The domain contains one freshwater zone and one seawater zone, separated by an active `ZETA` surface between the zones (`NSRF=1`) that approximates the 50-percent seawater salinity contour. A 400-day period is simulated using a constant time step of 2 days. Fluid density is represented using the stratified option (`ISTRAT=1`) and the elevation of the interface is output every 100 days (every 50 time steps). The densities, $\\rho$, of the freshwater and saltwater are 1,000 and 1,025 kg/m$^3$, respectively. Hence, the dimensionless densities, $\\nu$, of the freshwater and saltwater are 0.0 and 0.025, respectively. The maximum slope of the toe and tip is specified as 0.2 (`TOESLOPE=TIPSLOPE=0.2`), and default tip/toe parameters are used (`ALPHA=BETA=0.1`). Initially, the interface is at a 45$^{\\circ}$ angle from (x,z) = (80,0) to (x,z) = (120,-40). The source/sink terms (`ISOURCE`) are specified to be freshwater everywhere (`ISOURCE=1`) except in cell 1 where saltwater enters the model and `ISOURCE` equals 2. A comparison of results for SWI2 and the exact Dupuit solution of Wilson and Sa Da Costa (1982) are presented below. The constant flow from left to right results in an average velocity of 0.125 m/d. The exact Dupuit solution is a rotating straight interface of which the center moves to the right with this velocity"
     ]
    },
    {
     "cell_type": "markdown",
     "metadata": {},
     "source": [
      "Import `numpy` and `matplotlib`, set all figures to be inline, import `flopy.modflow` and `flopy.utils`."
     ]
    },
    {
     "cell_type": "code",
     "collapsed": false,
     "input": [
      "%matplotlib inline\n",
      "import os\n",
      "import platform\n",
      "import numpy as np\n",
      "import matplotlib.pyplot as plt\n",
      "\n",
      "import flopy.modflow as mf\n",
      "import flopy.utils as fu"
     ],
     "language": "python",
     "metadata": {},
     "outputs": [],
     "prompt_number": 1
    },
    {
     "cell_type": "markdown",
     "metadata": {},
     "source": [
      "Define model name of your model and the location of MODFLOW executable. All MODFLOW files and output will be stored in the subdirectory defined by the workspace. Create a model named `ml` and specify that this is a MODFLOW-2005 model."
     ]
    },
    {
     "cell_type": "code",
     "collapsed": false,
     "input": [
      "modelname = 'swiex4'\n",
      "\n",
      "#Set name of MODFLOW exe\n",
      "#  assumes executable is in users path statement\n",
      "exe_name = 'mf2005'\n",
      "if platform.system() == 'Windows':\n",
      "    exe_name = 'mf2005.exe'\n",
      "\n",
      "workspace = os.path.join('data')\n",
      "\n",
      "ml = mf.Modflow(modelname, version='mf2005', exe_name=exe_name, model_ws=workspace)"
     ],
     "language": "python",
     "metadata": {},
     "outputs": [],
     "prompt_number": 2
    },
    {
     "cell_type": "markdown",
     "metadata": {},
     "source": [
      "Define the number of layers, rows and columns, and the cell size along the rows (`delr`) and along the columns (`delc`). Then create a discretization file. Specify the top and bottom of the aquifer. The heads are computed quasi-steady state (hence a steady MODFLOW run) while the interface will move. There are three stress periods with a length of 200, 12, and 18 years and 1,000, 120, and 180 steps. "
     ]
    },
    {
     "cell_type": "code",
     "collapsed": false,
     "input": [
      "ncol = 61\n",
      "nrow = 61\n",
      "nlay = 2\n",
      "\n",
      "\n",
      "nper = 3\n",
      "perlen = [365. * 200., 365. * 12., 365. * 18.]\n",
      "nstp = [1000, 120, 180]\n",
      "save_head = [200, 60, 60]"
     ],
     "language": "python",
     "metadata": {},
     "outputs": [],
     "prompt_number": 3
    },
    {
     "cell_type": "markdown",
     "metadata": {},
     "source": [
      "Create output control (OC) data using words "
     ]
    },
    {
     "cell_type": "code",
     "collapsed": false,
     "input": [
      "#--oc data\n",
      "savewords = []\n",
      "for i in xrange(0, nper):\n",
      "    icnt = 0\n",
      "    for j in xrange(0, nstp[i]):\n",
      "        icnt += 1\n",
      "        savebudget = False\n",
      "        savehead = False\n",
      "        if icnt == save_head[i]:\n",
      "            savebudget = True\n",
      "            savehead = True\n",
      "            icnt = 0\n",
      "        if (j + 1) == nstp[i]:\n",
      "            savebudget = True\n",
      "        if savebudget == True or savehead == True:\n",
      "            twords = [i + 1, j + 1]\n",
      "            if savebudget == True:\n",
      "                twords.append('pbudget')\n",
      "            if savehead == True:\n",
      "                twords.append('head')\n",
      "            savewords.append(twords)"
     ],
     "language": "python",
     "metadata": {},
     "outputs": [],
     "prompt_number": 4
    },
    {
     "cell_type": "code",
     "collapsed": false,
     "input": [
      "#--dis data\n",
      "delr, delc = 50.0, 50.0\n",
      "botm = np.array([-10., -30., -50.])"
     ],
     "language": "python",
     "metadata": {},
     "outputs": [],
     "prompt_number": 5
    },
    {
     "cell_type": "code",
     "collapsed": false,
     "input": [
      "#--bas data\n",
      "#--ibound - active except for the corners\n",
      "ibound = np.ones((nlay, nrow, ncol), dtype= np.int)\n",
      "ibound[:, 0, 0] = 0\n",
      "ibound[:, 0, -1] = 0\n",
      "ibound[:, -1, 0] = 0\n",
      "ibound[:, -1, -1] = 0\n",
      "#--initial head data\n",
      "ihead = np.zeros((nlay, nrow, ncol), dtype=np.float)"
     ],
     "language": "python",
     "metadata": {},
     "outputs": [],
     "prompt_number": 6
    },
    {
     "cell_type": "code",
     "collapsed": false,
     "input": [],
     "language": "python",
     "metadata": {},
     "outputs": [],
     "prompt_number": 6
    },
    {
     "cell_type": "code",
     "collapsed": false,
     "input": [
      "#--lpf data\n",
      "laytyp=0\n",
      "hk=10.\n",
      "vka=0.2"
     ],
     "language": "python",
     "metadata": {},
     "outputs": [],
     "prompt_number": 7
    },
    {
     "cell_type": "code",
     "collapsed": false,
     "input": [
      "#--boundary condition data\n",
      "#--ghb data\n",
      "colcell, rowcell = np.meshgrid(np.arange(0, ncol), np.arange(0, nrow))\n",
      "index = np.zeros((nrow, ncol), dtype=np.int)\n",
      "index[:, :10] = 1\n",
      "index[:, -10:] = 1\n",
      "index[:10, :] = 1\n",
      "index[-10:, :] = 1\n",
      "nghb = np.sum(index)\n",
      "lrchc = np.zeros((nghb, 5))\n",
      "lrchc[:, 0] = 0\n",
      "lrchc[:, 1] = rowcell[index == 1]\n",
      "lrchc[:, 2] = colcell[index == 1]\n",
      "lrchc[:, 3] = 0.\n",
      "lrchc[:, 4] = 50.0 * 50.0 / 40.0\n",
      "#--create ghb dictionary\n",
      "ghb_data = {0:lrchc}\n",
      "\n",
      "#--recharge data\n",
      "rch = np.zeros((nrow, ncol), dtype=np.float)\n",
      "rch[index == 0] = 0.0004\n",
      "#--create recharge dictionary\n",
      "rch_data = {0: rch}\n",
      "\n",
      "#--well data\n",
      "nwells = 2\n",
      "lrcq = np.zeros((nwells, 4))\n",
      "lrcq[0, :] = np.array((0, 30, 35, 0))\n",
      "lrcq[1, :] = np.array([1, 30, 35, 0])\n",
      "lrcqw = lrcq.copy()\n",
      "lrcqw[0, 3] = -250\n",
      "lrcqsw = lrcq.copy()\n",
      "lrcqsw[0, 3] = -250.\n",
      "lrcqsw[1, 3] = -25.\n",
      "#--create well dictionary\n",
      "base_well_data = {0:lrcq, 1:lrcqw}\n",
      "swwells_well_data = {0:lrcq, 1:lrcqw, 2:lrcqsw}"
     ],
     "language": "python",
     "metadata": {},
     "outputs": [],
     "prompt_number": 8
    },
    {
     "cell_type": "code",
     "collapsed": false,
     "input": [
      "#--swi2 data\n",
      "adaptive = False\n",
      "nadptmx = 10\n",
      "nadptmn = 1\n",
      "nu = [0, 0.025]\n",
      "numult = 5.0\n",
      "toeslope = nu[1] / numult  #0.005\n",
      "tipslope = nu[1] / numult  #0.005\n",
      "z1 = -10.0 * np.ones((nrow, ncol))\n",
      "z1[index == 0] = -11.0\n",
      "z = np.array([[z1, z1]])\n",
      "iso = np.zeros((nlay, nrow, ncol), dtype=np.int)\n",
      "iso[0, :, :][index == 0] = 1\n",
      "iso[0, :, :][index == 1] = -2\n",
      "iso[1, 30, 35] = 2\n",
      "ssz=0.2"
     ],
     "language": "python",
     "metadata": {},
     "outputs": [],
     "prompt_number": 9
    },
    {
     "cell_type": "code",
     "collapsed": false,
     "input": [
      "discret = mf.ModflowDis(ml, nlay=nlay, nrow=nrow, ncol=ncol, laycbd=0,\n",
      "                        delr=delr, delc=delc, top=botm[0], botm=botm[1:],\n",
      "                        nper=nper, perlen=perlen, nstp=nstp)\n",
      "bas = mf.ModflowBas(ml, ibound=ibound, strt=ihead)\n",
      "lpf = mf.ModflowLpf(ml, laytyp=laytyp, hk=hk, vka=vka)\n",
      "wel = mf.ModflowWel(ml, stress_period_data=base_well_data)\n",
      "ghb = mf.ModflowGhb(ml, stress_period_data=ghb_data)\n",
      "rch = mf.ModflowRch(ml, rech=rch_data)\n",
      "swi = mf.ModflowSwi2(ml, nsrf=1, istrat=1, toeslope=toeslope, tipslope=tipslope, nu=nu,\n",
      "                     zeta=z, ssz=ssz, isource=iso, nsolver=1,\n",
      "                     adaptive=adaptive, nadptmx=nadptmx, nadptmn=nadptmn, \n",
      "                     nobs=2, iswiobs=1051, \n",
      "                     obsnam=['layer1', 'layer2'], obslrc=[[1, 31, 36], [2, 31, 36]])\n",
      "oc = mf.ModflowOc(ml, words=savewords)\n",
      "pcg = mf.ModflowPcg(ml, hclose=1.0e-6, rclose=3.0e-3, mxiter=100, iter1=50)"
     ],
     "language": "python",
     "metadata": {},
     "outputs": [
      {
       "output_type": "stream",
       "stream": "stdout",
       "text": [
        "['swi2', 'zta', 'swb']\n",
        "['swi2', 'zta', 'swb', 'zobs']\n"
       ]
      }
     ],
     "prompt_number": 10
    },
    {
     "cell_type": "markdown",
     "metadata": {},
     "source": [
      "Write the MODFLOW input files and run the model"
     ]
    },
    {
     "cell_type": "code",
     "collapsed": false,
     "input": [
      "ml.write_input()\n",
      "ml.run_model(silent=True)"
     ],
     "language": "python",
     "metadata": {},
     "outputs": [
      {
       "metadata": {},
       "output_type": "pyout",
       "prompt_number": 11,
       "text": [
        "[True, []]"
       ]
      }
     ],
     "prompt_number": 11
    },
    {
     "cell_type": "markdown",
     "metadata": {},
     "source": [
      "Create the model with the saltwater well"
     ]
    },
    {
     "cell_type": "code",
     "collapsed": false,
     "input": [
      "modelname2 = 'swiex4sw'\n",
      "ml2 = mf.Modflow(modelname2, version='mf2005', exe_name=exe_name, model_ws=workspace)"
     ],
     "language": "python",
     "metadata": {},
     "outputs": []
    },
    {
     "cell_type": "code",
     "collapsed": false,
     "input": [
      "discret = mf.ModflowDis(ml2, nlay=nlay, nrow=nrow, ncol=ncol, laycbd=0,\n",
      "                        delr=delr, delc=delc, top=botm[0], botm=botm[1:],\n",
      "                        nper=nper, perlen=perlen, nstp=nstp)\n",
      "bas = mf.ModflowBas(ml2, ibound=ibound, strt=ihead)\n",
      "lpf = mf.ModflowLpf(ml2, laytyp=laytyp, hk=hk, vka=vka)\n",
      "wel = mf.ModflowWel(ml2, stress_period_data=swwells_well_data)\n",
      "ghb = mf.ModflowGhb(ml2, stress_period_data=ghb_data)\n",
      "rch = mf.ModflowRch(ml2, rech=rch_data)\n",
      "swi = mf.ModflowSwi2(ml2, nsrf=1, istrat=1, toeslope=toeslope, tipslope=tipslope, nu=nu,\n",
      "                     zeta=z, ssz=ssz, isource=iso, nsolver=1,\n",
      "                     adaptive=adaptive, nadptmx=nadptmx, nadptmn=nadptmn)\n",
      "oc = mf.ModflowOc(ml2, words=savewords)\n",
      "pcg = mf.ModflowPcg(ml2, hclose=1.0e-6, rclose=3.0e-3, mxiter=100, iter1=50)"
     ],
     "language": "python",
     "metadata": {},
     "outputs": []
    },
    {
     "cell_type": "code",
     "collapsed": false,
     "input": [
      "ml2.write_input()\n",
      "ml2.run_model(silent=True)"
     ],
     "language": "python",
     "metadata": {},
     "outputs": []
    },
    {
     "cell_type": "code",
     "collapsed": false,
     "input": [],
     "language": "python",
     "metadata": {},
     "outputs": []
    },
    {
     "cell_type": "code",
     "collapsed": false,
     "input": [],
     "language": "python",
     "metadata": {},
     "outputs": []
    },
    {
     "cell_type": "code",
     "collapsed": false,
     "input": [],
     "language": "python",
     "metadata": {},
     "outputs": []
    },
    {
     "cell_type": "code",
     "collapsed": false,
     "input": [],
     "language": "python",
     "metadata": {},
     "outputs": []
    },
    {
     "cell_type": "markdown",
     "metadata": {},
     "source": [
      "Load the head and zeta data from the file"
     ]
    },
    {
     "cell_type": "code",
     "collapsed": false,
     "input": [
      "#--read model zeta\n",
      "zfile = fu.CellBudgetFile(os.path.join(ml2.model_ws, modelname+'.zta'))\n",
      "kstpkper = zfile.get_kstpkper()\n",
      "zeta = []\n",
      "for kk in kstpkper:\n",
      "    zeta.append(zfile.get_data(kstpkper=kk, text='ZETASRF  1')[0])\n",
      "zeta = np.array(zeta)"
     ],
     "language": "python",
     "metadata": {},
     "outputs": []
    },
    {
     "cell_type": "code",
     "collapsed": false,
     "input": [
      "#--read model zeta\n",
      "zfile2 = fu.CellBudgetFile(os.path.join(ml.model_ws, modelname2+'.zta'))\n",
      "kstpkper = zfile2.get_kstpkper()\n",
      "zeta2 = []\n",
      "for kk in kstpkper:\n",
      "    zeta2.append(zfile2.get_data(kstpkper=kk, text='ZETASRF  1')[0])\n",
      "zeta2 = np.array(zeta2)"
     ],
     "language": "python",
     "metadata": {},
     "outputs": []
    },
    {
     "cell_type": "code",
     "collapsed": false,
     "input": [
      "print zeta2.shape"
     ],
     "language": "python",
     "metadata": {},
     "outputs": []
    },
    {
     "cell_type": "code",
     "collapsed": false,
     "input": [],
     "language": "python",
     "metadata": {},
     "outputs": []
    },
    {
     "cell_type": "code",
     "collapsed": false,
     "input": [
      "x = np.linspace(-1500, 1500, 61)\n",
      "xcell = np.linspace(-1500, 1500, 61) + delr / 2.\n",
      "xedge = np.linspace(-1525, 1525, 62)\n",
      "years = [40, 80, 120, 160, 200, 6, 12, 18, 24, 30]"
     ],
     "language": "python",
     "metadata": {},
     "outputs": []
    },
    {
     "cell_type": "code",
     "collapsed": false,
     "input": [
      "fwid, fhgt = 7.00, 4.50\n",
      "flft, frgt, fbot, ftop = 0.125, 0.95, 0.125, 0.925"
     ],
     "language": "python",
     "metadata": {},
     "outputs": []
    },
    {
     "cell_type": "code",
     "collapsed": false,
     "input": [
      "icolor = 5\n",
      "colormap = plt.cm.jet  #winter\n",
      "cc = []\n",
      "cr = np.linspace(0.9, 0.0, icolor)\n",
      "for idx in cr:\n",
      "    cc.append(colormap(idx))\n"
     ],
     "language": "python",
     "metadata": {},
     "outputs": []
    },
    {
     "cell_type": "markdown",
     "metadata": {},
     "source": [
      "Make a graph and add the solution of Wilson and Sa da Costa"
     ]
    },
    {
     "cell_type": "code",
     "collapsed": false,
     "input": [
      "plt.rcParams.update({'legend.fontsize': 6, 'legend.frameon' : False})\n",
      "fig = plt.figure(figsize=(fwid, fhgt), facecolor='w')\n",
      "fig.subplots_adjust(wspace=0.25, hspace=0.25, left=flft, right=frgt, bottom=fbot, top=ftop)\n",
      "#--first plot\n",
      "ax = fig.add_subplot(2, 2, 1)\n",
      "#--axes limits\n",
      "ax.set_xlim(-1500, 1500)\n",
      "ax.set_ylim(-50, -10)\n",
      "for idx in xrange(5):\n",
      "    #--layer 1\n",
      "    ax.plot(xcell, zeta[idx, 0, 30, :], drawstyle='steps-mid', \n",
      "            linewidth=0.5, color=cc[idx], label='{:2d} years'.format(years[idx]))\n",
      "    #--layer 2\n",
      "    ax.plot(xcell, zeta[idx, 1, 30, :], drawstyle='steps-mid',\n",
      "            linewidth=0.5, color=cc[idx], label='_None')\n",
      "ax.plot([-1500, 1500], [-30, -30], color='k', linewidth=1.0)\n",
      "#--legend\n",
      "plt.legend(loc='lower left')\n",
      "#--axes labels and text\n",
      "ax.set_xlabel('Horizontal distance, in meters')\n",
      "ax.set_ylabel('Elevation, in meters')\n",
      "ax.text(0.025, .55, 'Layer 1', transform=ax.transAxes, va='center', ha='left', size='7')\n",
      "ax.text(0.025, .45, 'Layer 2', transform=ax.transAxes, va='center', ha='left', size='7')\n",
      "ax.text(0.975, .1, 'Recharge conditions', transform=ax.transAxes, va='center', ha='right', size='8')\n",
      "\n",
      "#--second plot\n",
      "ax = fig.add_subplot(2, 2, 2)\n",
      "ax.set_xlim(-1500, 1500)\n",
      "ax.set_ylim(-50, -10)\n",
      "for idx in xrange(5, len(years)):\n",
      "    #--layer 1\n",
      "    ax.plot(xcell, zeta[idx, 0, 30, :], drawstyle='steps-mid', \n",
      "            linewidth=0.5, color=cc[idx-5], label='{:2d} years'.format(years[idx]))\n",
      "    #--layer 2\n",
      "    ax.plot(xcell, zeta[idx, 1, 30, :], drawstyle='steps-mid',\n",
      "            linewidth=0.5, color=cc[idx-5], label='_None')\n",
      "ax.plot([-1500, 1500], [-30, -30], color='k', linewidth=1.0)\n",
      "#--legend\n",
      "plt.legend(loc='lower left')\n",
      "#--axes\n",
      "ax.set_xlabel('Horizontal distance, in meters')\n",
      "ax.set_ylabel('Elevation, in meters')\n",
      "ax.text(0.025, .55, 'Layer 1', transform=ax.transAxes, va='center', ha='left', size='7')\n",
      "ax.text(0.025, .45, 'Layer 2', transform=ax.transAxes, va='center', ha='left', size='7')\n",
      "ax.text(0.975, .1, 'Freshwater well withdrawal', transform=ax.transAxes, va='center', ha='right', size='8')\n",
      "\n",
      "#--third plot\n",
      "ax = fig.add_subplot(2, 2, 3)\n",
      "ax.set_xlim(-1500, 1500)\n",
      "ax.set_ylim(-50, -10)\n",
      "for idx in xrange(5, len(years)):\n",
      "    #--layer 1\n",
      "    ax.plot(xcell, zeta2[idx, 0, 30, :], drawstyle='steps-mid', \n",
      "            linewidth=0.5, color=cc[idx-5], label='{:2d} years'.format(years[idx]))\n",
      "    #--layer 2\n",
      "    ax.plot(xcell, zeta2[idx, 1, 30, :], drawstyle='steps-mid',\n",
      "            linewidth=0.5, color=cc[idx-5], label='_None')\n",
      "ax.plot([-1500, 1500], [-30, -30], color='k', linewidth=1.0)\n",
      "#--legend\n",
      "plt.legend(loc='lower left')\n",
      "#--axes\n",
      "ax.set_xlabel('Horizontal distance, in meters')\n",
      "ax.set_ylabel('Elevation, in meters')\n",
      "ax.text(0.025, .55, 'Layer 1', transform=ax.transAxes, va='center', ha='left', size='7')\n",
      "ax.text(0.025, .45, 'Layer 2', transform=ax.transAxes, va='center', ha='left', size='7')\n",
      "ax.text(0.975, .1, 'Freshwater and saltwater\\nwell withdrawals', transform=ax.transAxes,\n",
      "        va='center', ha='right', size='8')\n",
      "\n",
      "#--fourth plot\n"
     ],
     "language": "python",
     "metadata": {},
     "outputs": []
    },
    {
     "cell_type": "code",
     "collapsed": false,
     "input": [],
     "language": "python",
     "metadata": {},
     "outputs": []
    }
   ],
   "metadata": {}
  }
 ]
}