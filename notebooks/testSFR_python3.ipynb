{
 "cells": [
  {
   "cell_type": "code",
   "execution_count": 1,
   "metadata": {
    "collapsed": false
   },
   "outputs": [],
   "source": [
    "import sys\n",
    "sys.path.append('../flopy')\n",
    "sys.path.append('../flopy/modflow')\n",
    "import os\n",
    "import flopy.utils.binaryfile as bf\n",
    "import flopy\n",
    "from sfr2 import ModflowSfr2"
   ]
  },
  {
   "cell_type": "code",
   "execution_count": 2,
   "metadata": {
    "collapsed": false
   },
   "outputs": [
    {
     "data": {
      "text/plain": [
       "'3.4.3 |Continuum Analytics, Inc.| (default, Mar  6 2015, 12:07:41) \\n[GCC 4.2.1 (Apple Inc. build 5577)]'"
      ]
     },
     "execution_count": 2,
     "metadata": {},
     "output_type": "execute_result"
    }
   ],
   "source": [
    "sys.version"
   ]
  },
  {
   "cell_type": "code",
   "execution_count": 3,
   "metadata": {
    "collapsed": false
   },
   "outputs": [],
   "source": [
    "m = flopy.modflow.Modflow()"
   ]
  },
  {
   "cell_type": "code",
   "execution_count": 4,
   "metadata": {
    "collapsed": false
   },
   "outputs": [],
   "source": [
    "filename = 'BadRiver.sfr'\n",
    "f = 'example_sfr/test1ss.sfr'\n",
    "\n",
    "sfr = ModflowSfr2.load(m, f)"
   ]
  },
  {
   "cell_type": "code",
   "execution_count": 6,
   "metadata": {
    "collapsed": false
   },
   "outputs": [
    {
     "data": {
      "text/plain": [
       "array([(1, 1, 1, 1, 1, 4500.0), (1, 2, 2, 1, 2, 7000.0),\n",
       "       (1, 3, 3, 1, 3, 6000.0), (1, 3, 4, 1, 4, 5550.0),\n",
       "       (1, 4, 5, 2, 1, 6500.0), (1, 5, 6, 2, 2, 5000.0),\n",
       "       (1, 6, 6, 2, 3, 5000.0), (1, 7, 6, 2, 4, 5000.0),\n",
       "       (1, 8, 6, 2, 5, 5000.0), (1, 3, 5, 3, 1, 5000.0),\n",
       "       (1, 3, 6, 3, 2, 5000.0), (1, 3, 7, 3, 3, 4500.0),\n",
       "       (1, 4, 8, 3, 4, 6000.0), (1, 5, 8, 3, 5, 5000.0),\n",
       "       (1, 6, 8, 3, 6, 2000.0), (1, 5, 10, 4, 1, 2500.0),\n",
       "       (1, 5, 9, 4, 2, 5000.0), (1, 6, 8, 4, 3, 3500.0),\n",
       "       (1, 6, 8, 5, 1, 4000.0), (1, 7, 7, 5, 2, 5000.0),\n",
       "       (1, 8, 7, 5, 3, 3500.0), (1, 8, 6, 5, 4, 2500.0),\n",
       "       (1, 9, 6, 6, 1, 5000.0), (1, 10, 7, 6, 2, 5000.0),\n",
       "       (1, 11, 7, 6, 3, 5000.0), (1, 12, 7, 6, 4, 5000.0),\n",
       "       (1, 13, 7, 6, 5, 2000.0), (1, 14, 9, 7, 1, 5000.0),\n",
       "       (1, 13, 8, 7, 2, 5500.0), (1, 13, 7, 7, 3, 5000.0),\n",
       "       (1, 13, 6, 8, 1, 5000.0), (1, 13, 5, 8, 2, 5000.0),\n",
       "       (1, 13, 4, 8, 3, 5000.0), (1, 13, 3, 8, 4, 5000.0),\n",
       "       (1, 13, 2, 8, 5, 5000.0), (1, 13, 1, 8, 6, 3000.0)], \n",
       "      dtype=[('krch', '<i8'), ('irch', '<i8'), ('jrch', '<i8'), ('iseg', '<i8'), ('ireach', '<i8'), ('rchlen', '<f8')])"
      ]
     },
     "execution_count": 6,
     "metadata": {},
     "output_type": "execute_result"
    }
   ],
   "source": [
    "sfr.reach_data"
   ]
  },
  {
   "cell_type": "code",
   "execution_count": null,
   "metadata": {
    "collapsed": true
   },
   "outputs": [],
   "source": []
  }
 ],
 "metadata": {
  "kernelspec": {
   "display_name": "Python 3",
   "language": "python",
   "name": "python3"
  },
  "language_info": {
   "codemirror_mode": {
    "name": "ipython",
    "version": 3
   },
   "file_extension": ".py",
   "mimetype": "text/x-python",
   "name": "python",
   "nbconvert_exporter": "python",
   "pygments_lexer": "ipython3",
   "version": "3.4.3"
  }
 },
 "nbformat": 4,
 "nbformat_minor": 0
}
